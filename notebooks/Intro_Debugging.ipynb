{
 "cells": [
  {
   "cell_type": "markdown",
   "metadata": {
    "button": false,
    "new_sheet": false,
    "run_control": {
     "read_only": false
    },
    "tags": [
     "1"
    ]
   },
   "source": [
    "# Introduction to Debugging\n",
    "\n",
    "In this book, we want to explore _debugging_ - the art and science of fixing bugs in computer software. In particular, we want to explore techniques that _automatically_ answer questions like: Where is the bug? When does it occur? And how can we repair it? But before we start automating the debugging process, we first need to understand what this process is.\n",
    "\n",
    "In this chapter, we introduce basic concepts of systematic software debugging and the debugging process, and at the same time get acquainted with Python and interactive notebooks."
   ]
  },
  {
   "cell_type": "code",
   "execution_count": 87,
   "metadata": {
    "tags": [
     "2"
    ]
   },
   "outputs": [
    {
     "data": {
      "text/html": [
       "\n",
       "        <iframe\n",
       "            width=\"640\"\n",
       "            height=\"360\"\n",
       "            src=\"https://www.youtube-nocookie.com/embed/bCHRCehDOq0\"\n",
       "            frameborder=\"0\"\n",
       "            allowfullscreen\n",
       "            \n",
       "        ></iframe>\n",
       "        "
      ],
      "text/plain": [
       "<IPython.lib.display.IFrame at 0xff5a49b78590>"
      ]
     },
     "execution_count": 87,
     "metadata": {},
     "output_type": "execute_result"
    }
   ],
   "source": [
    "from bookutils import YouTubeVideo, quiz\n",
    "YouTubeVideo(\"bCHRCehDOq0\")"
   ]
  },
  {
   "cell_type": "markdown",
   "metadata": {
    "button": false,
    "new_sheet": false,
    "run_control": {
     "read_only": false
    },
    "tags": [
     "3"
    ]
   },
   "source": [
    "**Prerequisites**\n",
    "\n",
    "* The book is meant to be a standalone reference; however, a number of _great books on debugging_ are listed at the end,\n",
    "* Knowing a bit of _Python_ is helpful for understanding the code examples in the book."
   ]
  },
  {
   "cell_type": "markdown",
   "metadata": {
    "slideshow": {
     "slide_type": "skip"
    },
    "tags": [
     "4"
    ]
   },
   "source": [
    "## Synopsis\n",
    "<!-- Automatically generated. Do not edit. -->\n",
    "\n",
    "To [use the code provided in this chapter](Importing.ipynb), write\n",
    "\n",
    "```python\n",
    ">>> from debuggingbook.Intro_Debugging import <identifier>\n",
    "```\n",
    "\n",
    "and then make use of the following features.\n",
    "\n",
    "\n",
    "In this chapter, we introduce some basics of how failures come to be as well as a general process for debugging.\n",
    "\n"
   ]
  },
  {
   "cell_type": "markdown",
   "metadata": {
    "button": false,
    "new_sheet": true,
    "run_control": {
     "read_only": false
    },
    "tags": [
     "5"
    ]
   },
   "source": [
    "## A Simple Function"
   ]
  },
  {
   "cell_type": "code",
   "execution_count": 88,
   "metadata": {
    "tags": [
     "6"
    ]
   },
   "outputs": [],
   "source": [
    "# ignore\n",
    "\n",
    "# If this is the first time you are opening a notebook, please read this.\n",
    "#\n",
    "# Interaction basics\n",
    "# ------------------\n",
    "#\n",
    "# * The notebook is composed of _code cells_ (like this one) and\n",
    "#   _text cells_ (like the one above).\n",
    "# \n",
    "# * To interact with the notebook, click into a cell (or type `Return`) \n",
    "#   and start editing. Type `Shift+Return` to execute the code, or \n",
    "#   `Esc` to leave without executing it.\n",
    "# \n",
    "# * Since code cells depend on earlier cells, you will have to execute\n",
    "#   those first - beginning from the top of the notebook.\n",
    "# \n",
    "# * You can change code (and text) at your leisure to try out alternatives.\n",
    "#   In Jupyter, use `b` to add a new cell below, and `Return` to enter it.\n",
    "#   Type `x` to delete (cut) a cell, and `z` to undo this.\n",
    "# \n",
    "# * There's a `Help` menu at the top of Jupyter Notebook. Enjoy!\n",
    "#\n",
    "#\n",
    "# `# ignore` markers\n",
    "# ------------------\n",
    "#\n",
    "# * In the notebook, there are some extra code cells starting with `# ignore`\n",
    "#   (like this one, actually). These are code blocks used to create diagrams,\n",
    "#   run tests, create or tear down special environments or more - code blocks\n",
    "#   that are not necessary for reading (but for creation).\n",
    "#\n",
    "#\n",
    "# `# type: ignore` markers\n",
    "# ------------------------\n",
    "#\n",
    "# * In the notebook, some lines come with a comment `# type: ignore`. This tells\n",
    "#   static code checkers to ignore any typing errors in that line. Most frequently,\n",
    "#   this is used to mark untyped Python code (as in our examples) such that the\n",
    "#   static code checker does not mark it as erroneous."
   ]
  },
  {
   "cell_type": "markdown",
   "metadata": {
    "button": false,
    "new_sheet": true,
    "run_control": {
     "read_only": false
    },
    "tags": [
     "7"
    ]
   },
   "source": [
    "### Your Task: Remove HTML Markup\n",
    "\n",
    "Let us start with a simple example. You may have heard of how documents on the Web are made out of text and HTML markup. HTML markup consists of _tags_ in angle brackets that surround the text, providing additional information on how the text should be interpreted. For instance, in the HTML text\n",
    "\n",
    "```html\n",
    "This is <em>emphasized</em>.\n",
    "```\n",
    "\n",
    "the word \"emphasized\" is enclosed in the HTML tags `<em>` (start) and `</em>` (end), meaning that it should be interpreted (and rendered) in an emphasized way – typically in italics. In your environment, the HTML text gets rendered as\n",
    "\n",
    "> This is <em>emphasized</em>.\n",
    "\n",
    "There's HTML tags for pretty much everything – text markup (<strong>bold</strong> text, <s>strikethrough</s> text), text structure (titles, lists), references (links) to other documents, and many more. These HTML tags shape the Web as we know it."
   ]
  },
  {
   "cell_type": "markdown",
   "metadata": {
    "tags": [
     "8"
    ]
   },
   "source": [
    "However, with all the HTML markup, it may become difficult to actually access the _text_ that lies within. We'd like to implement a simple function that removes _HTML markup_ and converts it into text. If our input is\n",
    "\n",
    "```html\n",
    "Here's some <strong>strong argument</strong>.\n",
    "```\n",
    "the output should be\n",
    "\n",
    "> Here's some strong argument."
   ]
  },
  {
   "cell_type": "markdown",
   "metadata": {
    "tags": [
     "9"
    ]
   },
   "source": [
    "Here's a Python function which does exactly this. It takes a (HTML) string and returns the text without markup."
   ]
  },
  {
   "cell_type": "code",
   "execution_count": 89,
   "metadata": {
    "tags": [
     "10"
    ]
   },
   "outputs": [],
   "source": [
    "def remove_html_markup(s):  # type: ignore\n",
    "    tag = False\n",
    "    out = \"\"\n",
    "\n",
    "    for c in s:\n",
    "        if c == '<':    # start of markup\n",
    "            tag = True\n",
    "        elif c == '>':  # end of markup\n",
    "            tag = False\n",
    "        elif not tag:\n",
    "            out = out + c\n",
    "\n",
    "    return out"
   ]
  },
  {
   "cell_type": "markdown",
   "metadata": {
    "tags": [
     "11"
    ]
   },
   "source": [
    "This function works, but not always. Before we start debugging things, let us first explore its code and how it works."
   ]
  },
  {
   "cell_type": "markdown",
   "metadata": {
    "tags": [
     "12"
    ]
   },
   "source": [
    "### Understanding Python Programs\n",
    "\n",
    "If you're new to Python, you might first have to understand what the above code does.  We very much recommend the [Python tutorial](https://docs.python.org/3/tutorial/) to get an idea on how Python works.  The most important things for you to understand the above code are these three:\n",
    "\n",
    "1. Python structures programs through _indentation_, so the function and `for` bodies are defined by being indented.\n",
    "2. Python is _dynamically typed_, meaning that the type of variables like `c`, `tag`, or `out` is determined at run-time.\n",
    "3. Most of Python's syntactic features are inspired by other common languages, such as control structures (`while`, `if`, `for`), assignments (`=`), or comparisons (`==`, `!=`, `<`).\n",
    "\n",
    "With that, you can already understand what the above code does: `remove_html_markup()` takes a (HTML) string `s` and then iterates over the individual characters (`for c in s`). By default, these characters are added to the return string `out`. However, if `remove_html_markup()` finds a `<` character, it sets the `tag` flag, meaning that all further characters are ignored until a `>` character is found.\n",
    "\n",
    "In contrast to other languages, Python makes no difference between strings and characters – there are only strings. As in HTML, strings can be enclosed in single quotes (`'a'`) and in double quotes (`\"a\"`). This is useful if you want to specify a string that contains quotes, as in `'She said \"hello\", and then left'` or `\"The first character is a 'c'\"`"
   ]
  },
  {
   "cell_type": "markdown",
   "metadata": {
    "tags": [
     "13"
    ]
   },
   "source": [
    "### Running a Function\n",
    "\n",
    "To find out whether `remove_html_markup()` works correctly, we can *test* it with a few values.  For the string\n",
    "\n",
    "```html\n",
    "Here's some <strong>strong argument</strong>.\n",
    "```\n",
    "\n",
    "for instance, it produces the correct value:"
   ]
  },
  {
   "cell_type": "code",
   "execution_count": 90,
   "metadata": {
    "tags": [
     "14"
    ]
   },
   "outputs": [
    {
     "data": {
      "text/plain": [
       "\"Here's some strong argument.\""
      ]
     },
     "execution_count": 90,
     "metadata": {},
     "output_type": "execute_result"
    }
   ],
   "source": [
    "remove_html_markup(\"Here's some <strong>strong argument</strong>.\")"
   ]
  },
  {
   "cell_type": "markdown",
   "metadata": {
    "tags": [
     "15"
    ]
   },
   "source": [
    "### Interacting with Notebooks\n",
    "\n",
    "If you are reading this in the interactive notebook, you can try out `remove_html_markup()` with other values as well.  Click on the above cells with the invocation of `remove_html_markup()` and change the value – say, to `remove_html_markup(\"<em>foo</em>\")`.  Press <kbd>Shift</kbd>+<kbd>Enter</kbd> (or click on the play symbol) to execute it and see the result.  If you get an error message, go to the above cell with the definition of `remove_html_markup()` and execute this first.  You can also run _all_ cells at once; see the Notebook menu for details.  (You can actually also change the text by clicking on it, and corect mistaks such as in this sentence.)"
   ]
  },
  {
   "cell_type": "markdown",
   "metadata": {
    "tags": [
     "16"
    ]
   },
   "source": [
    "Executing a single cell does not execute other cells, so if your cell builds on a definition in another cell that you have not executed yet, you will get an error.  You can select `Run all cells above` from the menu to ensure all definitions are set."
   ]
  },
  {
   "cell_type": "markdown",
   "metadata": {
    "tags": [
     "17"
    ]
   },
   "source": [
    "Also keep in mind that, unless overwritten, all definitions are kept across executions.  Occasionally, it thus helps to _restart the kernel_ (i.e. start the Python interpreter from scratch) to get rid of older, superfluous definitions."
   ]
  },
  {
   "cell_type": "markdown",
   "metadata": {
    "tags": [
     "18"
    ]
   },
   "source": [
    "### Testing a Function"
   ]
  },
  {
   "cell_type": "markdown",
   "metadata": {
    "tags": [
     "19"
    ]
   },
   "source": [
    "Since one can change not only invocations, but also definitions, we want to ensure that our function works properly now and in the future. To this end, we introduce tests through _assertions_ – a statement that fails if the given _check_ is false. The following assertion, for instance, checks that the above call to `remove_html_markup()` returns the correct value:"
   ]
  },
  {
   "cell_type": "code",
   "execution_count": 91,
   "metadata": {
    "tags": [
     "20"
    ]
   },
   "outputs": [],
   "source": [
    "assert remove_html_markup(\"Here's some <strong>strong argument</strong>.\") == \\\n",
    "    \"Here's some strong argument.\""
   ]
  },
  {
   "cell_type": "markdown",
   "metadata": {
    "tags": [
     "21"
    ]
   },
   "source": [
    "If you change the code of `remove_html_markup()` such that the above assertion fails, you will have introduced a bug."
   ]
  },
  {
   "cell_type": "markdown",
   "metadata": {
    "tags": [
     "22"
    ]
   },
   "source": [
    "## Oops! A Bug!"
   ]
  },
  {
   "cell_type": "markdown",
   "metadata": {
    "tags": [
     "23"
    ]
   },
   "source": [
    "As nice and simple as `remove_html_markup()` is, it is buggy. Some HTML markup is not properly stripped away. Consider this HTML tag:\n",
    "\n",
    "```html\n",
    "<input type=\"text\" value=\"<your name>\">\n",
    "```\n",
    "\n",
    "This would render as an input field in a form:\n",
    "\n",
    "> <input type=\"text\" value=\"<your name>\">\n",
    "\n",
    "If we feed this string into `remove_html_markup()`, we would expect an empty string as the result. Instead, this is what we get:"
   ]
  },
  {
   "cell_type": "code",
   "execution_count": 92,
   "metadata": {
    "tags": [
     "24"
    ]
   },
   "outputs": [
    {
     "data": {
      "text/plain": [
       "'\"'"
      ]
     },
     "execution_count": 92,
     "metadata": {},
     "output_type": "execute_result"
    }
   ],
   "source": [
    "remove_html_markup('<input type=\"text\" value=\"<your name>\">')"
   ]
  },
  {
   "cell_type": "markdown",
   "metadata": {
    "tags": [
     "25"
    ]
   },
   "source": [
    "Every time we encounter a bug, this means that our earlier tests have failed. We thus need to introduce another test that documents not only how the bug came to be, but also the result we actually expected."
   ]
  },
  {
   "cell_type": "markdown",
   "metadata": {
    "tags": [
     "26"
    ]
   },
   "source": [
    "The assertion we write now fails with an error message. (The `ExpectError` magic ensures we see the error message, but the rest of the notebook is still executed.)"
   ]
  },
  {
   "cell_type": "code",
   "execution_count": 93,
   "metadata": {
    "tags": [
     "27"
    ]
   },
   "outputs": [],
   "source": [
    "from ExpectError import ExpectError"
   ]
  },
  {
   "cell_type": "code",
   "execution_count": 94,
   "metadata": {
    "tags": [
     "28"
    ]
   },
   "outputs": [
    {
     "name": "stderr",
     "output_type": "stream",
     "text": [
      "Traceback (most recent call last):\n",
      "  File \"/tmp/ipykernel_58800/145241764.py\", line 2, in <module>\n",
      "    assert remove_html_markup('<input type=\"text\" value=\"<your name>\">') == \"\"\n",
      "           ^^^^^^^^^^^^^^^^^^^^^^^^^^^^^^^^^^^^^^^^^^^^^^^^^^^^^^^^^^^^^^^^^^^\n",
      "AssertionError (expected)\n"
     ]
    }
   ],
   "source": [
    "with ExpectError():\n",
    "    assert remove_html_markup('<input type=\"text\" value=\"<your name>\">') == \"\""
   ]
  },
  {
   "cell_type": "markdown",
   "metadata": {
    "tags": [
     "29"
    ]
   },
   "source": [
    "With this, we now have our task: _Fix the failure as above._"
   ]
  },
  {
   "cell_type": "markdown",
   "metadata": {
    "tags": [
     "30"
    ]
   },
   "source": [
    "## Visualizing Code\n",
    "\n",
    "To properly understand what is going on here, it helps drawing a diagram on how `remove_html_markup()` works. Technically, `remove_html_markup()` implements a _state machine_ with two states `tag` and `¬ tag`. We change between these states depending on the characters we process. This is visualized in the following diagram:"
   ]
  },
  {
   "cell_type": "code",
   "execution_count": 95,
   "metadata": {
    "ipub": {
     "ignore": true
    },
    "tags": [
     "31"
    ]
   },
   "outputs": [],
   "source": [
    "from graphviz import Digraph, nohtml"
   ]
  },
  {
   "cell_type": "code",
   "execution_count": 96,
   "metadata": {
    "ipub": {
     "ignore": true
    },
    "tags": [
     "32"
    ]
   },
   "outputs": [],
   "source": [
    "from IPython.display import display"
   ]
  },
  {
   "cell_type": "code",
   "execution_count": 97,
   "metadata": {
    "ipub": {
     "ignore": true
    },
    "tags": [
     "33"
    ]
   },
   "outputs": [],
   "source": [
    "# ignore\n",
    "PASS = \"✔\"\n",
    "FAIL = \"✘\"\n",
    "\n",
    "PASS_COLOR = 'darkgreen'  # '#006400' # darkgreen\n",
    "FAIL_COLOR = 'red4'  # '#8B0000' # darkred\n",
    "\n",
    "STEP_COLOR = 'peachpuff'\n",
    "FONT_NAME = 'Raleway'"
   ]
  },
  {
   "cell_type": "code",
   "execution_count": 98,
   "metadata": {
    "ipub": {
     "ignore": true
    },
    "tags": [
     "34"
    ]
   },
   "outputs": [],
   "source": [
    "# ignore\n",
    "def graph(comment: str =\"default\") -> Digraph:\n",
    "    return Digraph(name='', comment=comment, graph_attr={'rankdir': 'LR'},\n",
    "        node_attr={'style': 'filled',\n",
    "                   'fillcolor': STEP_COLOR,\n",
    "                   'fontname': FONT_NAME},\n",
    "        edge_attr={'fontname': FONT_NAME})"
   ]
  },
  {
   "cell_type": "code",
   "execution_count": 99,
   "metadata": {
    "ipub": {
     "ignore": true
    },
    "tags": [
     "35"
    ]
   },
   "outputs": [],
   "source": [
    "# ignore\n",
    "state_machine = graph()\n",
    "state_machine.node('Start', )\n",
    "state_machine.edge('Start', '¬ tag')\n",
    "state_machine.edge('¬ tag', '¬ tag', label=\" ¬ '<'\\\\nadd character\")\n",
    "state_machine.edge('¬ tag:s', '¬ tag', label=\"'>'\")\n",
    "state_machine.edge('¬ tag', 'tag', label=\"'<'\")\n",
    "state_machine.edge('tag', '¬ tag', label=\"'>'\")\n",
    "state_machine.edge('tag', 'tag', label=\"¬ '>'\")"
   ]
  },
  {
   "cell_type": "code",
   "execution_count": 100,
   "metadata": {
    "tags": [
     "36"
    ]
   },
   "outputs": [
    {
     "data": {
      "image/svg+xml": [
       "<?xml version=\"1.0\" encoding=\"UTF-8\" standalone=\"no\"?>\n",
       "<!DOCTYPE svg PUBLIC \"-//W3C//DTD SVG 1.1//EN\"\n",
       " \"http://www.w3.org/Graphics/SVG/1.1/DTD/svg11.dtd\">\n",
       "<!-- Generated by graphviz version 2.43.0 (0)\n",
       " -->\n",
       "<!-- Title: %3 Pages: 1 -->\n",
       "<svg width=\"278pt\" height=\"125pt\"\n",
       " viewBox=\"0.00 0.00 278.39 125.00\" xmlns=\"http://www.w3.org/2000/svg\" xmlns:xlink=\"http://www.w3.org/1999/xlink\">\n",
       "<g id=\"graph0\" class=\"graph\" transform=\"scale(1 1) rotate(0) translate(4 121)\">\n",
       "<title>%3</title>\n",
       "<polygon fill=\"white\" stroke=\"transparent\" points=\"-4,4 -4,-121 274.39,-121 274.39,4 -4,4\"/>\n",
       "<!-- Start -->\n",
       "<g id=\"node1\" class=\"node\">\n",
       "<title>Start</title>\n",
       "<ellipse fill=\"peachpuff\" stroke=\"black\" cx=\"31.85\" cy=\"-51\" rx=\"31.7\" ry=\"18\"/>\n",
       "<text text-anchor=\"middle\" x=\"31.85\" y=\"-47.3\" font-family=\"Raleway\" font-size=\"14.00\">Start</text>\n",
       "</g>\n",
       "<!-- ¬ tag -->\n",
       "<g id=\"node2\" class=\"node\">\n",
       "<title>¬ tag</title>\n",
       "<ellipse fill=\"peachpuff\" stroke=\"black\" cx=\"132.54\" cy=\"-51\" rx=\"31.7\" ry=\"18\"/>\n",
       "<text text-anchor=\"middle\" x=\"132.54\" y=\"-47.3\" font-family=\"Raleway\" font-size=\"14.00\">¬ tag</text>\n",
       "</g>\n",
       "<!-- Start&#45;&gt;¬ tag -->\n",
       "<g id=\"edge1\" class=\"edge\">\n",
       "<title>Start&#45;&gt;¬ tag</title>\n",
       "<path fill=\"none\" stroke=\"black\" d=\"M63.8,-51C72.17,-51 81.37,-51 90.21,-51\"/>\n",
       "<polygon fill=\"black\" stroke=\"black\" points=\"90.36,-54.5 100.36,-51 90.36,-47.5 90.36,-54.5\"/>\n",
       "</g>\n",
       "<!-- ¬ tag&#45;&gt;¬ tag -->\n",
       "<g id=\"edge2\" class=\"edge\">\n",
       "<title>¬ tag&#45;&gt;¬ tag</title>\n",
       "<path fill=\"none\" stroke=\"black\" d=\"M123.62,-68.41C121.95,-78.09 124.92,-87 132.54,-87 137.3,-87 140.25,-83.52 141.38,-78.54\"/>\n",
       "<polygon fill=\"black\" stroke=\"black\" points=\"144.89,-78.44 141.47,-68.41 137.89,-78.38 144.89,-78.44\"/>\n",
       "<text text-anchor=\"middle\" x=\"132.54\" y=\"-105.8\" font-family=\"Raleway\" font-size=\"14.00\"> ¬ &#39;&lt;&#39;</text>\n",
       "<text text-anchor=\"middle\" x=\"132.54\" y=\"-90.8\" font-family=\"Raleway\" font-size=\"14.00\">add character</text>\n",
       "</g>\n",
       "<!-- ¬ tag&#45;&gt;¬ tag -->\n",
       "<g id=\"edge3\" class=\"edge\">\n",
       "<title>¬ tag:s&#45;&gt;¬ tag</title>\n",
       "<path fill=\"none\" stroke=\"black\" d=\"M132.54,-33C120.04,-27 120.04,-15 132.54,-15 137.3,-15 140.25,-18.48 141.38,-23.46\"/>\n",
       "<polygon fill=\"black\" stroke=\"black\" points=\"137.89,-23.62 141.47,-33.59 144.89,-23.56 137.89,-23.62\"/>\n",
       "<text text-anchor=\"middle\" x=\"132.54\" y=\"-3.8\" font-family=\"Raleway\" font-size=\"14.00\">&#39;&gt;&#39;</text>\n",
       "</g>\n",
       "<!-- tag -->\n",
       "<g id=\"node3\" class=\"node\">\n",
       "<title>tag</title>\n",
       "<ellipse fill=\"peachpuff\" stroke=\"black\" cx=\"243.39\" cy=\"-51\" rx=\"27\" ry=\"18\"/>\n",
       "<text text-anchor=\"middle\" x=\"243.39\" y=\"-47.3\" font-family=\"Raleway\" font-size=\"14.00\">tag</text>\n",
       "</g>\n",
       "<!-- ¬ tag&#45;&gt;tag -->\n",
       "<g id=\"edge4\" class=\"edge\">\n",
       "<title>¬ tag&#45;&gt;tag</title>\n",
       "<path fill=\"none\" stroke=\"black\" d=\"M164.44,-51C177.34,-51 192.41,-51 205.85,-51\"/>\n",
       "<polygon fill=\"black\" stroke=\"black\" points=\"206.2,-54.5 216.2,-51 206.2,-47.5 206.2,-54.5\"/>\n",
       "<text text-anchor=\"middle\" x=\"190.39\" y=\"-54.8\" font-family=\"Raleway\" font-size=\"14.00\">&#39;&lt;&#39;</text>\n",
       "</g>\n",
       "<!-- tag&#45;&gt;¬ tag -->\n",
       "<g id=\"edge5\" class=\"edge\">\n",
       "<title>tag&#45;&gt;¬ tag</title>\n",
       "<path fill=\"none\" stroke=\"black\" d=\"M221.48,-39.91C214.35,-36.69 206.21,-33.62 198.39,-32 187.59,-29.77 175.99,-31.74 165.62,-35.12\"/>\n",
       "<polygon fill=\"black\" stroke=\"black\" points=\"164.24,-31.9 156.12,-38.71 166.71,-38.45 164.24,-31.9\"/>\n",
       "<text text-anchor=\"middle\" x=\"190.39\" y=\"-35.8\" font-family=\"Raleway\" font-size=\"14.00\">&#39;&gt;&#39;</text>\n",
       "</g>\n",
       "<!-- tag&#45;&gt;tag -->\n",
       "<g id=\"edge6\" class=\"edge\">\n",
       "<title>tag&#45;&gt;tag</title>\n",
       "<path fill=\"none\" stroke=\"black\" d=\"M234.17,-68.04C232.29,-77.86 235.37,-87 243.39,-87 248.4,-87 251.48,-83.43 252.63,-78.35\"/>\n",
       "<polygon fill=\"black\" stroke=\"black\" points=\"256.13,-78.03 252.6,-68.04 249.13,-78.05 256.13,-78.03\"/>\n",
       "<text text-anchor=\"middle\" x=\"243.39\" y=\"-90.8\" font-family=\"Raleway\" font-size=\"14.00\">¬ &#39;&gt;&#39;</text>\n",
       "</g>\n",
       "</g>\n",
       "</svg>\n"
      ],
      "text/plain": [
       "<graphviz.graphs.Digraph at 0xff5a49bc1ee0>"
      ]
     },
     "metadata": {},
     "output_type": "display_data"
    }
   ],
   "source": [
    "# ignore\n",
    "display(state_machine)"
   ]
  },
  {
   "cell_type": "markdown",
   "metadata": {
    "tags": [
     "37"
    ]
   },
   "source": [
    "You see that we start in the _non-tag_ state (`¬ tag`). Here, for every character that is not `'<'`, we add the character and stay in the non-tag state. `'>'` characters are skipped, though.\n",
    "\n",
    "When we read a `'<'`, though, we transition to the _tag_ state (`tag`) and stay in the tag state, skipping characters up to a closing `'>'` character, which makes us transition to the _non-tag_ state again."
   ]
  },
  {
   "cell_type": "markdown",
   "metadata": {
    "tags": [
     "38"
    ]
   },
   "source": [
    "## A First Fix\n",
    "\n",
    "We will now iteratively try to find a correct solution to our bug. On the way we will come up with different _interim solutions_ that bring us closer and closer to the perfect code. Of course, we could come up with a near-perfect solution right away, but each of these interim solutions illustrate some techniques we can use during debugging."
   ]
  },
  {
   "cell_type": "markdown",
   "metadata": {
    "tags": [
     "39"
    ]
   },
   "source": [
    "Let us look at the above state machine, and process through our input:\n",
    "\n",
    "```html\n",
    "<input type=\"text\" value=\"<your name>\">\n",
    "```"
   ]
  },
  {
   "cell_type": "markdown",
   "metadata": {
    "tags": [
     "40"
    ]
   },
   "source": [
    "So what you can see is: We are interpreting the `'>'` of `\"<your name>\"` as the closing of the tag. However, this is a quoted string, so the `'>'` should be interpreted as a regular character, not as markup. This is an example of _missing functionality:_ We do not handle quoted characters correctly. We haven't claimed yet to take care of all functionality, so we still need to extend our code."
   ]
  },
  {
   "cell_type": "markdown",
   "metadata": {
    "tags": [
     "41"
    ]
   },
   "source": [
    "So we extend the whole thing.  We set up a special \"quote\" state which processes quoted inputs in tags until the end of the quoted string is reached. This is how the state machine looks like:"
   ]
  },
  {
   "cell_type": "code",
   "execution_count": 101,
   "metadata": {
    "ipub": {
     "ignore": true
    },
    "tags": [
     "42"
    ]
   },
   "outputs": [],
   "source": [
    "# ignore\n",
    "state_machine = graph()\n",
    "state_machine.node('Start')\n",
    "state_machine.edge('Start', '¬ quote\\\\n¬ tag')\n",
    "state_machine.edge('¬ quote\\\\n¬ tag', '¬ quote\\\\n¬ tag',\n",
    "                   label=\"¬ '<'\\\\nadd character\")\n",
    "state_machine.edge('¬ quote\\\\n¬ tag', '¬ quote\\\\ntag', label=\"'<'\")\n",
    "state_machine.edge('¬ quote\\\\ntag', 'quote\\\\ntag', label=\"'\\\"'\")\n",
    "state_machine.edge('¬ quote\\\\ntag', '¬ quote\\\\ntag', label=\"¬ '\\\"' ∧ ¬ '>'\")\n",
    "state_machine.edge('quote\\\\ntag', 'quote\\\\ntag', label=\"¬ '\\\"'\")\n",
    "state_machine.edge('quote\\\\ntag', '¬ quote\\\\ntag', label=\"'\\\"'\")\n",
    "state_machine.edge('¬ quote\\\\ntag', '¬ quote\\\\n¬ tag', label=\"'>'\")"
   ]
  },
  {
   "cell_type": "code",
   "execution_count": 102,
   "metadata": {
    "tags": [
     "43"
    ]
   },
   "outputs": [
    {
     "data": {
      "image/svg+xml": [
       "<?xml version=\"1.0\" encoding=\"UTF-8\" standalone=\"no\"?>\n",
       "<!DOCTYPE svg PUBLIC \"-//W3C//DTD SVG 1.1//EN\"\n",
       " \"http://www.w3.org/Graphics/SVG/1.1/DTD/svg11.dtd\">\n",
       "<!-- Generated by graphviz version 2.43.0 (0)\n",
       " -->\n",
       "<!-- Title: %3 Pages: 1 -->\n",
       "<svg width=\"473pt\" height=\"110pt\"\n",
       " viewBox=\"0.00 0.00 473.32 109.74\" xmlns=\"http://www.w3.org/2000/svg\" xmlns:xlink=\"http://www.w3.org/1999/xlink\">\n",
       "<g id=\"graph0\" class=\"graph\" transform=\"scale(1 1) rotate(0) translate(4 105.74)\">\n",
       "<title>%3</title>\n",
       "<polygon fill=\"white\" stroke=\"transparent\" points=\"-4,4 -4,-105.74 469.32,-105.74 469.32,4 -4,4\"/>\n",
       "<!-- Start -->\n",
       "<g id=\"node1\" class=\"node\">\n",
       "<title>Start</title>\n",
       "<ellipse fill=\"peachpuff\" stroke=\"black\" cx=\"31.85\" cy=\"-26.87\" rx=\"31.7\" ry=\"18\"/>\n",
       "<text text-anchor=\"middle\" x=\"31.85\" y=\"-23.17\" font-family=\"Raleway\" font-size=\"14.00\">Start</text>\n",
       "</g>\n",
       "<!-- ¬ quote\\n¬ tag -->\n",
       "<g id=\"node2\" class=\"node\">\n",
       "<title>¬ quote\\n¬ tag</title>\n",
       "<ellipse fill=\"peachpuff\" stroke=\"black\" cx=\"146.66\" cy=\"-26.87\" rx=\"45.92\" ry=\"26.74\"/>\n",
       "<text text-anchor=\"middle\" x=\"146.66\" y=\"-30.67\" font-family=\"Raleway\" font-size=\"14.00\">¬ quote</text>\n",
       "<text text-anchor=\"middle\" x=\"146.66\" y=\"-15.67\" font-family=\"Raleway\" font-size=\"14.00\">¬ tag</text>\n",
       "</g>\n",
       "<!-- Start&#45;&gt;¬ quote\\n¬ tag -->\n",
       "<g id=\"edge1\" class=\"edge\">\n",
       "<title>Start&#45;&gt;¬ quote\\n¬ tag</title>\n",
       "<path fill=\"none\" stroke=\"black\" d=\"M63.97,-26.87C72.12,-26.87 81.16,-26.87 90.17,-26.87\"/>\n",
       "<polygon fill=\"black\" stroke=\"black\" points=\"90.27,-30.37 100.27,-26.87 90.27,-23.37 90.27,-30.37\"/>\n",
       "</g>\n",
       "<!-- ¬ quote\\n¬ tag&#45;&gt;¬ quote\\n¬ tag -->\n",
       "<g id=\"edge2\" class=\"edge\">\n",
       "<title>¬ quote\\n¬ tag&#45;&gt;¬ quote\\n¬ tag</title>\n",
       "<path fill=\"none\" stroke=\"black\" d=\"M134.7,-53.14C134.17,-63.3 138.16,-71.74 146.66,-71.74 152.1,-71.74 155.69,-68.28 157.43,-63.11\"/>\n",
       "<polygon fill=\"black\" stroke=\"black\" points=\"160.91,-63.48 158.61,-53.14 153.96,-62.66 160.91,-63.48\"/>\n",
       "<text text-anchor=\"middle\" x=\"146.66\" y=\"-90.54\" font-family=\"Raleway\" font-size=\"14.00\">¬ &#39;&lt;&#39;</text>\n",
       "<text text-anchor=\"middle\" x=\"146.66\" y=\"-75.54\" font-family=\"Raleway\" font-size=\"14.00\">add character</text>\n",
       "</g>\n",
       "<!-- ¬ quote\\ntag -->\n",
       "<g id=\"node3\" class=\"node\">\n",
       "<title>¬ quote\\ntag</title>\n",
       "<ellipse fill=\"peachpuff\" stroke=\"black\" cx=\"290.58\" cy=\"-26.87\" rx=\"45.92\" ry=\"26.74\"/>\n",
       "<text text-anchor=\"middle\" x=\"290.58\" y=\"-30.67\" font-family=\"Raleway\" font-size=\"14.00\">¬ quote</text>\n",
       "<text text-anchor=\"middle\" x=\"290.58\" y=\"-15.67\" font-family=\"Raleway\" font-size=\"14.00\">tag</text>\n",
       "</g>\n",
       "<!-- ¬ quote\\n¬ tag&#45;&gt;¬ quote\\ntag -->\n",
       "<g id=\"edge3\" class=\"edge\">\n",
       "<title>¬ quote\\n¬ tag&#45;&gt;¬ quote\\ntag</title>\n",
       "<path fill=\"none\" stroke=\"black\" d=\"M192.95,-26.87C206.01,-26.87 220.41,-26.87 234.01,-26.87\"/>\n",
       "<polygon fill=\"black\" stroke=\"black\" points=\"234.23,-30.37 244.23,-26.87 234.23,-23.37 234.23,-30.37\"/>\n",
       "<text text-anchor=\"middle\" x=\"218.62\" y=\"-30.67\" font-family=\"Raleway\" font-size=\"14.00\">&#39;&lt;&#39;</text>\n",
       "</g>\n",
       "<!-- ¬ quote\\ntag&#45;&gt;¬ quote\\n¬ tag -->\n",
       "<g id=\"edge8\" class=\"edge\">\n",
       "<title>¬ quote\\ntag&#45;&gt;¬ quote\\n¬ tag</title>\n",
       "<path fill=\"none\" stroke=\"black\" d=\"M252.09,-11.79C239.06,-8.16 224.29,-5.85 210.62,-7.87 205.92,-8.56 201.09,-9.53 196.3,-10.67\"/>\n",
       "<polygon fill=\"black\" stroke=\"black\" points=\"195.35,-7.3 186.55,-13.2 197.11,-14.07 195.35,-7.3\"/>\n",
       "<text text-anchor=\"middle\" x=\"218.62\" y=\"-11.67\" font-family=\"Raleway\" font-size=\"14.00\">&#39;&gt;&#39;</text>\n",
       "</g>\n",
       "<!-- ¬ quote\\ntag&#45;&gt;¬ quote\\ntag -->\n",
       "<g id=\"edge5\" class=\"edge\">\n",
       "<title>¬ quote\\ntag&#45;&gt;¬ quote\\ntag</title>\n",
       "<path fill=\"none\" stroke=\"black\" d=\"M277.54,-52.69C276.8,-63.05 281.15,-71.74 290.58,-71.74 296.62,-71.74 300.58,-68.17 302.45,-62.89\"/>\n",
       "<polygon fill=\"black\" stroke=\"black\" points=\"305.96,-63.03 303.63,-52.69 299,-62.22 305.96,-63.03\"/>\n",
       "<text text-anchor=\"middle\" x=\"290.58\" y=\"-75.54\" font-family=\"Raleway\" font-size=\"14.00\">¬ &#39;&quot;&#39; ∧ ¬ &#39;&gt;&#39;</text>\n",
       "</g>\n",
       "<!-- quote\\ntag -->\n",
       "<g id=\"node4\" class=\"node\">\n",
       "<title>quote\\ntag</title>\n",
       "<ellipse fill=\"peachpuff\" stroke=\"black\" cx=\"426.43\" cy=\"-26.87\" rx=\"38.78\" ry=\"26.74\"/>\n",
       "<text text-anchor=\"middle\" x=\"426.43\" y=\"-30.67\" font-family=\"Raleway\" font-size=\"14.00\">quote</text>\n",
       "<text text-anchor=\"middle\" x=\"426.43\" y=\"-15.67\" font-family=\"Raleway\" font-size=\"14.00\">tag</text>\n",
       "</g>\n",
       "<!-- ¬ quote\\ntag&#45;&gt;quote\\ntag -->\n",
       "<g id=\"edge4\" class=\"edge\">\n",
       "<title>¬ quote\\ntag&#45;&gt;quote\\ntag</title>\n",
       "<path fill=\"none\" stroke=\"black\" d=\"M336.9,-26.87C349.82,-26.87 363.95,-26.87 377.06,-26.87\"/>\n",
       "<polygon fill=\"black\" stroke=\"black\" points=\"377.3,-30.37 387.3,-26.87 377.3,-23.37 377.3,-30.37\"/>\n",
       "<text text-anchor=\"middle\" x=\"362.04\" y=\"-30.67\" font-family=\"Raleway\" font-size=\"14.00\">&#39;&quot;&#39;</text>\n",
       "</g>\n",
       "<!-- quote\\ntag&#45;&gt;¬ quote\\ntag -->\n",
       "<g id=\"edge7\" class=\"edge\">\n",
       "<title>quote\\ntag&#45;&gt;¬ quote\\ntag</title>\n",
       "<path fill=\"none\" stroke=\"black\" d=\"M392.5,-13.69C385.06,-11.27 377.13,-9.12 369.54,-7.87 359.44,-6.2 348.71,-7.05 338.55,-9.12\"/>\n",
       "<polygon fill=\"black\" stroke=\"black\" points=\"337.51,-5.77 328.62,-11.55 339.17,-12.58 337.51,-5.77\"/>\n",
       "<text text-anchor=\"middle\" x=\"362.04\" y=\"-11.67\" font-family=\"Raleway\" font-size=\"14.00\">&#39;&quot;&#39;</text>\n",
       "</g>\n",
       "<!-- quote\\ntag&#45;&gt;quote\\ntag -->\n",
       "<g id=\"edge6\" class=\"edge\">\n",
       "<title>quote\\ntag&#45;&gt;quote\\ntag</title>\n",
       "<path fill=\"none\" stroke=\"black\" d=\"M414.51,-52.69C413.83,-63.05 417.81,-71.74 426.43,-71.74 431.96,-71.74 435.58,-68.17 437.28,-62.89\"/>\n",
       "<polygon fill=\"black\" stroke=\"black\" points=\"440.79,-63 438.36,-52.69 433.83,-62.27 440.79,-63\"/>\n",
       "<text text-anchor=\"middle\" x=\"426.43\" y=\"-75.54\" font-family=\"Raleway\" font-size=\"14.00\">¬ &#39;&quot;&#39;</text>\n",
       "</g>\n",
       "</g>\n",
       "</svg>\n"
      ],
      "text/plain": [
       "<graphviz.graphs.Digraph at 0xff5a499a3aa0>"
      ]
     },
     "metadata": {},
     "output_type": "display_data"
    }
   ],
   "source": [
    "# ignore\n",
    "display(state_machine)"
   ]
  },
  {
   "cell_type": "markdown",
   "metadata": {
    "tags": [
     "44"
    ]
   },
   "source": [
    "This is a bit more complex already. Proceeding from left to right, we first have the state `¬ quote ∧ ¬ tag`, which is our \"standard\" state for text. If we encounter a `'<'`, we again switch to the \"tagged\" state `¬ quote ∧ tag`. In this state, however (and only in this state), if we encounter a quotation mark, we switch to the \"quotation\" state `quote ∧ tag`, in which we remain until we see another quotation mark indicating the end of the string – and then continue in the \"tagged\" state `¬ quote ∧ tag` until we see the end of the string."
   ]
  },
  {
   "cell_type": "markdown",
   "metadata": {
    "tags": [
     "45"
    ]
   },
   "source": [
    "Things get even more complicated as HTML allows both single and double quotation characters. Here's a revised implementation of `remove_html_markup()` that takes the above states into account:"
   ]
  },
  {
   "cell_type": "code",
   "execution_count": 103,
   "metadata": {
    "tags": [
     "46"
    ]
   },
   "outputs": [],
   "source": [
    "def remove_html_markup(s):  # type: ignore\n",
    "    tag = False\n",
    "    quote = False\n",
    "    out = \"\"\n",
    "\n",
    "    for c in s:\n",
    "        if c == '<' and not quote:\n",
    "            tag = True\n",
    "        elif c == '>' and not quote:\n",
    "            tag = False\n",
    "        elif c == '\"' or c == \"'\" and tag:\n",
    "            quote = not quote\n",
    "        elif not tag:\n",
    "            out = out + c\n",
    "\n",
    "    return out"
   ]
  },
  {
   "cell_type": "markdown",
   "metadata": {
    "tags": [
     "47"
    ]
   },
   "source": [
    "Now, our previous input works well:"
   ]
  },
  {
   "cell_type": "code",
   "execution_count": 104,
   "metadata": {
    "tags": [
     "48"
    ]
   },
   "outputs": [
    {
     "data": {
      "text/plain": [
       "''"
      ]
     },
     "execution_count": 104,
     "metadata": {},
     "output_type": "execute_result"
    }
   ],
   "source": [
    "remove_html_markup('<input type=\"text\" value=\"<your name>\">')"
   ]
  },
  {
   "cell_type": "markdown",
   "metadata": {
    "tags": [
     "49"
    ]
   },
   "source": [
    "and our earlier tests also pass:"
   ]
  },
  {
   "cell_type": "code",
   "execution_count": 105,
   "metadata": {
    "tags": [
     "50"
    ]
   },
   "outputs": [],
   "source": [
    "assert remove_html_markup(\"Here's some <strong>strong argument</strong>.\") == \\\n",
    "    \"Here's some strong argument.\""
   ]
  },
  {
   "cell_type": "code",
   "execution_count": 106,
   "metadata": {
    "tags": [
     "51"
    ]
   },
   "outputs": [],
   "source": [
    "assert remove_html_markup('<input type=\"text\" value=\"<your name>\">') == \"\""
   ]
  },
  {
   "cell_type": "markdown",
   "metadata": {
    "tags": [
     "52"
    ]
   },
   "source": [
    "However, the above code still has a bug.  In two of these inputs, HTML markup is still not properly stripped:\n",
    "\n",
    "```html\n",
    "<b>foo</b>\n",
    "<b>\"foo\"</b>\n",
    "\"<b>foo</b>\"\n",
    "<\"b\">foo</\"b\">\n",
    "```\n",
    "\n",
    "Can you guess which ones these are?"
   ]
  },
  {
   "cell_type": "markdown",
   "metadata": {
    "tags": [
     "53"
    ]
   },
   "source": [
    "Again, a simple assertion will reveal the culprits:"
   ]
  },
  {
   "cell_type": "code",
   "execution_count": 107,
   "metadata": {
    "tags": [
     "54"
    ]
   },
   "outputs": [],
   "source": [
    "with ExpectError():\n",
    "    assert remove_html_markup('<b>foo</b>') == 'foo'"
   ]
  },
  {
   "cell_type": "code",
   "execution_count": 108,
   "metadata": {
    "tags": [
     "55"
    ]
   },
   "outputs": [
    {
     "name": "stderr",
     "output_type": "stream",
     "text": [
      "Traceback (most recent call last):\n",
      "  File \"/tmp/ipykernel_58800/4031927246.py\", line 2, in <module>\n",
      "    assert remove_html_markup('<b>\"foo\"</b>') == '\"foo\"'\n",
      "           ^^^^^^^^^^^^^^^^^^^^^^^^^^^^^^^^^^^^^^^^^^^^^\n",
      "AssertionError (expected)\n"
     ]
    }
   ],
   "source": [
    "with ExpectError():\n",
    "    assert remove_html_markup('<b>\"foo\"</b>') == '\"foo\"'"
   ]
  },
  {
   "cell_type": "code",
   "execution_count": 109,
   "metadata": {
    "tags": [
     "56"
    ]
   },
   "outputs": [
    {
     "name": "stderr",
     "output_type": "stream",
     "text": [
      "Traceback (most recent call last):\n",
      "  File \"/tmp/ipykernel_58800/242211734.py\", line 2, in <module>\n",
      "    assert remove_html_markup('\"<b>foo</b>\"') == '\"foo\"'\n",
      "           ^^^^^^^^^^^^^^^^^^^^^^^^^^^^^^^^^^^^^^^^^^^^^\n",
      "AssertionError (expected)\n"
     ]
    }
   ],
   "source": [
    "with ExpectError():\n",
    "    assert remove_html_markup('\"<b>foo</b>\"') == '\"foo\"'"
   ]
  },
  {
   "cell_type": "code",
   "execution_count": 110,
   "metadata": {
    "tags": [
     "57"
    ]
   },
   "outputs": [],
   "source": [
    "with ExpectError():\n",
    "    assert remove_html_markup('<\"b\">foo</\"b\">') == 'foo'"
   ]
  },
  {
   "cell_type": "markdown",
   "metadata": {
    "tags": [
     "58"
    ]
   },
   "source": [
    "So, unfortunately, we're not done yet – our function still has errors."
   ]
  },
  {
   "cell_type": "markdown",
   "metadata": {
    "tags": [
     "59"
    ]
   },
   "source": [
    "## The Devil's Guide to Debugging\n",
    "\n",
    "Let us now discuss a couple of methods that do _not_ work well for debugging. (These \"devil's suggestions\" are adapted from the 1993 book \"Code Complete\" from Steve McConnell.)"
   ]
  },
  {
   "cell_type": "markdown",
   "metadata": {
    "tags": [
     "60"
    ]
   },
   "source": [
    "### Printf Debugging\n",
    "\n",
    "When I was a student, I never got any formal training in debugging, so I had to figure this out for myself. What I learned was how to use _debugging output_; in Python, this would be the `print()` function. For instance, I would go and scatter `print()` calls everywhere:"
   ]
  },
  {
   "cell_type": "code",
   "execution_count": 111,
   "metadata": {
    "tags": [
     "61"
    ]
   },
   "outputs": [],
   "source": [
    "def remove_html_markup_with_print(s):  # type: ignore\n",
    "    tag = False\n",
    "    quote = False\n",
    "    out = \"\"\n",
    "\n",
    "    for c in s:\n",
    "        print(\"c =\", repr(c), \"tag =\", tag, \"quote =\", quote)\n",
    "\n",
    "        if c == '<' and not quote:\n",
    "            tag = True\n",
    "        elif c == '>' and not quote:\n",
    "            tag = False\n",
    "        elif c == '\"' or c == \"'\" and tag:\n",
    "            quote = not quote\n",
    "        elif not tag:\n",
    "            out = out + c\n",
    "\n",
    "    return out"
   ]
  },
  {
   "cell_type": "markdown",
   "metadata": {
    "tags": [
     "62"
    ]
   },
   "source": [
    "This way of inspecting executions is commonly called \"Printf debugging\", after the C `printf()` function. Then, running this would allow me to see what's going on in my code:"
   ]
  },
  {
   "cell_type": "code",
   "execution_count": 112,
   "metadata": {
    "tags": [
     "63"
    ]
   },
   "outputs": [
    {
     "name": "stdout",
     "output_type": "stream",
     "text": [
      "c = '<' tag = False quote = False\n",
      "c = 'b' tag = True quote = False\n",
      "c = '>' tag = True quote = False\n",
      "c = '\"' tag = False quote = False\n",
      "c = 'f' tag = False quote = True\n",
      "c = 'o' tag = False quote = True\n",
      "c = 'o' tag = False quote = True\n",
      "c = '\"' tag = False quote = True\n",
      "c = '<' tag = False quote = False\n",
      "c = '/' tag = True quote = False\n",
      "c = 'b' tag = True quote = False\n",
      "c = '>' tag = True quote = False\n"
     ]
    },
    {
     "data": {
      "text/plain": [
       "'foo'"
      ]
     },
     "execution_count": 112,
     "metadata": {},
     "output_type": "execute_result"
    }
   ],
   "source": [
    "remove_html_markup_with_print('<b>\"foo\"</b>')"
   ]
  },
  {
   "cell_type": "markdown",
   "metadata": {
    "tags": [
     "64"
    ]
   },
   "source": [
    "Yes, one sees what is going on – but this is horribly inefficient!  Think of a 1,000-character input – you'd have to go through 1,000 lines of logs.  It may help you, but it's a total time waster.  Plus, you have to enter these statements, remove them again... it's a maintenance nightmare.\n",
    "\n",
    "**내 시간이 가장 중요하기 때문에 이러면 안 돼 ㅠㅠ**"
   ]
  },
  {
   "cell_type": "markdown",
   "metadata": {
    "tags": [
     "65"
    ]
   },
   "source": [
    "(You may even forget printf's in your code, creating a security problem: Mac OS X versions 10.7 to 10.7.3 would log the password in clear because someone had forgotten to turn off debugging output.)"
   ]
  },
  {
   "cell_type": "markdown",
   "metadata": {
    "tags": [
     "66"
    ]
   },
   "source": [
    "### Debugging into Existence"
   ]
  },
  {
   "cell_type": "markdown",
   "metadata": {
    "tags": [
     "67"
    ]
   },
   "source": [
    "I would also try to _debug the program into existence._  Just change things until they work.  Let me see: If I remove the conditions \"and not quote\" from the program, it would actually work again:"
   ]
  },
  {
   "cell_type": "code",
   "execution_count": 113,
   "metadata": {
    "tags": [
     "68"
    ]
   },
   "outputs": [],
   "source": [
    "def remove_html_markup_without_quotes(s):  # type: ignore\n",
    "    tag = False\n",
    "    quote = False\n",
    "    out = \"\"\n",
    "\n",
    "    for c in s:\n",
    "        if c == '<':  # and not quote:\n",
    "            tag = True\n",
    "        elif c == '>':  # and not quote:\n",
    "            tag = False\n",
    "        elif c == '\"' or c == \"'\" and tag:\n",
    "            quote = not quote\n",
    "        elif not tag:\n",
    "            out = out + c\n",
    "\n",
    "    return out"
   ]
  },
  {
   "cell_type": "code",
   "execution_count": 114,
   "metadata": {
    "tags": [
     "69"
    ]
   },
   "outputs": [],
   "source": [
    "assert remove_html_markup_without_quotes('<b id=\"bar\">foo</b>') == 'foo'"
   ]
  },
  {
   "cell_type": "markdown",
   "metadata": {
    "tags": [
     "70"
    ]
   },
   "source": [
    "Cool! Unfortunately, the function still fails on the other input:"
   ]
  },
  {
   "cell_type": "code",
   "execution_count": 115,
   "metadata": {
    "tags": [
     "71"
    ]
   },
   "outputs": [
    {
     "name": "stderr",
     "output_type": "stream",
     "text": [
      "Traceback (most recent call last):\n",
      "  File \"/tmp/ipykernel_58800/3864559921.py\", line 2, in <module>\n",
      "    assert remove_html_markup_without_quotes('<b>\"foo\"</b>') == '\"foo\"'\n",
      "           ^^^^^^^^^^^^^^^^^^^^^^^^^^^^^^^^^^^^^^^^^^^^^^^^^^^^^^^^^^^^\n",
      "AssertionError (expected)\n"
     ]
    }
   ],
   "source": [
    "with ExpectError():\n",
    "    assert remove_html_markup_without_quotes('<b>\"foo\"</b>') == '\"foo\"'"
   ]
  },
  {
   "cell_type": "markdown",
   "metadata": {
    "tags": [
     "72"
    ]
   },
   "source": [
    "So, maybe we can change things again, such that both work? And maybe the other tests we had earlier won't fail? Let's just continue to change things randomly again and again and again."
   ]
  },
  {
   "cell_type": "markdown",
   "metadata": {
    "tags": [
     "73"
    ]
   },
   "source": [
    "Oh, and of course, I would never back up earlier versions such that I would be able to keep track of what has changed and when.\n",
    "Especially keep in mind that our tests will never cover all corner cases. Randomly patching code will just lead to harder to find bugs."
   ]
  },
  {
   "cell_type": "markdown",
   "metadata": {
    "tags": [
     "74"
    ]
   },
   "source": [
    "### Use the Most Obvious Fix"
   ]
  },
  {
   "cell_type": "markdown",
   "metadata": {
    "tags": [
     "75"
    ]
   },
   "source": [
    "My favorite: Use the most obvious fix.  This means that you're fixing the symptom, not the problem. In our case, this would be something like:"
   ]
  },
  {
   "cell_type": "code",
   "execution_count": 116,
   "metadata": {
    "tags": [
     "76"
    ]
   },
   "outputs": [],
   "source": [
    "def remove_html_markup_fixed(s):  # type: ignore\n",
    "    if s == '<b>\"foo\"</b>':\n",
    "        return '\"foo\"'\n",
    "    ..."
   ]
  },
  {
   "cell_type": "markdown",
   "metadata": {
    "tags": [
     "77"
    ]
   },
   "source": [
    "Miracle! Our earlier failing assertion now works! Now we can do the same for the other failing test, too, and we're done.\n",
    "(Rumor has it that some programmers use this technique to get their tests to pass...)"
   ]
  },
  {
   "cell_type": "markdown",
   "metadata": {
    "tags": [
     "78"
    ]
   },
   "source": [
    "### Things to do Instead\n",
    "\n",
    "As with any devil's guide, you get an idea of how to do things by doing the _opposite._  What this means is:\n",
    "\n",
    "1. Understand the code\n",
    "2. Fix the problem, not the symptom\n",
    "3. Proceed systematically\n",
    "\n",
    "which is what we will apply for the rest of this chapter."
   ]
  },
  {
   "cell_type": "markdown",
   "metadata": {
    "tags": [
     "79"
    ]
   },
   "source": [
    "## From Defect to Failure\n",
    "\n",
    "To understand how to systematically debug a program, we first have to understand _how failures come to be._ The typical debugging situation looks like this:\n",
    "\n",
    "* We have a program (execution), taking some input and producing some output.\n",
    "* The output is in *error* (✘), meaning an unwanted and unintended deviation from what is correct, right, or true.\n",
    "* The input, in contrast, is assumed to be correct (✔) – that is, it should be properly processed by the program in question. \n",
    "\n",
    "If the input is incorrect, we wouldn't normally be searching for the bug in our program, but in whatever produced its input. If the input is under control of a third party, though (which typically is the case for _system inputs_), your program must check its correctness and reject it if it is incorrect. Once your program accepts a system input as valid, it must be properly processed by the program in question.\n",
    "\n",
    "Hence, the (very simple) situation we're having can be shown as:"
   ]
  },
  {
   "cell_type": "code",
   "execution_count": 117,
   "metadata": {
    "tags": [
     "80"
    ]
   },
   "outputs": [],
   "source": [
    "# ignore\n",
    "from typing import List, Optional"
   ]
  },
  {
   "cell_type": "code",
   "execution_count": 118,
   "metadata": {
    "ipub": {
     "ignore": true
    },
    "tags": [
     "81"
    ]
   },
   "outputs": [],
   "source": [
    "# ignore\n",
    "def execution_diagram(show_steps: bool = True, variables: List[str] = [],\n",
    "                      steps: int = 3, error_step: int = 666,\n",
    "                      until: int = 666, fault_path: List[str] = []) -> Digraph:\n",
    "    dot = graph()\n",
    "\n",
    "    dot.node('input', shape='none', fillcolor='white', label=f\"Input {PASS}\",\n",
    "             fontcolor=PASS_COLOR)\n",
    "    last_outgoing_states = ['input']\n",
    "\n",
    "    for step in range(1, min(steps + 1, until)):\n",
    "\n",
    "        step_color: Optional[str]\n",
    "        if step == error_step:\n",
    "            step_label = f'Step {step} {FAIL}'\n",
    "            step_color = FAIL_COLOR\n",
    "        else:\n",
    "            step_label = f'Step {step}'\n",
    "            step_color = None\n",
    "\n",
    "        if step >= error_step:\n",
    "            state_label = f'State {step} {FAIL}'\n",
    "            state_color = FAIL_COLOR\n",
    "        else:\n",
    "            state_label = f'State {step} {PASS}'\n",
    "            state_color = PASS_COLOR\n",
    "\n",
    "        state_name = f's{step}'\n",
    "        outgoing_states = []\n",
    "        incoming_states = []\n",
    "\n",
    "        if not variables:\n",
    "            dot.node(name=state_name, shape='box',\n",
    "                     label=state_label, color=state_color,\n",
    "                     fontcolor=state_color)\n",
    "        else:\n",
    "            var_labels = []\n",
    "            for v in variables:\n",
    "                vpath = f's{step}:{v}'\n",
    "                if vpath in fault_path:\n",
    "                    var_label = f'<{v}>{v} ✘'\n",
    "                    outgoing_states.append(vpath)\n",
    "                    incoming_states.append(vpath)\n",
    "                else:\n",
    "                    var_label = f'<{v}>{v}'\n",
    "                var_labels.append(var_label)\n",
    "            record_string = \" | \".join(var_labels)\n",
    "            dot.node(name=state_name, shape='record',\n",
    "                     label=nohtml(record_string), color=state_color,\n",
    "                     fontcolor=state_color)\n",
    "\n",
    "        if not outgoing_states:\n",
    "            outgoing_states = [state_name]\n",
    "        if not incoming_states:\n",
    "            incoming_states = [state_name]\n",
    "\n",
    "        for outgoing_state in last_outgoing_states:\n",
    "            for incoming_state in incoming_states:\n",
    "                if show_steps:\n",
    "                    dot.edge(outgoing_state, incoming_state,\n",
    "                             label=step_label, fontcolor=step_color)\n",
    "                else:\n",
    "                    dot.edge(outgoing_state, incoming_state)\n",
    "\n",
    "        last_outgoing_states = outgoing_states\n",
    "\n",
    "    if until > steps + 1:\n",
    "        # Show output\n",
    "        if error_step > steps:\n",
    "            dot.node('output', shape='none', fillcolor='white',\n",
    "                     label=f\"Output {PASS}\", fontcolor=PASS_COLOR)\n",
    "        else:\n",
    "            dot.node('output', shape='none', fillcolor='white',\n",
    "                     label=f\"Output {FAIL}\", fontcolor=FAIL_COLOR)\n",
    "\n",
    "        for outgoing_state in last_outgoing_states:\n",
    "            label = \"Execution\" if steps == 0 else None\n",
    "            dot.edge(outgoing_state, 'output', label=label)\n",
    "\n",
    "    display(dot)"
   ]
  },
  {
   "cell_type": "code",
   "execution_count": 119,
   "metadata": {
    "tags": [
     "82"
    ]
   },
   "outputs": [
    {
     "data": {
      "image/svg+xml": [
       "<?xml version=\"1.0\" encoding=\"UTF-8\" standalone=\"no\"?>\n",
       "<!DOCTYPE svg PUBLIC \"-//W3C//DTD SVG 1.1//EN\"\n",
       " \"http://www.w3.org/Graphics/SVG/1.1/DTD/svg11.dtd\">\n",
       "<!-- Generated by graphviz version 2.43.0 (0)\n",
       " -->\n",
       "<!-- Title: %3 Pages: 1 -->\n",
       "<svg width=\"252pt\" height=\"44pt\"\n",
       " viewBox=\"0.00 0.00 252.00 44.00\" xmlns=\"http://www.w3.org/2000/svg\" xmlns:xlink=\"http://www.w3.org/1999/xlink\">\n",
       "<g id=\"graph0\" class=\"graph\" transform=\"scale(1 1) rotate(0) translate(4 40)\">\n",
       "<title>%3</title>\n",
       "<polygon fill=\"white\" stroke=\"transparent\" points=\"-4,4 -4,-40 248,-40 248,4 -4,4\"/>\n",
       "<!-- input -->\n",
       "<g id=\"node1\" class=\"node\">\n",
       "<title>input</title>\n",
       "<polygon fill=\"white\" stroke=\"transparent\" points=\"66,-36 0,-36 0,0 66,0 66,-36\"/>\n",
       "<text text-anchor=\"middle\" x=\"33\" y=\"-14.3\" font-family=\"Raleway\" font-size=\"14.00\" fill=\"darkgreen\">Input ✔</text>\n",
       "</g>\n",
       "<!-- output -->\n",
       "<g id=\"node2\" class=\"node\">\n",
       "<title>output</title>\n",
       "<polygon fill=\"white\" stroke=\"transparent\" points=\"244,-36 166,-36 166,0 244,0 244,-36\"/>\n",
       "<text text-anchor=\"middle\" x=\"205\" y=\"-14.3\" font-family=\"Raleway\" font-size=\"14.00\" fill=\"#8b0000\">Output ✘</text>\n",
       "</g>\n",
       "<!-- input&#45;&gt;output -->\n",
       "<g id=\"edge1\" class=\"edge\">\n",
       "<title>input&#45;&gt;output</title>\n",
       "<path fill=\"none\" stroke=\"black\" d=\"M66.38,-18C91.6,-18 127.02,-18 155.61,-18\"/>\n",
       "<polygon fill=\"black\" stroke=\"black\" points=\"155.8,-21.5 165.8,-18 155.8,-14.5 155.8,-21.5\"/>\n",
       "<text text-anchor=\"middle\" x=\"116\" y=\"-21.8\" font-family=\"Raleway\" font-size=\"14.00\">Execution</text>\n",
       "</g>\n",
       "</g>\n",
       "</svg>\n"
      ],
      "text/plain": [
       "<graphviz.graphs.Digraph at 0xff5a49b797f0>"
      ]
     },
     "metadata": {},
     "output_type": "display_data"
    }
   ],
   "source": [
    "# ignore\n",
    "execution_diagram(show_steps=False, steps=0, error_step=0)"
   ]
  },
  {
   "cell_type": "markdown",
   "metadata": {
    "tags": [
     "83"
    ]
   },
   "source": [
    "This situation we see above is what we call a *failure*: An externally visible _error_ in the program behavior, with the error again being an unwanted and unintended deviation from what is correct, right, or true."
   ]
  },
  {
   "cell_type": "markdown",
   "metadata": {
    "tags": [
     "84"
    ]
   },
   "source": [
    "How does this failure come to be? The execution we see above breaks down into several program _states_, one after the other."
   ]
  },
  {
   "cell_type": "code",
   "execution_count": 120,
   "metadata": {
    "tags": [
     "85"
    ]
   },
   "outputs": [
    {
     "data": {
      "image/svg+xml": [
       "<?xml version=\"1.0\" encoding=\"UTF-8\" standalone=\"no\"?>\n",
       "<!DOCTYPE svg PUBLIC \"-//W3C//DTD SVG 1.1//EN\"\n",
       " \"http://www.w3.org/Graphics/SVG/1.1/DTD/svg11.dtd\">\n",
       "<!-- Generated by graphviz version 2.43.0 (0)\n",
       " -->\n",
       "<!-- Title: %3 Pages: 1 -->\n",
       "<svg width=\"74pt\" height=\"44pt\"\n",
       " viewBox=\"0.00 0.00 74.00 44.00\" xmlns=\"http://www.w3.org/2000/svg\" xmlns:xlink=\"http://www.w3.org/1999/xlink\">\n",
       "<g id=\"graph0\" class=\"graph\" transform=\"scale(1 1) rotate(0) translate(4 40)\">\n",
       "<title>%3</title>\n",
       "<polygon fill=\"white\" stroke=\"transparent\" points=\"-4,4 -4,-40 70,-40 70,4 -4,4\"/>\n",
       "<!-- input -->\n",
       "<g id=\"node1\" class=\"node\">\n",
       "<title>input</title>\n",
       "<polygon fill=\"white\" stroke=\"transparent\" points=\"66,-36 0,-36 0,0 66,0 66,-36\"/>\n",
       "<text text-anchor=\"middle\" x=\"33\" y=\"-14.3\" font-family=\"Raleway\" font-size=\"14.00\" fill=\"darkgreen\">Input ✔</text>\n",
       "</g>\n",
       "</g>\n",
       "</svg>\n"
      ],
      "text/plain": [
       "<graphviz.graphs.Digraph at 0xff5a49b2b950>"
      ]
     },
     "metadata": {},
     "output_type": "display_data"
    },
    {
     "data": {
      "image/svg+xml": [
       "<?xml version=\"1.0\" encoding=\"UTF-8\" standalone=\"no\"?>\n",
       "<!DOCTYPE svg PUBLIC \"-//W3C//DTD SVG 1.1//EN\"\n",
       " \"http://www.w3.org/Graphics/SVG/1.1/DTD/svg11.dtd\">\n",
       "<!-- Generated by graphviz version 2.43.0 (0)\n",
       " -->\n",
       "<!-- Title: %3 Pages: 1 -->\n",
       "<svg width=\"186pt\" height=\"44pt\"\n",
       " viewBox=\"0.00 0.00 186.00 44.00\" xmlns=\"http://www.w3.org/2000/svg\" xmlns:xlink=\"http://www.w3.org/1999/xlink\">\n",
       "<g id=\"graph0\" class=\"graph\" transform=\"scale(1 1) rotate(0) translate(4 40)\">\n",
       "<title>%3</title>\n",
       "<polygon fill=\"white\" stroke=\"transparent\" points=\"-4,4 -4,-40 182,-40 182,4 -4,4\"/>\n",
       "<!-- input -->\n",
       "<g id=\"node1\" class=\"node\">\n",
       "<title>input</title>\n",
       "<polygon fill=\"white\" stroke=\"transparent\" points=\"66,-36 0,-36 0,0 66,0 66,-36\"/>\n",
       "<text text-anchor=\"middle\" x=\"33\" y=\"-14.3\" font-family=\"Raleway\" font-size=\"14.00\" fill=\"darkgreen\">Input ✔</text>\n",
       "</g>\n",
       "<!-- s1 -->\n",
       "<g id=\"node2\" class=\"node\">\n",
       "<title>s1</title>\n",
       "<polygon fill=\"peachpuff\" stroke=\"darkgreen\" points=\"178,-36 102,-36 102,0 178,0 178,-36\"/>\n",
       "<text text-anchor=\"middle\" x=\"140\" y=\"-14.3\" font-family=\"Raleway\" font-size=\"14.00\" fill=\"darkgreen\">State 1 ✔</text>\n",
       "</g>\n",
       "<!-- input&#45;&gt;s1 -->\n",
       "<g id=\"edge1\" class=\"edge\">\n",
       "<title>input&#45;&gt;s1</title>\n",
       "<path fill=\"none\" stroke=\"black\" d=\"M66.07,-18C74.22,-18 83.15,-18 91.88,-18\"/>\n",
       "<polygon fill=\"black\" stroke=\"black\" points=\"91.97,-21.5 101.97,-18 91.97,-14.5 91.97,-21.5\"/>\n",
       "</g>\n",
       "</g>\n",
       "</svg>\n"
      ],
      "text/plain": [
       "<graphviz.graphs.Digraph at 0xff5a49b2b950>"
      ]
     },
     "metadata": {},
     "output_type": "display_data"
    },
    {
     "data": {
      "image/svg+xml": [
       "<?xml version=\"1.0\" encoding=\"UTF-8\" standalone=\"no\"?>\n",
       "<!DOCTYPE svg PUBLIC \"-//W3C//DTD SVG 1.1//EN\"\n",
       " \"http://www.w3.org/Graphics/SVG/1.1/DTD/svg11.dtd\">\n",
       "<!-- Generated by graphviz version 2.43.0 (0)\n",
       " -->\n",
       "<!-- Title: %3 Pages: 1 -->\n",
       "<svg width=\"298pt\" height=\"44pt\"\n",
       " viewBox=\"0.00 0.00 298.00 44.00\" xmlns=\"http://www.w3.org/2000/svg\" xmlns:xlink=\"http://www.w3.org/1999/xlink\">\n",
       "<g id=\"graph0\" class=\"graph\" transform=\"scale(1 1) rotate(0) translate(4 40)\">\n",
       "<title>%3</title>\n",
       "<polygon fill=\"white\" stroke=\"transparent\" points=\"-4,4 -4,-40 294,-40 294,4 -4,4\"/>\n",
       "<!-- input -->\n",
       "<g id=\"node1\" class=\"node\">\n",
       "<title>input</title>\n",
       "<polygon fill=\"white\" stroke=\"transparent\" points=\"66,-36 0,-36 0,0 66,0 66,-36\"/>\n",
       "<text text-anchor=\"middle\" x=\"33\" y=\"-14.3\" font-family=\"Raleway\" font-size=\"14.00\" fill=\"darkgreen\">Input ✔</text>\n",
       "</g>\n",
       "<!-- s1 -->\n",
       "<g id=\"node2\" class=\"node\">\n",
       "<title>s1</title>\n",
       "<polygon fill=\"peachpuff\" stroke=\"darkgreen\" points=\"178,-36 102,-36 102,0 178,0 178,-36\"/>\n",
       "<text text-anchor=\"middle\" x=\"140\" y=\"-14.3\" font-family=\"Raleway\" font-size=\"14.00\" fill=\"darkgreen\">State 1 ✔</text>\n",
       "</g>\n",
       "<!-- input&#45;&gt;s1 -->\n",
       "<g id=\"edge1\" class=\"edge\">\n",
       "<title>input&#45;&gt;s1</title>\n",
       "<path fill=\"none\" stroke=\"black\" d=\"M66.07,-18C74.22,-18 83.15,-18 91.88,-18\"/>\n",
       "<polygon fill=\"black\" stroke=\"black\" points=\"91.97,-21.5 101.97,-18 91.97,-14.5 91.97,-21.5\"/>\n",
       "</g>\n",
       "<!-- s2 -->\n",
       "<g id=\"node3\" class=\"node\">\n",
       "<title>s2</title>\n",
       "<polygon fill=\"peachpuff\" stroke=\"#8b0000\" points=\"290,-36 214,-36 214,0 290,0 290,-36\"/>\n",
       "<text text-anchor=\"middle\" x=\"252\" y=\"-14.3\" font-family=\"Raleway\" font-size=\"14.00\" fill=\"#8b0000\">State 2 ✘</text>\n",
       "</g>\n",
       "<!-- s1&#45;&gt;s2 -->\n",
       "<g id=\"edge2\" class=\"edge\">\n",
       "<title>s1&#45;&gt;s2</title>\n",
       "<path fill=\"none\" stroke=\"black\" d=\"M178.24,-18C186.39,-18 195.13,-18 203.62,-18\"/>\n",
       "<polygon fill=\"black\" stroke=\"black\" points=\"203.8,-21.5 213.8,-18 203.8,-14.5 203.8,-21.5\"/>\n",
       "</g>\n",
       "</g>\n",
       "</svg>\n"
      ],
      "text/plain": [
       "<graphviz.graphs.Digraph at 0xff5a49b78860>"
      ]
     },
     "metadata": {},
     "output_type": "display_data"
    },
    {
     "data": {
      "image/svg+xml": [
       "<?xml version=\"1.0\" encoding=\"UTF-8\" standalone=\"no\"?>\n",
       "<!DOCTYPE svg PUBLIC \"-//W3C//DTD SVG 1.1//EN\"\n",
       " \"http://www.w3.org/Graphics/SVG/1.1/DTD/svg11.dtd\">\n",
       "<!-- Generated by graphviz version 2.43.0 (0)\n",
       " -->\n",
       "<!-- Title: %3 Pages: 1 -->\n",
       "<svg width=\"410pt\" height=\"44pt\"\n",
       " viewBox=\"0.00 0.00 410.00 44.00\" xmlns=\"http://www.w3.org/2000/svg\" xmlns:xlink=\"http://www.w3.org/1999/xlink\">\n",
       "<g id=\"graph0\" class=\"graph\" transform=\"scale(1 1) rotate(0) translate(4 40)\">\n",
       "<title>%3</title>\n",
       "<polygon fill=\"white\" stroke=\"transparent\" points=\"-4,4 -4,-40 406,-40 406,4 -4,4\"/>\n",
       "<!-- input -->\n",
       "<g id=\"node1\" class=\"node\">\n",
       "<title>input</title>\n",
       "<polygon fill=\"white\" stroke=\"transparent\" points=\"66,-36 0,-36 0,0 66,0 66,-36\"/>\n",
       "<text text-anchor=\"middle\" x=\"33\" y=\"-14.3\" font-family=\"Raleway\" font-size=\"14.00\" fill=\"darkgreen\">Input ✔</text>\n",
       "</g>\n",
       "<!-- s1 -->\n",
       "<g id=\"node2\" class=\"node\">\n",
       "<title>s1</title>\n",
       "<polygon fill=\"peachpuff\" stroke=\"darkgreen\" points=\"178,-36 102,-36 102,0 178,0 178,-36\"/>\n",
       "<text text-anchor=\"middle\" x=\"140\" y=\"-14.3\" font-family=\"Raleway\" font-size=\"14.00\" fill=\"darkgreen\">State 1 ✔</text>\n",
       "</g>\n",
       "<!-- input&#45;&gt;s1 -->\n",
       "<g id=\"edge1\" class=\"edge\">\n",
       "<title>input&#45;&gt;s1</title>\n",
       "<path fill=\"none\" stroke=\"black\" d=\"M66.07,-18C74.22,-18 83.15,-18 91.88,-18\"/>\n",
       "<polygon fill=\"black\" stroke=\"black\" points=\"91.97,-21.5 101.97,-18 91.97,-14.5 91.97,-21.5\"/>\n",
       "</g>\n",
       "<!-- s2 -->\n",
       "<g id=\"node3\" class=\"node\">\n",
       "<title>s2</title>\n",
       "<polygon fill=\"peachpuff\" stroke=\"#8b0000\" points=\"290,-36 214,-36 214,0 290,0 290,-36\"/>\n",
       "<text text-anchor=\"middle\" x=\"252\" y=\"-14.3\" font-family=\"Raleway\" font-size=\"14.00\" fill=\"#8b0000\">State 2 ✘</text>\n",
       "</g>\n",
       "<!-- s1&#45;&gt;s2 -->\n",
       "<g id=\"edge2\" class=\"edge\">\n",
       "<title>s1&#45;&gt;s2</title>\n",
       "<path fill=\"none\" stroke=\"black\" d=\"M178.24,-18C186.39,-18 195.13,-18 203.62,-18\"/>\n",
       "<polygon fill=\"black\" stroke=\"black\" points=\"203.8,-21.5 213.8,-18 203.8,-14.5 203.8,-21.5\"/>\n",
       "</g>\n",
       "<!-- s3 -->\n",
       "<g id=\"node4\" class=\"node\">\n",
       "<title>s3</title>\n",
       "<polygon fill=\"peachpuff\" stroke=\"#8b0000\" points=\"402,-36 326,-36 326,0 402,0 402,-36\"/>\n",
       "<text text-anchor=\"middle\" x=\"364\" y=\"-14.3\" font-family=\"Raleway\" font-size=\"14.00\" fill=\"#8b0000\">State 3 ✘</text>\n",
       "</g>\n",
       "<!-- s2&#45;&gt;s3 -->\n",
       "<g id=\"edge3\" class=\"edge\">\n",
       "<title>s2&#45;&gt;s3</title>\n",
       "<path fill=\"none\" stroke=\"black\" d=\"M290.24,-18C298.39,-18 307.13,-18 315.62,-18\"/>\n",
       "<polygon fill=\"black\" stroke=\"black\" points=\"315.8,-21.5 325.8,-18 315.8,-14.5 315.8,-21.5\"/>\n",
       "</g>\n",
       "</g>\n",
       "</svg>\n"
      ],
      "text/plain": [
       "<graphviz.graphs.Digraph at 0xff5a49b2b950>"
      ]
     },
     "metadata": {},
     "output_type": "display_data"
    },
    {
     "data": {
      "image/svg+xml": [
       "<?xml version=\"1.0\" encoding=\"UTF-8\" standalone=\"no\"?>\n",
       "<!DOCTYPE svg PUBLIC \"-//W3C//DTD SVG 1.1//EN\"\n",
       " \"http://www.w3.org/Graphics/SVG/1.1/DTD/svg11.dtd\">\n",
       "<!-- Generated by graphviz version 2.43.0 (0)\n",
       " -->\n",
       "<!-- Title: %3 Pages: 1 -->\n",
       "<svg width=\"524pt\" height=\"44pt\"\n",
       " viewBox=\"0.00 0.00 524.00 44.00\" xmlns=\"http://www.w3.org/2000/svg\" xmlns:xlink=\"http://www.w3.org/1999/xlink\">\n",
       "<g id=\"graph0\" class=\"graph\" transform=\"scale(1 1) rotate(0) translate(4 40)\">\n",
       "<title>%3</title>\n",
       "<polygon fill=\"white\" stroke=\"transparent\" points=\"-4,4 -4,-40 520,-40 520,4 -4,4\"/>\n",
       "<!-- input -->\n",
       "<g id=\"node1\" class=\"node\">\n",
       "<title>input</title>\n",
       "<polygon fill=\"white\" stroke=\"transparent\" points=\"66,-36 0,-36 0,0 66,0 66,-36\"/>\n",
       "<text text-anchor=\"middle\" x=\"33\" y=\"-14.3\" font-family=\"Raleway\" font-size=\"14.00\" fill=\"darkgreen\">Input ✔</text>\n",
       "</g>\n",
       "<!-- s1 -->\n",
       "<g id=\"node2\" class=\"node\">\n",
       "<title>s1</title>\n",
       "<polygon fill=\"peachpuff\" stroke=\"darkgreen\" points=\"178,-36 102,-36 102,0 178,0 178,-36\"/>\n",
       "<text text-anchor=\"middle\" x=\"140\" y=\"-14.3\" font-family=\"Raleway\" font-size=\"14.00\" fill=\"darkgreen\">State 1 ✔</text>\n",
       "</g>\n",
       "<!-- input&#45;&gt;s1 -->\n",
       "<g id=\"edge1\" class=\"edge\">\n",
       "<title>input&#45;&gt;s1</title>\n",
       "<path fill=\"none\" stroke=\"black\" d=\"M66.07,-18C74.22,-18 83.15,-18 91.88,-18\"/>\n",
       "<polygon fill=\"black\" stroke=\"black\" points=\"91.97,-21.5 101.97,-18 91.97,-14.5 91.97,-21.5\"/>\n",
       "</g>\n",
       "<!-- s2 -->\n",
       "<g id=\"node3\" class=\"node\">\n",
       "<title>s2</title>\n",
       "<polygon fill=\"peachpuff\" stroke=\"#8b0000\" points=\"290,-36 214,-36 214,0 290,0 290,-36\"/>\n",
       "<text text-anchor=\"middle\" x=\"252\" y=\"-14.3\" font-family=\"Raleway\" font-size=\"14.00\" fill=\"#8b0000\">State 2 ✘</text>\n",
       "</g>\n",
       "<!-- s1&#45;&gt;s2 -->\n",
       "<g id=\"edge2\" class=\"edge\">\n",
       "<title>s1&#45;&gt;s2</title>\n",
       "<path fill=\"none\" stroke=\"black\" d=\"M178.24,-18C186.39,-18 195.13,-18 203.62,-18\"/>\n",
       "<polygon fill=\"black\" stroke=\"black\" points=\"203.8,-21.5 213.8,-18 203.8,-14.5 203.8,-21.5\"/>\n",
       "</g>\n",
       "<!-- s3 -->\n",
       "<g id=\"node4\" class=\"node\">\n",
       "<title>s3</title>\n",
       "<polygon fill=\"peachpuff\" stroke=\"#8b0000\" points=\"402,-36 326,-36 326,0 402,0 402,-36\"/>\n",
       "<text text-anchor=\"middle\" x=\"364\" y=\"-14.3\" font-family=\"Raleway\" font-size=\"14.00\" fill=\"#8b0000\">State 3 ✘</text>\n",
       "</g>\n",
       "<!-- s2&#45;&gt;s3 -->\n",
       "<g id=\"edge3\" class=\"edge\">\n",
       "<title>s2&#45;&gt;s3</title>\n",
       "<path fill=\"none\" stroke=\"black\" d=\"M290.24,-18C298.39,-18 307.13,-18 315.62,-18\"/>\n",
       "<polygon fill=\"black\" stroke=\"black\" points=\"315.8,-21.5 325.8,-18 315.8,-14.5 315.8,-21.5\"/>\n",
       "</g>\n",
       "<!-- output -->\n",
       "<g id=\"node5\" class=\"node\">\n",
       "<title>output</title>\n",
       "<polygon fill=\"white\" stroke=\"transparent\" points=\"516,-36 438,-36 438,0 516,0 516,-36\"/>\n",
       "<text text-anchor=\"middle\" x=\"477\" y=\"-14.3\" font-family=\"Raleway\" font-size=\"14.00\" fill=\"#8b0000\">Output ✘</text>\n",
       "</g>\n",
       "<!-- s3&#45;&gt;output -->\n",
       "<g id=\"edge4\" class=\"edge\">\n",
       "<title>s3&#45;&gt;output</title>\n",
       "<path fill=\"none\" stroke=\"black\" d=\"M402.27,-18C410.42,-18 419.16,-18 427.67,-18\"/>\n",
       "<polygon fill=\"black\" stroke=\"black\" points=\"427.88,-21.5 437.88,-18 427.88,-14.5 427.88,-21.5\"/>\n",
       "</g>\n",
       "</g>\n",
       "</svg>\n"
      ],
      "text/plain": [
       "<graphviz.graphs.Digraph at 0xff5a49c96750>"
      ]
     },
     "metadata": {},
     "output_type": "display_data"
    }
   ],
   "source": [
    "# ignore\n",
    "for until in range(1, 6):\n",
    "    execution_diagram(show_steps=False, until=until, error_step=2)"
   ]
  },
  {
   "cell_type": "markdown",
   "metadata": {
    "tags": [
     "86"
    ]
   },
   "source": [
    "Initially, the program state is still correct (✔). However, at some point in the execution, the state gets an _error_, also known as a *fault*. This fault – again an unwanted and unintended deviation from what is correct, right, or true – then propagates along the execution, until it becomes externally visible as a _failure_.\n",
    "(In reality, there are many, many more states than just this, but these would not fit in a diagram.)"
   ]
  },
  {
   "cell_type": "markdown",
   "metadata": {
    "tags": [
     "87"
    ]
   },
   "source": [
    "How does a fault come to be? Each of these program states is produced by a _step_ in the program code. These steps take a state as input and produce another state as output. Technically speaking, the program inputs and outputs are also parts of the program state, so the input flows into the first step, and the output is the state produced by the last step."
   ]
  },
  {
   "cell_type": "code",
   "execution_count": 121,
   "metadata": {
    "tags": [
     "88"
    ]
   },
   "outputs": [
    {
     "data": {
      "image/svg+xml": [
       "<?xml version=\"1.0\" encoding=\"UTF-8\" standalone=\"no\"?>\n",
       "<!DOCTYPE svg PUBLIC \"-//W3C//DTD SVG 1.1//EN\"\n",
       " \"http://www.w3.org/Graphics/SVG/1.1/DTD/svg11.dtd\">\n",
       "<!-- Generated by graphviz version 2.43.0 (0)\n",
       " -->\n",
       "<!-- Title: %3 Pages: 1 -->\n",
       "<svg width=\"74pt\" height=\"44pt\"\n",
       " viewBox=\"0.00 0.00 74.00 44.00\" xmlns=\"http://www.w3.org/2000/svg\" xmlns:xlink=\"http://www.w3.org/1999/xlink\">\n",
       "<g id=\"graph0\" class=\"graph\" transform=\"scale(1 1) rotate(0) translate(4 40)\">\n",
       "<title>%3</title>\n",
       "<polygon fill=\"white\" stroke=\"transparent\" points=\"-4,4 -4,-40 70,-40 70,4 -4,4\"/>\n",
       "<!-- input -->\n",
       "<g id=\"node1\" class=\"node\">\n",
       "<title>input</title>\n",
       "<polygon fill=\"white\" stroke=\"transparent\" points=\"66,-36 0,-36 0,0 66,0 66,-36\"/>\n",
       "<text text-anchor=\"middle\" x=\"33\" y=\"-14.3\" font-family=\"Raleway\" font-size=\"14.00\" fill=\"darkgreen\">Input ✔</text>\n",
       "</g>\n",
       "</g>\n",
       "</svg>\n"
      ],
      "text/plain": [
       "<graphviz.graphs.Digraph at 0xff5a49a9bb00>"
      ]
     },
     "metadata": {},
     "output_type": "display_data"
    },
    {
     "data": {
      "image/svg+xml": [
       "<?xml version=\"1.0\" encoding=\"UTF-8\" standalone=\"no\"?>\n",
       "<!DOCTYPE svg PUBLIC \"-//W3C//DTD SVG 1.1//EN\"\n",
       " \"http://www.w3.org/Graphics/SVG/1.1/DTD/svg11.dtd\">\n",
       "<!-- Generated by graphviz version 2.43.0 (0)\n",
       " -->\n",
       "<!-- Title: %3 Pages: 1 -->\n",
       "<svg width=\"227pt\" height=\"44pt\"\n",
       " viewBox=\"0.00 0.00 227.00 44.00\" xmlns=\"http://www.w3.org/2000/svg\" xmlns:xlink=\"http://www.w3.org/1999/xlink\">\n",
       "<g id=\"graph0\" class=\"graph\" transform=\"scale(1 1) rotate(0) translate(4 40)\">\n",
       "<title>%3</title>\n",
       "<polygon fill=\"white\" stroke=\"transparent\" points=\"-4,4 -4,-40 223,-40 223,4 -4,4\"/>\n",
       "<!-- input -->\n",
       "<g id=\"node1\" class=\"node\">\n",
       "<title>input</title>\n",
       "<polygon fill=\"white\" stroke=\"transparent\" points=\"66,-36 0,-36 0,0 66,0 66,-36\"/>\n",
       "<text text-anchor=\"middle\" x=\"33\" y=\"-14.3\" font-family=\"Raleway\" font-size=\"14.00\" fill=\"darkgreen\">Input ✔</text>\n",
       "</g>\n",
       "<!-- s1 -->\n",
       "<g id=\"node2\" class=\"node\">\n",
       "<title>s1</title>\n",
       "<polygon fill=\"peachpuff\" stroke=\"darkgreen\" points=\"219,-36 143,-36 143,0 219,0 219,-36\"/>\n",
       "<text text-anchor=\"middle\" x=\"181\" y=\"-14.3\" font-family=\"Raleway\" font-size=\"14.00\" fill=\"darkgreen\">State 1 ✔</text>\n",
       "</g>\n",
       "<!-- input&#45;&gt;s1 -->\n",
       "<g id=\"edge1\" class=\"edge\">\n",
       "<title>input&#45;&gt;s1</title>\n",
       "<path fill=\"none\" stroke=\"black\" d=\"M66.04,-18C85.61,-18 110.97,-18 132.81,-18\"/>\n",
       "<polygon fill=\"black\" stroke=\"black\" points=\"132.88,-21.5 142.88,-18 132.88,-14.5 132.88,-21.5\"/>\n",
       "<text text-anchor=\"middle\" x=\"104.5\" y=\"-21.8\" font-family=\"Raleway\" font-size=\"14.00\">Step 1</text>\n",
       "</g>\n",
       "</g>\n",
       "</svg>\n"
      ],
      "text/plain": [
       "<graphviz.graphs.Digraph at 0xff5a499aa390>"
      ]
     },
     "metadata": {},
     "output_type": "display_data"
    },
    {
     "data": {
      "image/svg+xml": [
       "<?xml version=\"1.0\" encoding=\"UTF-8\" standalone=\"no\"?>\n",
       "<!DOCTYPE svg PUBLIC \"-//W3C//DTD SVG 1.1//EN\"\n",
       " \"http://www.w3.org/Graphics/SVG/1.1/DTD/svg11.dtd\">\n",
       "<!-- Generated by graphviz version 2.43.0 (0)\n",
       " -->\n",
       "<!-- Title: %3 Pages: 1 -->\n",
       "<svg width=\"395pt\" height=\"44pt\"\n",
       " viewBox=\"0.00 0.00 395.00 44.00\" xmlns=\"http://www.w3.org/2000/svg\" xmlns:xlink=\"http://www.w3.org/1999/xlink\">\n",
       "<g id=\"graph0\" class=\"graph\" transform=\"scale(1 1) rotate(0) translate(4 40)\">\n",
       "<title>%3</title>\n",
       "<polygon fill=\"white\" stroke=\"transparent\" points=\"-4,4 -4,-40 391,-40 391,4 -4,4\"/>\n",
       "<!-- input -->\n",
       "<g id=\"node1\" class=\"node\">\n",
       "<title>input</title>\n",
       "<polygon fill=\"white\" stroke=\"transparent\" points=\"66,-36 0,-36 0,0 66,0 66,-36\"/>\n",
       "<text text-anchor=\"middle\" x=\"33\" y=\"-14.3\" font-family=\"Raleway\" font-size=\"14.00\" fill=\"darkgreen\">Input ✔</text>\n",
       "</g>\n",
       "<!-- s1 -->\n",
       "<g id=\"node2\" class=\"node\">\n",
       "<title>s1</title>\n",
       "<polygon fill=\"peachpuff\" stroke=\"darkgreen\" points=\"219,-36 143,-36 143,0 219,0 219,-36\"/>\n",
       "<text text-anchor=\"middle\" x=\"181\" y=\"-14.3\" font-family=\"Raleway\" font-size=\"14.00\" fill=\"darkgreen\">State 1 ✔</text>\n",
       "</g>\n",
       "<!-- input&#45;&gt;s1 -->\n",
       "<g id=\"edge1\" class=\"edge\">\n",
       "<title>input&#45;&gt;s1</title>\n",
       "<path fill=\"none\" stroke=\"black\" d=\"M66.04,-18C85.61,-18 110.97,-18 132.81,-18\"/>\n",
       "<polygon fill=\"black\" stroke=\"black\" points=\"132.88,-21.5 142.88,-18 132.88,-14.5 132.88,-21.5\"/>\n",
       "<text text-anchor=\"middle\" x=\"104.5\" y=\"-21.8\" font-family=\"Raleway\" font-size=\"14.00\">Step 1</text>\n",
       "</g>\n",
       "<!-- s2 -->\n",
       "<g id=\"node3\" class=\"node\">\n",
       "<title>s2</title>\n",
       "<polygon fill=\"peachpuff\" stroke=\"#8b0000\" points=\"387,-36 311,-36 311,0 387,0 387,-36\"/>\n",
       "<text text-anchor=\"middle\" x=\"349\" y=\"-14.3\" font-family=\"Raleway\" font-size=\"14.00\" fill=\"#8b0000\">State 2 ✘</text>\n",
       "</g>\n",
       "<!-- s1&#45;&gt;s2 -->\n",
       "<g id=\"edge2\" class=\"edge\">\n",
       "<title>s1&#45;&gt;s2</title>\n",
       "<path fill=\"none\" stroke=\"black\" d=\"M219.25,-18C243.28,-18 274.75,-18 300.56,-18\"/>\n",
       "<polygon fill=\"black\" stroke=\"black\" points=\"300.87,-21.5 310.87,-18 300.87,-14.5 300.87,-21.5\"/>\n",
       "<text text-anchor=\"middle\" x=\"265\" y=\"-21.8\" font-family=\"Raleway\" font-size=\"14.00\" fill=\"#8b0000\">Step 2 ✘</text>\n",
       "</g>\n",
       "</g>\n",
       "</svg>\n"
      ],
      "text/plain": [
       "<graphviz.graphs.Digraph at 0xff5a499aa390>"
      ]
     },
     "metadata": {},
     "output_type": "display_data"
    },
    {
     "data": {
      "image/svg+xml": [
       "<?xml version=\"1.0\" encoding=\"UTF-8\" standalone=\"no\"?>\n",
       "<!DOCTYPE svg PUBLIC \"-//W3C//DTD SVG 1.1//EN\"\n",
       " \"http://www.w3.org/Graphics/SVG/1.1/DTD/svg11.dtd\">\n",
       "<!-- Generated by graphviz version 2.43.0 (0)\n",
       " -->\n",
       "<!-- Title: %3 Pages: 1 -->\n",
       "<svg width=\"548pt\" height=\"44pt\"\n",
       " viewBox=\"0.00 0.00 548.00 44.00\" xmlns=\"http://www.w3.org/2000/svg\" xmlns:xlink=\"http://www.w3.org/1999/xlink\">\n",
       "<g id=\"graph0\" class=\"graph\" transform=\"scale(1 1) rotate(0) translate(4 40)\">\n",
       "<title>%3</title>\n",
       "<polygon fill=\"white\" stroke=\"transparent\" points=\"-4,4 -4,-40 544,-40 544,4 -4,4\"/>\n",
       "<!-- input -->\n",
       "<g id=\"node1\" class=\"node\">\n",
       "<title>input</title>\n",
       "<polygon fill=\"white\" stroke=\"transparent\" points=\"66,-36 0,-36 0,0 66,0 66,-36\"/>\n",
       "<text text-anchor=\"middle\" x=\"33\" y=\"-14.3\" font-family=\"Raleway\" font-size=\"14.00\" fill=\"darkgreen\">Input ✔</text>\n",
       "</g>\n",
       "<!-- s1 -->\n",
       "<g id=\"node2\" class=\"node\">\n",
       "<title>s1</title>\n",
       "<polygon fill=\"peachpuff\" stroke=\"darkgreen\" points=\"219,-36 143,-36 143,0 219,0 219,-36\"/>\n",
       "<text text-anchor=\"middle\" x=\"181\" y=\"-14.3\" font-family=\"Raleway\" font-size=\"14.00\" fill=\"darkgreen\">State 1 ✔</text>\n",
       "</g>\n",
       "<!-- input&#45;&gt;s1 -->\n",
       "<g id=\"edge1\" class=\"edge\">\n",
       "<title>input&#45;&gt;s1</title>\n",
       "<path fill=\"none\" stroke=\"black\" d=\"M66.04,-18C85.61,-18 110.97,-18 132.81,-18\"/>\n",
       "<polygon fill=\"black\" stroke=\"black\" points=\"132.88,-21.5 142.88,-18 132.88,-14.5 132.88,-21.5\"/>\n",
       "<text text-anchor=\"middle\" x=\"104.5\" y=\"-21.8\" font-family=\"Raleway\" font-size=\"14.00\">Step 1</text>\n",
       "</g>\n",
       "<!-- s2 -->\n",
       "<g id=\"node3\" class=\"node\">\n",
       "<title>s2</title>\n",
       "<polygon fill=\"peachpuff\" stroke=\"#8b0000\" points=\"387,-36 311,-36 311,0 387,0 387,-36\"/>\n",
       "<text text-anchor=\"middle\" x=\"349\" y=\"-14.3\" font-family=\"Raleway\" font-size=\"14.00\" fill=\"#8b0000\">State 2 ✘</text>\n",
       "</g>\n",
       "<!-- s1&#45;&gt;s2 -->\n",
       "<g id=\"edge2\" class=\"edge\">\n",
       "<title>s1&#45;&gt;s2</title>\n",
       "<path fill=\"none\" stroke=\"black\" d=\"M219.25,-18C243.28,-18 274.75,-18 300.56,-18\"/>\n",
       "<polygon fill=\"black\" stroke=\"black\" points=\"300.87,-21.5 310.87,-18 300.87,-14.5 300.87,-21.5\"/>\n",
       "<text text-anchor=\"middle\" x=\"265\" y=\"-21.8\" font-family=\"Raleway\" font-size=\"14.00\" fill=\"#8b0000\">Step 2 ✘</text>\n",
       "</g>\n",
       "<!-- s3 -->\n",
       "<g id=\"node4\" class=\"node\">\n",
       "<title>s3</title>\n",
       "<polygon fill=\"peachpuff\" stroke=\"#8b0000\" points=\"540,-36 464,-36 464,0 540,0 540,-36\"/>\n",
       "<text text-anchor=\"middle\" x=\"502\" y=\"-14.3\" font-family=\"Raleway\" font-size=\"14.00\" fill=\"#8b0000\">State 3 ✘</text>\n",
       "</g>\n",
       "<!-- s2&#45;&gt;s3 -->\n",
       "<g id=\"edge3\" class=\"edge\">\n",
       "<title>s2&#45;&gt;s3</title>\n",
       "<path fill=\"none\" stroke=\"black\" d=\"M387.33,-18C407.37,-18 432.27,-18 453.66,-18\"/>\n",
       "<polygon fill=\"black\" stroke=\"black\" points=\"453.84,-21.5 463.84,-18 453.84,-14.5 453.84,-21.5\"/>\n",
       "<text text-anchor=\"middle\" x=\"425.5\" y=\"-21.8\" font-family=\"Raleway\" font-size=\"14.00\">Step 3</text>\n",
       "</g>\n",
       "</g>\n",
       "</svg>\n"
      ],
      "text/plain": [
       "<graphviz.graphs.Digraph at 0xff5a500bc380>"
      ]
     },
     "metadata": {},
     "output_type": "display_data"
    },
    {
     "data": {
      "image/svg+xml": [
       "<?xml version=\"1.0\" encoding=\"UTF-8\" standalone=\"no\"?>\n",
       "<!DOCTYPE svg PUBLIC \"-//W3C//DTD SVG 1.1//EN\"\n",
       " \"http://www.w3.org/Graphics/SVG/1.1/DTD/svg11.dtd\">\n",
       "<!-- Generated by graphviz version 2.43.0 (0)\n",
       " -->\n",
       "<!-- Title: %3 Pages: 1 -->\n",
       "<svg width=\"663pt\" height=\"44pt\"\n",
       " viewBox=\"0.00 0.00 663.00 44.00\" xmlns=\"http://www.w3.org/2000/svg\" xmlns:xlink=\"http://www.w3.org/1999/xlink\">\n",
       "<g id=\"graph0\" class=\"graph\" transform=\"scale(1 1) rotate(0) translate(4 40)\">\n",
       "<title>%3</title>\n",
       "<polygon fill=\"white\" stroke=\"transparent\" points=\"-4,4 -4,-40 659,-40 659,4 -4,4\"/>\n",
       "<!-- input -->\n",
       "<g id=\"node1\" class=\"node\">\n",
       "<title>input</title>\n",
       "<polygon fill=\"white\" stroke=\"transparent\" points=\"66,-36 0,-36 0,0 66,0 66,-36\"/>\n",
       "<text text-anchor=\"middle\" x=\"33\" y=\"-14.3\" font-family=\"Raleway\" font-size=\"14.00\" fill=\"darkgreen\">Input ✔</text>\n",
       "</g>\n",
       "<!-- s1 -->\n",
       "<g id=\"node2\" class=\"node\">\n",
       "<title>s1</title>\n",
       "<polygon fill=\"peachpuff\" stroke=\"darkgreen\" points=\"219,-36 143,-36 143,0 219,0 219,-36\"/>\n",
       "<text text-anchor=\"middle\" x=\"181\" y=\"-14.3\" font-family=\"Raleway\" font-size=\"14.00\" fill=\"darkgreen\">State 1 ✔</text>\n",
       "</g>\n",
       "<!-- input&#45;&gt;s1 -->\n",
       "<g id=\"edge1\" class=\"edge\">\n",
       "<title>input&#45;&gt;s1</title>\n",
       "<path fill=\"none\" stroke=\"black\" d=\"M66.04,-18C85.61,-18 110.97,-18 132.81,-18\"/>\n",
       "<polygon fill=\"black\" stroke=\"black\" points=\"132.88,-21.5 142.88,-18 132.88,-14.5 132.88,-21.5\"/>\n",
       "<text text-anchor=\"middle\" x=\"104.5\" y=\"-21.8\" font-family=\"Raleway\" font-size=\"14.00\">Step 1</text>\n",
       "</g>\n",
       "<!-- s2 -->\n",
       "<g id=\"node3\" class=\"node\">\n",
       "<title>s2</title>\n",
       "<polygon fill=\"peachpuff\" stroke=\"#8b0000\" points=\"387,-36 311,-36 311,0 387,0 387,-36\"/>\n",
       "<text text-anchor=\"middle\" x=\"349\" y=\"-14.3\" font-family=\"Raleway\" font-size=\"14.00\" fill=\"#8b0000\">State 2 ✘</text>\n",
       "</g>\n",
       "<!-- s1&#45;&gt;s2 -->\n",
       "<g id=\"edge2\" class=\"edge\">\n",
       "<title>s1&#45;&gt;s2</title>\n",
       "<path fill=\"none\" stroke=\"black\" d=\"M219.25,-18C243.28,-18 274.75,-18 300.56,-18\"/>\n",
       "<polygon fill=\"black\" stroke=\"black\" points=\"300.87,-21.5 310.87,-18 300.87,-14.5 300.87,-21.5\"/>\n",
       "<text text-anchor=\"middle\" x=\"265\" y=\"-21.8\" font-family=\"Raleway\" font-size=\"14.00\" fill=\"#8b0000\">Step 2 ✘</text>\n",
       "</g>\n",
       "<!-- s3 -->\n",
       "<g id=\"node4\" class=\"node\">\n",
       "<title>s3</title>\n",
       "<polygon fill=\"peachpuff\" stroke=\"#8b0000\" points=\"540,-36 464,-36 464,0 540,0 540,-36\"/>\n",
       "<text text-anchor=\"middle\" x=\"502\" y=\"-14.3\" font-family=\"Raleway\" font-size=\"14.00\" fill=\"#8b0000\">State 3 ✘</text>\n",
       "</g>\n",
       "<!-- s2&#45;&gt;s3 -->\n",
       "<g id=\"edge3\" class=\"edge\">\n",
       "<title>s2&#45;&gt;s3</title>\n",
       "<path fill=\"none\" stroke=\"black\" d=\"M387.33,-18C407.37,-18 432.27,-18 453.66,-18\"/>\n",
       "<polygon fill=\"black\" stroke=\"black\" points=\"453.84,-21.5 463.84,-18 453.84,-14.5 453.84,-21.5\"/>\n",
       "<text text-anchor=\"middle\" x=\"425.5\" y=\"-21.8\" font-family=\"Raleway\" font-size=\"14.00\">Step 3</text>\n",
       "</g>\n",
       "<!-- output -->\n",
       "<g id=\"node5\" class=\"node\">\n",
       "<title>output</title>\n",
       "<polygon fill=\"white\" stroke=\"transparent\" points=\"655,-36 577,-36 577,0 655,0 655,-36\"/>\n",
       "<text text-anchor=\"middle\" x=\"616\" y=\"-14.3\" font-family=\"Raleway\" font-size=\"14.00\" fill=\"#8b0000\">Output ✘</text>\n",
       "</g>\n",
       "<!-- s3&#45;&gt;output -->\n",
       "<g id=\"edge4\" class=\"edge\">\n",
       "<title>s3&#45;&gt;output</title>\n",
       "<path fill=\"none\" stroke=\"black\" d=\"M540.29,-18C548.71,-18 557.76,-18 566.56,-18\"/>\n",
       "<polygon fill=\"black\" stroke=\"black\" points=\"566.72,-21.5 576.72,-18 566.72,-14.5 566.72,-21.5\"/>\n",
       "</g>\n",
       "</g>\n",
       "</svg>\n"
      ],
      "text/plain": [
       "<graphviz.graphs.Digraph at 0xff5a49a85fa0>"
      ]
     },
     "metadata": {},
     "output_type": "display_data"
    }
   ],
   "source": [
    "# ignore\n",
    "for until in range(1, 6):\n",
    "    execution_diagram(show_steps=True, until=until, error_step=2)"
   ]
  },
  {
   "cell_type": "markdown",
   "metadata": {
    "tags": [
     "89"
    ]
   },
   "source": [
    "Now, in the diagram above, Step 2 gets a _correct_ state as input and produces a _faulty_ state as output. The produced fault then propagates across more steps to finally become visible as a _failure_."
   ]
  },
  {
   "cell_type": "markdown",
   "metadata": {
    "tags": [
     "90"
    ]
   },
   "source": [
    "The goal of debugging thus is to _search_ for the step in which the state first becomes faulty. The _code_ associated with this step is again an error – an unwanted and unintended deviation from what is correct, right, or true – and is called a _defect_. This is what we have to find – and to fix."
   ]
  },
  {
   "cell_type": "markdown",
   "metadata": {
    "tags": [
     "91"
    ]
   },
   "source": [
    "Sounds easy, right? Unfortunately, things are not that easy, and that has something to do with the program state. Let us assume our state consists of three variables, `var1` to `var3`, and that Step 2 produces a fault in `var2`. This fault then propagates to the output:"
   ]
  },
  {
   "cell_type": "code",
   "execution_count": 122,
   "metadata": {
    "tags": [
     "92"
    ]
   },
   "outputs": [
    {
     "data": {
      "image/svg+xml": [
       "<?xml version=\"1.0\" encoding=\"UTF-8\" standalone=\"no\"?>\n",
       "<!DOCTYPE svg PUBLIC \"-//W3C//DTD SVG 1.1//EN\"\n",
       " \"http://www.w3.org/Graphics/SVG/1.1/DTD/svg11.dtd\">\n",
       "<!-- Generated by graphviz version 2.43.0 (0)\n",
       " -->\n",
       "<!-- Title: %3 Pages: 1 -->\n",
       "<svg width=\"74pt\" height=\"44pt\"\n",
       " viewBox=\"0.00 0.00 74.00 44.00\" xmlns=\"http://www.w3.org/2000/svg\" xmlns:xlink=\"http://www.w3.org/1999/xlink\">\n",
       "<g id=\"graph0\" class=\"graph\" transform=\"scale(1 1) rotate(0) translate(4 40)\">\n",
       "<title>%3</title>\n",
       "<polygon fill=\"white\" stroke=\"transparent\" points=\"-4,4 -4,-40 70,-40 70,4 -4,4\"/>\n",
       "<!-- input -->\n",
       "<g id=\"node1\" class=\"node\">\n",
       "<title>input</title>\n",
       "<polygon fill=\"white\" stroke=\"transparent\" points=\"66,-36 0,-36 0,0 66,0 66,-36\"/>\n",
       "<text text-anchor=\"middle\" x=\"33\" y=\"-14.3\" font-family=\"Raleway\" font-size=\"14.00\" fill=\"darkgreen\">Input ✔</text>\n",
       "</g>\n",
       "</g>\n",
       "</svg>\n"
      ],
      "text/plain": [
       "<graphviz.graphs.Digraph at 0xff5a499a3470>"
      ]
     },
     "metadata": {},
     "output_type": "display_data"
    },
    {
     "data": {
      "image/svg+xml": [
       "<?xml version=\"1.0\" encoding=\"UTF-8\" standalone=\"no\"?>\n",
       "<!DOCTYPE svg PUBLIC \"-//W3C//DTD SVG 1.1//EN\"\n",
       " \"http://www.w3.org/Graphics/SVG/1.1/DTD/svg11.dtd\">\n",
       "<!-- Generated by graphviz version 2.43.0 (0)\n",
       " -->\n",
       "<!-- Title: %3 Pages: 1 -->\n",
       "<svg width=\"205pt\" height=\"78pt\"\n",
       " viewBox=\"0.00 0.00 205.00 78.00\" xmlns=\"http://www.w3.org/2000/svg\" xmlns:xlink=\"http://www.w3.org/1999/xlink\">\n",
       "<g id=\"graph0\" class=\"graph\" transform=\"scale(1 1) rotate(0) translate(4 74)\">\n",
       "<title>%3</title>\n",
       "<polygon fill=\"white\" stroke=\"transparent\" points=\"-4,4 -4,-74 201,-74 201,4 -4,4\"/>\n",
       "<!-- input -->\n",
       "<g id=\"node1\" class=\"node\">\n",
       "<title>input</title>\n",
       "<polygon fill=\"white\" stroke=\"transparent\" points=\"66,-53 0,-53 0,-17 66,-17 66,-53\"/>\n",
       "<text text-anchor=\"middle\" x=\"33\" y=\"-31.3\" font-family=\"Raleway\" font-size=\"14.00\" fill=\"darkgreen\">Input ✔</text>\n",
       "</g>\n",
       "<!-- s1 -->\n",
       "<g id=\"node2\" class=\"node\">\n",
       "<title>s1</title>\n",
       "<polygon fill=\"peachpuff\" stroke=\"darkgreen\" points=\"143,-0.5 143,-69.5 197,-69.5 197,-0.5 143,-0.5\"/>\n",
       "<text text-anchor=\"middle\" x=\"170\" y=\"-54.3\" font-family=\"Raleway\" font-size=\"14.00\" fill=\"darkgreen\">var1</text>\n",
       "<polyline fill=\"none\" stroke=\"darkgreen\" points=\"143,-46.5 197,-46.5 \"/>\n",
       "<text text-anchor=\"middle\" x=\"170\" y=\"-31.3\" font-family=\"Raleway\" font-size=\"14.00\" fill=\"darkgreen\">var2</text>\n",
       "<polyline fill=\"none\" stroke=\"darkgreen\" points=\"143,-23.5 197,-23.5 \"/>\n",
       "<text text-anchor=\"middle\" x=\"170\" y=\"-8.3\" font-family=\"Raleway\" font-size=\"14.00\" fill=\"darkgreen\">var3</text>\n",
       "</g>\n",
       "<!-- input&#45;&gt;s1 -->\n",
       "<g id=\"edge1\" class=\"edge\">\n",
       "<title>input&#45;&gt;s1</title>\n",
       "<path fill=\"none\" stroke=\"black\" d=\"M66.34,-35C86.36,-35 112.1,-35 132.8,-35\"/>\n",
       "<polygon fill=\"black\" stroke=\"black\" points=\"132.81,-38.5 142.81,-35 132.81,-31.5 132.81,-38.5\"/>\n",
       "<text text-anchor=\"middle\" x=\"104.5\" y=\"-38.8\" font-family=\"Raleway\" font-size=\"14.00\">Step 1</text>\n",
       "</g>\n",
       "</g>\n",
       "</svg>\n"
      ],
      "text/plain": [
       "<graphviz.graphs.Digraph at 0xff5a499a3470>"
      ]
     },
     "metadata": {},
     "output_type": "display_data"
    },
    {
     "data": {
      "image/svg+xml": [
       "<?xml version=\"1.0\" encoding=\"UTF-8\" standalone=\"no\"?>\n",
       "<!DOCTYPE svg PUBLIC \"-//W3C//DTD SVG 1.1//EN\"\n",
       " \"http://www.w3.org/Graphics/SVG/1.1/DTD/svg11.dtd\">\n",
       "<!-- Generated by graphviz version 2.43.0 (0)\n",
       " -->\n",
       "<!-- Title: %3 Pages: 1 -->\n",
       "<svg width=\"356pt\" height=\"78pt\"\n",
       " viewBox=\"0.00 0.00 356.00 78.00\" xmlns=\"http://www.w3.org/2000/svg\" xmlns:xlink=\"http://www.w3.org/1999/xlink\">\n",
       "<g id=\"graph0\" class=\"graph\" transform=\"scale(1 1) rotate(0) translate(4 74)\">\n",
       "<title>%3</title>\n",
       "<polygon fill=\"white\" stroke=\"transparent\" points=\"-4,4 -4,-74 352,-74 352,4 -4,4\"/>\n",
       "<!-- input -->\n",
       "<g id=\"node1\" class=\"node\">\n",
       "<title>input</title>\n",
       "<polygon fill=\"white\" stroke=\"transparent\" points=\"66,-53 0,-53 0,-17 66,-17 66,-53\"/>\n",
       "<text text-anchor=\"middle\" x=\"33\" y=\"-31.3\" font-family=\"Raleway\" font-size=\"14.00\" fill=\"darkgreen\">Input ✔</text>\n",
       "</g>\n",
       "<!-- s1 -->\n",
       "<g id=\"node2\" class=\"node\">\n",
       "<title>s1</title>\n",
       "<polygon fill=\"peachpuff\" stroke=\"darkgreen\" points=\"143,-0.5 143,-69.5 197,-69.5 197,-0.5 143,-0.5\"/>\n",
       "<text text-anchor=\"middle\" x=\"170\" y=\"-54.3\" font-family=\"Raleway\" font-size=\"14.00\" fill=\"darkgreen\">var1</text>\n",
       "<polyline fill=\"none\" stroke=\"darkgreen\" points=\"143,-46.5 197,-46.5 \"/>\n",
       "<text text-anchor=\"middle\" x=\"170\" y=\"-31.3\" font-family=\"Raleway\" font-size=\"14.00\" fill=\"darkgreen\">var2</text>\n",
       "<polyline fill=\"none\" stroke=\"darkgreen\" points=\"143,-23.5 197,-23.5 \"/>\n",
       "<text text-anchor=\"middle\" x=\"170\" y=\"-8.3\" font-family=\"Raleway\" font-size=\"14.00\" fill=\"darkgreen\">var3</text>\n",
       "</g>\n",
       "<!-- input&#45;&gt;s1 -->\n",
       "<g id=\"edge1\" class=\"edge\">\n",
       "<title>input&#45;&gt;s1</title>\n",
       "<path fill=\"none\" stroke=\"black\" d=\"M66.34,-35C86.36,-35 112.1,-35 132.8,-35\"/>\n",
       "<polygon fill=\"black\" stroke=\"black\" points=\"132.81,-38.5 142.81,-35 132.81,-31.5 132.81,-38.5\"/>\n",
       "<text text-anchor=\"middle\" x=\"104.5\" y=\"-38.8\" font-family=\"Raleway\" font-size=\"14.00\">Step 1</text>\n",
       "</g>\n",
       "<!-- s2 -->\n",
       "<g id=\"node3\" class=\"node\">\n",
       "<title>s2</title>\n",
       "<polygon fill=\"peachpuff\" stroke=\"#8b0000\" points=\"289,-0.5 289,-69.5 348,-69.5 348,-0.5 289,-0.5\"/>\n",
       "<text text-anchor=\"middle\" x=\"318.5\" y=\"-54.3\" font-family=\"Raleway\" font-size=\"14.00\" fill=\"#8b0000\">var1</text>\n",
       "<polyline fill=\"none\" stroke=\"#8b0000\" points=\"289,-46.5 348,-46.5 \"/>\n",
       "<text text-anchor=\"middle\" x=\"318.5\" y=\"-31.3\" font-family=\"Raleway\" font-size=\"14.00\" fill=\"#8b0000\">var2 ✘</text>\n",
       "<polyline fill=\"none\" stroke=\"#8b0000\" points=\"289,-23.5 348,-23.5 \"/>\n",
       "<text text-anchor=\"middle\" x=\"318.5\" y=\"-8.3\" font-family=\"Raleway\" font-size=\"14.00\" fill=\"#8b0000\">var3</text>\n",
       "</g>\n",
       "<!-- s1&#45;&gt;s2 -->\n",
       "<g id=\"edge2\" class=\"edge\">\n",
       "<title>s1&#45;&gt;s2:var2</title>\n",
       "<path fill=\"none\" stroke=\"black\" d=\"M197.25,-35C218.64,-35 249.93,-35 278.88,-35\"/>\n",
       "<polygon fill=\"black\" stroke=\"black\" points=\"279,-38.5 289,-35 279,-31.5 279,-38.5\"/>\n",
       "<text text-anchor=\"middle\" x=\"243\" y=\"-38.8\" font-family=\"Raleway\" font-size=\"14.00\" fill=\"#8b0000\">Step 2 ✘</text>\n",
       "</g>\n",
       "</g>\n",
       "</svg>\n"
      ],
      "text/plain": [
       "<graphviz.graphs.Digraph at 0xff5a499aa390>"
      ]
     },
     "metadata": {},
     "output_type": "display_data"
    },
    {
     "data": {
      "image/svg+xml": [
       "<?xml version=\"1.0\" encoding=\"UTF-8\" standalone=\"no\"?>\n",
       "<!DOCTYPE svg PUBLIC \"-//W3C//DTD SVG 1.1//EN\"\n",
       " \"http://www.w3.org/Graphics/SVG/1.1/DTD/svg11.dtd\">\n",
       "<!-- Generated by graphviz version 2.43.0 (0)\n",
       " -->\n",
       "<!-- Title: %3 Pages: 1 -->\n",
       "<svg width=\"492pt\" height=\"78pt\"\n",
       " viewBox=\"0.00 0.00 492.00 78.00\" xmlns=\"http://www.w3.org/2000/svg\" xmlns:xlink=\"http://www.w3.org/1999/xlink\">\n",
       "<g id=\"graph0\" class=\"graph\" transform=\"scale(1 1) rotate(0) translate(4 74)\">\n",
       "<title>%3</title>\n",
       "<polygon fill=\"white\" stroke=\"transparent\" points=\"-4,4 -4,-74 488,-74 488,4 -4,4\"/>\n",
       "<!-- input -->\n",
       "<g id=\"node1\" class=\"node\">\n",
       "<title>input</title>\n",
       "<polygon fill=\"white\" stroke=\"transparent\" points=\"66,-53 0,-53 0,-17 66,-17 66,-53\"/>\n",
       "<text text-anchor=\"middle\" x=\"33\" y=\"-31.3\" font-family=\"Raleway\" font-size=\"14.00\" fill=\"darkgreen\">Input ✔</text>\n",
       "</g>\n",
       "<!-- s1 -->\n",
       "<g id=\"node2\" class=\"node\">\n",
       "<title>s1</title>\n",
       "<polygon fill=\"peachpuff\" stroke=\"darkgreen\" points=\"143,-0.5 143,-69.5 197,-69.5 197,-0.5 143,-0.5\"/>\n",
       "<text text-anchor=\"middle\" x=\"170\" y=\"-54.3\" font-family=\"Raleway\" font-size=\"14.00\" fill=\"darkgreen\">var1</text>\n",
       "<polyline fill=\"none\" stroke=\"darkgreen\" points=\"143,-46.5 197,-46.5 \"/>\n",
       "<text text-anchor=\"middle\" x=\"170\" y=\"-31.3\" font-family=\"Raleway\" font-size=\"14.00\" fill=\"darkgreen\">var2</text>\n",
       "<polyline fill=\"none\" stroke=\"darkgreen\" points=\"143,-23.5 197,-23.5 \"/>\n",
       "<text text-anchor=\"middle\" x=\"170\" y=\"-8.3\" font-family=\"Raleway\" font-size=\"14.00\" fill=\"darkgreen\">var3</text>\n",
       "</g>\n",
       "<!-- input&#45;&gt;s1 -->\n",
       "<g id=\"edge1\" class=\"edge\">\n",
       "<title>input&#45;&gt;s1</title>\n",
       "<path fill=\"none\" stroke=\"black\" d=\"M66.34,-35C86.36,-35 112.1,-35 132.8,-35\"/>\n",
       "<polygon fill=\"black\" stroke=\"black\" points=\"132.81,-38.5 142.81,-35 132.81,-31.5 132.81,-38.5\"/>\n",
       "<text text-anchor=\"middle\" x=\"104.5\" y=\"-38.8\" font-family=\"Raleway\" font-size=\"14.00\">Step 1</text>\n",
       "</g>\n",
       "<!-- s2 -->\n",
       "<g id=\"node3\" class=\"node\">\n",
       "<title>s2</title>\n",
       "<polygon fill=\"peachpuff\" stroke=\"#8b0000\" points=\"289,-0.5 289,-69.5 348,-69.5 348,-0.5 289,-0.5\"/>\n",
       "<text text-anchor=\"middle\" x=\"318.5\" y=\"-54.3\" font-family=\"Raleway\" font-size=\"14.00\" fill=\"#8b0000\">var1</text>\n",
       "<polyline fill=\"none\" stroke=\"#8b0000\" points=\"289,-46.5 348,-46.5 \"/>\n",
       "<text text-anchor=\"middle\" x=\"318.5\" y=\"-31.3\" font-family=\"Raleway\" font-size=\"14.00\" fill=\"#8b0000\">var2 ✘</text>\n",
       "<polyline fill=\"none\" stroke=\"#8b0000\" points=\"289,-23.5 348,-23.5 \"/>\n",
       "<text text-anchor=\"middle\" x=\"318.5\" y=\"-8.3\" font-family=\"Raleway\" font-size=\"14.00\" fill=\"#8b0000\">var3</text>\n",
       "</g>\n",
       "<!-- s1&#45;&gt;s2 -->\n",
       "<g id=\"edge2\" class=\"edge\">\n",
       "<title>s1&#45;&gt;s2:var2</title>\n",
       "<path fill=\"none\" stroke=\"black\" d=\"M197.25,-35C218.64,-35 249.93,-35 278.88,-35\"/>\n",
       "<polygon fill=\"black\" stroke=\"black\" points=\"279,-38.5 289,-35 279,-31.5 279,-38.5\"/>\n",
       "<text text-anchor=\"middle\" x=\"243\" y=\"-38.8\" font-family=\"Raleway\" font-size=\"14.00\" fill=\"#8b0000\">Step 2 ✘</text>\n",
       "</g>\n",
       "<!-- s3 -->\n",
       "<g id=\"node4\" class=\"node\">\n",
       "<title>s3</title>\n",
       "<polygon fill=\"peachpuff\" stroke=\"#8b0000\" points=\"425,-0.5 425,-69.5 484,-69.5 484,-0.5 425,-0.5\"/>\n",
       "<text text-anchor=\"middle\" x=\"454.5\" y=\"-54.3\" font-family=\"Raleway\" font-size=\"14.00\" fill=\"#8b0000\">var1</text>\n",
       "<polyline fill=\"none\" stroke=\"#8b0000\" points=\"425,-46.5 484,-46.5 \"/>\n",
       "<text text-anchor=\"middle\" x=\"454.5\" y=\"-31.3\" font-family=\"Raleway\" font-size=\"14.00\" fill=\"#8b0000\">var2 ✘</text>\n",
       "<polyline fill=\"none\" stroke=\"#8b0000\" points=\"425,-23.5 484,-23.5 \"/>\n",
       "<text text-anchor=\"middle\" x=\"454.5\" y=\"-8.3\" font-family=\"Raleway\" font-size=\"14.00\" fill=\"#8b0000\">var3</text>\n",
       "</g>\n",
       "<!-- s2&#45;&gt;s3 -->\n",
       "<g id=\"edge3\" class=\"edge\">\n",
       "<title>s2:var2&#45;&gt;s3:var2</title>\n",
       "<path fill=\"none\" stroke=\"black\" d=\"M348,-35C378.61,-35 388.69,-35 414.97,-35\"/>\n",
       "<polygon fill=\"black\" stroke=\"black\" points=\"415,-38.5 425,-35 415,-31.5 415,-38.5\"/>\n",
       "<text text-anchor=\"middle\" x=\"386.5\" y=\"-38.8\" font-family=\"Raleway\" font-size=\"14.00\">Step 3</text>\n",
       "</g>\n",
       "</g>\n",
       "</svg>\n"
      ],
      "text/plain": [
       "<graphviz.graphs.Digraph at 0xff5a49b781a0>"
      ]
     },
     "metadata": {},
     "output_type": "display_data"
    },
    {
     "data": {
      "image/svg+xml": [
       "<?xml version=\"1.0\" encoding=\"UTF-8\" standalone=\"no\"?>\n",
       "<!DOCTYPE svg PUBLIC \"-//W3C//DTD SVG 1.1//EN\"\n",
       " \"http://www.w3.org/Graphics/SVG/1.1/DTD/svg11.dtd\">\n",
       "<!-- Generated by graphviz version 2.43.0 (0)\n",
       " -->\n",
       "<!-- Title: %3 Pages: 1 -->\n",
       "<svg width=\"607pt\" height=\"78pt\"\n",
       " viewBox=\"0.00 0.00 607.00 78.00\" xmlns=\"http://www.w3.org/2000/svg\" xmlns:xlink=\"http://www.w3.org/1999/xlink\">\n",
       "<g id=\"graph0\" class=\"graph\" transform=\"scale(1 1) rotate(0) translate(4 74)\">\n",
       "<title>%3</title>\n",
       "<polygon fill=\"white\" stroke=\"transparent\" points=\"-4,4 -4,-74 603,-74 603,4 -4,4\"/>\n",
       "<!-- input -->\n",
       "<g id=\"node1\" class=\"node\">\n",
       "<title>input</title>\n",
       "<polygon fill=\"white\" stroke=\"transparent\" points=\"66,-53 0,-53 0,-17 66,-17 66,-53\"/>\n",
       "<text text-anchor=\"middle\" x=\"33\" y=\"-31.3\" font-family=\"Raleway\" font-size=\"14.00\" fill=\"darkgreen\">Input ✔</text>\n",
       "</g>\n",
       "<!-- s1 -->\n",
       "<g id=\"node2\" class=\"node\">\n",
       "<title>s1</title>\n",
       "<polygon fill=\"peachpuff\" stroke=\"darkgreen\" points=\"143,-0.5 143,-69.5 197,-69.5 197,-0.5 143,-0.5\"/>\n",
       "<text text-anchor=\"middle\" x=\"170\" y=\"-54.3\" font-family=\"Raleway\" font-size=\"14.00\" fill=\"darkgreen\">var1</text>\n",
       "<polyline fill=\"none\" stroke=\"darkgreen\" points=\"143,-46.5 197,-46.5 \"/>\n",
       "<text text-anchor=\"middle\" x=\"170\" y=\"-31.3\" font-family=\"Raleway\" font-size=\"14.00\" fill=\"darkgreen\">var2</text>\n",
       "<polyline fill=\"none\" stroke=\"darkgreen\" points=\"143,-23.5 197,-23.5 \"/>\n",
       "<text text-anchor=\"middle\" x=\"170\" y=\"-8.3\" font-family=\"Raleway\" font-size=\"14.00\" fill=\"darkgreen\">var3</text>\n",
       "</g>\n",
       "<!-- input&#45;&gt;s1 -->\n",
       "<g id=\"edge1\" class=\"edge\">\n",
       "<title>input&#45;&gt;s1</title>\n",
       "<path fill=\"none\" stroke=\"black\" d=\"M66.34,-35C86.36,-35 112.1,-35 132.8,-35\"/>\n",
       "<polygon fill=\"black\" stroke=\"black\" points=\"132.81,-38.5 142.81,-35 132.81,-31.5 132.81,-38.5\"/>\n",
       "<text text-anchor=\"middle\" x=\"104.5\" y=\"-38.8\" font-family=\"Raleway\" font-size=\"14.00\">Step 1</text>\n",
       "</g>\n",
       "<!-- s2 -->\n",
       "<g id=\"node3\" class=\"node\">\n",
       "<title>s2</title>\n",
       "<polygon fill=\"peachpuff\" stroke=\"#8b0000\" points=\"289,-0.5 289,-69.5 348,-69.5 348,-0.5 289,-0.5\"/>\n",
       "<text text-anchor=\"middle\" x=\"318.5\" y=\"-54.3\" font-family=\"Raleway\" font-size=\"14.00\" fill=\"#8b0000\">var1</text>\n",
       "<polyline fill=\"none\" stroke=\"#8b0000\" points=\"289,-46.5 348,-46.5 \"/>\n",
       "<text text-anchor=\"middle\" x=\"318.5\" y=\"-31.3\" font-family=\"Raleway\" font-size=\"14.00\" fill=\"#8b0000\">var2 ✘</text>\n",
       "<polyline fill=\"none\" stroke=\"#8b0000\" points=\"289,-23.5 348,-23.5 \"/>\n",
       "<text text-anchor=\"middle\" x=\"318.5\" y=\"-8.3\" font-family=\"Raleway\" font-size=\"14.00\" fill=\"#8b0000\">var3</text>\n",
       "</g>\n",
       "<!-- s1&#45;&gt;s2 -->\n",
       "<g id=\"edge2\" class=\"edge\">\n",
       "<title>s1&#45;&gt;s2:var2</title>\n",
       "<path fill=\"none\" stroke=\"black\" d=\"M197.25,-35C218.64,-35 249.93,-35 278.88,-35\"/>\n",
       "<polygon fill=\"black\" stroke=\"black\" points=\"279,-38.5 289,-35 279,-31.5 279,-38.5\"/>\n",
       "<text text-anchor=\"middle\" x=\"243\" y=\"-38.8\" font-family=\"Raleway\" font-size=\"14.00\" fill=\"#8b0000\">Step 2 ✘</text>\n",
       "</g>\n",
       "<!-- s3 -->\n",
       "<g id=\"node4\" class=\"node\">\n",
       "<title>s3</title>\n",
       "<polygon fill=\"peachpuff\" stroke=\"#8b0000\" points=\"425,-0.5 425,-69.5 484,-69.5 484,-0.5 425,-0.5\"/>\n",
       "<text text-anchor=\"middle\" x=\"454.5\" y=\"-54.3\" font-family=\"Raleway\" font-size=\"14.00\" fill=\"#8b0000\">var1</text>\n",
       "<polyline fill=\"none\" stroke=\"#8b0000\" points=\"425,-46.5 484,-46.5 \"/>\n",
       "<text text-anchor=\"middle\" x=\"454.5\" y=\"-31.3\" font-family=\"Raleway\" font-size=\"14.00\" fill=\"#8b0000\">var2 ✘</text>\n",
       "<polyline fill=\"none\" stroke=\"#8b0000\" points=\"425,-23.5 484,-23.5 \"/>\n",
       "<text text-anchor=\"middle\" x=\"454.5\" y=\"-8.3\" font-family=\"Raleway\" font-size=\"14.00\" fill=\"#8b0000\">var3</text>\n",
       "</g>\n",
       "<!-- s2&#45;&gt;s3 -->\n",
       "<g id=\"edge3\" class=\"edge\">\n",
       "<title>s2:var2&#45;&gt;s3:var2</title>\n",
       "<path fill=\"none\" stroke=\"black\" d=\"M348,-35C378.61,-35 388.69,-35 414.97,-35\"/>\n",
       "<polygon fill=\"black\" stroke=\"black\" points=\"415,-38.5 425,-35 415,-31.5 415,-38.5\"/>\n",
       "<text text-anchor=\"middle\" x=\"386.5\" y=\"-38.8\" font-family=\"Raleway\" font-size=\"14.00\">Step 3</text>\n",
       "</g>\n",
       "<!-- output -->\n",
       "<g id=\"node5\" class=\"node\">\n",
       "<title>output</title>\n",
       "<polygon fill=\"white\" stroke=\"transparent\" points=\"599,-53 521,-53 521,-17 599,-17 599,-53\"/>\n",
       "<text text-anchor=\"middle\" x=\"560\" y=\"-31.3\" font-family=\"Raleway\" font-size=\"14.00\" fill=\"#8b0000\">Output ✘</text>\n",
       "</g>\n",
       "<!-- s3&#45;&gt;output -->\n",
       "<g id=\"edge4\" class=\"edge\">\n",
       "<title>s3:var2&#45;&gt;output</title>\n",
       "<path fill=\"none\" stroke=\"black\" d=\"M484,-35C492.61,-35 501.78,-35 510.64,-35\"/>\n",
       "<polygon fill=\"black\" stroke=\"black\" points=\"510.85,-38.5 520.85,-35 510.85,-31.5 510.85,-38.5\"/>\n",
       "</g>\n",
       "</g>\n",
       "</svg>\n"
      ],
      "text/plain": [
       "<graphviz.graphs.Digraph at 0xff5a500bc380>"
      ]
     },
     "metadata": {},
     "output_type": "display_data"
    }
   ],
   "source": [
    "# ignore\n",
    "for until in range(1, 6):\n",
    "    execution_diagram(show_steps=True, variables=['var1', 'var2', 'var3'],\n",
    "                      error_step=2,\n",
    "                      until=until, fault_path=['s2:var2', 's3:var2'])"
   ]
  },
  {
   "cell_type": "markdown",
   "metadata": {
    "tags": [
     "93"
    ]
   },
   "source": [
    "The way these faults propagate is called a *cause-effect chain*:\n",
    "\n",
    "* The _defect_ in the code _causes_ a fault in the state when executed.\n",
    "* This _fault_ in the state then _propagates_ through further execution steps...\n",
    "* ... until it becomes visible as a _failure_.\n",
    "\n",
    "Even worse: in most cases the fault often expresses itself first in the control flow rather than the variable contents.\n",
    "Such a deviation from a normal execution is in general even harder to find."
   ]
  },
  {
   "cell_type": "markdown",
   "metadata": {
    "tags": [
     "94"
    ]
   },
   "source": [
    "Since the code was originally written by a human, any defect can be related to some original _mistake_ the programmer made. This gives us a number of terms that all are more precise than the general \"error\" or the colloquial \"bug\":\n",
    "\n",
    "* A _mistake_ is a human act or decision resulting in an error.\n",
    "    * e. g. 사용자가 입력한 command의 typo\n",
    "* A _defect_ is an error in the program code. Also called *bug*.\n",
    "    * *코드*의 문제 (static)\n",
    "* A _fault_ is an error in the program state. Also called *infection*.\n",
    "    * state (dynamic). 내 코드가 프로그램을 fault한 상태로 만들 수 있음\n",
    "* A _failure_ is an externally visible error in the program behavior. Also called *malfunction*.\n",
    "    * 내가 최종적으로 볼 수 있는 것\n",
    "\n",
    "The cause-effect chain of events is thus\n",
    "\n",
    "* Mistake → Defect → Fault → ... → Fault → Failure\n",
    "\n",
    "Note that not every defect also causes a failure, which is despite all testing, there can still be defects in the code looming around until the right conditions are met to trigger them. On the other hand, though, _every failure can be traced back to the defect that causes it_. Our job is to break the cause-effect chain.\n",
    "\n",
    "- reactive debugging: failure(symtom) 발견 → ... fix (common, might save money)\n",
    "- proactive debugging (이런 것도 있어)"
   ]
  },
  {
   "cell_type": "markdown",
   "metadata": {
    "tags": [
     "95"
    ]
   },
   "source": [
    "## From Failure to Defect\n",
    "\n",
    "To find a defect from a failure, we _trace back_ the faults along their _propagation_ – that is, we find out which faults in the earlier state have caused the later faults. We start from the very end of the execution and then gradually progress backwards in time, examining fault after fault until we find a _transition_ from a correct state to a faulty state – that is, a\n",
    "step in which a correct state comes in and a faulty state comes out. At this point, we have found the origin of the failure – and the defect that causes it."
   ]
  },
  {
   "cell_type": "markdown",
   "metadata": {
    "tags": [
     "96"
    ]
   },
   "source": [
    "What sounds like a straight-forward strategy, unfortunately, doesn't always work this way in practice. That is because of the following problems of debugging:\n",
    "\n",
    "* First, program states are actually _large_, encompassing dozens to thousands of variables, possibly even more. If you have to search all of these manually and check them for faults, you will spend a lot of time for a single state.\n",
    "\n",
    "* Second, you do not always know _whether a state is correct or not._ While most programs have some form of specification for their inputs and outputs, these do not necessarily exist for intermediate results. If one had a specification that could check each state for correctness (possibly even automatically), debugging would be trivial. Unfortunately, it is not, and that's partly due to the lack of specifications.\n",
    "\n",
    "* Third, executions typically do not come in a handful of steps, as in the diagrams above; instead, they can easily encompass _thousands to millions of steps._ This means that you will have to examine not just one state, but several, making the problem much worse.\n",
    "\n",
    "To make your search efficient, you thus have to _focus_ your search – starting with most likely causes and gradually progressing to the less probable causes. This is what we call a _debugging strategy_. Intermediate assertions of the program state also come in handy, as they make the cause-effect chain smaller."
   ]
  },
  {
   "cell_type": "markdown",
   "metadata": {
    "tags": [
     "97"
    ]
   },
   "source": [
    "## The Scientific Method\n",
    "\n",
    "Now that we know how failures come to be, let's look into how to systematically find their causes. What we need is a _strategy_ that helps us search for how and when the failure comes to be. For this, we use a process called the *scientific method*."
   ]
  },
  {
   "cell_type": "markdown",
   "metadata": {
    "tags": [
     "98"
    ]
   },
   "source": [
    "When we are debugging a program, we are trying to find the causes of a given effect – very much like natural scientists try to understand why things in nature are as they are and how they come to be. Over thousands of years, scientists have conducted _observations_ and _experiments_ to come to an understanding of how our world works. The process by which experimental scientists operate has been coined \"The scientific method\". This is how it works:"
   ]
  },
  {
   "cell_type": "markdown",
   "metadata": {
    "tags": [
     "99"
    ]
   },
   "source": [
    "1. Formulate a _question_, as in \"Why does this apple fall down?\".\n",
    "2. Invent a _hypothesis_ based on knowledge obtained while formulating the question, that may explain the observed behavior. \n",
    "3. Determining the logical consequences of the hypothesis, formulate a _prediction_ that can _support_ or _refute_ the hypothesis. Ideally, the prediction would distinguish the hypothesis from likely alternatives.\n",
    "4. _Test_ the prediction (and thus the hypothesis) in an _experiment_. If the prediction holds, confidence in the hypothesis increases; otherwise, it decreases.\n",
    "5. Repeat Steps 2–4 until there are no discrepancies between hypothesis and predictions and/or observations."
   ]
  },
  {
   "cell_type": "markdown",
   "metadata": {
    "tags": [
     "100"
    ]
   },
   "source": [
    "At this point, your hypothesis may be named a *theory* – that is, a predictive and comprehensive description of some aspect of the natural world. The gravitational theory, for instance, predicts very well how the moon revolves around the earth, and how the earth revolves around the sun.  Our debugging problems are of a slightly lesser scale – we'd like a theory of how our failure came to be – but the process is pretty much the same."
   ]
  },
  {
   "cell_type": "code",
   "execution_count": 123,
   "metadata": {
    "ipub": {
     "ignore": true
    },
    "tags": [
     "101"
    ]
   },
   "outputs": [],
   "source": [
    "# ignore\n",
    "dot = graph()\n",
    "\n",
    "dot.node('Hypothesis')\n",
    "dot.node('Observation')\n",
    "dot.node('Prediction')\n",
    "dot.node('Experiment')\n",
    "\n",
    "dot.edge('Hypothesis', 'Observation',\n",
    "         label=\"<Hypothesis<BR/>is <I>supported:</I><BR/>Refine it>\",\n",
    "         dir='back')\n",
    "dot.edge('Hypothesis', 'Prediction')\n",
    "\n",
    "dot.node('Problem Report', shape='none', fillcolor='white')\n",
    "dot.edge('Problem Report', 'Hypothesis')\n",
    "\n",
    "dot.node('Code', shape='none', fillcolor='white')\n",
    "dot.edge('Code', 'Hypothesis')\n",
    "\n",
    "dot.node('Runs', shape='none', fillcolor='white')\n",
    "dot.edge('Runs', 'Hypothesis')\n",
    "\n",
    "dot.node('More Runs', shape='none', fillcolor='white')\n",
    "dot.edge('More Runs', 'Hypothesis')\n",
    "\n",
    "dot.edge('Prediction', 'Experiment')\n",
    "dot.edge('Experiment', 'Observation')\n",
    "dot.edge('Observation', 'Hypothesis',\n",
    "         label=\"<Hypothesis<BR/>is <I>rejected:</I><BR/>Seek alternative>\")"
   ]
  },
  {
   "cell_type": "code",
   "execution_count": 124,
   "metadata": {
    "tags": [
     "102"
    ]
   },
   "outputs": [
    {
     "data": {
      "image/svg+xml": [
       "<?xml version=\"1.0\" encoding=\"UTF-8\" standalone=\"no\"?>\n",
       "<!DOCTYPE svg PUBLIC \"-//W3C//DTD SVG 1.1//EN\"\n",
       " \"http://www.w3.org/Graphics/SVG/1.1/DTD/svg11.dtd\">\n",
       "<!-- Generated by graphviz version 2.43.0 (0)\n",
       " -->\n",
       "<!-- Title: %3 Pages: 1 -->\n",
       "<svg width=\"845pt\" height=\"206pt\"\n",
       " viewBox=\"0.00 0.00 844.66 206.00\" xmlns=\"http://www.w3.org/2000/svg\" xmlns:xlink=\"http://www.w3.org/1999/xlink\">\n",
       "<g id=\"graph0\" class=\"graph\" transform=\"scale(1 1) rotate(0) translate(4 202)\">\n",
       "<title>%3</title>\n",
       "<polygon fill=\"white\" stroke=\"transparent\" points=\"-4,4 -4,-202 840.66,-202 840.66,4 -4,4\"/>\n",
       "<!-- Hypothesis -->\n",
       "<g id=\"node1\" class=\"node\">\n",
       "<title>Hypothesis</title>\n",
       "<ellipse fill=\"peachpuff\" stroke=\"black\" cx=\"214.49\" cy=\"-99\" rx=\"58.49\" ry=\"18\"/>\n",
       "<text text-anchor=\"middle\" x=\"214.49\" y=\"-95.3\" font-family=\"Raleway\" font-size=\"14.00\">Hypothesis</text>\n",
       "</g>\n",
       "<!-- Observation -->\n",
       "<g id=\"node2\" class=\"node\">\n",
       "<title>Observation</title>\n",
       "<ellipse fill=\"peachpuff\" stroke=\"black\" cx=\"774.26\" cy=\"-99\" rx=\"62.29\" ry=\"18\"/>\n",
       "<text text-anchor=\"middle\" x=\"774.26\" y=\"-95.3\" font-family=\"Raleway\" font-size=\"14.00\">Observation</text>\n",
       "</g>\n",
       "<!-- Hypothesis&#45;&gt;Observation -->\n",
       "<g id=\"edge1\" class=\"edge\">\n",
       "<title>Hypothesis&#45;&gt;Observation</title>\n",
       "<path fill=\"none\" stroke=\"black\" d=\"M263.49,-115.51C278.23,-119.81 294.61,-123.85 309.99,-126 470.59,-148.49 514.15,-147.65 674.87,-126 694.36,-123.37 715.44,-117.95 733.08,-112.65\"/>\n",
       "<polygon fill=\"black\" stroke=\"black\" points=\"264.18,-112.06 253.59,-112.5 262.14,-118.75 264.18,-112.06\"/>\n",
       "<text text-anchor=\"start\" x=\"450.88\" y=\"-173.8\" font-family=\"Raleway\" font-size=\"14.00\">Hypothesis</text>\n",
       "<text text-anchor=\"start\" x=\"444.38\" y=\"-159.8\" font-family=\"Raleway\" font-size=\"14.00\">is </text>\n",
       "<text text-anchor=\"start\" x=\"458.38\" y=\"-159.8\" font-family=\"Raleway\" font-style=\"italic\" font-size=\"14.00\">supported:</text>\n",
       "<text text-anchor=\"start\" x=\"461.38\" y=\"-145.8\" font-family=\"Raleway\" font-size=\"14.00\">Refine it</text>\n",
       "</g>\n",
       "<!-- Prediction -->\n",
       "<g id=\"node3\" class=\"node\">\n",
       "<title>Prediction</title>\n",
       "<ellipse fill=\"peachpuff\" stroke=\"black\" cx=\"363.93\" cy=\"-99\" rx=\"53.89\" ry=\"18\"/>\n",
       "<text text-anchor=\"middle\" x=\"363.93\" y=\"-95.3\" font-family=\"Raleway\" font-size=\"14.00\">Prediction</text>\n",
       "</g>\n",
       "<!-- Hypothesis&#45;&gt;Prediction -->\n",
       "<g id=\"edge2\" class=\"edge\">\n",
       "<title>Hypothesis&#45;&gt;Prediction</title>\n",
       "<path fill=\"none\" stroke=\"black\" d=\"M273.34,-99C281.93,-99 290.81,-99 299.5,-99\"/>\n",
       "<polygon fill=\"black\" stroke=\"black\" points=\"299.58,-102.5 309.58,-99 299.58,-95.5 299.58,-102.5\"/>\n",
       "</g>\n",
       "<!-- Observation&#45;&gt;Hypothesis -->\n",
       "<g id=\"edge9\" class=\"edge\">\n",
       "<title>Observation&#45;&gt;Hypothesis</title>\n",
       "<path fill=\"none\" stroke=\"black\" d=\"M730.45,-85.97C713.29,-81.08 693.26,-75.8 674.87,-72 516.06,-39.17 468.46,-37.55 309.99,-72 295.63,-75.12 280.25,-79.2 266.14,-83.23\"/>\n",
       "<polygon fill=\"black\" stroke=\"black\" points=\"264.76,-79.99 256.14,-86.15 266.72,-86.71 264.76,-79.99\"/>\n",
       "<text text-anchor=\"start\" x=\"450.88\" y=\"-80.8\" font-family=\"Raleway\" font-size=\"14.00\">Hypothesis</text>\n",
       "<text text-anchor=\"start\" x=\"452.38\" y=\"-66.8\" font-family=\"Raleway\" font-size=\"14.00\">is </text>\n",
       "<text text-anchor=\"start\" x=\"466.38\" y=\"-66.8\" font-family=\"Raleway\" font-style=\"italic\" font-size=\"14.00\">rejected:</text>\n",
       "<text text-anchor=\"start\" x=\"435.88\" y=\"-52.8\" font-family=\"Raleway\" font-size=\"14.00\">Seek alternative</text>\n",
       "</g>\n",
       "<!-- Experiment -->\n",
       "<g id=\"node4\" class=\"node\">\n",
       "<title>Experiment</title>\n",
       "<ellipse fill=\"peachpuff\" stroke=\"black\" cx=\"616.37\" cy=\"-99\" rx=\"58.49\" ry=\"18\"/>\n",
       "<text text-anchor=\"middle\" x=\"616.37\" y=\"-95.3\" font-family=\"Raleway\" font-size=\"14.00\">Experiment</text>\n",
       "</g>\n",
       "<!-- Prediction&#45;&gt;Experiment -->\n",
       "<g id=\"edge7\" class=\"edge\">\n",
       "<title>Prediction&#45;&gt;Experiment</title>\n",
       "<path fill=\"none\" stroke=\"black\" d=\"M418.05,-99C455.77,-99 506.74,-99 547.43,-99\"/>\n",
       "<polygon fill=\"black\" stroke=\"black\" points=\"547.54,-102.5 557.54,-99 547.54,-95.5 547.54,-102.5\"/>\n",
       "</g>\n",
       "<!-- Experiment&#45;&gt;Observation -->\n",
       "<g id=\"edge8\" class=\"edge\">\n",
       "<title>Experiment&#45;&gt;Observation</title>\n",
       "<path fill=\"none\" stroke=\"black\" d=\"M674.98,-99C683.68,-99 692.74,-99 701.68,-99\"/>\n",
       "<polygon fill=\"black\" stroke=\"black\" points=\"701.71,-102.5 711.71,-99 701.71,-95.5 701.71,-102.5\"/>\n",
       "</g>\n",
       "<!-- Problem Report -->\n",
       "<g id=\"node5\" class=\"node\">\n",
       "<title>Problem Report</title>\n",
       "<polygon fill=\"white\" stroke=\"transparent\" points=\"119,-198 0,-198 0,-162 119,-162 119,-198\"/>\n",
       "<text text-anchor=\"middle\" x=\"59.5\" y=\"-176.3\" font-family=\"Raleway\" font-size=\"14.00\">Problem Report</text>\n",
       "</g>\n",
       "<!-- Problem Report&#45;&gt;Hypothesis -->\n",
       "<g id=\"edge3\" class=\"edge\">\n",
       "<title>Problem Report&#45;&gt;Hypothesis</title>\n",
       "<path fill=\"none\" stroke=\"black\" d=\"M101,-161.86C107.08,-158.98 113.23,-155.97 119,-153 138.88,-142.76 160.58,-130.44 178.16,-120.16\"/>\n",
       "<polygon fill=\"black\" stroke=\"black\" points=\"180.11,-123.08 186.95,-114.99 176.56,-117.04 180.11,-123.08\"/>\n",
       "</g>\n",
       "<!-- Code -->\n",
       "<g id=\"node6\" class=\"node\">\n",
       "<title>Code</title>\n",
       "<polygon fill=\"white\" stroke=\"transparent\" points=\"86.5,-144 32.5,-144 32.5,-108 86.5,-108 86.5,-144\"/>\n",
       "<text text-anchor=\"middle\" x=\"59.5\" y=\"-122.3\" font-family=\"Raleway\" font-size=\"14.00\">Code</text>\n",
       "</g>\n",
       "<!-- Code&#45;&gt;Hypothesis -->\n",
       "<g id=\"edge4\" class=\"edge\">\n",
       "<title>Code&#45;&gt;Hypothesis</title>\n",
       "<path fill=\"none\" stroke=\"black\" d=\"M86.8,-121.36C105.11,-118.13 130.28,-113.68 153.37,-109.61\"/>\n",
       "<polygon fill=\"black\" stroke=\"black\" points=\"154.22,-113.02 163.46,-107.83 153,-106.12 154.22,-113.02\"/>\n",
       "</g>\n",
       "<!-- Runs -->\n",
       "<g id=\"node7\" class=\"node\">\n",
       "<title>Runs</title>\n",
       "<polygon fill=\"white\" stroke=\"transparent\" points=\"86.5,-90 32.5,-90 32.5,-54 86.5,-54 86.5,-90\"/>\n",
       "<text text-anchor=\"middle\" x=\"59.5\" y=\"-68.3\" font-family=\"Raleway\" font-size=\"14.00\">Runs</text>\n",
       "</g>\n",
       "<!-- Runs&#45;&gt;Hypothesis -->\n",
       "<g id=\"edge5\" class=\"edge\">\n",
       "<title>Runs&#45;&gt;Hypothesis</title>\n",
       "<path fill=\"none\" stroke=\"black\" d=\"M86.8,-76.64C105.11,-79.87 130.28,-84.32 153.37,-88.39\"/>\n",
       "<polygon fill=\"black\" stroke=\"black\" points=\"153,-91.88 163.46,-90.17 154.22,-84.98 153,-91.88\"/>\n",
       "</g>\n",
       "<!-- More Runs -->\n",
       "<g id=\"node8\" class=\"node\">\n",
       "<title>More Runs</title>\n",
       "<polygon fill=\"white\" stroke=\"transparent\" points=\"101.5,-36 17.5,-36 17.5,0 101.5,0 101.5,-36\"/>\n",
       "<text text-anchor=\"middle\" x=\"59.5\" y=\"-14.3\" font-family=\"Raleway\" font-size=\"14.00\">More Runs</text>\n",
       "</g>\n",
       "<!-- More Runs&#45;&gt;Hypothesis -->\n",
       "<g id=\"edge6\" class=\"edge\">\n",
       "<title>More Runs&#45;&gt;Hypothesis</title>\n",
       "<path fill=\"none\" stroke=\"black\" d=\"M101,-36.14C107.08,-39.02 113.23,-42.03 119,-45 138.88,-55.24 160.58,-67.56 178.16,-77.84\"/>\n",
       "<polygon fill=\"black\" stroke=\"black\" points=\"176.56,-80.96 186.95,-83.01 180.11,-74.92 176.56,-80.96\"/>\n",
       "</g>\n",
       "</g>\n",
       "</svg>\n"
      ],
      "text/plain": [
       "<graphviz.graphs.Digraph at 0xff5a49c964e0>"
      ]
     },
     "metadata": {},
     "output_type": "display_data"
    }
   ],
   "source": [
    "# ignore\n",
    "display(dot)"
   ]
  },
  {
   "cell_type": "markdown",
   "metadata": {
    "tags": [
     "103"
    ]
   },
   "source": [
    "In debugging, we proceed the very same way – indeed, we are treating bugs as if they were natural phenomena.   This analogy may sound far-fetched, as programs are anything but natural.  Nature, by definition, is not under our control.  But bugs are _out of our control just as well._  Hence, the analogy is not that far-fetched – and we can apply the same techniques for debugging."
   ]
  },
  {
   "cell_type": "markdown",
   "metadata": {
    "tags": [
     "104"
    ]
   },
   "source": [
    "### Finding a Hypothesis"
   ]
  },
  {
   "cell_type": "markdown",
   "metadata": {
    "tags": [
     "105"
    ]
   },
   "source": [
    "Let us apply the scientific method to our Python program which removes HTML tags.  First of all, let us recall the problem – `remove_html_markup()` works for some inputs, but fails on others."
   ]
  },
  {
   "cell_type": "code",
   "execution_count": 125,
   "metadata": {
    "tags": [
     "106"
    ]
   },
   "outputs": [
    {
     "name": "stdout",
     "output_type": "stream",
     "text": [
      "1  <b>foo</b>      foo\n",
      "2  <b>\"foo\"</b>    foo\n",
      "3  \"<b>foo</b>\"    <b>foo</b>\n",
      "4  <b id=\"bar\">foo</b> foo\n"
     ]
    }
   ],
   "source": [
    "for i, html in enumerate(['<b>foo</b>',\n",
    "                          '<b>\"foo\"</b>',\n",
    "                          '\"<b>foo</b>\"',\n",
    "                          '<b id=\"bar\">foo</b>']):\n",
    "    result = remove_html_markup(html)\n",
    "    print(\"%-2d %-15s %s\" % (i + 1, html, result))"
   ]
  },
  {
   "cell_type": "markdown",
   "metadata": {
    "tags": [
     "107"
    ]
   },
   "source": [
    "Input #1 and #4 work as expected, the others do not. We can write these down in a table, such that we can always look back at our previous results:\n",
    "\n",
    "|Input|Expectation|Output|Outcome|\n",
    "|-----|-----------|------|-------|\n",
    "|`<b>foo</b>`|`foo`|`foo`|✔|\n",
    "|`<b>\"foo\"</b>`|`\"foo\"`|`foo`|✘|\n",
    "|`\"<b>foo</b>\"`|`\"foo\"`|`<b>foo</b>`|✘|\n",
    "|`<b id=\"bar\">foo</b>`|`foo`|`foo`|✔|\n"
   ]
  },
  {
   "cell_type": "code",
   "execution_count": 126,
   "metadata": {
    "tags": [
     "108"
    ]
   },
   "outputs": [
    {
     "data": {
      "text/html": [
       "\n",
       "    \n",
       "    <script>\n",
       "    var bad_answers = new Map();\n",
       "\n",
       "    function answer(quiz_id) {\n",
       "        ans = 0;\n",
       "        for (i = 1;; i++) {\n",
       "            checkbox = document.getElementById(quiz_id + \"-\" + i.toString());\n",
       "            if (!checkbox)\n",
       "                break;\n",
       "            if (checkbox.checked)\n",
       "                ans |= (1 << i);\n",
       "        }\n",
       "        return ans;\n",
       "    }\n",
       "    function check_selection(quiz_id, correct_answer, multiple_choice, hint) {\n",
       "        given_answer = answer(quiz_id);\n",
       "        if (given_answer == correct_answer)\n",
       "        {\n",
       "            document.getElementById(quiz_id + \"-submit\").value = \"Correct!\";\n",
       "            document.getElementById(quiz_id + \"-hint\").innerHTML = \"\";\n",
       "\n",
       "            for (i = 1;; i++) {\n",
       "                checkbox = document.getElementById(quiz_id + \"-\" + i.toString());\n",
       "                label = document.getElementById(quiz_id + \"-\" + i.toString() + \"-label\")\n",
       "                if (!checkbox)\n",
       "                    break;\n",
       "\n",
       "                if (checkbox.checked) {\n",
       "                    label.style.fontWeight = \"bold\";\n",
       "                }\n",
       "                else {\n",
       "                    label.style.textDecoration = \"line-through\";\n",
       "                }\n",
       "            }\n",
       "        }\n",
       "        else \n",
       "        {\n",
       "            document.getElementById(quiz_id + \"-submit\").value = \"Try again\";\n",
       "\n",
       "            if (!bad_answers.has(quiz_id)) {\n",
       "                bad_answers.set(quiz_id, 1);\n",
       "            }\n",
       "            else {\n",
       "                bad_answers.set(quiz_id, bad_answers.get(quiz_id) + 1);\n",
       "            }\n",
       "\n",
       "            if (bad_answers.get(quiz_id) >= 2 && hint.length > 0) {\n",
       "                document.getElementById(quiz_id + \"-hint\").innerHTML = \n",
       "                    \"&nbsp;&nbsp;(Hint: <code>\" + hint + \"</code>)\";\n",
       "            }\n",
       "\n",
       "            if (!multiple_choice) {\n",
       "                for (i = 1;; i++) {\n",
       "                    checkbox = document.getElementById(quiz_id + \"-\" + i.toString());\n",
       "                    label = document.getElementById(quiz_id + \"-\" + i.toString() + \"-label\")\n",
       "\n",
       "                    if (!checkbox)\n",
       "                        break;\n",
       "                    if (checkbox.checked) {\n",
       "                        label.style.textDecoration = \"line-through\";\n",
       "                    }\n",
       "                }\n",
       "            }\n",
       "        }\n",
       "    }\n",
       "    function clear_selection(quiz_id) {\n",
       "        document.getElementById(quiz_id + \"-submit\").value = \"Submit\";\n",
       "        document.getElementById(quiz_id + \"-hint\").innerHTML = \"\";\n",
       "    }\n",
       "    </script>\n",
       "    \n",
       "    <div class=\"quiz\">\n",
       "    <h3 class=\"quiz_title\">Quiz</h3>\n",
       "    <p>\n",
       "    <div class=\"quiz_question\">From the difference between success and failure, we can already devise some observations about  what is wrong with the output. Which of these can we turn into general hypotheses?</div>\n",
       "    </p>\n",
       "    <p>\n",
       "    <div class=\"quiz_options\" title=\"Check all that apply.\">\n",
       "    \n",
       "        <input type=\"checkbox\" name=\"cd783d4b-047e-11f0-bbdf-8e7f246f068f\" id=\"cd783d4b-047e-11f0-bbdf-8e7f246f068f-1\" onclick=\"clear_selection('cd783d4b-047e-11f0-bbdf-8e7f246f068f')\">\n",
       "        <label id=\"cd783d4b-047e-11f0-bbdf-8e7f246f068f-1-label\" for=\"cd783d4b-047e-11f0-bbdf-8e7f246f068f-1\">Double quotes (<code>\"</code>) are stripped from the tagged input.</label><br>\n",
       "    \n",
       "        <input type=\"checkbox\" name=\"cd783d4b-047e-11f0-bbdf-8e7f246f068f\" id=\"cd783d4b-047e-11f0-bbdf-8e7f246f068f-2\" onclick=\"clear_selection('cd783d4b-047e-11f0-bbdf-8e7f246f068f')\">\n",
       "        <label id=\"cd783d4b-047e-11f0-bbdf-8e7f246f068f-2-label\" for=\"cd783d4b-047e-11f0-bbdf-8e7f246f068f-2\">Tags in double quotes are not stripped.</label><br>\n",
       "    \n",
       "        <input type=\"checkbox\" name=\"cd783d4b-047e-11f0-bbdf-8e7f246f068f\" id=\"cd783d4b-047e-11f0-bbdf-8e7f246f068f-3\" onclick=\"clear_selection('cd783d4b-047e-11f0-bbdf-8e7f246f068f')\">\n",
       "        <label id=\"cd783d4b-047e-11f0-bbdf-8e7f246f068f-3-label\" for=\"cd783d4b-047e-11f0-bbdf-8e7f246f068f-3\">The tag <code>&lt;&gt;</code> is always stripped from the input.</label><br>\n",
       "    \n",
       "        <input type=\"checkbox\" name=\"cd783d4b-047e-11f0-bbdf-8e7f246f068f\" id=\"cd783d4b-047e-11f0-bbdf-8e7f246f068f-4\" onclick=\"clear_selection('cd783d4b-047e-11f0-bbdf-8e7f246f068f')\">\n",
       "        <label id=\"cd783d4b-047e-11f0-bbdf-8e7f246f068f-4-label\" for=\"cd783d4b-047e-11f0-bbdf-8e7f246f068f-4\">Four-letter words are stripped.</label><br>\n",
       "    \n",
       "    </div>\n",
       "    </p>\n",
       "    <input id=\"cd783d4b-047e-11f0-bbdf-8e7f246f068f-submit\" type=\"submit\" value=\"Submit\" onclick=\"check_selection('cd783d4b-047e-11f0-bbdf-8e7f246f068f', 6, 1, '[298 % 33, 1234 % 616]')\">\n",
       "    <span class=\"quiz_hint\" id=\"cd783d4b-047e-11f0-bbdf-8e7f246f068f-hint\"></span>\n",
       "    </div>\n",
       "    "
      ],
      "text/plain": [
       "<IPython.core.display.HTML object>"
      ]
     },
     "execution_count": 126,
     "metadata": {},
     "output_type": "execute_result"
    }
   ],
   "source": [
    "quiz(\"From the difference between success and failure,\"\n",
    "     \" we can already devise some observations about \"\n",
    "     \" what is wrong with the output.\"\n",
    "     \" Which of these can we turn into general hypotheses?\",\n",
    "    [\n",
    "        \"Double quotes (`\\\"`) are stripped from the tagged input.\",\n",
    "        \"Tags in double quotes are not stripped.\",\n",
    "        \"The tag `<>` is always stripped from the input.\",\n",
    "        \"Four-letter words are stripped.\"\n",
    "    ], '[298 % 33, 1234 % 616]')"
   ]
  },
  {
   "cell_type": "markdown",
   "metadata": {
    "tags": [
     "109"
    ]
   },
   "source": [
    "### Testing a Hypothesis\n",
    "\n",
    "The hypotheses that remain are:\n",
    "\n",
    "1. Double quotes are stripped from the tagged input.\n",
    "2. Tags in double quotes are not stripped."
   ]
  },
  {
   "cell_type": "markdown",
   "metadata": {
    "tags": [
     "110"
    ]
   },
   "source": [
    "These may be two separate issues, but chances are they are tied to each other.  Let's focus on 1., because it is simpler.  Does it hold for all inputs, even untagged ones?  Our hypothesis becomes\n",
    "\n",
    "1. Double quotes are stripped from the ~~tagged~~ input."
   ]
  },
  {
   "cell_type": "markdown",
   "metadata": {
    "tags": [
     "111"
    ]
   },
   "source": [
    "Let's devise an experiment to validate this.  If we feed the string\n",
    "```html\n",
    "\"foo\"\n",
    "```\n",
    "(including the double quotes) into `remove_html_markup()`, we should obtain\n",
    "```html\n",
    "\"foo\"\n",
    "```\n",
    "as result – that is, the output should be the unchanged input. However, if our hypothesis 1. is correct, we should obtain\n",
    "```html\n",
    "foo\n",
    "```\n",
    "as result – that is, \"Double quotes are stripped from the input\" as predicted by the hypothesis."
   ]
  },
  {
   "cell_type": "markdown",
   "metadata": {
    "tags": [
     "112"
    ]
   },
   "source": [
    "We can very easily test this hypothesis:"
   ]
  },
  {
   "cell_type": "code",
   "execution_count": 127,
   "metadata": {
    "tags": [
     "113"
    ]
   },
   "outputs": [
    {
     "data": {
      "text/plain": [
       "'foo'"
      ]
     },
     "execution_count": 127,
     "metadata": {},
     "output_type": "execute_result"
    }
   ],
   "source": [
    "remove_html_markup('\"foo\"')"
   ]
  },
  {
   "cell_type": "markdown",
   "metadata": {
    "tags": [
     "114"
    ]
   },
   "source": [
    "Our hypothesis is confirmed! We can add this to our list of observations."
   ]
  },
  {
   "cell_type": "markdown",
   "metadata": {
    "tags": [
     "115"
    ]
   },
   "source": [
    "|Input|Expectation|Output|Outcome|\n",
    "|-----|-----------|------|-------|\n",
    "|`<b>foo</b>`|`foo`|`foo`|✔|\n",
    "|`<b>\"foo\"</b>`|`\"foo\"`|`foo`|✘|\n",
    "|`\"<b>foo</b>\"`|`\"foo\"`|`<b>foo</b>`|✘|\n",
    "|`<b id=\"bar\">foo</b>`|`foo`|`foo`|✔|\n",
    "|`\"foo\"`|`\"foo\"`|`foo`|✘|\n"
   ]
  },
  {
   "cell_type": "markdown",
   "metadata": {
    "tags": [
     "116"
    ]
   },
   "source": [
    "You can try out the hypothesis with more inputs – and it remains valid. Any non-markup input that contains double quotes will have these stripped."
   ]
  },
  {
   "cell_type": "markdown",
   "metadata": {
    "tags": [
     "117"
    ]
   },
   "source": [
    "Where does that quote-stripping come from?  This is where we need to explore the cause-effect chain.  The only place in `remove_html_markup()` where quotes are handled is this line:\n",
    "\n",
    "```python\n",
    "elif c == '\"' or c == \"'\" and tag:\n",
    "    quote = not quote\n",
    "```\n",
    "\n",
    "So, quotes should be removed only if `tag` is set. However, `tag` can be set only if the input contains a markup tag, which is not the case for a simple input like `\"foo\"`. Hence, what we observe is actually _impossible._ Yet, it happens."
   ]
  },
  {
   "cell_type": "markdown",
   "metadata": {
    "tags": [
     "118"
    ]
   },
   "source": [
    "### Refining a Hypothesis\n",
    "\n",
    "Debugging is a game of falsifying assumptions. You assume the code works – it doesn't. You assume the `tag` flag cannot be set – yet it may be. What do we do? Again, we create a hypothesis:\n",
    "\n",
    "1. The error is due to `tag` being set."
   ]
  },
  {
   "cell_type": "markdown",
   "metadata": {
    "tags": [
     "119"
    ]
   },
   "source": [
    "How do we know whether tag is being set?  Let me introduce one of the most powerful debugging tools ever invented, the `assert` statement.  The statement\n",
    "```python\n",
    "assert cond\n",
    "```\n",
    "evaluates the given condition `cond` and\n",
    "\n",
    "* if it holds: proceed as usual\n",
    "* if `cond` does not hold: throw an exception\n",
    "\n",
    "An `assert` statement _encodes our assumptions_ and as such, should never fail. If it does, well, then something is wrong.\n",
    "Furthermore, `assert` statements break the cause-effect chain into smaller pieces. The observable failure occurs earlier in\n",
    "the program execution and thus closer to the initial fault."
   ]
  },
  {
   "cell_type": "markdown",
   "metadata": {
    "tags": [
     "120"
    ]
   },
   "source": [
    "Using `assert`, we can check the value of `tag` all through the loop:"
   ]
  },
  {
   "cell_type": "code",
   "execution_count": 128,
   "metadata": {
    "tags": [
     "121"
    ]
   },
   "outputs": [],
   "source": [
    "def remove_html_markup_with_tag_assert(s):  # type: ignore\n",
    "    tag = False\n",
    "    quote = False\n",
    "    out = \"\"\n",
    "\n",
    "    for c in s:\n",
    "        assert not tag  # <=== Just added\n",
    "\n",
    "        if c == '<' and not quote:\n",
    "            tag = True\n",
    "        elif c == '>' and not quote:\n",
    "            tag = False\n",
    "        elif c == '\"' or c == \"'\" and tag:\n",
    "            quote = not quote\n",
    "        elif not tag:\n",
    "            out = out + c\n",
    "\n",
    "    return out"
   ]
  },
  {
   "cell_type": "markdown",
   "metadata": {
    "tags": [
     "122"
    ]
   },
   "source": [
    "Our expectation is that this assertion would fail. So, do we actually get an exception? Try it out for yourself by uncommenting the following line:"
   ]
  },
  {
   "cell_type": "code",
   "execution_count": 153,
   "metadata": {
    "tags": [
     "123"
    ]
   },
   "outputs": [
    {
     "data": {
      "text/plain": [
       "'foo'"
      ]
     },
     "execution_count": 153,
     "metadata": {},
     "output_type": "execute_result"
    }
   ],
   "source": [
    "remove_html_markup_with_tag_assert('\"foo\"')"
   ]
  },
  {
   "cell_type": "code",
   "execution_count": 130,
   "metadata": {
    "tags": [
     "124"
    ]
   },
   "outputs": [
    {
     "data": {
      "text/html": [
       "\n",
       "    \n",
       "    <script>\n",
       "    var bad_answers = new Map();\n",
       "\n",
       "    function answer(quiz_id) {\n",
       "        ans = 0;\n",
       "        for (i = 1;; i++) {\n",
       "            checkbox = document.getElementById(quiz_id + \"-\" + i.toString());\n",
       "            if (!checkbox)\n",
       "                break;\n",
       "            if (checkbox.checked)\n",
       "                ans |= (1 << i);\n",
       "        }\n",
       "        return ans;\n",
       "    }\n",
       "    function check_selection(quiz_id, correct_answer, multiple_choice, hint) {\n",
       "        given_answer = answer(quiz_id);\n",
       "        if (given_answer == correct_answer)\n",
       "        {\n",
       "            document.getElementById(quiz_id + \"-submit\").value = \"Correct!\";\n",
       "            document.getElementById(quiz_id + \"-hint\").innerHTML = \"\";\n",
       "\n",
       "            for (i = 1;; i++) {\n",
       "                checkbox = document.getElementById(quiz_id + \"-\" + i.toString());\n",
       "                label = document.getElementById(quiz_id + \"-\" + i.toString() + \"-label\")\n",
       "                if (!checkbox)\n",
       "                    break;\n",
       "\n",
       "                if (checkbox.checked) {\n",
       "                    label.style.fontWeight = \"bold\";\n",
       "                }\n",
       "                else {\n",
       "                    label.style.textDecoration = \"line-through\";\n",
       "                }\n",
       "            }\n",
       "        }\n",
       "        else \n",
       "        {\n",
       "            document.getElementById(quiz_id + \"-submit\").value = \"Try again\";\n",
       "\n",
       "            if (!bad_answers.has(quiz_id)) {\n",
       "                bad_answers.set(quiz_id, 1);\n",
       "            }\n",
       "            else {\n",
       "                bad_answers.set(quiz_id, bad_answers.get(quiz_id) + 1);\n",
       "            }\n",
       "\n",
       "            if (bad_answers.get(quiz_id) >= 2 && hint.length > 0) {\n",
       "                document.getElementById(quiz_id + \"-hint\").innerHTML = \n",
       "                    \"&nbsp;&nbsp;(Hint: <code>\" + hint + \"</code>)\";\n",
       "            }\n",
       "\n",
       "            if (!multiple_choice) {\n",
       "                for (i = 1;; i++) {\n",
       "                    checkbox = document.getElementById(quiz_id + \"-\" + i.toString());\n",
       "                    label = document.getElementById(quiz_id + \"-\" + i.toString() + \"-label\")\n",
       "\n",
       "                    if (!checkbox)\n",
       "                        break;\n",
       "                    if (checkbox.checked) {\n",
       "                        label.style.textDecoration = \"line-through\";\n",
       "                    }\n",
       "                }\n",
       "            }\n",
       "        }\n",
       "    }\n",
       "    function clear_selection(quiz_id) {\n",
       "        document.getElementById(quiz_id + \"-submit\").value = \"Submit\";\n",
       "        document.getElementById(quiz_id + \"-hint\").innerHTML = \"\";\n",
       "    }\n",
       "    </script>\n",
       "    \n",
       "    <div class=\"quiz\">\n",
       "    <h3 class=\"quiz_title\">Quiz</h3>\n",
       "    <p>\n",
       "    <div class=\"quiz_question\">What happens after inserting the above assertion?</div>\n",
       "    </p>\n",
       "    <p>\n",
       "    <div class=\"quiz_options\" title=\"Pick a choice.\">\n",
       "    \n",
       "        <input type=\"radio\" name=\"cd7f6c8f-047e-11f0-afb6-8e7f246f068f\" id=\"cd7f6c8f-047e-11f0-afb6-8e7f246f068f-1\" onclick=\"clear_selection('cd7f6c8f-047e-11f0-afb6-8e7f246f068f')\">\n",
       "        <label id=\"cd7f6c8f-047e-11f0-afb6-8e7f246f068f-1-label\" for=\"cd7f6c8f-047e-11f0-afb6-8e7f246f068f-1\">The program raises an exception. (i.e., <code>tag</code> is set)</label><br>\n",
       "    \n",
       "        <input type=\"radio\" name=\"cd7f6c8f-047e-11f0-afb6-8e7f246f068f\" id=\"cd7f6c8f-047e-11f0-afb6-8e7f246f068f-2\" onclick=\"clear_selection('cd7f6c8f-047e-11f0-afb6-8e7f246f068f')\">\n",
       "        <label id=\"cd7f6c8f-047e-11f0-afb6-8e7f246f068f-2-label\" for=\"cd7f6c8f-047e-11f0-afb6-8e7f246f068f-2\">The output is as before, i.e., <code>foo</code> without quotes. (which means that <code>tag</code> is not set)</label><br>\n",
       "    \n",
       "    </div>\n",
       "    </p>\n",
       "    <input id=\"cd7f6c8f-047e-11f0-afb6-8e7f246f068f-submit\" type=\"submit\" value=\"Submit\" onclick=\"check_selection('cd7f6c8f-047e-11f0-afb6-8e7f246f068f', 4, 0, '')\">\n",
       "    <span class=\"quiz_hint\" id=\"cd7f6c8f-047e-11f0-afb6-8e7f246f068f-hint\"></span>\n",
       "    </div>\n",
       "    "
      ],
      "text/plain": [
       "<IPython.core.display.HTML object>"
      ]
     },
     "execution_count": 130,
     "metadata": {},
     "output_type": "execute_result"
    }
   ],
   "source": [
    "quiz(\"What happens after inserting the above assertion?\",\n",
    "    [\n",
    "        \"The program raises an exception. (i.e., `tag` is set)\",\n",
    "        \"The output is as before, i.e., `foo` without quotes.\"\n",
    "        \" (which means that `tag` is not set)\"\n",
    "    ], 2)"
   ]
  },
  {
   "cell_type": "markdown",
   "metadata": {
    "tags": [
     "125"
    ]
   },
   "source": [
    "Here's the solution:"
   ]
  },
  {
   "cell_type": "code",
   "execution_count": 131,
   "metadata": {
    "tags": [
     "126"
    ]
   },
   "outputs": [
    {
     "data": {
      "text/plain": [
       "'foo'"
      ]
     },
     "execution_count": 131,
     "metadata": {},
     "output_type": "execute_result"
    }
   ],
   "source": [
    "with ExpectError():\n",
    "    result = remove_html_markup_with_tag_assert('\"foo\"')\n",
    "result"
   ]
  },
  {
   "cell_type": "markdown",
   "metadata": {
    "tags": [
     "127"
    ]
   },
   "source": [
    "### Refuting a Hypothesis\n",
    "\n",
    "We did not get an exception, hence we reject our hypothesis:\n",
    "\n",
    "1. ~~The error is due to `tag` being set.~~\n"
   ]
  },
  {
   "cell_type": "markdown",
   "metadata": {
    "tags": [
     "128"
    ]
   },
   "source": [
    "Again, let's go back to the only place in our code where quotes are handled:\n",
    "\n",
    "```python\n",
    "elif c == '\"' or c == \"'\" and tag:\n",
    "    quote = not quote\n",
    "```\n",
    "\n",
    "Because of the assertion, we already know that `tag` is always False.  Hence, this condition should never hold either."
   ]
  },
  {
   "cell_type": "markdown",
   "metadata": {
    "tags": [
     "129"
    ]
   },
   "source": [
    "But maybe there's something wrong with the condition such that it holds? Here's our hypothesis:\n",
    "\n",
    "1. The error is due to the quote condition evaluating to true\n"
   ]
  },
  {
   "cell_type": "markdown",
   "metadata": {
    "tags": [
     "130"
    ]
   },
   "source": [
    "If the condition evaluates to true, then `quote` should be set.  We could now go and assert that `quote` is false; but we only care about the condition.  So we insert an assertion that assumes that setting the code setting the `quote` flag is never reached:"
   ]
  },
  {
   "cell_type": "code",
   "execution_count": 132,
   "metadata": {
    "tags": [
     "131"
    ]
   },
   "outputs": [],
   "source": [
    "def remove_html_markup_with_quote_assert(s):  # type: ignore\n",
    "    tag = False\n",
    "    quote = False\n",
    "    out = \"\"\n",
    "\n",
    "    for c in s:\n",
    "        if c == '<' and not quote:\n",
    "            tag = True\n",
    "        elif c == '>' and not quote:\n",
    "            tag = False\n",
    "        elif c == '\"' or c == \"'\" and tag:\n",
    "            assert False  # <=== Just added\n",
    "            quote = not quote\n",
    "        elif not tag:\n",
    "            out = out + c\n",
    "\n",
    "    return out"
   ]
  },
  {
   "cell_type": "markdown",
   "metadata": {
    "tags": [
     "132"
    ]
   },
   "source": [
    "Our expectation this time again is that the assertion fails. So, do we get an exception this time? Try it out for yourself by uncommenting the following line:"
   ]
  },
  {
   "cell_type": "code",
   "execution_count": 154,
   "metadata": {
    "tags": [
     "133"
    ]
   },
   "outputs": [
    {
     "ename": "AssertionError",
     "evalue": "",
     "output_type": "error",
     "traceback": [
      "\u001b[31m---------------------------------------------------------------------------\u001b[39m",
      "\u001b[31mAssertionError\u001b[39m                            Traceback (most recent call last)",
      "\u001b[36mCell\u001b[39m\u001b[36m \u001b[39m\u001b[32mIn[154]\u001b[39m\u001b[32m, line 1\u001b[39m\n\u001b[32m----> \u001b[39m\u001b[32m1\u001b[39m \u001b[43mremove_html_markup_with_quote_assert\u001b[49m\u001b[43m(\u001b[49m\u001b[33;43m'\u001b[39;49m\u001b[33;43m\"\u001b[39;49m\u001b[33;43mfoo\u001b[39;49m\u001b[33;43m\"\u001b[39;49m\u001b[33;43m'\u001b[39;49m\u001b[43m)\u001b[49m\n",
      "\u001b[36mCell\u001b[39m\u001b[36m \u001b[39m\u001b[32mIn[132]\u001b[39m\u001b[32m, line 12\u001b[39m, in \u001b[36mremove_html_markup_with_quote_assert\u001b[39m\u001b[34m(s)\u001b[39m\n\u001b[32m     10\u001b[39m     tag = \u001b[38;5;28;01mFalse\u001b[39;00m\n\u001b[32m     11\u001b[39m \u001b[38;5;28;01melif\u001b[39;00m c == \u001b[33m'\u001b[39m\u001b[33m\"\u001b[39m\u001b[33m'\u001b[39m \u001b[38;5;129;01mor\u001b[39;00m c == \u001b[33m\"\u001b[39m\u001b[33m'\u001b[39m\u001b[33m\"\u001b[39m \u001b[38;5;129;01mand\u001b[39;00m tag:\n\u001b[32m---> \u001b[39m\u001b[32m12\u001b[39m     \u001b[38;5;28;01massert\u001b[39;00m \u001b[38;5;28;01mFalse\u001b[39;00m  \u001b[38;5;66;03m# <=== Just added\u001b[39;00m\n\u001b[32m     13\u001b[39m     quote = \u001b[38;5;129;01mnot\u001b[39;00m quote\n\u001b[32m     14\u001b[39m \u001b[38;5;28;01melif\u001b[39;00m \u001b[38;5;129;01mnot\u001b[39;00m tag:\n",
      "\u001b[31mAssertionError\u001b[39m: "
     ]
    }
   ],
   "source": [
    "remove_html_markup_with_quote_assert('\"foo\"')"
   ]
  },
  {
   "cell_type": "code",
   "execution_count": 134,
   "metadata": {
    "tags": [
     "134"
    ]
   },
   "outputs": [
    {
     "data": {
      "text/html": [
       "\n",
       "    \n",
       "    <script>\n",
       "    var bad_answers = new Map();\n",
       "\n",
       "    function answer(quiz_id) {\n",
       "        ans = 0;\n",
       "        for (i = 1;; i++) {\n",
       "            checkbox = document.getElementById(quiz_id + \"-\" + i.toString());\n",
       "            if (!checkbox)\n",
       "                break;\n",
       "            if (checkbox.checked)\n",
       "                ans |= (1 << i);\n",
       "        }\n",
       "        return ans;\n",
       "    }\n",
       "    function check_selection(quiz_id, correct_answer, multiple_choice, hint) {\n",
       "        given_answer = answer(quiz_id);\n",
       "        if (given_answer == correct_answer)\n",
       "        {\n",
       "            document.getElementById(quiz_id + \"-submit\").value = \"Correct!\";\n",
       "            document.getElementById(quiz_id + \"-hint\").innerHTML = \"\";\n",
       "\n",
       "            for (i = 1;; i++) {\n",
       "                checkbox = document.getElementById(quiz_id + \"-\" + i.toString());\n",
       "                label = document.getElementById(quiz_id + \"-\" + i.toString() + \"-label\")\n",
       "                if (!checkbox)\n",
       "                    break;\n",
       "\n",
       "                if (checkbox.checked) {\n",
       "                    label.style.fontWeight = \"bold\";\n",
       "                }\n",
       "                else {\n",
       "                    label.style.textDecoration = \"line-through\";\n",
       "                }\n",
       "            }\n",
       "        }\n",
       "        else \n",
       "        {\n",
       "            document.getElementById(quiz_id + \"-submit\").value = \"Try again\";\n",
       "\n",
       "            if (!bad_answers.has(quiz_id)) {\n",
       "                bad_answers.set(quiz_id, 1);\n",
       "            }\n",
       "            else {\n",
       "                bad_answers.set(quiz_id, bad_answers.get(quiz_id) + 1);\n",
       "            }\n",
       "\n",
       "            if (bad_answers.get(quiz_id) >= 2 && hint.length > 0) {\n",
       "                document.getElementById(quiz_id + \"-hint\").innerHTML = \n",
       "                    \"&nbsp;&nbsp;(Hint: <code>\" + hint + \"</code>)\";\n",
       "            }\n",
       "\n",
       "            if (!multiple_choice) {\n",
       "                for (i = 1;; i++) {\n",
       "                    checkbox = document.getElementById(quiz_id + \"-\" + i.toString());\n",
       "                    label = document.getElementById(quiz_id + \"-\" + i.toString() + \"-label\")\n",
       "\n",
       "                    if (!checkbox)\n",
       "                        break;\n",
       "                    if (checkbox.checked) {\n",
       "                        label.style.textDecoration = \"line-through\";\n",
       "                    }\n",
       "                }\n",
       "            }\n",
       "        }\n",
       "    }\n",
       "    function clear_selection(quiz_id) {\n",
       "        document.getElementById(quiz_id + \"-submit\").value = \"Submit\";\n",
       "        document.getElementById(quiz_id + \"-hint\").innerHTML = \"\";\n",
       "    }\n",
       "    </script>\n",
       "    \n",
       "    <div class=\"quiz\">\n",
       "    <h3 class=\"quiz_title\">Quiz</h3>\n",
       "    <p>\n",
       "    <div class=\"quiz_question\">What happens after inserting the 'assert' tag?</div>\n",
       "    </p>\n",
       "    <p>\n",
       "    <div class=\"quiz_options\" title=\"Pick a choice.\">\n",
       "    \n",
       "        <input type=\"radio\" name=\"cd8514c1-047e-11f0-acf8-8e7f246f068f\" id=\"cd8514c1-047e-11f0-acf8-8e7f246f068f-1\" onclick=\"clear_selection('cd8514c1-047e-11f0-acf8-8e7f246f068f')\">\n",
       "        <label id=\"cd8514c1-047e-11f0-acf8-8e7f246f068f-1-label\" for=\"cd8514c1-047e-11f0-acf8-8e7f246f068f-1\">The program raises an exception (i.e., the quote condition holds)</label><br>\n",
       "    \n",
       "        <input type=\"radio\" name=\"cd8514c1-047e-11f0-acf8-8e7f246f068f\" id=\"cd8514c1-047e-11f0-acf8-8e7f246f068f-2\" onclick=\"clear_selection('cd8514c1-047e-11f0-acf8-8e7f246f068f')\">\n",
       "        <label id=\"cd8514c1-047e-11f0-acf8-8e7f246f068f-2-label\" for=\"cd8514c1-047e-11f0-acf8-8e7f246f068f-2\">The output is still foo (i.e., the quote condition does not hold)</label><br>\n",
       "    \n",
       "    </div>\n",
       "    </p>\n",
       "    <input id=\"cd8514c1-047e-11f0-acf8-8e7f246f068f-submit\" type=\"submit\" value=\"Submit\" onclick=\"check_selection('cd8514c1-047e-11f0-acf8-8e7f246f068f', 2, 0, '')\">\n",
       "    <span class=\"quiz_hint\" id=\"cd8514c1-047e-11f0-acf8-8e7f246f068f-hint\"></span>\n",
       "    </div>\n",
       "    "
      ],
      "text/plain": [
       "<IPython.core.display.HTML object>"
      ]
     },
     "execution_count": 134,
     "metadata": {},
     "output_type": "execute_result"
    }
   ],
   "source": [
    "quiz(\"What happens after inserting the 'assert' tag?\",\n",
    "    [\n",
    "        \"The program raises an exception (i.e., the quote condition holds)\",\n",
    "        \"The output is still foo (i.e., the quote condition does not hold)\"\n",
    "    ], 29 % 7)"
   ]
  },
  {
   "cell_type": "markdown",
   "metadata": {
    "tags": [
     "135"
    ]
   },
   "source": [
    "Here's what happens now that we have the `assert` tag:"
   ]
  },
  {
   "cell_type": "code",
   "execution_count": 135,
   "metadata": {
    "tags": [
     "136"
    ]
   },
   "outputs": [
    {
     "name": "stderr",
     "output_type": "stream",
     "text": [
      "Traceback (most recent call last):\n",
      "  File \"/tmp/ipykernel_58800/904218512.py\", line 2, in <module>\n",
      "    result = remove_html_markup_with_quote_assert('\"foo\"')\n",
      "             ^^^^^^^^^^^^^^^^^^^^^^^^^^^^^^^^^^^^^^^^^^^^^\n",
      "  File \"/tmp/ipykernel_58800/2877654332.py\", line 12, in remove_html_markup_with_quote_assert\n",
      "    assert False  # <=== Just added\n",
      "           ^^^^^\n",
      "AssertionError (expected)\n"
     ]
    }
   ],
   "source": [
    "with ExpectError():\n",
    "    result = remove_html_markup_with_quote_assert('\"foo\"')"
   ]
  },
  {
   "cell_type": "markdown",
   "metadata": {
    "tags": [
     "137"
    ]
   },
   "source": [
    "From this observation, we can deduce that our hypothesis is _confirmed_:\n",
    "\n",
    "1. The error is due to the quote condition evaluating to true (CONFIRMED)\n",
    "\n",
    "and the _condition is actually faulty._ It evaluates to True although `tag` is always False:\n",
    "```python\n",
    "elif c == '\"' or c == \"'\" and tag:\n",
    "    quote = not quote\n",
    "```\n",
    "But this condition holds for single and double quotes.  Is there a difference?"
   ]
  },
  {
   "cell_type": "markdown",
   "metadata": {
    "tags": [
     "138"
    ]
   },
   "source": [
    "Let us see whether our observations generalize towards general quotes:\n",
    "\n",
    "1. ~~Double~~ quotes are stripped from the input.\n"
   ]
  },
  {
   "cell_type": "markdown",
   "metadata": {
    "tags": [
     "139"
    ]
   },
   "source": [
    "We can verify these hypotheses with an additional experiment.  We go back to our original implementation (without any asserts), and then check it:"
   ]
  },
  {
   "cell_type": "code",
   "execution_count": 136,
   "metadata": {
    "tags": [
     "140"
    ]
   },
   "outputs": [
    {
     "data": {
      "text/plain": [
       "\"'foo'\""
      ]
     },
     "execution_count": 136,
     "metadata": {},
     "output_type": "execute_result"
    }
   ],
   "source": [
    "remove_html_markup(\"'foo'\")"
   ]
  },
  {
   "cell_type": "markdown",
   "metadata": {
    "tags": [
     "141"
    ]
   },
   "source": [
    "Surprise: Our hypothesis is rejected and we can add another observation to our table:\n",
    "\n",
    "|Input|Expectation|Output|Outcome|\n",
    "|-----|-----------|------|-------|\n",
    "|`'foo'`|`'foo'`|`'foo'`|✔|\n",
    "\n",
    "So, the condition\n",
    "\n",
    "* becomes True when a double quote is seen\n",
    "* becomes False (as it should) with single quotes"
   ]
  },
  {
   "cell_type": "markdown",
   "metadata": {
    "tags": [
     "142"
    ]
   },
   "source": [
    "At this point, you should have enough material to solve the problem.  How do we have to fix the condition? Here are four alternatives:\n",
    "\n",
    "```python\n",
    "c == \"\" or c == '' and tag        # Choice 1\n",
    "c == '\"' or c == \"'\" and not tag  # Choice 2\n",
    "(c == '\"' or c == \"'\") and tag    # Choice 3\n",
    "...                               # Something else\n",
    "```"
   ]
  },
  {
   "cell_type": "code",
   "execution_count": 137,
   "metadata": {
    "tags": [
     "143"
    ]
   },
   "outputs": [
    {
     "data": {
      "text/html": [
       "\n",
       "    \n",
       "    <script>\n",
       "    var bad_answers = new Map();\n",
       "\n",
       "    function answer(quiz_id) {\n",
       "        ans = 0;\n",
       "        for (i = 1;; i++) {\n",
       "            checkbox = document.getElementById(quiz_id + \"-\" + i.toString());\n",
       "            if (!checkbox)\n",
       "                break;\n",
       "            if (checkbox.checked)\n",
       "                ans |= (1 << i);\n",
       "        }\n",
       "        return ans;\n",
       "    }\n",
       "    function check_selection(quiz_id, correct_answer, multiple_choice, hint) {\n",
       "        given_answer = answer(quiz_id);\n",
       "        if (given_answer == correct_answer)\n",
       "        {\n",
       "            document.getElementById(quiz_id + \"-submit\").value = \"Correct!\";\n",
       "            document.getElementById(quiz_id + \"-hint\").innerHTML = \"\";\n",
       "\n",
       "            for (i = 1;; i++) {\n",
       "                checkbox = document.getElementById(quiz_id + \"-\" + i.toString());\n",
       "                label = document.getElementById(quiz_id + \"-\" + i.toString() + \"-label\")\n",
       "                if (!checkbox)\n",
       "                    break;\n",
       "\n",
       "                if (checkbox.checked) {\n",
       "                    label.style.fontWeight = \"bold\";\n",
       "                }\n",
       "                else {\n",
       "                    label.style.textDecoration = \"line-through\";\n",
       "                }\n",
       "            }\n",
       "        }\n",
       "        else \n",
       "        {\n",
       "            document.getElementById(quiz_id + \"-submit\").value = \"Try again\";\n",
       "\n",
       "            if (!bad_answers.has(quiz_id)) {\n",
       "                bad_answers.set(quiz_id, 1);\n",
       "            }\n",
       "            else {\n",
       "                bad_answers.set(quiz_id, bad_answers.get(quiz_id) + 1);\n",
       "            }\n",
       "\n",
       "            if (bad_answers.get(quiz_id) >= 2 && hint.length > 0) {\n",
       "                document.getElementById(quiz_id + \"-hint\").innerHTML = \n",
       "                    \"&nbsp;&nbsp;(Hint: <code>\" + hint + \"</code>)\";\n",
       "            }\n",
       "\n",
       "            if (!multiple_choice) {\n",
       "                for (i = 1;; i++) {\n",
       "                    checkbox = document.getElementById(quiz_id + \"-\" + i.toString());\n",
       "                    label = document.getElementById(quiz_id + \"-\" + i.toString() + \"-label\")\n",
       "\n",
       "                    if (!checkbox)\n",
       "                        break;\n",
       "                    if (checkbox.checked) {\n",
       "                        label.style.textDecoration = \"line-through\";\n",
       "                    }\n",
       "                }\n",
       "            }\n",
       "        }\n",
       "    }\n",
       "    function clear_selection(quiz_id) {\n",
       "        document.getElementById(quiz_id + \"-submit\").value = \"Submit\";\n",
       "        document.getElementById(quiz_id + \"-hint\").innerHTML = \"\";\n",
       "    }\n",
       "    </script>\n",
       "    \n",
       "    <div class=\"quiz\">\n",
       "    <h3 class=\"quiz_title\">Quiz</h3>\n",
       "    <p>\n",
       "    <div class=\"quiz_question\">How should the condition read?</div>\n",
       "    </p>\n",
       "    <p>\n",
       "    <div class=\"quiz_options\" title=\"Pick a choice.\">\n",
       "    \n",
       "        <input type=\"radio\" name=\"cd893562-047e-11f0-a82b-8e7f246f068f\" id=\"cd893562-047e-11f0-a82b-8e7f246f068f-1\" onclick=\"clear_selection('cd893562-047e-11f0-a82b-8e7f246f068f')\">\n",
       "        <label id=\"cd893562-047e-11f0-a82b-8e7f246f068f-1-label\" for=\"cd893562-047e-11f0-a82b-8e7f246f068f-1\"><code>c == \"\" or c == '' and tag</code> (Choice 1)</label><br>\n",
       "    \n",
       "        <input type=\"radio\" name=\"cd893562-047e-11f0-a82b-8e7f246f068f\" id=\"cd893562-047e-11f0-a82b-8e7f246f068f-2\" onclick=\"clear_selection('cd893562-047e-11f0-a82b-8e7f246f068f')\">\n",
       "        <label id=\"cd893562-047e-11f0-a82b-8e7f246f068f-2-label\" for=\"cd893562-047e-11f0-a82b-8e7f246f068f-2\"><code>c == '\"' or c == \"'\" and not tag</code> (Choice 2)</label><br>\n",
       "    \n",
       "        <input type=\"radio\" name=\"cd893562-047e-11f0-a82b-8e7f246f068f\" id=\"cd893562-047e-11f0-a82b-8e7f246f068f-3\" onclick=\"clear_selection('cd893562-047e-11f0-a82b-8e7f246f068f')\">\n",
       "        <label id=\"cd893562-047e-11f0-a82b-8e7f246f068f-3-label\" for=\"cd893562-047e-11f0-a82b-8e7f246f068f-3\"><code>(c == '\"' or c == \"'\") and tag</code> (Choice 3)</label><br>\n",
       "    \n",
       "        <input type=\"radio\" name=\"cd893562-047e-11f0-a82b-8e7f246f068f\" id=\"cd893562-047e-11f0-a82b-8e7f246f068f-4\" onclick=\"clear_selection('cd893562-047e-11f0-a82b-8e7f246f068f')\">\n",
       "        <label id=\"cd893562-047e-11f0-a82b-8e7f246f068f-4-label\" for=\"cd893562-047e-11f0-a82b-8e7f246f068f-4\">Something else</label><br>\n",
       "    \n",
       "    </div>\n",
       "    </p>\n",
       "    <input id=\"cd893562-047e-11f0-a82b-8e7f246f068f-submit\" type=\"submit\" value=\"Submit\" onclick=\"check_selection('cd893562-047e-11f0-a82b-8e7f246f068f', 8, 0, '399 % 4')\">\n",
       "    <span class=\"quiz_hint\" id=\"cd893562-047e-11f0-a82b-8e7f246f068f-hint\"></span>\n",
       "    </div>\n",
       "    "
      ],
      "text/plain": [
       "<IPython.core.display.HTML object>"
      ]
     },
     "execution_count": 137,
     "metadata": {},
     "output_type": "execute_result"
    }
   ],
   "source": [
    "quiz(\"How should the condition read?\",\n",
    "     [\n",
    "         '''`c == \"\" or c == '' and tag` (Choice 1)''',\n",
    "         '''`c == '\"' or c == \"'\" and not tag` (Choice 2)''',\n",
    "         '''`(c == '\"' or c == \"'\") and tag` (Choice 3)''',\n",
    "         \"Something else\"\n",
    "     ],\n",
    "     '399 % 4')"
   ]
  },
  {
   "cell_type": "markdown",
   "metadata": {
    "tags": [
     "144"
    ]
   },
   "source": [
    "## Fixing the Bug"
   ]
  },
  {
   "cell_type": "markdown",
   "metadata": {
    "tags": [
     "145"
    ]
   },
   "source": [
    "So, you have spotted the defect: In Python (and most other languages), `and` takes precedence over `or`, which is why the condition is wrong.  It should read:\n",
    "\n",
    "```python\n",
    "(c == '\"' or c == \"'\") and tag\n",
    "```\n",
    "\n",
    "(Actually, good programmers rarely depend on precedence; it is considered good style to use parentheses lavishly.)"
   ]
  },
  {
   "cell_type": "markdown",
   "metadata": {
    "tags": [
     "146"
    ]
   },
   "source": [
    "So, our hypothesis now has become\n",
    "\n",
    "1. The error is due to the `quote` condition evaluating to True\n"
   ]
  },
  {
   "cell_type": "markdown",
   "metadata": {
    "tags": [
     "147"
    ]
   },
   "source": [
    "Is this our final hypothesis?  We can check our earlier examples whether they should now work well:\n",
    "\n",
    "\n",
    "|Input|Expectation|Output|Outcome|\n",
    "|-----|-----------|------|-------|\n",
    "|`<b>foo</b>`|`foo`|`foo`|✔|\n",
    "|`<b>\"foo\"</b>`|`\"foo\"`|`foo`|✘|\n",
    "|`\"<b>foo</b>\"`|`\"foo\"`|`<b>foo</b>`|✘|\n",
    "|`<b id=\"bar\">foo</b>`|`foo`|`foo`|✔|\n",
    "|`\"foo\"`|`'foo'`|`foo`|✘|\n",
    "|`'foo'`|`'foo'`|`'foo'`|✔|\n",
    "\n",
    "In all of these examples, the `quote` flag should now be set outside of tags; hence, everything should work as expected."
   ]
  },
  {
   "cell_type": "markdown",
   "metadata": {
    "tags": [
     "148"
    ]
   },
   "source": [
    "In terms of the scientific process, we now have a *theory* – a hypothesis that\n",
    "\n",
    "* is consistent with all earlier observations\n",
    "* predicts future observations (in our case: correct behavior)\n",
    "\n",
    "For debugging, our problems are usually too small for a big word like theory, so we use the word *diagnosis* instead. So is our diagnosis sufficient to fix the bug? Let us check."
   ]
  },
  {
   "cell_type": "markdown",
   "metadata": {
    "tags": [
     "149"
    ]
   },
   "source": [
    "### Checking Diagnoses\n",
    "\n",
    "In debugging, you should start to fix your code if and only if you have a diagnosis that shows two things:\n",
    "\n",
    "1. **Causality.** Your diagnosis should explain why and how the failure came to be. Hence, it induces a _fix_ that, when applied, should make the failure disappear.\n",
    "2. **Incorrectness.** Your diagnosis should explain why and how the code is _incorrect_ (which in turn suggests how to _correct_ the code). Hence, the fix it induces not only applies to the given failure, but also to all related failures."
   ]
  },
  {
   "cell_type": "markdown",
   "metadata": {
    "tags": [
     "150"
    ]
   },
   "source": [
    "Showing both these aspects requirements – _causality_ and _incorrectness_ – are crucial for a debugging diagnosis:\n",
    "\n",
    "* If you find that you can change some location to make the failure go away, but are not sure why this location is wrong, then your \"fix\" may apply only to the symptom rather than the source. Your diagnosis explains _causality_, but not _incorrectness_.\n",
    "* If you find that there is a defect in some code location, but do not verify whether this defect is related to the failure in question, then your \"fix\" may not address the failure. Your diagnosis addresses _incorrectness_, but not _causality_."
   ]
  },
  {
   "cell_type": "markdown",
   "metadata": {
    "tags": [
     "151"
    ]
   },
   "source": [
    "When you do have a diagnosis that explains both causality (how the failure came to be), and incorrectness (how to correct the code accordingly), then (and only then!) is it time to actually _fix_ the code accordingly. After applying the fix, the failure should be gone, and no other failure should occur. If the failure persists, this should come as a surprise. Obviously, there is some other aspect that you haven't considered yet, so you have to go back to the drawing board and add another failing test case to the set of observations."
   ]
  },
  {
   "cell_type": "markdown",
   "metadata": {
    "tags": [
     "152"
    ]
   },
   "source": [
    "### Fixing the Code"
   ]
  },
  {
   "cell_type": "markdown",
   "metadata": {
    "tags": [
     "153"
    ]
   },
   "source": [
    "All these things considered, let us go and fix `remove_html_markup()`. We know how the defect _causes_ the failure (by erroneously setting `quote` outside of tags). We know that the line in question is _incorrect_ (as single and double of quotes should be treated similarly). So, our diagnosis shows both causality and incorrectness, and we can go and fix the code accordingly:"
   ]
  },
  {
   "cell_type": "code",
   "execution_count": 138,
   "metadata": {
    "tags": [
     "154"
    ]
   },
   "outputs": [],
   "source": [
    "def remove_html_markup(s):  # type: ignore\n",
    "    tag = False\n",
    "    quote = False\n",
    "    out = \"\"\n",
    "\n",
    "    for c in s:\n",
    "        if c == '<' and not quote:\n",
    "            tag = True\n",
    "        elif c == '>' and not quote:\n",
    "            tag = False\n",
    "        elif (c == '\"' or c == \"'\") and tag:  # <-- FIX\n",
    "            quote = not quote\n",
    "        elif not tag:\n",
    "            out = out + c\n",
    "\n",
    "    return out"
   ]
  },
  {
   "cell_type": "markdown",
   "metadata": {
    "tags": [
     "155"
    ]
   },
   "source": [
    "We verify that the fix was successful by running our earlier tests. Not only should the previously failing tests now pass, the previously passing tests also should not be affected. Fortunately, all tests now pass:"
   ]
  },
  {
   "cell_type": "code",
   "execution_count": 139,
   "metadata": {
    "tags": [
     "156"
    ]
   },
   "outputs": [],
   "source": [
    "assert remove_html_markup(\"Here's some <strong>strong argument</strong>.\") == \\\n",
    "    \"Here's some strong argument.\"\n",
    "assert remove_html_markup(\n",
    "    '<input type=\"text\" value=\"<your name>\">') == \"\"\n",
    "assert remove_html_markup('<b>foo</b>') == 'foo'\n",
    "assert remove_html_markup('<b>\"foo\"</b>') == '\"foo\"'\n",
    "assert remove_html_markup('\"<b>foo</b>\"') == '\"foo\"'\n",
    "assert remove_html_markup('<b id=\"bar\">foo</b>') == 'foo'"
   ]
  },
  {
   "cell_type": "markdown",
   "metadata": {
    "tags": [
     "157"
    ]
   },
   "source": [
    "So, our hypothesis _was_ a theory, and our diagnosis was correct. Success!"
   ]
  },
  {
   "cell_type": "markdown",
   "metadata": {
    "tags": [
     "158"
    ]
   },
   "source": [
    "### Alternate Paths\n",
    "\n",
    "A defect may have more than one hypothesis, and each diagnosis can be obtained by many ways.  We could also have started with our other hypothesis\n",
    "\n",
    "2. Tags in double quotes are not stripped\n",
    "\n",
    "and by reasoning and experiments, we would have reached the same conclusion that the condition is faulty:\n",
    "\n",
    "* To strip tags, the `tag` flag must be set (but it is not).\n",
    "* To set the `tag` flag, the `quote` variable must not be set (but it is).\n",
    "* The `quote` flag is set under the given condition (which thus must be faulty).\n",
    "\n",
    "This gets us to the same diagnosis as above – and, of course, the same fix."
   ]
  },
  {
   "cell_type": "markdown",
   "metadata": {
    "tags": [
     "159"
    ]
   },
   "source": [
    "## Homework after the Fix"
   ]
  },
  {
   "cell_type": "markdown",
   "metadata": {
    "tags": [
     "160"
    ]
   },
   "source": [
    "After having successfully validated the fix, we still have some homework to make."
   ]
  },
  {
   "cell_type": "markdown",
   "metadata": {
    "tags": [
     "161"
    ]
   },
   "source": [
    "### Check for further Defect Occurrences"
   ]
  },
  {
   "cell_type": "markdown",
   "metadata": {
    "tags": [
     "162"
    ]
   },
   "source": [
    "First, we may want to check that the underlying mistake was not made elsewhere, too.\n",
    "\n",
    "For an error as with `remove_html_markup()`, it may be wise to check other parts of the code (possibly written by the same programmer) whether Boolean formulas show proper precedence. Consider setting up a static program checker or style checker to catch similar mistakes.\n",
    "Usually if you code in an IDE specifically designed for language you are coding in, you will get hints on so called _code smells_,\n",
    "parts of your code that are typically erroneous because of bad style or other typical mistakes."
   ]
  },
  {
   "cell_type": "markdown",
   "metadata": {
    "tags": [
     "163"
    ]
   },
   "source": [
    "### Check your Tests\n",
    "\n",
    "If the defect was not found through testing, now is a good time to make sure it will be found the next time. If you use automated tests, add a test that catches the bug (as well as similar ones), such that you can prevent regressions."
   ]
  },
  {
   "cell_type": "markdown",
   "metadata": {
    "tags": [
     "164"
    ]
   },
   "source": [
    "### Add Assertions\n",
    "\n"
   ]
  },
  {
   "cell_type": "markdown",
   "metadata": {
    "tags": [
     "165"
    ]
   },
   "source": [
    "To be 100% sure, we could add an assertion to `remove_html_markup()` that checks the final result for correctness. Unfortunately, writing such an assertion is just as complex as writing the function itself.\n",
    "\n",
    "There is one assertion, though, which could be placed in the loop body to catch this kind of errors, and which could remain in the code. Which is it?"
   ]
  },
  {
   "cell_type": "code",
   "execution_count": 140,
   "metadata": {
    "tags": [
     "166"
    ]
   },
   "outputs": [
    {
     "data": {
      "text/html": [
       "\n",
       "    \n",
       "    <script>\n",
       "    var bad_answers = new Map();\n",
       "\n",
       "    function answer(quiz_id) {\n",
       "        ans = 0;\n",
       "        for (i = 1;; i++) {\n",
       "            checkbox = document.getElementById(quiz_id + \"-\" + i.toString());\n",
       "            if (!checkbox)\n",
       "                break;\n",
       "            if (checkbox.checked)\n",
       "                ans |= (1 << i);\n",
       "        }\n",
       "        return ans;\n",
       "    }\n",
       "    function check_selection(quiz_id, correct_answer, multiple_choice, hint) {\n",
       "        given_answer = answer(quiz_id);\n",
       "        if (given_answer == correct_answer)\n",
       "        {\n",
       "            document.getElementById(quiz_id + \"-submit\").value = \"Correct!\";\n",
       "            document.getElementById(quiz_id + \"-hint\").innerHTML = \"\";\n",
       "\n",
       "            for (i = 1;; i++) {\n",
       "                checkbox = document.getElementById(quiz_id + \"-\" + i.toString());\n",
       "                label = document.getElementById(quiz_id + \"-\" + i.toString() + \"-label\")\n",
       "                if (!checkbox)\n",
       "                    break;\n",
       "\n",
       "                if (checkbox.checked) {\n",
       "                    label.style.fontWeight = \"bold\";\n",
       "                }\n",
       "                else {\n",
       "                    label.style.textDecoration = \"line-through\";\n",
       "                }\n",
       "            }\n",
       "        }\n",
       "        else \n",
       "        {\n",
       "            document.getElementById(quiz_id + \"-submit\").value = \"Try again\";\n",
       "\n",
       "            if (!bad_answers.has(quiz_id)) {\n",
       "                bad_answers.set(quiz_id, 1);\n",
       "            }\n",
       "            else {\n",
       "                bad_answers.set(quiz_id, bad_answers.get(quiz_id) + 1);\n",
       "            }\n",
       "\n",
       "            if (bad_answers.get(quiz_id) >= 2 && hint.length > 0) {\n",
       "                document.getElementById(quiz_id + \"-hint\").innerHTML = \n",
       "                    \"&nbsp;&nbsp;(Hint: <code>\" + hint + \"</code>)\";\n",
       "            }\n",
       "\n",
       "            if (!multiple_choice) {\n",
       "                for (i = 1;; i++) {\n",
       "                    checkbox = document.getElementById(quiz_id + \"-\" + i.toString());\n",
       "                    label = document.getElementById(quiz_id + \"-\" + i.toString() + \"-label\")\n",
       "\n",
       "                    if (!checkbox)\n",
       "                        break;\n",
       "                    if (checkbox.checked) {\n",
       "                        label.style.textDecoration = \"line-through\";\n",
       "                    }\n",
       "                }\n",
       "            }\n",
       "        }\n",
       "    }\n",
       "    function clear_selection(quiz_id) {\n",
       "        document.getElementById(quiz_id + \"-submit\").value = \"Submit\";\n",
       "        document.getElementById(quiz_id + \"-hint\").innerHTML = \"\";\n",
       "    }\n",
       "    </script>\n",
       "    \n",
       "    <div class=\"quiz\">\n",
       "    <h3 class=\"quiz_title\">Quiz</h3>\n",
       "    <p>\n",
       "    <div class=\"quiz_question\">Which assertion would have caught the problem?</div>\n",
       "    </p>\n",
       "    <p>\n",
       "    <div class=\"quiz_options\" title=\"Pick a choice.\">\n",
       "    \n",
       "        <input type=\"radio\" name=\"cd8cc71c-047e-11f0-8ae6-8e7f246f068f\" id=\"cd8cc71c-047e-11f0-8ae6-8e7f246f068f-1\" onclick=\"clear_selection('cd8cc71c-047e-11f0-8ae6-8e7f246f068f')\">\n",
       "        <label id=\"cd8cc71c-047e-11f0-8ae6-8e7f246f068f-1-label\" for=\"cd8cc71c-047e-11f0-8ae6-8e7f246f068f-1\"><code>assert quote and not tag</code></label><br>\n",
       "    \n",
       "        <input type=\"radio\" name=\"cd8cc71c-047e-11f0-8ae6-8e7f246f068f\" id=\"cd8cc71c-047e-11f0-8ae6-8e7f246f068f-2\" onclick=\"clear_selection('cd8cc71c-047e-11f0-8ae6-8e7f246f068f')\">\n",
       "        <label id=\"cd8cc71c-047e-11f0-8ae6-8e7f246f068f-2-label\" for=\"cd8cc71c-047e-11f0-8ae6-8e7f246f068f-2\"><code>assert quote or not tag</code></label><br>\n",
       "    \n",
       "        <input type=\"radio\" name=\"cd8cc71c-047e-11f0-8ae6-8e7f246f068f\" id=\"cd8cc71c-047e-11f0-8ae6-8e7f246f068f-3\" onclick=\"clear_selection('cd8cc71c-047e-11f0-8ae6-8e7f246f068f')\">\n",
       "        <label id=\"cd8cc71c-047e-11f0-8ae6-8e7f246f068f-3-label\" for=\"cd8cc71c-047e-11f0-8ae6-8e7f246f068f-3\"><code>assert tag or not quote</code></label><br>\n",
       "    \n",
       "        <input type=\"radio\" name=\"cd8cc71c-047e-11f0-8ae6-8e7f246f068f\" id=\"cd8cc71c-047e-11f0-8ae6-8e7f246f068f-4\" onclick=\"clear_selection('cd8cc71c-047e-11f0-8ae6-8e7f246f068f')\">\n",
       "        <label id=\"cd8cc71c-047e-11f0-8ae6-8e7f246f068f-4-label\" for=\"cd8cc71c-047e-11f0-8ae6-8e7f246f068f-4\"><code>assert tag and not quote</code></label><br>\n",
       "    \n",
       "    </div>\n",
       "    </p>\n",
       "    <input id=\"cd8cc71c-047e-11f0-8ae6-8e7f246f068f-submit\" type=\"submit\" value=\"Submit\" onclick=\"check_selection('cd8cc71c-047e-11f0-8ae6-8e7f246f068f', 8, 0, '3270 - 3267')\">\n",
       "    <span class=\"quiz_hint\" id=\"cd8cc71c-047e-11f0-8ae6-8e7f246f068f-hint\"></span>\n",
       "    </div>\n",
       "    "
      ],
      "text/plain": [
       "<IPython.core.display.HTML object>"
      ]
     },
     "execution_count": 140,
     "metadata": {},
     "output_type": "execute_result"
    }
   ],
   "source": [
    "quiz(\"Which assertion would have caught the problem?\",\n",
    "     [\n",
    "        \"`assert quote and not tag`\",\n",
    "        \"`assert quote or not tag`\",\n",
    "        \"`assert tag or not quote`\",\n",
    "        \"`assert tag and not quote`\"\n",
    "     ], '3270 - 3267')"
   ]
  },
  {
   "cell_type": "markdown",
   "metadata": {
    "tags": [
     "167"
    ]
   },
   "source": [
    "Indeed, the statement\n",
    "\n",
    "```python\n",
    "assert tag or not quote\n",
    "```\n",
    "is correct. This excludes the situation of ¬`tag` ∧ `quote` – that is, the `tag` flag is not set, but the `quote` flag is. If you remember our state machine from above, this is actually a state that should never exist:"
   ]
  },
  {
   "cell_type": "code",
   "execution_count": 141,
   "metadata": {
    "tags": [
     "168"
    ]
   },
   "outputs": [
    {
     "data": {
      "image/svg+xml": [
       "<?xml version=\"1.0\" encoding=\"UTF-8\" standalone=\"no\"?>\n",
       "<!DOCTYPE svg PUBLIC \"-//W3C//DTD SVG 1.1//EN\"\n",
       " \"http://www.w3.org/Graphics/SVG/1.1/DTD/svg11.dtd\">\n",
       "<!-- Generated by graphviz version 2.43.0 (0)\n",
       " -->\n",
       "<!-- Title: %3 Pages: 1 -->\n",
       "<svg width=\"473pt\" height=\"110pt\"\n",
       " viewBox=\"0.00 0.00 473.32 109.74\" xmlns=\"http://www.w3.org/2000/svg\" xmlns:xlink=\"http://www.w3.org/1999/xlink\">\n",
       "<g id=\"graph0\" class=\"graph\" transform=\"scale(1 1) rotate(0) translate(4 105.74)\">\n",
       "<title>%3</title>\n",
       "<polygon fill=\"white\" stroke=\"transparent\" points=\"-4,4 -4,-105.74 469.32,-105.74 469.32,4 -4,4\"/>\n",
       "<!-- Start -->\n",
       "<g id=\"node1\" class=\"node\">\n",
       "<title>Start</title>\n",
       "<ellipse fill=\"peachpuff\" stroke=\"black\" cx=\"31.85\" cy=\"-26.87\" rx=\"31.7\" ry=\"18\"/>\n",
       "<text text-anchor=\"middle\" x=\"31.85\" y=\"-23.17\" font-family=\"Raleway\" font-size=\"14.00\">Start</text>\n",
       "</g>\n",
       "<!-- ¬ quote\\n¬ tag -->\n",
       "<g id=\"node2\" class=\"node\">\n",
       "<title>¬ quote\\n¬ tag</title>\n",
       "<ellipse fill=\"peachpuff\" stroke=\"black\" cx=\"146.66\" cy=\"-26.87\" rx=\"45.92\" ry=\"26.74\"/>\n",
       "<text text-anchor=\"middle\" x=\"146.66\" y=\"-30.67\" font-family=\"Raleway\" font-size=\"14.00\">¬ quote</text>\n",
       "<text text-anchor=\"middle\" x=\"146.66\" y=\"-15.67\" font-family=\"Raleway\" font-size=\"14.00\">¬ tag</text>\n",
       "</g>\n",
       "<!-- Start&#45;&gt;¬ quote\\n¬ tag -->\n",
       "<g id=\"edge1\" class=\"edge\">\n",
       "<title>Start&#45;&gt;¬ quote\\n¬ tag</title>\n",
       "<path fill=\"none\" stroke=\"black\" d=\"M63.97,-26.87C72.12,-26.87 81.16,-26.87 90.17,-26.87\"/>\n",
       "<polygon fill=\"black\" stroke=\"black\" points=\"90.27,-30.37 100.27,-26.87 90.27,-23.37 90.27,-30.37\"/>\n",
       "</g>\n",
       "<!-- ¬ quote\\n¬ tag&#45;&gt;¬ quote\\n¬ tag -->\n",
       "<g id=\"edge2\" class=\"edge\">\n",
       "<title>¬ quote\\n¬ tag&#45;&gt;¬ quote\\n¬ tag</title>\n",
       "<path fill=\"none\" stroke=\"black\" d=\"M134.7,-53.14C134.17,-63.3 138.16,-71.74 146.66,-71.74 152.1,-71.74 155.69,-68.28 157.43,-63.11\"/>\n",
       "<polygon fill=\"black\" stroke=\"black\" points=\"160.91,-63.48 158.61,-53.14 153.96,-62.66 160.91,-63.48\"/>\n",
       "<text text-anchor=\"middle\" x=\"146.66\" y=\"-90.54\" font-family=\"Raleway\" font-size=\"14.00\">¬ &#39;&lt;&#39;</text>\n",
       "<text text-anchor=\"middle\" x=\"146.66\" y=\"-75.54\" font-family=\"Raleway\" font-size=\"14.00\">add character</text>\n",
       "</g>\n",
       "<!-- ¬ quote\\ntag -->\n",
       "<g id=\"node3\" class=\"node\">\n",
       "<title>¬ quote\\ntag</title>\n",
       "<ellipse fill=\"peachpuff\" stroke=\"black\" cx=\"290.58\" cy=\"-26.87\" rx=\"45.92\" ry=\"26.74\"/>\n",
       "<text text-anchor=\"middle\" x=\"290.58\" y=\"-30.67\" font-family=\"Raleway\" font-size=\"14.00\">¬ quote</text>\n",
       "<text text-anchor=\"middle\" x=\"290.58\" y=\"-15.67\" font-family=\"Raleway\" font-size=\"14.00\">tag</text>\n",
       "</g>\n",
       "<!-- ¬ quote\\n¬ tag&#45;&gt;¬ quote\\ntag -->\n",
       "<g id=\"edge3\" class=\"edge\">\n",
       "<title>¬ quote\\n¬ tag&#45;&gt;¬ quote\\ntag</title>\n",
       "<path fill=\"none\" stroke=\"black\" d=\"M192.95,-26.87C206.01,-26.87 220.41,-26.87 234.01,-26.87\"/>\n",
       "<polygon fill=\"black\" stroke=\"black\" points=\"234.23,-30.37 244.23,-26.87 234.23,-23.37 234.23,-30.37\"/>\n",
       "<text text-anchor=\"middle\" x=\"218.62\" y=\"-30.67\" font-family=\"Raleway\" font-size=\"14.00\">&#39;&lt;&#39;</text>\n",
       "</g>\n",
       "<!-- ¬ quote\\ntag&#45;&gt;¬ quote\\n¬ tag -->\n",
       "<g id=\"edge8\" class=\"edge\">\n",
       "<title>¬ quote\\ntag&#45;&gt;¬ quote\\n¬ tag</title>\n",
       "<path fill=\"none\" stroke=\"black\" d=\"M252.09,-11.79C239.06,-8.16 224.29,-5.85 210.62,-7.87 205.92,-8.56 201.09,-9.53 196.3,-10.67\"/>\n",
       "<polygon fill=\"black\" stroke=\"black\" points=\"195.35,-7.3 186.55,-13.2 197.11,-14.07 195.35,-7.3\"/>\n",
       "<text text-anchor=\"middle\" x=\"218.62\" y=\"-11.67\" font-family=\"Raleway\" font-size=\"14.00\">&#39;&gt;&#39;</text>\n",
       "</g>\n",
       "<!-- ¬ quote\\ntag&#45;&gt;¬ quote\\ntag -->\n",
       "<g id=\"edge5\" class=\"edge\">\n",
       "<title>¬ quote\\ntag&#45;&gt;¬ quote\\ntag</title>\n",
       "<path fill=\"none\" stroke=\"black\" d=\"M277.54,-52.69C276.8,-63.05 281.15,-71.74 290.58,-71.74 296.62,-71.74 300.58,-68.17 302.45,-62.89\"/>\n",
       "<polygon fill=\"black\" stroke=\"black\" points=\"305.96,-63.03 303.63,-52.69 299,-62.22 305.96,-63.03\"/>\n",
       "<text text-anchor=\"middle\" x=\"290.58\" y=\"-75.54\" font-family=\"Raleway\" font-size=\"14.00\">¬ &#39;&quot;&#39; ∧ ¬ &#39;&gt;&#39;</text>\n",
       "</g>\n",
       "<!-- quote\\ntag -->\n",
       "<g id=\"node4\" class=\"node\">\n",
       "<title>quote\\ntag</title>\n",
       "<ellipse fill=\"peachpuff\" stroke=\"black\" cx=\"426.43\" cy=\"-26.87\" rx=\"38.78\" ry=\"26.74\"/>\n",
       "<text text-anchor=\"middle\" x=\"426.43\" y=\"-30.67\" font-family=\"Raleway\" font-size=\"14.00\">quote</text>\n",
       "<text text-anchor=\"middle\" x=\"426.43\" y=\"-15.67\" font-family=\"Raleway\" font-size=\"14.00\">tag</text>\n",
       "</g>\n",
       "<!-- ¬ quote\\ntag&#45;&gt;quote\\ntag -->\n",
       "<g id=\"edge4\" class=\"edge\">\n",
       "<title>¬ quote\\ntag&#45;&gt;quote\\ntag</title>\n",
       "<path fill=\"none\" stroke=\"black\" d=\"M336.9,-26.87C349.82,-26.87 363.95,-26.87 377.06,-26.87\"/>\n",
       "<polygon fill=\"black\" stroke=\"black\" points=\"377.3,-30.37 387.3,-26.87 377.3,-23.37 377.3,-30.37\"/>\n",
       "<text text-anchor=\"middle\" x=\"362.04\" y=\"-30.67\" font-family=\"Raleway\" font-size=\"14.00\">&#39;&quot;&#39;</text>\n",
       "</g>\n",
       "<!-- quote\\ntag&#45;&gt;¬ quote\\ntag -->\n",
       "<g id=\"edge7\" class=\"edge\">\n",
       "<title>quote\\ntag&#45;&gt;¬ quote\\ntag</title>\n",
       "<path fill=\"none\" stroke=\"black\" d=\"M392.5,-13.69C385.06,-11.27 377.13,-9.12 369.54,-7.87 359.44,-6.2 348.71,-7.05 338.55,-9.12\"/>\n",
       "<polygon fill=\"black\" stroke=\"black\" points=\"337.51,-5.77 328.62,-11.55 339.17,-12.58 337.51,-5.77\"/>\n",
       "<text text-anchor=\"middle\" x=\"362.04\" y=\"-11.67\" font-family=\"Raleway\" font-size=\"14.00\">&#39;&quot;&#39;</text>\n",
       "</g>\n",
       "<!-- quote\\ntag&#45;&gt;quote\\ntag -->\n",
       "<g id=\"edge6\" class=\"edge\">\n",
       "<title>quote\\ntag&#45;&gt;quote\\ntag</title>\n",
       "<path fill=\"none\" stroke=\"black\" d=\"M414.51,-52.69C413.83,-63.05 417.81,-71.74 426.43,-71.74 431.96,-71.74 435.58,-68.17 437.28,-62.89\"/>\n",
       "<polygon fill=\"black\" stroke=\"black\" points=\"440.79,-63 438.36,-52.69 433.83,-62.27 440.79,-63\"/>\n",
       "<text text-anchor=\"middle\" x=\"426.43\" y=\"-75.54\" font-family=\"Raleway\" font-size=\"14.00\">¬ &#39;&quot;&#39;</text>\n",
       "</g>\n",
       "</g>\n",
       "</svg>\n"
      ],
      "text/plain": [
       "<graphviz.graphs.Digraph at 0xff5a499a3aa0>"
      ]
     },
     "metadata": {},
     "output_type": "display_data"
    }
   ],
   "source": [
    "# ignore\n",
    "display(state_machine)"
   ]
  },
  {
   "cell_type": "markdown",
   "metadata": {
    "tags": [
     "169"
    ]
   },
   "source": [
    "Here's our function in its \"final\" state. As software goes, software is never final – and this may also hold for our function, as there is still room for improvement. For this chapter though, we leave it be."
   ]
  },
  {
   "cell_type": "code",
   "execution_count": 142,
   "metadata": {
    "tags": [
     "170"
    ]
   },
   "outputs": [],
   "source": [
    "def remove_html_markup(s):  # type: ignore\n",
    "    tag = False\n",
    "    quote = False\n",
    "    out = \"\"\n",
    "\n",
    "    for c in s:\n",
    "        assert tag or not quote\n",
    "\n",
    "        if c == '<' and not quote:\n",
    "            tag = True\n",
    "        elif c == '>' and not quote:\n",
    "            tag = False\n",
    "        elif (c == '\"' or c == \"'\") and tag:\n",
    "            quote = not quote\n",
    "        elif not tag:\n",
    "            out = out + c\n",
    "\n",
    "    return out"
   ]
  },
  {
   "cell_type": "markdown",
   "metadata": {
    "tags": [
     "171"
    ]
   },
   "source": [
    "### Commit the Fix"
   ]
  },
  {
   "cell_type": "markdown",
   "metadata": {
    "tags": [
     "172"
    ]
   },
   "source": [
    "It may sound obvious, but your fix is worth nothing if it doesn't go into production. Be sure to commit your change to the code repository, together with your diagnosis. If your fix has to be approved by a third party, a good diagnosis on why and what happened is immensely helpful."
   ]
  },
  {
   "cell_type": "markdown",
   "metadata": {
    "tags": [
     "173"
    ]
   },
   "source": [
    "### Close the Bug Report\n",
    "\n",
    "If you [systematically track bugs](Tracking.ipynb), and your bug is properly tracked, now is the time to mark the issue as \"resolved\". Check for duplicates of the issue and check whether they are resolved, too. And now, you are finally done:\n",
    "\n",
    "![](https://media.giphy.com/media/nbJUuYFI6s0w0/giphy.gif)\n",
    "\n",
    "Time to relax – and look for the next bug!"
   ]
  },
  {
   "cell_type": "markdown",
   "metadata": {
    "tags": [
     "174"
    ]
   },
   "source": [
    "## Become a Better Debugger\n",
    "\n",
    "We have now systematically fixed a bug. In this book, we will explore a number of techniques to make debugging easier – coming up with automated diagnoses, explanations, even automatic repairs, including for our example above. But there are also a number of things _you_ can do to become a better debugger.\n",
    "\n",
    "\n",
    "### Follow the Process\n",
    "\n",
    "If you're an experienced programmer, you may have spotted the problem in `remove_html_markup()` immediately, and start fixing the code right away. But this is dangerous and risky.\n",
    "\n",
    "Why is this so?  Well, because you should first\n",
    "\n",
    "* try to understand the problem, and \n",
    "* have a full diagnosis before starting to fix away.\n",
    "\n",
    "You _can_ skip these steps, and jump right to your interactive debugger the very moment you see a failure, happily stepping through their program. This may even work well for simple problems, including this one. The risk, however, is that this narrows your view to just this one execution, which limits your ability to understand _all_ the circumstances of the problem. Even worse: If you start \"fixing\" the bug without exactly understanding the problem, you may end up with an incomplete solution – as illustrated in \"The Devil's Guide to Debugging\", above."
   ]
  },
  {
   "cell_type": "markdown",
   "metadata": {
    "tags": [
     "175"
    ]
   },
   "source": [
    "### Keep a Log\n",
    "\n",
    "A second risk of starting debugging too soon is that it lets you easily deviate from a systematic process. Remember how we wrote down every experiment in a table? How we numbered every hypothesis? This is not just for teaching. Writing these things down explicitly allow you to keep track of all your observations and hypotheses over time.\n",
    "\n",
    "|Input|Expectation|Output|Outcome|\n",
    "|-----|-----------|------|-------|\n",
    "|`<b>foo</b>`|`foo`|`foo`|✔|\n",
    "\n",
    "Every time you come up with a new hypothesis, you can immediately check it against your earlier observations, which will help you to eliminate unlikely ones from the start. This is a bit like in the classic \"Mastermind\" board game, in which you have to guess some secret combination of pins, and in which your opponent gives you hints on whether and how your guesses are correct. At any time, you can see your previous guesses (experiments) and the results (observations) you got; any new guess (hypothesis) has to be consistent with the previous observations and experiments."
   ]
  },
  {
   "cell_type": "markdown",
   "metadata": {
    "tags": [
     "176"
    ]
   },
   "source": [
    "![Master Mind Board Grame](https://upload.wikimedia.org/wikipedia/commons/2/2d/Mastermind.jpg)"
   ]
  },
  {
   "cell_type": "markdown",
   "metadata": {
    "tags": [
     "177"
    ]
   },
   "source": [
    "Keeping such a log also allows you to interrupt your debugging session at any time. You can be home in time, sleep over the problem, and resume the next morning with a refreshed mind. You can even hand over the log to someone else, stating your findings so far.\n",
    "\n",
    "The alternative to having a log is to _keep all in memory_. This only works for short amounts of time, as it puts a higher and higher cognitive load on your memory as you debug along. After some time, you will forget earlier observations, which leads to mistakes. Worst of all, any interruption will break your concentration and make you forget things, so you can't stop debugging until you're done.\n",
    "\n",
    "Sure, if you are a real master, you can stay glued to the screen all night. But I'd rather be home in time, thank you."
   ]
  },
  {
   "cell_type": "markdown",
   "metadata": {
    "tags": [
     "178"
    ]
   },
   "source": [
    "### Rubberducking\n",
    "\n",
    "A great technique to revisit your observations and to come up with new hypotheses is to _explain the problem to someone else_. In this process, the \"someone else\" is important, but even more important is that _you are explaining the problem to yourself_! As Kernighan and Pike \\cite{Kernighan1999} put it:\n",
    "\n",
    "> Sometimes it takes no more than a few sentences, followed by an embarrassed \"Never mind. I see what's wrong. Sorry to bother you.\"\n",
    "\n",
    "The reason why this works is that teaching someone else forces you to take different perspectives, and these help you to resolve the inconsistency between what you assume and what you actually observe.\n",
    "\n",
    "Since that \"someone else\" can be totally passive, you can even replace her with an inanimate object to talk to – even a rubber duck. This technique is called *rubber duck debugging* or *rubberducking* – the idea is that you explain your problem to a rubber duck first before interrupting one of your co-workers with the problem. Some programmers, when asked for advice, explicitly request that you \"explain your problem to the duck first\", knowing that this resolves a good fraction of problems."
   ]
  },
  {
   "cell_type": "markdown",
   "metadata": {
    "tags": [
     "179"
    ]
   },
   "source": [
    "![Rubber duck debugging](https://upload.wikimedia.org/wikipedia/commons/d/d5/Rubber_duck_assisting_with_debugging.jpg)"
   ]
  },
  {
   "cell_type": "markdown",
   "metadata": {
    "tags": [
     "180"
    ]
   },
   "source": [
    "## The Cost of Debugging\n",
    "\n",
    "And it's not only that debugging takes time – the worst thing is that it is a search process, which can take anything between a few minutes and several hours, sometimes even days and weeks.  But even if you never know how much time a bug will take, it's a bit of blessing to use a process which gradually gets you towards its cause."
   ]
  },
  {
   "cell_type": "markdown",
   "metadata": {
    "tags": [
     "181"
    ]
   },
   "source": [
    "## Debugging Aftermath\n",
    "\n",
    "The fix of a bug may lead to a code construct, a more complex condition or another solution which may look strange on first sight.\n",
    "Often the initial code was easier to understand but did not catch all cases. After fixing a bug it may be beneficial to\n",
    "write down why the code now looks like this and what caused the more complex construct. A comment right at the fixed location\n",
    "will help future programmers to not be confused or even re-introduce the bug while refactoring for better readability.\n",
    "And of course, helpful comments at complex code locations should even exist before something went wrong with the code -- but\n",
    "thats a chapter in another book.\n",
    "\n",
    "## History of Debugging\n",
    "\n",
    "Engineers and programmers have long used the term \"bug\" for faults in their systems – as if it were something that crept into an otherwise flawless program to cause the effects that none could explain. And from a psychological standpoint, it is far easier to blame some \"bug\" rather than taking responsibility ourselves. In the end, though, we have to face the fact: We made the bugs, and they are ours to fix.\n",
    "\n",
    "Having said that, there has been one recorded instance where a real bug has crept into a system. That was on September 9, 1947, when a moth got stuck in the relay of a Harvard Mark II machine.  This event was logged, and the log book is now on display at the Smithsonian Natural Museum of American History, as \"First actual case of bug being found.\""
   ]
  },
  {
   "cell_type": "markdown",
   "metadata": {
    "tags": [
     "182"
    ]
   },
   "source": [
    "![First actual case of bug being found](https://upload.wikimedia.org/wikipedia/commons/f/ff/First_Computer_Bug%2C_1945.jpg)"
   ]
  },
  {
   "cell_type": "markdown",
   "metadata": {
    "tags": [
     "183"
    ]
   },
   "source": [
    "The actual term \"bug\", however, is much older. What do you think is its origin?"
   ]
  },
  {
   "cell_type": "code",
   "execution_count": 143,
   "metadata": {
    "ipub": {
     "ignore": true
    },
    "tags": [
     "184"
    ]
   },
   "outputs": [],
   "source": [
    "# ignore\n",
    "import hashlib"
   ]
  },
  {
   "cell_type": "code",
   "execution_count": 144,
   "metadata": {
    "ipub": {
     "ignore": true
    },
    "tags": [
     "185"
    ]
   },
   "outputs": [],
   "source": [
    "# ignore\n",
    "bughash = hashlib.md5(b\"debug\").hexdigest()"
   ]
  },
  {
   "cell_type": "code",
   "execution_count": 145,
   "metadata": {
    "tags": [
     "186"
    ]
   },
   "outputs": [
    {
     "data": {
      "text/html": [
       "\n",
       "    \n",
       "    <script>\n",
       "    var bad_answers = new Map();\n",
       "\n",
       "    function answer(quiz_id) {\n",
       "        ans = 0;\n",
       "        for (i = 1;; i++) {\n",
       "            checkbox = document.getElementById(quiz_id + \"-\" + i.toString());\n",
       "            if (!checkbox)\n",
       "                break;\n",
       "            if (checkbox.checked)\n",
       "                ans |= (1 << i);\n",
       "        }\n",
       "        return ans;\n",
       "    }\n",
       "    function check_selection(quiz_id, correct_answer, multiple_choice, hint) {\n",
       "        given_answer = answer(quiz_id);\n",
       "        if (given_answer == correct_answer)\n",
       "        {\n",
       "            document.getElementById(quiz_id + \"-submit\").value = \"Correct!\";\n",
       "            document.getElementById(quiz_id + \"-hint\").innerHTML = \"\";\n",
       "\n",
       "            for (i = 1;; i++) {\n",
       "                checkbox = document.getElementById(quiz_id + \"-\" + i.toString());\n",
       "                label = document.getElementById(quiz_id + \"-\" + i.toString() + \"-label\")\n",
       "                if (!checkbox)\n",
       "                    break;\n",
       "\n",
       "                if (checkbox.checked) {\n",
       "                    label.style.fontWeight = \"bold\";\n",
       "                }\n",
       "                else {\n",
       "                    label.style.textDecoration = \"line-through\";\n",
       "                }\n",
       "            }\n",
       "        }\n",
       "        else \n",
       "        {\n",
       "            document.getElementById(quiz_id + \"-submit\").value = \"Try again\";\n",
       "\n",
       "            if (!bad_answers.has(quiz_id)) {\n",
       "                bad_answers.set(quiz_id, 1);\n",
       "            }\n",
       "            else {\n",
       "                bad_answers.set(quiz_id, bad_answers.get(quiz_id) + 1);\n",
       "            }\n",
       "\n",
       "            if (bad_answers.get(quiz_id) >= 2 && hint.length > 0) {\n",
       "                document.getElementById(quiz_id + \"-hint\").innerHTML = \n",
       "                    \"&nbsp;&nbsp;(Hint: <code>\" + hint + \"</code>)\";\n",
       "            }\n",
       "\n",
       "            if (!multiple_choice) {\n",
       "                for (i = 1;; i++) {\n",
       "                    checkbox = document.getElementById(quiz_id + \"-\" + i.toString());\n",
       "                    label = document.getElementById(quiz_id + \"-\" + i.toString() + \"-label\")\n",
       "\n",
       "                    if (!checkbox)\n",
       "                        break;\n",
       "                    if (checkbox.checked) {\n",
       "                        label.style.textDecoration = \"line-through\";\n",
       "                    }\n",
       "                }\n",
       "            }\n",
       "        }\n",
       "    }\n",
       "    function clear_selection(quiz_id) {\n",
       "        document.getElementById(quiz_id + \"-submit\").value = \"Submit\";\n",
       "        document.getElementById(quiz_id + \"-hint\").innerHTML = \"\";\n",
       "    }\n",
       "    </script>\n",
       "    \n",
       "    <div class=\"quiz\">\n",
       "    <h3 class=\"quiz_title\">Quiz</h3>\n",
       "    <p>\n",
       "    <div class=\"quiz_question\">Where has the name \"bug\" been used to denote disruptive events?</div>\n",
       "    </p>\n",
       "    <p>\n",
       "    <div class=\"quiz_options\" title=\"Check all that apply.\">\n",
       "    \n",
       "        <input type=\"checkbox\" name=\"cd98a566-047e-11f0-a7af-8e7f246f068f\" id=\"cd98a566-047e-11f0-a7af-8e7f246f068f-1\" onclick=\"clear_selection('cd98a566-047e-11f0-a7af-8e7f246f068f')\">\n",
       "        <label id=\"cd98a566-047e-11f0-a7af-8e7f246f068f-1-label\" for=\"cd98a566-047e-11f0-a7af-8e7f246f068f-1\">In the early days of Morse telegraphy, referring to a special key that would send a string of dots</label><br>\n",
       "    \n",
       "        <input type=\"checkbox\" name=\"cd98a566-047e-11f0-a7af-8e7f246f068f\" id=\"cd98a566-047e-11f0-a7af-8e7f246f068f-2\" onclick=\"clear_selection('cd98a566-047e-11f0-a7af-8e7f246f068f')\">\n",
       "        <label id=\"cd98a566-047e-11f0-a7af-8e7f246f068f-2-label\" for=\"cd98a566-047e-11f0-a7af-8e7f246f068f-2\">Among radio technicians to describe a device that converts electromagnetic field variations into acoustic signals</label><br>\n",
       "    \n",
       "        <input type=\"checkbox\" name=\"cd98a566-047e-11f0-a7af-8e7f246f068f\" id=\"cd98a566-047e-11f0-a7af-8e7f246f068f-3\" onclick=\"clear_selection('cd98a566-047e-11f0-a7af-8e7f246f068f')\">\n",
       "        <label id=\"cd98a566-047e-11f0-a7af-8e7f246f068f-3-label\" for=\"cd98a566-047e-11f0-a7af-8e7f246f068f-3\">In Shakespeare's \"Henry VI\", referring to a walking spectre</label><br>\n",
       "    \n",
       "        <input type=\"checkbox\" name=\"cd98a566-047e-11f0-a7af-8e7f246f068f\" id=\"cd98a566-047e-11f0-a7af-8e7f246f068f-4\" onclick=\"clear_selection('cd98a566-047e-11f0-a7af-8e7f246f068f')\">\n",
       "        <label id=\"cd98a566-047e-11f0-a7af-8e7f246f068f-4-label\" for=\"cd98a566-047e-11f0-a7af-8e7f246f068f-4\">In Middle English, where the word \"bugge\" is the basis for terms like \"bugbear\" and \"bugaboo\"</label><br>\n",
       "    \n",
       "    </div>\n",
       "    </p>\n",
       "    <input id=\"cd98a566-047e-11f0-a7af-8e7f246f068f-submit\" type=\"submit\" value=\"Submit\" onclick=\"check_selection('cd98a566-047e-11f0-a7af-8e7f246f068f', 30, 1, '')\">\n",
       "    <span class=\"quiz_hint\" id=\"cd98a566-047e-11f0-a7af-8e7f246f068f-hint\"></span>\n",
       "    </div>\n",
       "    "
      ],
      "text/plain": [
       "<IPython.core.display.HTML object>"
      ]
     },
     "execution_count": 145,
     "metadata": {},
     "output_type": "execute_result"
    }
   ],
   "source": [
    "quiz('Where has the name \"bug\" been used to denote disruptive events?',\n",
    "     [\n",
    "        'In the early days of Morse telegraphy, referring to a special key '\n",
    "          'that would send a string of dots',\n",
    "        'Among radio technicians to describe a device that '\n",
    "          'converts electromagnetic field variations into acoustic signals',\n",
    "        \"In Shakespeare's \" '\"Henry VI\", referring to a walking spectre',\n",
    "        'In Middle English, where the word \"bugge\" is the basis for terms '\n",
    "          'like \"bugbear\" and \"bugaboo\"'\n",
    "     ], [bughash.index(i) for i in \"d42f\"])"
   ]
  },
  {
   "cell_type": "markdown",
   "metadata": {
    "tags": [
     "187"
    ]
   },
   "source": [
    "Need help on this quiz? To learn more about the term \"bug\" and its origin, have a look at [the etymology of the word \"bug\"](http://www.catb.org/~esr/jargon/html/B/bug.html) in [The Jargon File](http://www.catb.org/~esr/jargon/). Also check out the [Wikipedia entry on debugging](https://en.wikipedia.org/wiki/Debugging)!"
   ]
  },
  {
   "cell_type": "markdown",
   "metadata": {
    "tags": [
     "188"
    ]
   },
   "source": [
    "## Synopsis"
   ]
  },
  {
   "cell_type": "markdown",
   "metadata": {
    "tags": [
     "189"
    ]
   },
   "source": [
    "In this chapter, we introduce some basics of how failures come to be as well as a general process for debugging."
   ]
  },
  {
   "cell_type": "markdown",
   "metadata": {
    "button": false,
    "new_sheet": true,
    "run_control": {
     "read_only": false
    },
    "tags": [
     "190"
    ]
   },
   "source": [
    "## Lessons Learned\n",
    "\n",
    "1. An _error_ is a deviation from what is correct, right, or true. Specifically,\n",
    "    * A _mistake_ is a human act or decision resulting in an error.\n",
    "    * A _defect_ is an error in the program code. Also called *bug*.\n",
    "    * A _fault_ is an error in the program state. Also called *infection*.\n",
    "    * A _failure_ is an externally visible error in the program behavior. Also called *malfunction*.\n",
    "2. In a failing program execution, a mistake by the programmer results in a defect in the code, which creates a fault in the state, which propagates until it results in a failure. Tracing back fault propagation allows identifying the defect that causes the failure.\n",
    "3. In debugging, the _scientific method_ allows systematically identifying failure causes by gradually refining and refuting hypotheses based on experiments and observations.\n",
    "4. Before fixing the defect, have a complete _diagnosis_ that \n",
    "    * shows _causality_ (how the defect causes the failure)\n",
    "    * shows _incorrectness_ (how the defect is wrong)\n",
    "5. You can become a better debugger by\n",
    "    * Following a systematic process like the scientific method\n",
    "    * Keeping a log of your observations and hypotheses\n",
    "    * Making your observations and conclusions explicit by telling them somebody (or something)."
   ]
  },
  {
   "cell_type": "markdown",
   "metadata": {
    "button": false,
    "new_sheet": false,
    "run_control": {
     "read_only": false
    },
    "tags": [
     "191"
    ]
   },
   "source": [
    "## Next Steps\n",
    "\n",
    "In the next chapters, we will learn how to\n",
    "\n",
    "* [trace and observe executions](Tracer.ipynb)\n",
    "* [build your own interactive debugger](Debugger.ipynb)\n",
    "* [locate defects automatically by correlating failures and code coverage](StatisticalDebugger.ipynb)\n",
    "* [identify and simplify failure-inducing inputs](DeltaDebugger.ipynb)\n",
    "\n",
    "Enjoy!"
   ]
  },
  {
   "cell_type": "markdown",
   "metadata": {
    "tags": [
     "192"
    ]
   },
   "source": [
    "## Background\n",
    "\n",
    "There are several good books on debugging, but these three are especially recommended:\n",
    "\n",
    "* _Debugging_ by Agans \\cite{agans2006-debugging} takes a pragmatic approach to debugging, highlighting systematic approaches that help for all kinds of application-specific problems;\n",
    "* _Why Programs Fail_ by Zeller \\cite{zeller2009-why-programs-fail} takes a more academic approach, creating theories of how failures come to be and systematic debugging processes;\n",
    "* _Effective Debugging_ by Spinellis \\cite{spinellis2016-effective-debugging} aims for a middle ground between the two, creating general recipes and recommendations that easily instantiate towards specific problems.\n",
    "\n",
    "All these books focus on _manual_ debugging and the debugging process, just like this chapter; for _automated_ debugging, simply read on :-)"
   ]
  },
  {
   "cell_type": "markdown",
   "metadata": {
    "button": false,
    "new_sheet": true,
    "run_control": {
     "read_only": false
    },
    "tags": [
     "193"
    ]
   },
   "source": [
    "## Exercises"
   ]
  },
  {
   "cell_type": "markdown",
   "metadata": {
    "button": false,
    "new_sheet": true,
    "run_control": {
     "read_only": false
    },
    "tags": [
     "194"
    ]
   },
   "source": [
    "### Exercise 1: Get Acquainted with Notebooks and Python\n",
    "\n",
    "Your first exercise in this book is to get acquainted with notebooks and Python, such that you can run the code examples in the book – and try out your own. Here are a few tasks to get you started."
   ]
  },
  {
   "cell_type": "markdown",
   "metadata": {
    "button": false,
    "new_sheet": true,
    "run_control": {
     "read_only": false
    },
    "tags": [
     "195"
    ]
   },
   "source": [
    "#### Beginner Level: Run Notebooks in Your Browser\n",
    "\n",
    "The easiest way to get access to the code is to run them in your browser.\n",
    "\n",
    "1. From the [Web Page](__CHAPTER_HTML__), check out the menu at the top. Select `Resources` $\\rightarrow$ `Edit as Notebook`.\n",
    "2. After a short waiting time, this will open a Jupyter Notebook right within your browser, containing the current chapter as a notebook.\n",
    "3. You can again scroll through the material, but you click on any code example to edit and run its code (by entering <kbd>Shift</kbd> + <kbd>Return</kbd>). You can edit the examples as you please.\n",
    "4. Note that code examples typically depend on earlier code, so be sure to run the preceding code first.\n",
    "5. Any changes you make will not be saved (unless you save your notebook to disk).\n",
    "\n",
    "For help on Jupyter Notebooks, from the [Web Page](__CHAPTER_HTML__), check out the `Help` menu."
   ]
  },
  {
   "cell_type": "markdown",
   "metadata": {
    "button": false,
    "new_sheet": true,
    "run_control": {
     "read_only": false
    },
    "tags": [
     "196"
    ]
   },
   "source": [
    "#### Advanced Level: Run Python Code on Your Machine\n",
    "\n",
    "This is useful if you want to make greater changes, but do not want to work with Jupyter.\n",
    "\n",
    "1. From the [Web Page](__CHAPTER_HTML__), check out the menu at the top. Select `Resources` $\\rightarrow$ `Download Code`. \n",
    "2. This will download the Python code of the chapter as a single Python .py file, which you can save to your computer.\n",
    "3. You can then open the file, edit it, and run it in your favorite Python environment to re-run the examples.\n",
    "4. Most importantly, you can [import it](Importing.ipynb) into your own code and reuse functions, classes, and other resources.\n",
    "\n",
    "For help on Python, from the [Web Page](__CHAPTER_HTML__), check out the `Help` menu."
   ]
  },
  {
   "cell_type": "markdown",
   "metadata": {
    "button": false,
    "new_sheet": true,
    "run_control": {
     "read_only": false
    },
    "tags": [
     "197"
    ]
   },
   "source": [
    "#### Pro Level: Run Notebooks on Your Machine\n",
    "\n",
    "This is useful if you want to work with Jupyter on your machine. This will allow you to also run more complex examples, such as those with graphical output.\n",
    "\n",
    "\n",
    "1. From the [Web Page](__CHAPTER_HTML__), check out the menu at the top. Select `Resources` $\\rightarrow$ `All Notebooks`.\n",
    "2. This will download all Jupyter Notebooks as a collection of .ipynb files, which you can save to your computer.\n",
    "3. You can then open the notebooks in Jupyter Notebook or Jupyter Lab, edit them, and run them. To navigate across notebooks, open the notebook [`00_Table_of_Contents.ipynb`](00_Table_of_Contents.ipynb).\n",
    "4. You can also download individual notebooks using Select `Resources` $\\rightarrow$ `Download Notebook`. Running these, however, will require that you have the other notebooks downloaded already.\n",
    "\n",
    "For help on Jupyter Notebooks, from the [Web Page](__CHAPTER_HTML__), check out the `Help` menu."
   ]
  },
  {
   "cell_type": "markdown",
   "metadata": {
    "button": false,
    "new_sheet": true,
    "run_control": {
     "read_only": false
    },
    "tags": [
     "198"
    ]
   },
   "source": [
    "#### Boss Level: Contribute!\n",
    "\n",
    "This is useful if you want to contribute to the book with patches or other material. It also gives you access to the very latest version of the book.\n",
    "\n",
    "1. From the [Web Page](__CHAPTER_HTML__), check out the menu at the top. Select `Resources` $\\rightarrow$ `GitHub Repo`.\n",
    "2. This will get you to the GitHub repository which contains all sources of the book, including the latest notebooks.\n",
    "3. You can then _clone_ this repository to your disk, such that you get the latest and greatest.\n",
    "4. You can report issues and suggest pull requests on the GitHub page.\n",
    "5. Updating the repository with `git pull` will get you updated.\n",
    "\n",
    "If you want to contribute code or text, check out the [Guide for Authors](Guide_for_Authors.ipynb)."
   ]
  },
  {
   "cell_type": "markdown",
   "metadata": {
    "button": false,
    "new_sheet": false,
    "run_control": {
     "read_only": false
    },
    "solution2": "hidden",
    "solution2_first": true,
    "tags": [
     "199"
    ]
   },
   "source": [
    "### Exercise 2: More Bugs!\n",
    "\n",
    "You may have noticed that our `remove_html_markup()` function is still not working perfectly under all circumstances.  The error has something to do with different quotes occurring in the input."
   ]
  },
  {
   "cell_type": "markdown",
   "metadata": {
    "button": false,
    "new_sheet": false,
    "run_control": {
     "read_only": false
    },
    "tags": [
     "200"
    ]
   },
   "source": [
    "#### Part 1: Find the Problem\n",
    "\n",
    "What does the problem look like? Set up a test case that demonstrates the problem."
   ]
  },
  {
   "cell_type": "code",
   "execution_count": 146,
   "metadata": {
    "cell_style": "center",
    "tags": [
     "201"
    ]
   },
   "outputs": [],
   "source": [
    "assert(...)"
   ]
  },
  {
   "cell_type": "markdown",
   "metadata": {
    "solution2": "hidden",
    "solution2_first": true,
    "tags": [
     "202"
    ]
   },
   "source": [
    "Set up additional test cases as useful."
   ]
  },
  {
   "cell_type": "markdown",
   "metadata": {
    "button": false,
    "new_sheet": false,
    "run_control": {
     "read_only": false
    },
    "slideshow": {
     "slide_type": "skip"
    },
    "solution2": "hidden",
    "tags": [
     "203"
    ]
   },
   "source": [
    "**Solution.** The remaining problem stems from the fact that in `remove_html_markup()`, we do not differentiate between single and double quotes. Hence, if we have a _quote within a quoted text_, the function may get confused. Notably, a string that begins with a double quote may be interpreted as ending when a single quote is seen, and vice versa. Here's an example of such a string:\n",
    "\n",
    "```html\n",
    "<b title=\"<Shakespeare's play>\">foo</b>\n",
    "```"
   ]
  },
  {
   "cell_type": "markdown",
   "metadata": {
    "slideshow": {
     "slide_type": "skip"
    },
    "solution2": "hidden",
    "tags": [
     "204"
    ]
   },
   "source": [
    "When we remove the HTML markup, the `>` in the string is interpreted as _unquoted_. Hence, it is interpreted as ending the tag, such that the rest of the tag is not removed."
   ]
  },
  {
   "cell_type": "code",
   "execution_count": 147,
   "metadata": {
    "slideshow": {
     "slide_type": "skip"
    },
    "solution2": "hidden",
    "tags": [
     "205"
    ]
   },
   "outputs": [
    {
     "data": {
      "text/plain": [
       "'<b title=\"<Shakespeare\\'s play>\">foo</b>'"
      ]
     },
     "execution_count": 147,
     "metadata": {},
     "output_type": "execute_result"
    }
   ],
   "source": [
    "s = '<b title=\"<Shakespeare' + \"'s play>\" + '\">foo</b>'\n",
    "s"
   ]
  },
  {
   "cell_type": "code",
   "execution_count": 148,
   "metadata": {
    "slideshow": {
     "slide_type": "skip"
    },
    "solution2": "hidden",
    "tags": [
     "206"
    ]
   },
   "outputs": [
    {
     "data": {
      "text/plain": [
       "'\"foo'"
      ]
     },
     "execution_count": 148,
     "metadata": {},
     "output_type": "execute_result"
    }
   ],
   "source": [
    "remove_html_markup(s)"
   ]
  },
  {
   "cell_type": "code",
   "execution_count": 149,
   "metadata": {
    "cell_style": "split",
    "slideshow": {
     "slide_type": "skip"
    },
    "solution2": "hidden",
    "tags": [
     "207"
    ]
   },
   "outputs": [
    {
     "name": "stderr",
     "output_type": "stream",
     "text": [
      "Traceback (most recent call last):\n",
      "  File \"/tmp/ipykernel_58800/2099129847.py\", line 2, in <module>\n",
      "    assert(remove_html_markup(s) == \"foo\")\n",
      "           ^^^^^^^^^^^^^^^^^^^^^^^^^^^^^^\n",
      "AssertionError (expected)\n"
     ]
    }
   ],
   "source": [
    "with ExpectError():\n",
    "    assert(remove_html_markup(s) == \"foo\")"
   ]
  },
  {
   "cell_type": "markdown",
   "metadata": {
    "solution2": "hidden",
    "solution2_first": true,
    "tags": [
     "208"
    ]
   },
   "source": [
    "#### Part 2: Identify Extent and Cause\n",
    "\n",
    "Using the scientific method, identify the extent and cause of the problem. Write down your hypotheses and log your observations, as in\n",
    "\n",
    "|Input|Expectation|Output|Outcome|\n",
    "|-----|-----------|------|-------|\n",
    "|(input)|(expectation)|(output)|(outcome)|\n"
   ]
  },
  {
   "cell_type": "markdown",
   "metadata": {
    "slideshow": {
     "slide_type": "skip"
    },
    "solution2": "hidden",
    "tags": [
     "209"
    ]
   },
   "source": [
    "**Solution.** The first step is obviously\n",
    "\n",
    "|Input|Expectation|Output|Outcome|\n",
    "|-----|-----------|------|-------|\n",
    "|<b title=\"<Shakespeare's play>\">foo</b>|foo|\"foo|✘|\n"
   ]
  },
  {
   "cell_type": "markdown",
   "metadata": {
    "solution2": "hidden",
    "solution2_first": true,
    "tags": [
     "210"
    ]
   },
   "source": [
    "#### Part 3: Fix the Problem\n",
    "\n",
    "Design a fix for the problem. Show that it satisfies the earlier tests and does not violate any existing test."
   ]
  },
  {
   "cell_type": "markdown",
   "metadata": {
    "slideshow": {
     "slide_type": "skip"
    },
    "solution2": "hidden",
    "tags": [
     "211"
    ]
   },
   "source": [
    "**Solution**. Here's an improved implementation that actually tracks the opening and closing quote by storing the quoting character in the `quote` variable. (If `quote` is `''`, we are not in a string.)"
   ]
  },
  {
   "cell_type": "code",
   "execution_count": 150,
   "metadata": {
    "slideshow": {
     "slide_type": "skip"
    },
    "solution2": "hidden",
    "tags": [
     "212"
    ]
   },
   "outputs": [],
   "source": [
    "def remove_html_markup_with_proper_quotes(s):  # type: ignore\n",
    "    tag = False\n",
    "    quote = ''\n",
    "    out = \"\"\n",
    "\n",
    "    for c in s:\n",
    "        assert tag or quote == ''\n",
    "\n",
    "        if c == '<' and quote == '':\n",
    "            tag = True\n",
    "        elif c == '>' and quote == '':\n",
    "            tag = False\n",
    "        elif (c == '\"' or c == \"'\") and tag and quote == '':\n",
    "            # beginning of string\n",
    "            quote = c\n",
    "        elif c == quote:\n",
    "            # end of string\n",
    "            quote = ''\n",
    "        elif not tag:\n",
    "            out = out + c\n",
    "\n",
    "    return out"
   ]
  },
  {
   "cell_type": "markdown",
   "metadata": {
    "slideshow": {
     "slide_type": "skip"
    },
    "solution2": "hidden",
    "tags": [
     "213"
    ]
   },
   "source": [
    "Python enthusiasts may note that we could also write `not quote` instead of `quote == ''`, leaving most of the original code untouched. We stick to classic Boolean comparisons here."
   ]
  },
  {
   "cell_type": "markdown",
   "metadata": {
    "slideshow": {
     "slide_type": "skip"
    },
    "solution2": "hidden",
    "tags": [
     "214"
    ]
   },
   "source": [
    "The function now satisfies the earlier failing test:"
   ]
  },
  {
   "cell_type": "code",
   "execution_count": 151,
   "metadata": {
    "cell_style": "split",
    "slideshow": {
     "slide_type": "skip"
    },
    "solution2": "hidden",
    "tags": [
     "215"
    ]
   },
   "outputs": [],
   "source": [
    "assert(remove_html_markup_with_proper_quotes(s) == \"foo\")"
   ]
  },
  {
   "cell_type": "markdown",
   "metadata": {
    "slideshow": {
     "slide_type": "skip"
    },
    "solution2": "hidden",
    "tags": [
     "216"
    ]
   },
   "source": [
    "as well as all our earlier tests:"
   ]
  },
  {
   "cell_type": "code",
   "execution_count": 152,
   "metadata": {
    "slideshow": {
     "slide_type": "skip"
    },
    "solution2": "hidden",
    "tags": [
     "217"
    ]
   },
   "outputs": [],
   "source": [
    "assert remove_html_markup_with_proper_quotes(\n",
    "    \"Here's some <strong>strong argument</strong>.\") == \\\n",
    "    \"Here's some strong argument.\"\n",
    "assert remove_html_markup_with_proper_quotes(\n",
    "    '<input type=\"text\" value=\"<your name>\">') == \"\"\n",
    "assert remove_html_markup_with_proper_quotes('<b>foo</b>') == 'foo'\n",
    "assert remove_html_markup_with_proper_quotes('<b>\"foo\"</b>') == '\"foo\"'\n",
    "assert remove_html_markup_with_proper_quotes('\"<b>foo</b>\"') == '\"foo\"'\n",
    "assert remove_html_markup_with_proper_quotes('<b id=\"bar\">foo</b>') == 'foo'"
   ]
  }
 ],
 "metadata": {
  "celltoolbar": "Tags",
  "ipub": {
   "bibliography": "fuzzingbook.bib",
   "toc": true
  },
  "kernelspec": {
   "display_name": "Python 3 (ipykernel)",
   "language": "python",
   "name": "python3"
  },
  "language_info": {
   "codemirror_mode": {
    "name": "ipython",
    "version": 3
   },
   "file_extension": ".py",
   "mimetype": "text/x-python",
   "name": "python",
   "nbconvert_exporter": "python",
   "pygments_lexer": "ipython3",
   "version": "3.12.3"
  },
  "toc": {
   "base_numbering": 1,
   "nav_menu": {},
   "number_sections": true,
   "sideBar": true,
   "skip_h1_title": true,
   "title_cell": "",
   "title_sidebar": "Contents",
   "toc_cell": false,
   "toc_position": {},
   "toc_section_display": true,
   "toc_window_display": true
  },
  "toc-autonumbering": false
 },
 "nbformat": 4,
 "nbformat_minor": 4
}

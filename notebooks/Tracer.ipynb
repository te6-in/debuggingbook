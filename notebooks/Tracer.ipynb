{
  "cells": [
    {
      "cell_type": "markdown",
      "metadata": {
        "button": false,
        "new_sheet": false,
        "run_control": {
          "read_only": false
        },
        "tags": [
          "1"
        ]
      },
      "source": [
        "# Tracing Executions\n",
        "\n",
        "In this chapter, we show how to _observe program state during an execution_ \u2013\u00a0a prerequisite for logging and interactive debugging. Thanks to the power of Python, we can do this in a few lines of code."
      ]
    },
    {
      "cell_type": "code",
      "execution_count": 1,
      "metadata": {
        "tags": [
          "2"
        ]
      },
      "outputs": [
        {
          "data": {
            "text/html": [
              "\n",
              "        <iframe\n",
              "            width=\"640\"\n",
              "            height=\"360\"\n",
              "            src=\"https://www.youtube-nocookie.com/embed/UYAvCl-5NGY\"\n",
              "            frameborder=\"0\"\n",
              "            allowfullscreen\n",
              "            \n",
              "        ></iframe>\n",
              "        "
            ],
            "text/plain": [
              "<IPython.lib.display.IFrame at 0xe94d342f95b0>"
            ]
          },
          "execution_count": 1,
          "metadata": {},
          "output_type": "execute_result"
        }
      ],
      "source": [
        "from bookutils import YouTubeVideo\n",
        "YouTubeVideo(\"UYAvCl-5NGY\")"
      ]
    },
    {
      "cell_type": "markdown",
      "metadata": {
        "button": false,
        "new_sheet": false,
        "run_control": {
          "read_only": false
        },
        "tags": [
          "3"
        ]
      },
      "source": [
        "**Prerequisites**\n",
        "\n",
        "* You should have read the [Introduction to Debugging](Intro_Debugging.ipynb).\n",
        "* Knowing a bit of _Python_ is helpful for understanding the code examples in the book."
      ]
    },
    {
      "cell_type": "code",
      "execution_count": 2,
      "metadata": {
        "button": false,
        "new_sheet": false,
        "run_control": {
          "read_only": false
        },
        "slideshow": {
          "slide_type": "skip"
        },
        "tags": [
          "4"
        ]
      },
      "outputs": [],
      "source": [
        "import bookutils.setup"
      ]
    },
    {
      "cell_type": "code",
      "execution_count": 3,
      "metadata": {
        "tags": [
          "5"
        ]
      },
      "outputs": [],
      "source": [
        "from bookutils import quiz"
      ]
    },
    {
      "cell_type": "code",
      "execution_count": 4,
      "metadata": {
        "tags": [
          "6"
        ]
      },
      "outputs": [],
      "source": [
        "import Intro_Debugging"
      ]
    },
    {
      "cell_type": "markdown",
      "metadata": {
        "slideshow": {
          "slide_type": "skip"
        },
        "tags": [
          "7"
        ]
      },
      "source": [
        "## Synopsis\n",
        "<!-- Automatically generated. Do not edit. -->\n",
        "\n",
        "To [use the code provided in this chapter](Importing.ipynb), write\n",
        "\n",
        "```python\n",
        ">>> from debuggingbook.Tracer import <identifier>\n",
        "```\n",
        "\n",
        "and then make use of the following features.\n",
        "\n",
        "\n",
        "This chapter provides a `Tracer` class that allows logging events during program execution. The advanced subclass `EventTracer` allows restricting logs to specific conditions. Logs are shown only while the given `condition` holds:\n",
        "\n",
        "```python\n",
        ">>> with EventTracer(condition='line == 223 or len(out) >= 6'):\n",
        ">>>     remove_html_markup('<b>foo</b>bar')\n",
        "```\n",
        "It also allows restricting logs to specific events. Log entries are shown only if one of the given `events` changes its value:\n",
        "\n",
        "```python\n",
        ">>> with EventTracer(events=[\"c == '/'\"]):\n",
        ">>>     remove_html_markup('<b>foo</b>bar')\n",
        "```\n",
        "`Tracer` and `EventTracer` classes allow for subclassing and further customization.\n",
        "\n"
      ]
    },
    {
      "cell_type": "markdown",
      "metadata": {
        "button": false,
        "new_sheet": false,
        "run_control": {
          "read_only": false
        },
        "tags": [
          "8"
        ]
      },
      "source": [
        "## Tracing Python Programs\n",
        "\n",
        "How do debugging tools access the state of a program during execution? For _interpreted_ languages such as Python, this is a simple task. If a language is interpreted, it is typically fairly easy to control execution and to inspect state \u2013 since this is what the interpreter is doing already anyway. Debuggers are then implemented on top of _hooks_ that allow interrupting execution and accessing program state."
      ]
    },
    {
      "cell_type": "markdown",
      "metadata": {
        "button": false,
        "new_sheet": false,
        "run_control": {
          "read_only": false
        },
        "tags": [
          "9"
        ]
      },
      "source": [
        "Python makes such a hook available in the function `sys.settrace()`. You invoke it with a *tracing function* that will be called at every line executed, as in\n",
        "\n",
        "```python\n",
        "sys.settrace(traceit)\n",
        "```\n",
        "\n",
        "Such a tracing function is convenient, as it simply traces _everything_. In contrast to an interactive debugger, where you have to select which aspect of the execution you're interested in, you can just print out a long trace into an *execution log*, to examine it later.\n",
        "\n",
        "This tracing function takes the format"
      ]
    },
    {
      "cell_type": "code",
      "execution_count": 5,
      "metadata": {
        "tags": [
          "10"
        ]
      },
      "outputs": [],
      "source": [
        "from types import FrameType, TracebackType"
      ]
    },
    {
      "cell_type": "code",
      "execution_count": 6,
      "metadata": {
        "tags": [
          "11"
        ]
      },
      "outputs": [],
      "source": [
        "# ignore\n",
        "from typing import Any, Optional, Callable, Dict, List, Type, TextIO, cast"
      ]
    },
    {
      "cell_type": "code",
      "execution_count": 7,
      "metadata": {
        "tags": [
          "12"
        ]
      },
      "outputs": [],
      "source": [
        "def traceit(frame: FrameType, event: str, arg: Any) -> Optional[Callable]:\n",
        "    ..."
      ]
    },
    {
      "cell_type": "markdown",
      "metadata": {
        "tags": [
          "13"
        ]
      },
      "source": [
        "Here, `event` is a string telling what has happened in the program \u2013\u00a0for instance,\n",
        "\n",
        "* `'line'` \u2013 a new line is executed\n",
        "* `'call'` \u2013 a function just has been called\n",
        "* `'return'` \u2013 a function returns"
      ]
    },
    {
      "cell_type": "markdown",
      "metadata": {
        "tags": [
          "14"
        ]
      },
      "source": [
        "The `frame` argument holds the current execution frame \u2013 that is, the function and its local variables:\n",
        "\n",
        "* `frame.f_lineno` \u2013 the current line\n",
        "* `frame.f_locals` \u2013 the current variables (as a Python dictionary)\n",
        "* `frame.f_code` \u2013 the current code (as a Code object), with attributes such as\n",
        "    * `frame.f_code.co_name` \u2013 the name of the current function"
      ]
    },
    {
      "cell_type": "markdown",
      "metadata": {
        "tags": [
          "15"
        ]
      },
      "source": [
        "We can thus get a *trace* of the program by simply printing out these values:"
      ]
    },
    {
      "cell_type": "code",
      "execution_count": 8,
      "metadata": {
        "tags": [
          "16"
        ]
      },
      "outputs": [],
      "source": [
        "def traceit(frame: FrameType, event: str, arg: Any) -> Optional[Callable]:  # type: ignore\n",
        "    print(event, frame.f_lineno, frame.f_code.co_name, frame.f_locals)"
      ]
    },
    {
      "cell_type": "markdown",
      "metadata": {
        "tags": [
          "17"
        ]
      },
      "source": [
        "The return value of the trace function is the function to be executed at the next event \u2013 typically, this is the function itself:"
      ]
    },
    {
      "cell_type": "code",
      "execution_count": 9,
      "metadata": {
        "tags": [
          "18"
        ]
      },
      "outputs": [],
      "source": [
        "def traceit(frame: FrameType, event: str, arg: Any) -> Optional[Callable]:  # type: ignore\n",
        "    print(event, frame.f_lineno, frame.f_code.co_name, frame.f_locals)\n",
        "    return traceit"
      ]
    },
    {
      "cell_type": "markdown",
      "metadata": {
        "tags": [
          "19"
        ]
      },
      "source": [
        "Let us try this out on the `remove_html_markup()` function introduced in the [Introduction to Debugging](Intro_Debugging.ipynb):"
      ]
    },
    {
      "cell_type": "code",
      "execution_count": 10,
      "metadata": {
        "tags": [
          "20"
        ]
      },
      "outputs": [],
      "source": [
        "from Intro_Debugging import remove_html_markup"
      ]
    },
    {
      "cell_type": "code",
      "execution_count": 11,
      "metadata": {
        "tags": [
          "21"
        ]
      },
      "outputs": [],
      "source": [
        "import inspect"
      ]
    },
    {
      "cell_type": "code",
      "execution_count": 12,
      "metadata": {
        "tags": [
          "22"
        ]
      },
      "outputs": [],
      "source": [
        "from bookutils import print_content"
      ]
    },
    {
      "cell_type": "code",
      "execution_count": 13,
      "metadata": {
        "tags": [
          "23"
        ]
      },
      "outputs": [
        {
          "name": "stdout",
          "output_type": "stream",
          "text": [
            "238  \u001b[34mdef\u001b[39;49;00m\u001b[37m \u001b[39;49;00m\u001b[32mremove_html_markup\u001b[39;49;00m(s):  \u001b[37m# type: ignore\u001b[39;49;00m\u001b[37m\u001b[39;49;00m\n",
            "239      tag = \u001b[34mFalse\u001b[39;49;00m\u001b[37m\u001b[39;49;00m\n",
            "240      quote = \u001b[34mFalse\u001b[39;49;00m\u001b[37m\u001b[39;49;00m\n",
            "241      out = \u001b[33m\"\u001b[39;49;00m\u001b[33m\"\u001b[39;49;00m\u001b[37m\u001b[39;49;00m\n",
            "242  \u001b[37m\u001b[39;49;00m\n",
            "243      \u001b[34mfor\u001b[39;49;00m c \u001b[35min\u001b[39;49;00m s:\u001b[37m\u001b[39;49;00m\n",
            "244          \u001b[34massert\u001b[39;49;00m tag \u001b[35mor\u001b[39;49;00m \u001b[35mnot\u001b[39;49;00m quote\u001b[37m\u001b[39;49;00m\n",
            "245  \u001b[37m\u001b[39;49;00m\n",
            "246          \u001b[34mif\u001b[39;49;00m c == \u001b[33m'\u001b[39;49;00m\u001b[33m<\u001b[39;49;00m\u001b[33m'\u001b[39;49;00m \u001b[35mand\u001b[39;49;00m \u001b[35mnot\u001b[39;49;00m quote:\u001b[37m\u001b[39;49;00m\n",
            "247              tag = \u001b[34mTrue\u001b[39;49;00m\u001b[37m\u001b[39;49;00m\n",
            "248          \u001b[34melif\u001b[39;49;00m c == \u001b[33m'\u001b[39;49;00m\u001b[33m>\u001b[39;49;00m\u001b[33m'\u001b[39;49;00m \u001b[35mand\u001b[39;49;00m \u001b[35mnot\u001b[39;49;00m quote:\u001b[37m\u001b[39;49;00m\n",
            "249              tag = \u001b[34mFalse\u001b[39;49;00m\u001b[37m\u001b[39;49;00m\n",
            "250          \u001b[34melif\u001b[39;49;00m (c == \u001b[33m'\u001b[39;49;00m\u001b[33m\"\u001b[39;49;00m\u001b[33m'\u001b[39;49;00m \u001b[35mor\u001b[39;49;00m c == \u001b[33m\"\u001b[39;49;00m\u001b[33m'\u001b[39;49;00m\u001b[33m\"\u001b[39;49;00m) \u001b[35mand\u001b[39;49;00m tag:\u001b[37m\u001b[39;49;00m\n",
            "251              quote = \u001b[35mnot\u001b[39;49;00m quote\u001b[37m\u001b[39;49;00m\n",
            "252          \u001b[34melif\u001b[39;49;00m \u001b[35mnot\u001b[39;49;00m tag:\u001b[37m\u001b[39;49;00m\n",
            "253              out = out + c\u001b[37m\u001b[39;49;00m\n",
            "254  \u001b[37m\u001b[39;49;00m\n",
            "255      \u001b[34mreturn\u001b[39;49;00m out\u001b[37m\u001b[39;49;00m"
          ]
        }
      ],
      "source": [
        "content, start_line_number = inspect.getsourcelines(remove_html_markup)\n",
        "print_content(content=\"\".join(content).strip(), filename='.py', start_line_number=start_line_number)"
      ]
    },
    {
      "cell_type": "markdown",
      "metadata": {
        "tags": [
          "24"
        ]
      },
      "source": [
        "We define a variant `remove_html_markup_traced()` which turns on tracing, invokes `remove_html_markup()`, and turns tracing off again."
      ]
    },
    {
      "cell_type": "code",
      "execution_count": 14,
      "metadata": {
        "tags": [
          "25"
        ]
      },
      "outputs": [],
      "source": [
        "import sys"
      ]
    },
    {
      "cell_type": "code",
      "execution_count": 15,
      "metadata": {
        "tags": [
          "26"
        ]
      },
      "outputs": [],
      "source": [
        "def remove_html_markup_traced(s):  # type: ignore\n",
        "    sys.settrace(traceit)\n",
        "    ret = remove_html_markup(s)\n",
        "    sys.settrace(None)\n",
        "    return ret"
      ]
    },
    {
      "cell_type": "markdown",
      "metadata": {
        "tags": [
          "27"
        ]
      },
      "source": [
        "Here is what we get when we run `remove_html_markup_traced()`:\n",
        "* We first get a `call` event (showing the call of `remove_html_markup()`)\n",
        "* We then get various `line` events (for each line of `remove_html_markup()`)\n",
        "* In the end, we get a `return` event (showing the return from `remove_html_markup()`)"
      ]
    },
    {
      "cell_type": "code",
      "execution_count": 16,
      "metadata": {
        "tags": [
          "28"
        ]
      },
      "outputs": [
        {
          "name": "stdout",
          "output_type": "stream",
          "text": [
            "call 238 remove_html_markup {'s': 'xyz'}\n",
            "line 239 remove_html_markup {'s': 'xyz'}\n",
            "line 240 remove_html_markup {'s': 'xyz', 'tag': False}\n",
            "line 241 remove_html_markup {'s': 'xyz', 'tag': False, 'quote': False}\n",
            "line 243 remove_html_markup {'s': 'xyz', 'tag': False, 'quote': False, 'out': ''}\n",
            "line 244 remove_html_markup {'s': 'xyz', 'tag': False, 'quote': False, 'out': '', 'c': 'x'}\n",
            "line 246 remove_html_markup {'s': 'xyz', 'tag': False, 'quote': False, 'out': '', 'c': 'x'}\n",
            "line 248 remove_html_markup {'s': 'xyz', 'tag': False, 'quote': False, 'out': '', 'c': 'x'}\n",
            "line 250 remove_html_markup {'s': 'xyz', 'tag': False, 'quote': False, 'out': '', 'c': 'x'}\n",
            "line 252 remove_html_markup {'s': 'xyz', 'tag': False, 'quote': False, 'out': '', 'c': 'x'}\n",
            "line 253 remove_html_markup {'s': 'xyz', 'tag': False, 'quote': False, 'out': '', 'c': 'x'}\n",
            "line 243 remove_html_markup {'s': 'xyz', 'tag': False, 'quote': False, 'out': 'x', 'c': 'x'}\n",
            "line 244 remove_html_markup {'s': 'xyz', 'tag': False, 'quote': False, 'out': 'x', 'c': 'y'}\n",
            "line 246 remove_html_markup {'s': 'xyz', 'tag': False, 'quote': False, 'out': 'x', 'c': 'y'}\n",
            "line 248 remove_html_markup {'s': 'xyz', 'tag': False, 'quote': False, 'out': 'x', 'c': 'y'}\n",
            "line 250 remove_html_markup {'s': 'xyz', 'tag': False, 'quote': False, 'out': 'x', 'c': 'y'}\n",
            "line 252 remove_html_markup {'s': 'xyz', 'tag': False, 'quote': False, 'out': 'x', 'c': 'y'}\n",
            "line 253 remove_html_markup {'s': 'xyz', 'tag': False, 'quote': False, 'out': 'x', 'c': 'y'}\n",
            "line 243 remove_html_markup {'s': 'xyz', 'tag': False, 'quote': False, 'out': 'xy', 'c': 'y'}\n",
            "line 244 remove_html_markup {'s': 'xyz', 'tag': False, 'quote': False, 'out': 'xy', 'c': 'z'}\n",
            "line 246 remove_html_markup {'s': 'xyz', 'tag': False, 'quote': False, 'out': 'xy', 'c': 'z'}\n",
            "line 248 remove_html_markup {'s': 'xyz', 'tag': False, 'quote': False, 'out': 'xy', 'c': 'z'}\n",
            "line 250 remove_html_markup {'s': 'xyz', 'tag': False, 'quote': False, 'out': 'xy', 'c': 'z'}\n",
            "line 252 remove_html_markup {'s': 'xyz', 'tag': False, 'quote': False, 'out': 'xy', 'c': 'z'}\n",
            "line 253 remove_html_markup {'s': 'xyz', 'tag': False, 'quote': False, 'out': 'xy', 'c': 'z'}\n",
            "line 243 remove_html_markup {'s': 'xyz', 'tag': False, 'quote': False, 'out': 'xyz', 'c': 'z'}\n",
            "line 255 remove_html_markup {'s': 'xyz', 'tag': False, 'quote': False, 'out': 'xyz', 'c': 'z'}\n",
            "return 255 remove_html_markup {'s': 'xyz', 'tag': False, 'quote': False, 'out': 'xyz', 'c': 'z'}\n"
          ]
        },
        {
          "data": {
            "text/plain": [
              "'xyz'"
            ]
          },
          "execution_count": 16,
          "metadata": {},
          "output_type": "execute_result"
        }
      ],
      "source": [
        "remove_html_markup_traced('xyz')"
      ]
    },
    {
      "cell_type": "markdown",
      "metadata": {
        "tags": [
          "29"
        ]
      },
      "source": [
        "During the execution, we also see all local _variables_. As `remove_html_markup()` is called at the very beginning, the parameter `s` holds the argument `\"xyz\"`. As more local variables are being assigned, these show up in our dictionary of local variables."
      ]
    },
    {
      "cell_type": "markdown",
      "metadata": {
        "tags": [
          "30"
        ]
      },
      "source": [
        "We see how the variable `c` takes one character of the input string at a time; the `out` variable accumulates them.  and the `tag` and `quote` flags stay unchanged throughout the execution."
      ]
    },
    {
      "cell_type": "markdown",
      "metadata": {
        "tags": [
          "31"
        ]
      },
      "source": [
        "An interesting aspect is that we can actually _access_ all these local variables as regular Python objects. We can, for instance, separately access the value of `c` by looking up `frame.f_locals['c']`:"
      ]
    },
    {
      "cell_type": "code",
      "execution_count": 17,
      "metadata": {
        "tags": [
          "32"
        ]
      },
      "outputs": [],
      "source": [
        "def traceit(frame: FrameType, event: str, arg: Any) -> Optional[Callable]:  # type: ignore\n",
        "    if 'c' in frame.f_locals:\n",
        "        value_of_c = frame.f_locals['c']\n",
        "        print(f\"{frame.f_lineno:} c = {repr(value_of_c)}\")\n",
        "    else:\n",
        "        print(f\"{frame.f_lineno:} c is undefined\")\n",
        "\n",
        "    return traceit"
      ]
    },
    {
      "cell_type": "markdown",
      "metadata": {
        "tags": [
          "33"
        ]
      },
      "source": [
        "This allows us to specifically monitor individual variables:"
      ]
    },
    {
      "cell_type": "code",
      "execution_count": 18,
      "metadata": {
        "tags": [
          "34"
        ]
      },
      "outputs": [
        {
          "name": "stdout",
          "output_type": "stream",
          "text": [
            "238 c is undefined\n",
            "239 c is undefined\n",
            "240 c is undefined\n",
            "241 c is undefined\n",
            "243 c is undefined\n",
            "244 c = 'x'\n",
            "246 c = 'x'\n",
            "248 c = 'x'\n",
            "250 c = 'x'\n",
            "252 c = 'x'\n",
            "253 c = 'x'\n",
            "243 c = 'x'\n",
            "244 c = 'y'\n",
            "246 c = 'y'\n",
            "248 c = 'y'\n",
            "250 c = 'y'\n",
            "252 c = 'y'\n",
            "253 c = 'y'\n",
            "243 c = 'y'\n",
            "244 c = 'z'\n",
            "246 c = 'z'\n",
            "248 c = 'z'\n",
            "250 c = 'z'\n",
            "252 c = 'z'\n",
            "253 c = 'z'\n",
            "243 c = 'z'\n",
            "255 c = 'z'\n",
            "255 c = 'z'\n"
          ]
        },
        {
          "data": {
            "text/plain": [
              "'xyz'"
            ]
          },
          "execution_count": 18,
          "metadata": {},
          "output_type": "execute_result"
        }
      ],
      "source": [
        "remove_html_markup_traced('xyz')"
      ]
    },
    {
      "cell_type": "markdown",
      "metadata": {
        "tags": [
          "35"
        ]
      },
      "source": [
        "This tracing capability is tremendously powerful \u2013 actually, it is one of the reasons this book uses Python all over the place. In most other languages, inspecting the program state during execution is much more complex than the handful of lines we have needed so far."
      ]
    },
    {
      "cell_type": "markdown",
      "metadata": {
        "tags": [
          "36"
        ]
      },
      "source": [
        "To learn more about `sys.settrace()`, spend a moment to look up [its documentation in the Python reference](https://docs.python.org/3/library/sys.html)."
      ]
    },
    {
      "cell_type": "code",
      "execution_count": 19,
      "metadata": {
        "tags": [
          "37"
        ]
      },
      "outputs": [],
      "source": [
        "# ignore\n",
        "import math"
      ]
    },
    {
      "cell_type": "code",
      "execution_count": 20,
      "metadata": {
        "tags": [
          "38"
        ]
      },
      "outputs": [
        {
          "data": {
            "text/html": [
              "\n",
              "    \n",
              "    <script>\n",
              "    var bad_answers = new Map();\n",
              "\n",
              "    function answer(quiz_id) {\n",
              "        ans = 0;\n",
              "        for (i = 1;; i++) {\n",
              "            checkbox = document.getElementById(quiz_id + \"-\" + i.toString());\n",
              "            if (!checkbox)\n",
              "                break;\n",
              "            if (checkbox.checked)\n",
              "                ans |= (1 << i);\n",
              "        }\n",
              "        return ans;\n",
              "    }\n",
              "    function check_selection(quiz_id, correct_answer, multiple_choice, hint) {\n",
              "        given_answer = answer(quiz_id);\n",
              "        if (given_answer == correct_answer)\n",
              "        {\n",
              "            document.getElementById(quiz_id + \"-submit\").value = \"Correct!\";\n",
              "            document.getElementById(quiz_id + \"-hint\").innerHTML = \"\";\n",
              "\n",
              "            for (i = 1;; i++) {\n",
              "                checkbox = document.getElementById(quiz_id + \"-\" + i.toString());\n",
              "                label = document.getElementById(quiz_id + \"-\" + i.toString() + \"-label\")\n",
              "                if (!checkbox)\n",
              "                    break;\n",
              "\n",
              "                if (checkbox.checked) {\n",
              "                    label.style.fontWeight = \"bold\";\n",
              "                }\n",
              "                else {\n",
              "                    label.style.textDecoration = \"line-through\";\n",
              "                }\n",
              "            }\n",
              "        }\n",
              "        else \n",
              "        {\n",
              "            document.getElementById(quiz_id + \"-submit\").value = \"Try again\";\n",
              "\n",
              "            if (!bad_answers.has(quiz_id)) {\n",
              "                bad_answers.set(quiz_id, 1);\n",
              "            }\n",
              "            else {\n",
              "                bad_answers.set(quiz_id, bad_answers.get(quiz_id) + 1);\n",
              "            }\n",
              "\n",
              "            if (bad_answers.get(quiz_id) >= 2 && hint.length > 0) {\n",
              "                document.getElementById(quiz_id + \"-hint\").innerHTML = \n",
              "                    \"&nbsp;&nbsp;(Hint: <code>\" + hint + \"</code>)\";\n",
              "            }\n",
              "\n",
              "            if (!multiple_choice) {\n",
              "                for (i = 1;; i++) {\n",
              "                    checkbox = document.getElementById(quiz_id + \"-\" + i.toString());\n",
              "                    label = document.getElementById(quiz_id + \"-\" + i.toString() + \"-label\")\n",
              "\n",
              "                    if (!checkbox)\n",
              "                        break;\n",
              "                    if (checkbox.checked) {\n",
              "                        label.style.textDecoration = \"line-through\";\n",
              "                    }\n",
              "                }\n",
              "            }\n",
              "        }\n",
              "    }\n",
              "    function clear_selection(quiz_id) {\n",
              "        document.getElementById(quiz_id + \"-submit\").value = \"Submit\";\n",
              "        document.getElementById(quiz_id + \"-hint\").innerHTML = \"\";\n",
              "    }\n",
              "    </script>\n",
              "    \n",
              "    <div class=\"quiz\">\n",
              "    <h3 class=\"quiz_title\">Quiz</h3>\n",
              "    <p>\n",
              "    <div class=\"quiz_question\">What happens if the tracing function returns <code>None</code> while tracing function <code>f()</code>? (You can also try this out yourself.)</div>\n",
              "    </p>\n",
              "    <p>\n",
              "    <div class=\"quiz_options\" title=\"Pick a choice.\">\n",
              "    \n",
              "        <input type=\"radio\" name=\"fe533251-0869-11f0-a588-8e7f246f068f\" id=\"fe533251-0869-11f0-a588-8e7f246f068f-1\" onclick=\"clear_selection('fe533251-0869-11f0-a588-8e7f246f068f')\">\n",
              "        <label id=\"fe533251-0869-11f0-a588-8e7f246f068f-1-label\" for=\"fe533251-0869-11f0-a588-8e7f246f068f-1\">Tracing stops for all functions; the tracing function is no longer called</label><br>\n",
              "    \n",
              "        <input type=\"radio\" name=\"fe533251-0869-11f0-a588-8e7f246f068f\" id=\"fe533251-0869-11f0-a588-8e7f246f068f-2\" onclick=\"clear_selection('fe533251-0869-11f0-a588-8e7f246f068f')\">\n",
              "        <label id=\"fe533251-0869-11f0-a588-8e7f246f068f-2-label\" for=\"fe533251-0869-11f0-a588-8e7f246f068f-2\">Tracing stops for <code>f()</code>: the tracing function is called when <code>f()</code> returns</label><br>\n",
              "    \n",
              "        <input type=\"radio\" name=\"fe533251-0869-11f0-a588-8e7f246f068f\" id=\"fe533251-0869-11f0-a588-8e7f246f068f-3\" onclick=\"clear_selection('fe533251-0869-11f0-a588-8e7f246f068f')\">\n",
              "        <label id=\"fe533251-0869-11f0-a588-8e7f246f068f-3-label\" for=\"fe533251-0869-11f0-a588-8e7f246f068f-3\">Tracing stops for <code>f()</code> the rest of the execution: the tracing function is no longer called for calls to <code>f()</code></label><br>\n",
              "    \n",
              "        <input type=\"radio\" name=\"fe533251-0869-11f0-a588-8e7f246f068f\" id=\"fe533251-0869-11f0-a588-8e7f246f068f-4\" onclick=\"clear_selection('fe533251-0869-11f0-a588-8e7f246f068f')\">\n",
              "        <label id=\"fe533251-0869-11f0-a588-8e7f246f068f-4-label\" for=\"fe533251-0869-11f0-a588-8e7f246f068f-4\">Nothing changes</label><br>\n",
              "    \n",
              "    </div>\n",
              "    </p>\n",
              "    <input id=\"fe533251-0869-11f0-a588-8e7f246f068f-submit\" type=\"submit\" value=\"Submit\" onclick=\"check_selection('fe533251-0869-11f0-a588-8e7f246f068f', 4, 0, 'int(math.log(7.38905609893065))')\">\n",
              "    <span class=\"quiz_hint\" id=\"fe533251-0869-11f0-a588-8e7f246f068f-hint\"></span>\n",
              "    </div>\n",
              "    "
            ],
            "text/plain": [
              "<IPython.core.display.HTML object>"
            ]
          },
          "execution_count": 20,
          "metadata": {},
          "output_type": "execute_result"
        }
      ],
      "source": [
        "quiz(\"What happens if the tracing function returns `None` while tracing function `f()`?\"\n",
        "     \" (You can also try this out yourself.)\",\n",
        "     [\n",
        "         'Tracing stops for all functions;'\n",
        "         ' the tracing function is no longer called',\n",
        "         'Tracing stops for `f()`: the tracing function is called when `f()` returns',\n",
        "         'Tracing stops for `f()` the rest of the execution: the tracing function'\n",
        "         ' is no longer called for calls to `f()`',\n",
        "         'Nothing changes'\n",
        "     ], \"int(math.log(7.38905609893065))\", globals())"
      ]
    },
    {
      "cell_type": "markdown",
      "metadata": {
        "tags": [
          "39"
        ]
      },
      "source": [
        "Indeed, as listed in the documentation: if `sys.settrace()` returns `None`, then tracing stops for the current scope; tracing will resume when the current function returns. This can be helpful for momentarily disable (expensive) tracing."
      ]
    },
    {
      "cell_type": "markdown",
      "metadata": {
        "tags": [
          "40"
        ]
      },
      "source": [
        "## A Tracer Class"
      ]
    },
    {
      "cell_type": "markdown",
      "metadata": {
        "tags": [
          "41"
        ]
      },
      "source": [
        "Let us refine our tracing function a bit. First, it would be nice if one could actually _customize_ tracing just as needed. To this end, we introduce a `Tracer` class that does all the formatting for us, and which can be _subclassed_ to allow for different output formats."
      ]
    },
    {
      "cell_type": "markdown",
      "metadata": {
        "tags": [
          "42"
        ]
      },
      "source": [
        "The `traceit()` method in `Tracer` is the same as above, and again is set up via `sys.settrace()`. It uses a `log()` method after the Python `print()` function."
      ]
    },
    {
      "cell_type": "markdown",
      "metadata": {
        "tags": [
          "43"
        ]
      },
      "source": [
        "The typical usage of `Tracer`, however, is as follows:\n",
        "\n",
        "```python\n",
        "with Tracer():\n",
        "    # Code to be traced\n",
        "    ...\n",
        "\n",
        "# Code no longer traced\n",
        "...\n",
        "```\n",
        "\n",
        "When the `with` statement is encountered, the `__enter__()` method is called, which starts tracing. When the `with` block ends, the `__exit__()` method is called, and tracing is turned off. We take special care that the internal `__exit__()` method is not part of the trace, and that any other tracing function that was active before is being restored."
      ]
    },
    {
      "cell_type": "markdown",
      "metadata": {
        "tags": [
          "44"
        ]
      },
      "source": [
        "We build `Tracer` on top of a class named `StackInspector`, whose `our_frame()` and `is_internal_error()` methods us with providing better diagnostics in case of error."
      ]
    },
    {
      "cell_type": "code",
      "execution_count": 21,
      "metadata": {
        "tags": [
          "45"
        ]
      },
      "outputs": [],
      "source": [
        "from StackInspector import StackInspector"
      ]
    },
    {
      "cell_type": "code",
      "execution_count": 22,
      "metadata": {
        "tags": [
          "46"
        ]
      },
      "outputs": [],
      "source": [
        "class Tracer(StackInspector):\n",
        "    \"\"\"A class for tracing a piece of code. Use as `with Tracer(): block()`\"\"\"\n",
        "\n",
        "    def __init__(self, *, file: TextIO = sys.stdout) -> None:\n",
        "        \"\"\"Trace a block of code, sending logs to `file` (default: stdout)\"\"\"\n",
        "        self.original_trace_function: Optional[Callable] = None\n",
        "        self.file = file\n",
        "\n",
        "    def traceit(self, frame: FrameType, event: str, arg: Any) -> None:\n",
        "        \"\"\"Tracing function. To be overridden in subclasses.\"\"\"\n",
        "        self.log(event, frame.f_lineno, frame.f_code.co_name, frame.f_locals)\n",
        "\n",
        "    def _traceit(self, frame: FrameType, event: str, arg: Any) -> Optional[Callable]:\n",
        "        \"\"\"Internal tracing function.\"\"\"\n",
        "        if self.our_frame(frame):\n",
        "            # Do not trace our own methods\n",
        "            pass\n",
        "        else:\n",
        "            self.traceit(frame, event, arg)\n",
        "        return self._traceit\n",
        "\n",
        "    def log(self, *objects: Any, \n",
        "            sep: str = ' ', end: str = '\\n', \n",
        "            flush: bool = True) -> None:\n",
        "        \"\"\"\n",
        "        Like `print()`, but always sending to `file` given at initialization,\n",
        "        and flushing by default.\n",
        "        \"\"\"\n",
        "        print(*objects, sep=sep, end=end, file=self.file, flush=flush)\n",
        "\n",
        "    def __enter__(self) -> Any:\n",
        "        \"\"\"Called at begin of `with` block. Turn tracing on.\"\"\"\n",
        "        self.original_trace_function = sys.gettrace()\n",
        "        sys.settrace(self._traceit)\n",
        "\n",
        "        # This extra line also enables tracing for the current block\n",
        "        # inspect.currentframe().f_back.f_trace = self._traceit\n",
        "        return self\n",
        "\n",
        "    def __exit__(self, exc_tp: Type, exc_value: BaseException, \n",
        "                 exc_traceback: TracebackType) -> Optional[bool]:\n",
        "        \"\"\"\n",
        "        Called at end of `with` block. Turn tracing off.\n",
        "        Return `None` if ok, not `None` if internal error.\n",
        "        \"\"\"\n",
        "        sys.settrace(self.original_trace_function)\n",
        "\n",
        "        # Note: we must return a non-True value here,\n",
        "        # such that we re-raise all exceptions\n",
        "        if self.is_internal_error(exc_tp, exc_value, exc_traceback):\n",
        "            return False  # internal error\n",
        "        else:\n",
        "            return None  # all ok"
      ]
    },
    {
      "cell_type": "markdown",
      "metadata": {
        "tags": [
          "47"
        ]
      },
      "source": [
        "Here's how we use the `Tracer` class. You see that everything works as before, except that it is nicer to use:"
      ]
    },
    {
      "cell_type": "code",
      "execution_count": 23,
      "metadata": {
        "tags": [
          "48"
        ]
      },
      "outputs": [
        {
          "name": "stdout",
          "output_type": "stream",
          "text": [
            "call 238 remove_html_markup {'s': 'abc'}\n",
            "line 239 remove_html_markup {'s': 'abc'}\n",
            "line 240 remove_html_markup {'s': 'abc', 'tag': False}\n",
            "line 241 remove_html_markup {'s': 'abc', 'tag': False, 'quote': False}\n",
            "line 243 remove_html_markup {'s': 'abc', 'tag': False, 'quote': False, 'out': ''}\n",
            "line 244 remove_html_markup {'s': 'abc', 'tag': False, 'quote': False, 'out': '', 'c': 'a'}\n",
            "line 246 remove_html_markup {'s': 'abc', 'tag': False, 'quote': False, 'out': '', 'c': 'a'}\n",
            "line 248 remove_html_markup {'s': 'abc', 'tag': False, 'quote': False, 'out': '', 'c': 'a'}\n",
            "line 250 remove_html_markup {'s': 'abc', 'tag': False, 'quote': False, 'out': '', 'c': 'a'}\n",
            "line 252 remove_html_markup {'s': 'abc', 'tag': False, 'quote': False, 'out': '', 'c': 'a'}\n",
            "line 253 remove_html_markup {'s': 'abc', 'tag': False, 'quote': False, 'out': '', 'c': 'a'}\n",
            "line 243 remove_html_markup {'s': 'abc', 'tag': False, 'quote': False, 'out': 'a', 'c': 'a'}\n",
            "line 244 remove_html_markup {'s': 'abc', 'tag': False, 'quote': False, 'out': 'a', 'c': 'b'}\n",
            "line 246 remove_html_markup {'s': 'abc', 'tag': False, 'quote': False, 'out': 'a', 'c': 'b'}\n",
            "line 248 remove_html_markup {'s': 'abc', 'tag': False, 'quote': False, 'out': 'a', 'c': 'b'}\n",
            "line 250 remove_html_markup {'s': 'abc', 'tag': False, 'quote': False, 'out': 'a', 'c': 'b'}\n",
            "line 252 remove_html_markup {'s': 'abc', 'tag': False, 'quote': False, 'out': 'a', 'c': 'b'}\n",
            "line 253 remove_html_markup {'s': 'abc', 'tag': False, 'quote': False, 'out': 'a', 'c': 'b'}\n",
            "line 243 remove_html_markup {'s': 'abc', 'tag': False, 'quote': False, 'out': 'ab', 'c': 'b'}\n",
            "line 244 remove_html_markup {'s': 'abc', 'tag': False, 'quote': False, 'out': 'ab', 'c': 'c'}\n",
            "line 246 remove_html_markup {'s': 'abc', 'tag': False, 'quote': False, 'out': 'ab', 'c': 'c'}\n",
            "line 248 remove_html_markup {'s': 'abc', 'tag': False, 'quote': False, 'out': 'ab', 'c': 'c'}\n",
            "line 250 remove_html_markup {'s': 'abc', 'tag': False, 'quote': False, 'out': 'ab', 'c': 'c'}\n",
            "line 252 remove_html_markup {'s': 'abc', 'tag': False, 'quote': False, 'out': 'ab', 'c': 'c'}\n",
            "line 253 remove_html_markup {'s': 'abc', 'tag': False, 'quote': False, 'out': 'ab', 'c': 'c'}\n",
            "line 243 remove_html_markup {'s': 'abc', 'tag': False, 'quote': False, 'out': 'abc', 'c': 'c'}\n",
            "line 255 remove_html_markup {'s': 'abc', 'tag': False, 'quote': False, 'out': 'abc', 'c': 'c'}\n",
            "return 255 remove_html_markup {'s': 'abc', 'tag': False, 'quote': False, 'out': 'abc', 'c': 'c'}\n"
          ]
        }
      ],
      "source": [
        "with Tracer():\n",
        "    remove_html_markup(\"abc\")"
      ]
    },
    {
      "cell_type": "markdown",
      "metadata": {
        "tags": [
          "49"
        ]
      },
      "source": [
        "## Accessing Source Code\n",
        "\n",
        "We can now go and _extend_ the class with additional features. It would be nice if it could actually display the source code of the function being tracked, such that we know where we are. In Python, the function `inspect.getsource()` returns the source code of a function or module. Looking up\n",
        "\n",
        "```python\n",
        "module = inspect.getmodule(frame.f_code)\n",
        "```\n",
        "\n",
        "gives us the current module, and\n",
        "\n",
        "```python\n",
        "inspect.getsource(module)\n",
        "```\n",
        "\n",
        "gives us its source code. All we then have to do is to retrieve the current line."
      ]
    },
    {
      "cell_type": "markdown",
      "metadata": {
        "tags": [
          "50"
        ]
      },
      "source": [
        "To implement our extended `traceit()` method, we use a bit of a hack. The Python language requires us to define an entire class with all methods as a single, continuous unit; however, we would like to introduce one method after another.  To avoid this problem, we use a special hack: Whenever we want to introduce a new method to some class `C`, we use the construct\n",
        "\n",
        "```python\n",
        "class C(C):\n",
        "    def new_method(self, args):\n",
        "        pass\n",
        "```\n",
        "\n",
        "This seems to define `C` as a subclass of itself, which would make no sense \u2013\u00a0but actually, it introduces a new `C` class as a subclass of the _old_ `C` class, and then shadowing the old `C` definition.  What this gets us is a `C` class with `new_method()` as a method, which is just what we want.  (`C` objects defined earlier will retain the earlier `C` definition, though, and thus must be rebuilt.)"
      ]
    },
    {
      "cell_type": "markdown",
      "metadata": {
        "tags": [
          "51"
        ]
      },
      "source": [
        "Using this hack, we can now redefine the `traceit()` method. Our new tracer shows the current line as it is executed."
      ]
    },
    {
      "cell_type": "code",
      "execution_count": 24,
      "metadata": {
        "tags": [
          "52"
        ]
      },
      "outputs": [],
      "source": [
        "import inspect"
      ]
    },
    {
      "cell_type": "code",
      "execution_count": 25,
      "metadata": {
        "tags": [
          "53"
        ]
      },
      "outputs": [],
      "source": [
        "class Tracer(Tracer):\n",
        "    def traceit(self, frame: FrameType, event: str, arg: Any) -> None:\n",
        "        \"\"\"Tracing function; called at every line. To be overloaded in subclasses.\"\"\"\n",
        "\n",
        "        if event == 'line':\n",
        "            module = inspect.getmodule(frame.f_code)\n",
        "            if module is None:\n",
        "                source = inspect.getsource(frame.f_code)\n",
        "            else:\n",
        "                source = inspect.getsource(module)\n",
        "            current_line = source.split('\\n')[frame.f_lineno - 1]\n",
        "            self.log(frame.f_lineno, current_line)"
      ]
    },
    {
      "cell_type": "code",
      "execution_count": 26,
      "metadata": {
        "tags": [
          "54"
        ]
      },
      "outputs": [
        {
          "name": "stdout",
          "output_type": "stream",
          "text": [
            "239     tag = False\n",
            "240     quote = False\n",
            "241     out = \"\"\n",
            "243     for c in s:\n",
            "244         assert tag or not quote\n",
            "246         if c == '<' and not quote:\n",
            "248         elif c == '>' and not quote:\n",
            "250         elif (c == '\"' or c == \"'\") and tag:\n",
            "252         elif not tag:\n",
            "253             out = out + c\n",
            "243     for c in s:\n",
            "244         assert tag or not quote\n",
            "246         if c == '<' and not quote:\n",
            "248         elif c == '>' and not quote:\n",
            "250         elif (c == '\"' or c == \"'\") and tag:\n",
            "252         elif not tag:\n",
            "253             out = out + c\n",
            "243     for c in s:\n",
            "244         assert tag or not quote\n",
            "246         if c == '<' and not quote:\n",
            "248         elif c == '>' and not quote:\n",
            "250         elif (c == '\"' or c == \"'\") and tag:\n",
            "252         elif not tag:\n",
            "253             out = out + c\n",
            "243     for c in s:\n",
            "255     return out\n"
          ]
        }
      ],
      "source": [
        "with Tracer():\n",
        "    remove_html_markup(\"abc\")"
      ]
    },
    {
      "cell_type": "markdown",
      "metadata": {
        "tags": [
          "55"
        ]
      },
      "source": [
        "## Tracing Calls and Returns\n",
        "\n",
        "Next, we'd like to report calling and returning from functions. For the `return` event, `arg` holds the value being returned."
      ]
    },
    {
      "cell_type": "code",
      "execution_count": 27,
      "metadata": {
        "tags": [
          "56"
        ]
      },
      "outputs": [],
      "source": [
        "class Tracer(Tracer):\n",
        "    def traceit(self, frame: FrameType, event: str, arg: Any) -> None:\n",
        "        \"\"\"Tracing function. To be overridden in subclasses.\"\"\"\n",
        "\n",
        "        if event == 'call':\n",
        "            self.log(f\"Calling {frame.f_code.co_name}()\")\n",
        "\n",
        "        if event == 'line':\n",
        "            module = inspect.getmodule(frame.f_code)\n",
        "            if module:\n",
        "                source = inspect.getsource(module)\n",
        "            if source:\n",
        "                current_line = source.split('\\n')[frame.f_lineno - 1]\n",
        "                self.log(frame.f_lineno, current_line)\n",
        "\n",
        "        if event == 'return':\n",
        "            self.log(f\"{frame.f_code.co_name}() returns {repr(arg)}\")"
      ]
    },
    {
      "cell_type": "code",
      "execution_count": 28,
      "metadata": {
        "tags": [
          "57"
        ]
      },
      "outputs": [
        {
          "name": "stdout",
          "output_type": "stream",
          "text": [
            "Calling remove_html_markup()\n",
            "239     tag = False\n",
            "240     quote = False\n",
            "241     out = \"\"\n",
            "243     for c in s:\n",
            "244         assert tag or not quote\n",
            "246         if c == '<' and not quote:\n",
            "248         elif c == '>' and not quote:\n",
            "250         elif (c == '\"' or c == \"'\") and tag:\n",
            "252         elif not tag:\n",
            "253             out = out + c\n",
            "243     for c in s:\n",
            "244         assert tag or not quote\n",
            "246         if c == '<' and not quote:\n",
            "248         elif c == '>' and not quote:\n",
            "250         elif (c == '\"' or c == \"'\") and tag:\n",
            "252         elif not tag:\n",
            "253             out = out + c\n",
            "243     for c in s:\n",
            "244         assert tag or not quote\n",
            "246         if c == '<' and not quote:\n",
            "248         elif c == '>' and not quote:\n",
            "250         elif (c == '\"' or c == \"'\") and tag:\n",
            "252         elif not tag:\n",
            "253             out = out + c\n",
            "243     for c in s:\n",
            "255     return out\n",
            "remove_html_markup() returns 'abc'\n"
          ]
        }
      ],
      "source": [
        "with Tracer():\n",
        "    remove_html_markup(\"abc\")"
      ]
    },
    {
      "cell_type": "markdown",
      "metadata": {
        "tags": [
          "58"
        ]
      },
      "source": [
        "## Tracing Variable Changes\n",
        "\n",
        "Finally, we'd again like to report variables \u2013\u00a0but only those that have changed. To this end, we save a copy of the last reported variables in the class, reporting only the changed values."
      ]
    },
    {
      "cell_type": "code",
      "execution_count": 29,
      "metadata": {
        "tags": [
          "59"
        ]
      },
      "outputs": [],
      "source": [
        "class Tracer(Tracer):\n",
        "    def __init__(self, file: TextIO = sys.stdout) -> None:\n",
        "        \"\"\"\n",
        "        Create a new tracer.\n",
        "        If `file` is given, output to `file` instead of stdout.\n",
        "        \"\"\"\n",
        "\n",
        "        self.last_vars: Dict[str, Any] = {}\n",
        "        super().__init__(file=file)\n",
        "\n",
        "    def changed_vars(self, new_vars: Dict[str, Any]) -> Dict[str, Any]:\n",
        "        \"\"\"Track changed variables, based on `new_vars` observed.\"\"\"\n",
        "        changed = {}\n",
        "        for var_name, var_value in new_vars.items():\n",
        "            if (var_name not in self.last_vars or\n",
        "                    self.last_vars[var_name] != var_value):\n",
        "                changed[var_name] = var_value\n",
        "        self.last_vars = new_vars.copy()\n",
        "        return changed"
      ]
    },
    {
      "cell_type": "markdown",
      "metadata": {
        "tags": [
          "60"
        ]
      },
      "source": [
        "Here's how this works: If variable `a` is set to 10 (and we didn't have it so far), it is marked as changed:"
      ]
    },
    {
      "cell_type": "code",
      "execution_count": 30,
      "metadata": {
        "tags": [
          "61"
        ]
      },
      "outputs": [],
      "source": [
        "tracer = Tracer()"
      ]
    },
    {
      "cell_type": "code",
      "execution_count": 31,
      "metadata": {
        "tags": [
          "62"
        ]
      },
      "outputs": [
        {
          "data": {
            "text/plain": [
              "{'a': 10}"
            ]
          },
          "execution_count": 31,
          "metadata": {},
          "output_type": "execute_result"
        }
      ],
      "source": [
        "tracer.changed_vars({'a': 10})"
      ]
    },
    {
      "cell_type": "markdown",
      "metadata": {
        "tags": [
          "63"
        ]
      },
      "source": [
        "If another variable `b` is added, and only `b` is changed, then only `b` is marked as changed:"
      ]
    },
    {
      "cell_type": "code",
      "execution_count": 32,
      "metadata": {
        "tags": [
          "64"
        ]
      },
      "outputs": [
        {
          "data": {
            "text/plain": [
              "{'b': 25}"
            ]
          },
          "execution_count": 32,
          "metadata": {},
          "output_type": "execute_result"
        }
      ],
      "source": [
        "tracer.changed_vars({'a': 10, 'b': 25})"
      ]
    },
    {
      "cell_type": "markdown",
      "metadata": {
        "tags": [
          "65"
        ]
      },
      "source": [
        "If both variables keep their values, nothing changes:"
      ]
    },
    {
      "cell_type": "code",
      "execution_count": 33,
      "metadata": {
        "tags": [
          "66"
        ]
      },
      "outputs": [
        {
          "data": {
            "text/plain": [
              "{}"
            ]
          },
          "execution_count": 33,
          "metadata": {},
          "output_type": "execute_result"
        }
      ],
      "source": [
        "tracer.changed_vars({'a': 10, 'b': 25})"
      ]
    },
    {
      "cell_type": "markdown",
      "metadata": {
        "tags": [
          "67"
        ]
      },
      "source": [
        "But if new variables come along, they are listed again."
      ]
    },
    {
      "cell_type": "code",
      "execution_count": 34,
      "metadata": {
        "tags": [
          "68"
        ]
      },
      "outputs": [
        {
          "data": {
            "text/plain": [
              "{'c': 10, 'd': 25}"
            ]
          },
          "execution_count": 34,
          "metadata": {},
          "output_type": "execute_result"
        }
      ],
      "source": [
        "changes = tracer.changed_vars({'c': 10, 'd': 25})\n",
        "changes"
      ]
    },
    {
      "cell_type": "markdown",
      "metadata": {
        "tags": [
          "69"
        ]
      },
      "source": [
        "The following expression creates a comma-separated list of variables and values:"
      ]
    },
    {
      "cell_type": "code",
      "execution_count": 35,
      "metadata": {
        "tags": [
          "70"
        ]
      },
      "outputs": [
        {
          "data": {
            "text/plain": [
              "'c = 10, d = 25'"
            ]
          },
          "execution_count": 35,
          "metadata": {},
          "output_type": "execute_result"
        }
      ],
      "source": [
        "\", \".join([var + \" = \" + repr(changes[var]) for var in changes])"
      ]
    },
    {
      "cell_type": "markdown",
      "metadata": {
        "tags": [
          "71"
        ]
      },
      "source": [
        "We can now put all of this together in our tracing function, reporting any variable changes as we see them. Note how we exploit the fact that in a call, all variables have a \"new\" value; and when we return from a function, we explicitly delete the \"last\" variables."
      ]
    },
    {
      "cell_type": "code",
      "execution_count": 36,
      "metadata": {
        "tags": [
          "72"
        ]
      },
      "outputs": [],
      "source": [
        "class Tracer(Tracer):\n",
        "    def print_debugger_status(self, frame: FrameType, event: str, arg: Any) -> None:\n",
        "        \"\"\"Show current source line and changed vars\"\"\"\n",
        "        changes = self.changed_vars(frame.f_locals)\n",
        "        changes_s = \", \".join([var + \" = \" + repr(changes[var])\n",
        "                               for var in changes])\n",
        "\n",
        "        if event == 'call':\n",
        "            self.log(\"Calling \" + frame.f_code.co_name + '(' + changes_s + ')')\n",
        "        elif changes:\n",
        "            self.log(' ' * 40, '#', changes_s)\n",
        "\n",
        "        if event == 'line':\n",
        "            try:\n",
        "                module = inspect.getmodule(frame.f_code)\n",
        "                if module is None:\n",
        "                    source = inspect.getsource(frame.f_code)\n",
        "                else:\n",
        "                    source = inspect.getsource(module)\n",
        "                current_line = source.split('\\n')[frame.f_lineno - 1]\n",
        "\n",
        "            except OSError as err:\n",
        "                self.log(f\"{err.__class__.__name__}: {err}\")\n",
        "                current_line = \"\"\n",
        "\n",
        "            self.log(repr(frame.f_lineno) + ' ' + current_line)\n",
        "\n",
        "        if event == 'return':\n",
        "            self.log(frame.f_code.co_name + '()' + \" returns \" + repr(arg))\n",
        "            self.last_vars = {}  # Delete 'last' variables\n",
        "\n",
        "    def traceit(self, frame: FrameType, event: str, arg: Any) -> None:\n",
        "        \"\"\"Tracing function; called at every line. To be overloaded in subclasses.\"\"\"\n",
        "        self.print_debugger_status(frame, event, arg)"
      ]
    },
    {
      "cell_type": "markdown",
      "metadata": {
        "tags": [
          "73"
        ]
      },
      "source": [
        "Here's the resulting trace of `remove_html_markup()` for a more complex input. You can see that the tracing output allows us to see which lines are executed as well as the variables whose value changes."
      ]
    },
    {
      "cell_type": "code",
      "execution_count": 37,
      "metadata": {
        "tags": [
          "74"
        ]
      },
      "outputs": [
        {
          "name": "stdout",
          "output_type": "stream",
          "text": [
            "Calling remove_html_markup(s = '<b>x</b>')\n",
            "239     tag = False\n",
            "                                         # tag = False\n",
            "240     quote = False\n",
            "                                         # quote = False\n",
            "241     out = \"\"\n",
            "                                         # out = ''\n",
            "243     for c in s:\n",
            "                                         # c = '<'\n",
            "244         assert tag or not quote\n",
            "246         if c == '<' and not quote:\n",
            "247             tag = True\n",
            "                                         # tag = True\n",
            "243     for c in s:\n",
            "                                         # c = 'b'\n",
            "244         assert tag or not quote\n",
            "246         if c == '<' and not quote:\n",
            "248         elif c == '>' and not quote:\n",
            "250         elif (c == '\"' or c == \"'\") and tag:\n",
            "252         elif not tag:\n",
            "243     for c in s:\n",
            "                                         # c = '>'\n",
            "244         assert tag or not quote\n",
            "246         if c == '<' and not quote:\n",
            "248         elif c == '>' and not quote:\n",
            "249             tag = False\n",
            "                                         # tag = False\n",
            "243     for c in s:\n",
            "                                         # c = 'x'\n",
            "244         assert tag or not quote\n",
            "246         if c == '<' and not quote:\n",
            "248         elif c == '>' and not quote:\n",
            "250         elif (c == '\"' or c == \"'\") and tag:\n",
            "252         elif not tag:\n",
            "253             out = out + c\n",
            "                                         # out = 'x'\n",
            "243     for c in s:\n",
            "                                         # c = '<'\n",
            "244         assert tag or not quote\n",
            "246         if c == '<' and not quote:\n",
            "247             tag = True\n",
            "                                         # tag = True\n",
            "243     for c in s:\n",
            "                                         # c = '/'\n",
            "244         assert tag or not quote\n",
            "246         if c == '<' and not quote:\n",
            "248         elif c == '>' and not quote:\n",
            "250         elif (c == '\"' or c == \"'\") and tag:\n",
            "252         elif not tag:\n",
            "243     for c in s:\n",
            "                                         # c = 'b'\n",
            "244         assert tag or not quote\n",
            "246         if c == '<' and not quote:\n",
            "248         elif c == '>' and not quote:\n",
            "250         elif (c == '\"' or c == \"'\") and tag:\n",
            "252         elif not tag:\n",
            "243     for c in s:\n",
            "                                         # c = '>'\n",
            "244         assert tag or not quote\n",
            "246         if c == '<' and not quote:\n",
            "248         elif c == '>' and not quote:\n",
            "249             tag = False\n",
            "                                         # tag = False\n",
            "243     for c in s:\n",
            "255     return out\n",
            "remove_html_markup() returns 'x'\n"
          ]
        }
      ],
      "source": [
        "with Tracer():\n",
        "    remove_html_markup('<b>x</b>')"
      ]
    },
    {
      "cell_type": "markdown",
      "metadata": {
        "tags": [
          "75"
        ]
      },
      "source": [
        "As you see, even a simple function can create a long execution log. Hence, we will now explore how to focus tracing on particular _events_."
      ]
    },
    {
      "cell_type": "markdown",
      "metadata": {
        "tags": [
          "76"
        ]
      },
      "source": [
        "## Conditional Tracing\n",
        "\n",
        "A log such as the above can very quickly become very messy \u2013 notably if executions take a long time, or if data structures become very complex. If one of our local variables were a list with 1,000 entries for instance, and were changed with each line, we'd be printing out the entire list with 1,000 entries for each step. \n",
        "\n",
        "We could still load the log into, say, a text editor or a database and then search for specific values, but this is still cumbersome \u2013 and expensive. A better alternative, however, is to have our tracer only log while specific _conditions_ hold."
      ]
    },
    {
      "cell_type": "markdown",
      "metadata": {
        "tags": [
          "77"
        ]
      },
      "source": [
        "To this end, we introduce a class `ConditionalTracer`, which gets a _conditional expression_ to be checked during executions. Only if this condition holds do we list the current status. With\n",
        "\n",
        "```python\n",
        "with ConditionalTracer(condition='c == \"z\"'):\n",
        "    remove_html_markup(...)\n",
        "```\n",
        "\n",
        "we would obtain only the lines executed while `c` gets a value of `'z'`, and with\n",
        "\n",
        "```python\n",
        "with ConditionalTracer(condition='quote'):\n",
        "    remove_html_markup(...)\n",
        "```\n",
        "\n",
        "we would obtain only the lines executed while `quote` is True. If we have multiple conditions, we can combine them into one using `and`, `or`, or `not`."
      ]
    },
    {
      "cell_type": "markdown",
      "metadata": {
        "tags": [
          "78"
        ]
      },
      "source": [
        "Our `ConditionalTracer` class stores the condition in its `condition` attribute:"
      ]
    },
    {
      "cell_type": "code",
      "execution_count": 38,
      "metadata": {
        "tags": [
          "79"
        ]
      },
      "outputs": [],
      "source": [
        "class ConditionalTracer(Tracer):\n",
        "    def __init__(self, *, condition: Optional[str] = None, file: TextIO = sys.stdout) -> None:\n",
        "        \"\"\"Constructor. Trace all events for which `condition` (a Python expr) holds.\"\"\"\n",
        "\n",
        "        if condition is None:\n",
        "            condition = 'False'\n",
        "        assert isinstance(condition, str)\n",
        "\n",
        "        self.condition: str = condition\n",
        "        self.last_report: Optional[bool] = None\n",
        "        super().__init__(file=file)"
      ]
    },
    {
      "cell_type": "markdown",
      "metadata": {
        "tags": [
          "80"
        ]
      },
      "source": [
        "Its `traceit()` function _evaluates_ `condition` and reports the current line only if it holds. To this end, it uses the Python `eval()` function which evaluates the condition in the context of the local variables of the program under test. If the condition gets set, we print out three dots to indicate the elapsed time."
      ]
    },
    {
      "cell_type": "code",
      "execution_count": 39,
      "metadata": {
        "tags": [
          "81"
        ]
      },
      "outputs": [],
      "source": [
        "class ConditionalTracer(ConditionalTracer):\n",
        "    def eval_in_context(self, expr: str, frame: FrameType) -> Optional[bool]:\n",
        "        try:\n",
        "            cond = eval(expr, None, frame.f_locals)\n",
        "        except NameError:  # (yet) undefined variable\n",
        "            cond = None\n",
        "        return cond"
      ]
    },
    {
      "cell_type": "markdown",
      "metadata": {
        "tags": [
          "82"
        ]
      },
      "source": [
        "The `do_report()` function returns True if the status is to be reported:"
      ]
    },
    {
      "cell_type": "code",
      "execution_count": 40,
      "metadata": {
        "tags": [
          "83"
        ]
      },
      "outputs": [],
      "source": [
        "class ConditionalTracer(ConditionalTracer):\n",
        "    def do_report(self, frame: FrameType, event: str, arg: Any) -> Optional[bool]:\n",
        "        return self.eval_in_context(self.condition, frame)"
      ]
    },
    {
      "cell_type": "markdown",
      "metadata": {
        "tags": [
          "84"
        ]
      },
      "source": [
        "We put everything together in our `traceit()` function:"
      ]
    },
    {
      "cell_type": "code",
      "execution_count": 41,
      "metadata": {
        "tags": [
          "85"
        ]
      },
      "outputs": [],
      "source": [
        "class ConditionalTracer(ConditionalTracer):\n",
        "    def traceit(self, frame: FrameType, event: str, arg: Any) -> None:\n",
        "        report = self.do_report(frame, event, arg)\n",
        "        if report != self.last_report:\n",
        "            if report:\n",
        "                self.log(\"...\")\n",
        "            self.last_report = report\n",
        "\n",
        "        if report:\n",
        "            self.print_debugger_status(frame, event, arg)"
      ]
    },
    {
      "cell_type": "markdown",
      "metadata": {
        "tags": [
          "86"
        ]
      },
      "source": [
        "Here's an example. We see that `quote` is set only while the three characters `b`, `a`, and `r` are processed (as should be)."
      ]
    },
    {
      "cell_type": "code",
      "execution_count": 42,
      "metadata": {
        "tags": [
          "87"
        ]
      },
      "outputs": [
        {
          "name": "stdout",
          "output_type": "stream",
          "text": [
            "...\n",
            "                                         # s = '<b title=\"bar\">\"foo\"</b>', tag = True, quote = True, out = '', c = '\"'\n",
            "243     for c in s:\n",
            "                                         # c = 'b'\n",
            "244         assert tag or not quote\n",
            "246         if c == '<' and not quote:\n",
            "248         elif c == '>' and not quote:\n",
            "250         elif (c == '\"' or c == \"'\") and tag:\n",
            "252         elif not tag:\n",
            "243     for c in s:\n",
            "                                         # c = 'a'\n",
            "244         assert tag or not quote\n",
            "246         if c == '<' and not quote:\n",
            "248         elif c == '>' and not quote:\n",
            "250         elif (c == '\"' or c == \"'\") and tag:\n",
            "252         elif not tag:\n",
            "243     for c in s:\n",
            "                                         # c = 'r'\n",
            "244         assert tag or not quote\n",
            "246         if c == '<' and not quote:\n",
            "248         elif c == '>' and not quote:\n",
            "250         elif (c == '\"' or c == \"'\") and tag:\n",
            "252         elif not tag:\n",
            "243     for c in s:\n",
            "                                         # c = '\"'\n",
            "244         assert tag or not quote\n",
            "246         if c == '<' and not quote:\n",
            "248         elif c == '>' and not quote:\n",
            "250         elif (c == '\"' or c == \"'\") and tag:\n",
            "251             quote = not quote\n"
          ]
        }
      ],
      "source": [
        "with ConditionalTracer(condition='quote'):\n",
        "    remove_html_markup('<b title=\"bar\">\"foo\"</b>')"
      ]
    },
    {
      "cell_type": "code",
      "execution_count": 43,
      "metadata": {
        "tags": [
          "88"
        ]
      },
      "outputs": [
        {
          "data": {
            "text/html": [
              "\n",
              "    \n",
              "    <script>\n",
              "    var bad_answers = new Map();\n",
              "\n",
              "    function answer(quiz_id) {\n",
              "        ans = 0;\n",
              "        for (i = 1;; i++) {\n",
              "            checkbox = document.getElementById(quiz_id + \"-\" + i.toString());\n",
              "            if (!checkbox)\n",
              "                break;\n",
              "            if (checkbox.checked)\n",
              "                ans |= (1 << i);\n",
              "        }\n",
              "        return ans;\n",
              "    }\n",
              "    function check_selection(quiz_id, correct_answer, multiple_choice, hint) {\n",
              "        given_answer = answer(quiz_id);\n",
              "        if (given_answer == correct_answer)\n",
              "        {\n",
              "            document.getElementById(quiz_id + \"-submit\").value = \"Correct!\";\n",
              "            document.getElementById(quiz_id + \"-hint\").innerHTML = \"\";\n",
              "\n",
              "            for (i = 1;; i++) {\n",
              "                checkbox = document.getElementById(quiz_id + \"-\" + i.toString());\n",
              "                label = document.getElementById(quiz_id + \"-\" + i.toString() + \"-label\")\n",
              "                if (!checkbox)\n",
              "                    break;\n",
              "\n",
              "                if (checkbox.checked) {\n",
              "                    label.style.fontWeight = \"bold\";\n",
              "                }\n",
              "                else {\n",
              "                    label.style.textDecoration = \"line-through\";\n",
              "                }\n",
              "            }\n",
              "        }\n",
              "        else \n",
              "        {\n",
              "            document.getElementById(quiz_id + \"-submit\").value = \"Try again\";\n",
              "\n",
              "            if (!bad_answers.has(quiz_id)) {\n",
              "                bad_answers.set(quiz_id, 1);\n",
              "            }\n",
              "            else {\n",
              "                bad_answers.set(quiz_id, bad_answers.get(quiz_id) + 1);\n",
              "            }\n",
              "\n",
              "            if (bad_answers.get(quiz_id) >= 2 && hint.length > 0) {\n",
              "                document.getElementById(quiz_id + \"-hint\").innerHTML = \n",
              "                    \"&nbsp;&nbsp;(Hint: <code>\" + hint + \"</code>)\";\n",
              "            }\n",
              "\n",
              "            if (!multiple_choice) {\n",
              "                for (i = 1;; i++) {\n",
              "                    checkbox = document.getElementById(quiz_id + \"-\" + i.toString());\n",
              "                    label = document.getElementById(quiz_id + \"-\" + i.toString() + \"-label\")\n",
              "\n",
              "                    if (!checkbox)\n",
              "                        break;\n",
              "                    if (checkbox.checked) {\n",
              "                        label.style.textDecoration = \"line-through\";\n",
              "                    }\n",
              "                }\n",
              "            }\n",
              "        }\n",
              "    }\n",
              "    function clear_selection(quiz_id) {\n",
              "        document.getElementById(quiz_id + \"-submit\").value = \"Submit\";\n",
              "        document.getElementById(quiz_id + \"-hint\").innerHTML = \"\";\n",
              "    }\n",
              "    </script>\n",
              "    \n",
              "    <div class=\"quiz\">\n",
              "    <h3 class=\"quiz_title\">Quiz</h3>\n",
              "    <p>\n",
              "    <div class=\"quiz_question\">What happens if the condition contains a syntax error?</div>\n",
              "    </p>\n",
              "    <p>\n",
              "    <div class=\"quiz_options\" title=\"Pick a choice.\">\n",
              "    \n",
              "        <input type=\"radio\" name=\"fe856ecb-0869-11f0-8163-8e7f246f068f\" id=\"fe856ecb-0869-11f0-8163-8e7f246f068f-1\" onclick=\"clear_selection('fe856ecb-0869-11f0-8163-8e7f246f068f')\">\n",
              "        <label id=\"fe856ecb-0869-11f0-8163-8e7f246f068f-1-label\" for=\"fe856ecb-0869-11f0-8163-8e7f246f068f-1\">The tracer stops, raising an exception</label><br>\n",
              "    \n",
              "        <input type=\"radio\" name=\"fe856ecb-0869-11f0-8163-8e7f246f068f\" id=\"fe856ecb-0869-11f0-8163-8e7f246f068f-2\" onclick=\"clear_selection('fe856ecb-0869-11f0-8163-8e7f246f068f')\">\n",
              "        <label id=\"fe856ecb-0869-11f0-8163-8e7f246f068f-2-label\" for=\"fe856ecb-0869-11f0-8163-8e7f246f068f-2\">The tracer continues as if the condition were <code>True</code></label><br>\n",
              "    \n",
              "        <input type=\"radio\" name=\"fe856ecb-0869-11f0-8163-8e7f246f068f\" id=\"fe856ecb-0869-11f0-8163-8e7f246f068f-3\" onclick=\"clear_selection('fe856ecb-0869-11f0-8163-8e7f246f068f')\">\n",
              "        <label id=\"fe856ecb-0869-11f0-8163-8e7f246f068f-3-label\" for=\"fe856ecb-0869-11f0-8163-8e7f246f068f-3\">The tracer continues as if the condition were <code>False</code></label><br>\n",
              "    \n",
              "    </div>\n",
              "    </p>\n",
              "    <input id=\"fe856ecb-0869-11f0-8163-8e7f246f068f-submit\" type=\"submit\" value=\"Submit\" onclick=\"check_selection('fe856ecb-0869-11f0-8163-8e7f246f068f', 2, 0, '393 % 7')\">\n",
              "    <span class=\"quiz_hint\" id=\"fe856ecb-0869-11f0-8163-8e7f246f068f-hint\"></span>\n",
              "    </div>\n",
              "    "
            ],
            "text/plain": [
              "<IPython.core.display.HTML object>"
            ]
          },
          "execution_count": 43,
          "metadata": {},
          "output_type": "execute_result"
        }
      ],
      "source": [
        "quiz(\"What happens if the condition contains a syntax error?\",\n",
        "     [\n",
        "         \"The tracer stops, raising an exception\",\n",
        "         \"The tracer continues as if the condition were `True`\",\n",
        "         \"The tracer continues as if the condition were `False`\",\n",
        "     ], '393 % 7')"
      ]
    },
    {
      "cell_type": "markdown",
      "metadata": {
        "tags": [
          "89"
        ]
      },
      "source": [
        "Here's the answer, illustrated in two examples. For syntax errors, we indeed get an exception:"
      ]
    },
    {
      "cell_type": "code",
      "execution_count": 44,
      "metadata": {
        "tags": [
          "90"
        ]
      },
      "outputs": [],
      "source": [
        "from ExpectError import ExpectError"
      ]
    },
    {
      "cell_type": "code",
      "execution_count": 45,
      "metadata": {
        "tags": [
          "91"
        ]
      },
      "outputs": [
        {
          "name": "stderr",
          "output_type": "stream",
          "text": [
            "Traceback (most recent call last):\n",
            "  File \"/tmp/ipykernel_12984/3292487498.py\", line 3, in <module>\n",
            "    remove_html_markup('<b title=\"bar\">\"foo\"</b>')\n",
            "  File \"Intro_Debugging.ipynb\", line 238, in remove_html_markup\n",
            "    def remove_html_markup(s):  # type: ignore\n",
            "    \n",
            "  File \"/tmp/ipykernel_12984/3738699336.py\", line 19, in _traceit\n",
            "    self.traceit(frame, event, arg)\n",
            "  File \"/tmp/ipykernel_12984/2841885016.py\", line 3, in traceit\n",
            "    report = self.do_report(frame, event, arg)\n",
            "             ^^^^^^^^^^^^^^^^^^^^^^^^^^^^^^^^^\n",
            "  File \"/tmp/ipykernel_12984/3084505080.py\", line 3, in do_report\n",
            "    return self.eval_in_context(self.condition, frame)\n",
            "           ^^^^^^^^^^^^^^^^^^^^^^^^^^^^^^^^^^^^^^^^^^^\n",
            "  File \"/tmp/ipykernel_12984/1027065478.py\", line 4, in eval_in_context\n",
            "    cond = eval(expr, None, frame.f_locals)\n",
            "           ^^^^^^^^^^^^^^^^^^^^^^^^^^^^^^^^\n",
            "  File \"<string>\", line 1\n",
            "    2 +\n",
            "SyntaxError: invalid syntax (expected)\n"
          ]
        }
      ],
      "source": [
        "with ExpectError(SyntaxError):\n",
        "    with ConditionalTracer(condition='2 +'):\n",
        "        remove_html_markup('<b title=\"bar\">\"foo\"</b>')"
      ]
    },
    {
      "cell_type": "markdown",
      "metadata": {
        "tags": [
          "92"
        ]
      },
      "source": [
        "If a variable is undefined, though, the condition evaluates to False:"
      ]
    },
    {
      "cell_type": "code",
      "execution_count": 46,
      "metadata": {
        "tags": [
          "93"
        ]
      },
      "outputs": [],
      "source": [
        "with ExpectError():\n",
        "    with ConditionalTracer(condition='undefined_variable'):\n",
        "        remove_html_markup('<b title=\"bar\">\"foo\"</b>')"
      ]
    },
    {
      "cell_type": "markdown",
      "metadata": {
        "tags": [
          "94"
        ]
      },
      "source": [
        "We can also have the log focus on _particular code locations_ only. To this end, we add the pseudo-variables `function` and `line` to our evaluation context, which can be used within our condition to refer to the current function name or line. Then, we invoke the original `eval_cond()` as above."
      ]
    },
    {
      "cell_type": "code",
      "execution_count": 47,
      "metadata": {
        "tags": [
          "95"
        ]
      },
      "outputs": [],
      "source": [
        "class ConditionalTracer(ConditionalTracer):\n",
        "    def eval_in_context(self, expr: str, frame: FrameType) -> Any:\n",
        "        frame.f_locals['function'] = frame.f_code.co_name\n",
        "        frame.f_locals['line'] = frame.f_lineno\n",
        "\n",
        "        return super().eval_in_context(expr, frame)"
      ]
    },
    {
      "cell_type": "markdown",
      "metadata": {
        "tags": [
          "96"
        ]
      },
      "source": [
        "Again, here is an example. We focus on the parts of the function where the `out` variable is being set:"
      ]
    },
    {
      "cell_type": "code",
      "execution_count": 48,
      "metadata": {
        "tags": [
          "97"
        ]
      },
      "outputs": [
        {
          "name": "stdout",
          "output_type": "stream",
          "text": [
            "...\n",
            "Calling remove_html_markup(s = 'xyz', function = 'remove_html_markup', line = 238)\n",
            "                                         # line = 239\n",
            "239     tag = False\n",
            "                                         # line = 240, tag = False\n",
            "240     quote = False\n",
            "                                         # line = 241, quote = False\n",
            "241     out = \"\"\n",
            "                                         # line = 243, out = ''\n",
            "243     for c in s:\n",
            "                                         # line = 244, c = 'x'\n",
            "244         assert tag or not quote\n",
            "                                         # line = 246\n",
            "246         if c == '<' and not quote:\n",
            "                                         # line = 248\n",
            "248         elif c == '>' and not quote:\n",
            "                                         # line = 250\n",
            "250         elif (c == '\"' or c == \"'\") and tag:\n",
            "                                         # line = 252\n",
            "252         elif not tag:\n",
            "                                         # line = 253\n",
            "253             out = out + c\n",
            "                                         # line = 243, out = 'x'\n",
            "243     for c in s:\n",
            "                                         # line = 244, c = 'y'\n",
            "244         assert tag or not quote\n",
            "                                         # line = 246\n",
            "246         if c == '<' and not quote:\n",
            "                                         # line = 248\n",
            "248         elif c == '>' and not quote:\n",
            "                                         # line = 250\n",
            "250         elif (c == '\"' or c == \"'\") and tag:\n",
            "                                         # line = 252\n",
            "252         elif not tag:\n",
            "                                         # line = 253\n",
            "253             out = out + c\n",
            "                                         # line = 243, out = 'xy'\n",
            "243     for c in s:\n",
            "                                         # line = 244, c = 'z'\n",
            "244         assert tag or not quote\n",
            "                                         # line = 246\n",
            "246         if c == '<' and not quote:\n",
            "                                         # line = 248\n",
            "248         elif c == '>' and not quote:\n",
            "                                         # line = 250\n",
            "250         elif (c == '\"' or c == \"'\") and tag:\n",
            "                                         # line = 252\n",
            "252         elif not tag:\n",
            "                                         # line = 253\n",
            "253             out = out + c\n",
            "                                         # line = 243, out = 'xyz'\n",
            "243     for c in s:\n",
            "                                         # line = 255\n",
            "255     return out\n",
            "remove_html_markup() returns 'xyz'\n"
          ]
        }
      ],
      "source": [
        "with ConditionalTracer(condition=\"function == 'remove_html_markup' and line >= 237\"):\n",
        "    remove_html_markup('xyz')"
      ]
    },
    {
      "cell_type": "markdown",
      "metadata": {
        "tags": [
          "98"
        ]
      },
      "source": [
        "Using `line` and `function` in conditions is equivalent to conventional _breakpoints_ in interactive debuggers. We will encounter them again in the next chapter."
      ]
    },
    {
      "cell_type": "code",
      "execution_count": 49,
      "metadata": {
        "tags": [
          "99"
        ]
      },
      "outputs": [
        {
          "data": {
            "text/html": [
              "\n",
              "    \n",
              "    <script>\n",
              "    var bad_answers = new Map();\n",
              "\n",
              "    function answer(quiz_id) {\n",
              "        ans = 0;\n",
              "        for (i = 1;; i++) {\n",
              "            checkbox = document.getElementById(quiz_id + \"-\" + i.toString());\n",
              "            if (!checkbox)\n",
              "                break;\n",
              "            if (checkbox.checked)\n",
              "                ans |= (1 << i);\n",
              "        }\n",
              "        return ans;\n",
              "    }\n",
              "    function check_selection(quiz_id, correct_answer, multiple_choice, hint) {\n",
              "        given_answer = answer(quiz_id);\n",
              "        if (given_answer == correct_answer)\n",
              "        {\n",
              "            document.getElementById(quiz_id + \"-submit\").value = \"Correct!\";\n",
              "            document.getElementById(quiz_id + \"-hint\").innerHTML = \"\";\n",
              "\n",
              "            for (i = 1;; i++) {\n",
              "                checkbox = document.getElementById(quiz_id + \"-\" + i.toString());\n",
              "                label = document.getElementById(quiz_id + \"-\" + i.toString() + \"-label\")\n",
              "                if (!checkbox)\n",
              "                    break;\n",
              "\n",
              "                if (checkbox.checked) {\n",
              "                    label.style.fontWeight = \"bold\";\n",
              "                }\n",
              "                else {\n",
              "                    label.style.textDecoration = \"line-through\";\n",
              "                }\n",
              "            }\n",
              "        }\n",
              "        else \n",
              "        {\n",
              "            document.getElementById(quiz_id + \"-submit\").value = \"Try again\";\n",
              "\n",
              "            if (!bad_answers.has(quiz_id)) {\n",
              "                bad_answers.set(quiz_id, 1);\n",
              "            }\n",
              "            else {\n",
              "                bad_answers.set(quiz_id, bad_answers.get(quiz_id) + 1);\n",
              "            }\n",
              "\n",
              "            if (bad_answers.get(quiz_id) >= 2 && hint.length > 0) {\n",
              "                document.getElementById(quiz_id + \"-hint\").innerHTML = \n",
              "                    \"&nbsp;&nbsp;(Hint: <code>\" + hint + \"</code>)\";\n",
              "            }\n",
              "\n",
              "            if (!multiple_choice) {\n",
              "                for (i = 1;; i++) {\n",
              "                    checkbox = document.getElementById(quiz_id + \"-\" + i.toString());\n",
              "                    label = document.getElementById(quiz_id + \"-\" + i.toString() + \"-label\")\n",
              "\n",
              "                    if (!checkbox)\n",
              "                        break;\n",
              "                    if (checkbox.checked) {\n",
              "                        label.style.textDecoration = \"line-through\";\n",
              "                    }\n",
              "                }\n",
              "            }\n",
              "        }\n",
              "    }\n",
              "    function clear_selection(quiz_id) {\n",
              "        document.getElementById(quiz_id + \"-submit\").value = \"Submit\";\n",
              "        document.getElementById(quiz_id + \"-hint\").innerHTML = \"\";\n",
              "    }\n",
              "    </script>\n",
              "    \n",
              "    <div class=\"quiz\">\n",
              "    <h3 class=\"quiz_title\">Quiz</h3>\n",
              "    <p>\n",
              "    <div class=\"quiz_question\">If the program under test contains a variable named <code>line</code>, which <code>line</code> does the condition refer to?</div>\n",
              "    </p>\n",
              "    <p>\n",
              "    <div class=\"quiz_options\" title=\"Pick a choice.\">\n",
              "    \n",
              "        <input type=\"radio\" name=\"fe942569-0869-11f0-9732-8e7f246f068f\" id=\"fe942569-0869-11f0-9732-8e7f246f068f-1\" onclick=\"clear_selection('fe942569-0869-11f0-9732-8e7f246f068f')\">\n",
              "        <label id=\"fe942569-0869-11f0-9732-8e7f246f068f-1-label\" for=\"fe942569-0869-11f0-9732-8e7f246f068f-1\"><code>line</code> as in the debugger</label><br>\n",
              "    \n",
              "        <input type=\"radio\" name=\"fe942569-0869-11f0-9732-8e7f246f068f\" id=\"fe942569-0869-11f0-9732-8e7f246f068f-2\" onclick=\"clear_selection('fe942569-0869-11f0-9732-8e7f246f068f')\">\n",
              "        <label id=\"fe942569-0869-11f0-9732-8e7f246f068f-2-label\" for=\"fe942569-0869-11f0-9732-8e7f246f068f-2\"><code>line</code> as in the program</label><br>\n",
              "    \n",
              "    </div>\n",
              "    </p>\n",
              "    <input id=\"fe942569-0869-11f0-9732-8e7f246f068f-submit\" type=\"submit\" value=\"Submit\" onclick=\"check_selection('fe942569-0869-11f0-9732-8e7f246f068f', 2, 0, '(326 * 27 == 8888) + 1')\">\n",
              "    <span class=\"quiz_hint\" id=\"fe942569-0869-11f0-9732-8e7f246f068f-hint\"></span>\n",
              "    </div>\n",
              "    "
            ],
            "text/plain": [
              "<IPython.core.display.HTML object>"
            ]
          },
          "execution_count": 49,
          "metadata": {},
          "output_type": "execute_result"
        }
      ],
      "source": [
        "quiz(\"If the program under test contains a variable named `line`, \"\n",
        "     \"which `line` does the condition refer to?\",\n",
        "     [\n",
        "        \"`line` as in the debugger\",\n",
        "        \"`line` as in the program\"\n",
        "     ], '(326 * 27 == 8888) + 1')"
      ]
    },
    {
      "cell_type": "markdown",
      "metadata": {
        "tags": [
          "100"
        ]
      },
      "source": [
        "## Watching Events\n",
        "\n",
        "As an alternative to conditional logging, we may also be interested to exactly trace when a variable not only _has_ a particular value, but also when it _changes_ its value.\n",
        "\n",
        "To this end, we set up an `EventTracer` class that _watches_ when some event takes place. It takes a list of expressions (\"events\") and evaluates them for each line; if any event changes its value, we log the status."
      ]
    },
    {
      "cell_type": "markdown",
      "metadata": {
        "tags": [
          "101"
        ]
      },
      "source": [
        "With\n",
        "\n",
        "```python\n",
        "with EventTracer(events=['tag', 'quote']):\n",
        "    remove_html_markup(...)\n",
        "```\n",
        "\n",
        "for instance, we would get a listing of all lines where `tag` or `quote` change their value; and with\n",
        "\n",
        "```python\n",
        "with EventTracer(events=['function']):\n",
        "    remove_html_markup(...)\n",
        "```\n",
        "\n",
        "we would obtain a listing of all lines where the current function changes."
      ]
    },
    {
      "cell_type": "markdown",
      "metadata": {
        "tags": [
          "102"
        ]
      },
      "source": [
        "Our `EventTracer` class stores the list of events in its `events` attribute:"
      ]
    },
    {
      "cell_type": "code",
      "execution_count": 50,
      "metadata": {
        "tags": [
          "103"
        ]
      },
      "outputs": [],
      "source": [
        "class EventTracer(ConditionalTracer):\n",
        "    \"\"\"Log when a given event expression changes its value\"\"\"\n",
        "\n",
        "    def __init__(self, *, condition: Optional[str] = None,\n",
        "                 events: List[str] = [], file: TextIO = sys.stdout) -> None:\n",
        "        \"\"\"Constructor. `events` is a list of expressions to watch.\"\"\"\n",
        "        assert isinstance(events, List)  # avoid type errors\n",
        "        self.events = events\n",
        "        self.last_event_values: Dict[str, Any] = {}\n",
        "        super().__init__(file=file, condition=condition)"
      ]
    },
    {
      "cell_type": "markdown",
      "metadata": {
        "tags": [
          "104"
        ]
      },
      "source": [
        "Its `events_changed()` function _evaluates_ the individual events and checks if they change."
      ]
    },
    {
      "cell_type": "code",
      "execution_count": 51,
      "metadata": {
        "tags": [
          "105"
        ]
      },
      "outputs": [],
      "source": [
        "class EventTracer(EventTracer):\n",
        "    def events_changed(self, events: List[str], frame: FrameType) -> bool:\n",
        "        \"\"\"Return True if any of the observed `events` has changed\"\"\"\n",
        "        change = False\n",
        "        for event in events:\n",
        "            value = self.eval_in_context(event, frame)\n",
        "\n",
        "            if (event not in self.last_event_values or\n",
        "                    value != self.last_event_values[event]):\n",
        "                self.last_event_values[event] = value\n",
        "                change = True\n",
        "\n",
        "        return change"
      ]
    },
    {
      "cell_type": "markdown",
      "metadata": {
        "tags": [
          "106"
        ]
      },
      "source": [
        "We hook this into `do_report()`, the method that determines whether a line should be shown."
      ]
    },
    {
      "cell_type": "code",
      "execution_count": 52,
      "metadata": {
        "tags": [
          "107"
        ]
      },
      "outputs": [],
      "source": [
        "class EventTracer(EventTracer):\n",
        "    def do_report(self, frame: FrameType, event: str, arg: Any) -> bool:\n",
        "        \"\"\"Return True if a line should be shown\"\"\"\n",
        "        return (self.eval_in_context(self.condition, frame) or\n",
        "                self.events_changed(self.events, frame))"
      ]
    },
    {
      "cell_type": "markdown",
      "metadata": {
        "tags": [
          "108"
        ]
      },
      "source": [
        "This allows us to track, for instance, how `quote` and `tag` change their values over time."
      ]
    },
    {
      "cell_type": "code",
      "execution_count": 53,
      "metadata": {
        "tags": [
          "109"
        ]
      },
      "outputs": [
        {
          "name": "stdout",
          "output_type": "stream",
          "text": [
            "...\n",
            "Calling remove_html_markup(s = '<b title=\"bar\">\"foo\"</b>', function = 'remove_html_markup', line = 238)\n",
            "...\n",
            "                                         # line = 240, tag = False\n",
            "240     quote = False\n",
            "                                         # line = 241, quote = False\n",
            "241     out = \"\"\n",
            "...\n",
            "                                         # line = 243, tag = True, out = '', c = '<'\n",
            "243     for c in s:\n",
            "...\n",
            "                                         # quote = True, c = '\"'\n",
            "243     for c in s:\n",
            "...\n",
            "                                         # quote = False\n",
            "243     for c in s:\n",
            "...\n",
            "                                         # tag = False, c = '>'\n",
            "243     for c in s:\n",
            "...\n",
            "                                         # tag = True, out = '\"foo\"', c = '<'\n",
            "243     for c in s:\n",
            "...\n",
            "                                         # tag = False, c = '>'\n",
            "243     for c in s:\n"
          ]
        }
      ],
      "source": [
        "with EventTracer(events=['quote', 'tag']):\n",
        "    remove_html_markup('<b title=\"bar\">\"foo\"</b>')"
      ]
    },
    {
      "cell_type": "markdown",
      "metadata": {
        "tags": [
          "110"
        ]
      },
      "source": [
        "Continuously monitoring variable values at execution time is equivalent to the concept of *watchpoints* in interactive debuggers."
      ]
    },
    {
      "cell_type": "markdown",
      "metadata": {
        "tags": [
          "111"
        ]
      },
      "source": [
        "With this, we have all we need for observing what happens during execution: We can explore the entire state, and we can evaluate conditions and events we are interested in. In the next chapter, we will see how to turn these capabilities into an interactive debugger, where we can query all these things interactively."
      ]
    },
    {
      "cell_type": "markdown",
      "metadata": {
        "tags": [
          "112"
        ]
      },
      "source": [
        "## Efficient Tracing\n",
        "\n",
        "While our framework is very flexible (and can still be extended further), it also is _slow_, since we have to evaluate all conditions and events for every single line of the program. Just how slow are things? We can easily measure this."
      ]
    },
    {
      "cell_type": "code",
      "execution_count": 54,
      "metadata": {
        "tags": [
          "113"
        ]
      },
      "outputs": [],
      "source": [
        "from Timer import Timer"
      ]
    },
    {
      "cell_type": "code",
      "execution_count": 55,
      "metadata": {
        "tags": [
          "114"
        ]
      },
      "outputs": [],
      "source": [
        "runs = 1000"
      ]
    },
    {
      "cell_type": "markdown",
      "metadata": {
        "tags": [
          "115"
        ]
      },
      "source": [
        "Here's the untraced execution time in seconds:"
      ]
    },
    {
      "cell_type": "code",
      "execution_count": 56,
      "metadata": {
        "tags": [
          "116"
        ]
      },
      "outputs": [
        {
          "data": {
            "text/plain": [
              "0.0012286300000141637"
            ]
          },
          "execution_count": 56,
          "metadata": {},
          "output_type": "execute_result"
        }
      ],
      "source": [
        "with Timer() as t:\n",
        "    for i in range(runs):\n",
        "        remove_html_markup('<b title=\"bar\">\"foo\"</b>')\n",
        "untraced_execution_time = t.elapsed_time()\n",
        "untraced_execution_time"
      ]
    },
    {
      "cell_type": "markdown",
      "metadata": {
        "tags": [
          "117"
        ]
      },
      "source": [
        "And here's the _traced_ execution time:"
      ]
    },
    {
      "cell_type": "code",
      "execution_count": 57,
      "metadata": {
        "tags": [
          "118"
        ]
      },
      "outputs": [
        {
          "data": {
            "text/plain": [
              "1.0239410860000078"
            ]
          },
          "execution_count": 57,
          "metadata": {},
          "output_type": "execute_result"
        }
      ],
      "source": [
        "with Timer() as t:\n",
        "    for i in range(runs):\n",
        "        with EventTracer():\n",
        "            remove_html_markup('<b title=\"bar\">\"foo\"</b>')\n",
        "traced_execution_time = t.elapsed_time()\n",
        "traced_execution_time"
      ]
    },
    {
      "cell_type": "markdown",
      "metadata": {
        "tags": [
          "119"
        ]
      },
      "source": [
        "We see that the _traced_ execution time is several hundred times slower:"
      ]
    },
    {
      "cell_type": "code",
      "execution_count": 58,
      "metadata": {
        "tags": [
          "120"
        ]
      },
      "outputs": [
        {
          "data": {
            "text/plain": [
              "833.4006869343934"
            ]
          },
          "execution_count": 58,
          "metadata": {},
          "output_type": "execute_result"
        }
      ],
      "source": [
        "traced_execution_time / untraced_execution_time"
      ]
    },
    {
      "cell_type": "markdown",
      "metadata": {
        "tags": [
          "121"
        ]
      },
      "source": [
        "We can still speed up our implementation somewhat, but still will get nowhere near the untraced execution time."
      ]
    },
    {
      "cell_type": "markdown",
      "metadata": {
        "tags": [
          "122"
        ]
      },
      "source": [
        "There is a trick, though, that allows us to execute programs at full speed while being traced. Rather than _dynamically_ checking at run time whether a condition is met, we can also _statically_ inject appropriate code into the program under test. This way, the non-traced code is executed at normal speed."
      ]
    },
    {
      "cell_type": "markdown",
      "metadata": {
        "tags": [
          "123"
        ]
      },
      "source": [
        "There is a downside, though: This only works if the condition to be checked is limited to specific _locations_\u00a0\u2013 because it is precisely these locations where we insert our tracing code. With this limitation, though, _static_ tracing can speed up things significantly."
      ]
    },
    {
      "cell_type": "markdown",
      "metadata": {
        "tags": [
          "124"
        ]
      },
      "source": [
        "How does static code injection work? The trick involves _rewriting_ the program code to insert special _debugging statements_ at the given locations. This way, we do not need to use the tracing function at all."
      ]
    },
    {
      "cell_type": "markdown",
      "metadata": {
        "tags": [
          "125"
        ]
      },
      "source": [
        "The following `insert_tracer()` function demonstrates this. It takes a function as well as a list of _breakpoint_ lines where to insert tracing statements. At each given line, it injects the code"
      ]
    },
    {
      "cell_type": "code",
      "execution_count": 59,
      "metadata": {
        "tags": [
          "126"
        ]
      },
      "outputs": [],
      "source": [
        "TRACER_CODE = \\\n",
        "    \"TRACER.print_debugger_status(inspect.currentframe(), 'line', None); \""
      ]
    },
    {
      "cell_type": "markdown",
      "metadata": {
        "tags": [
          "127"
        ]
      },
      "source": [
        "into the function definition, which calls into this tracer:"
      ]
    },
    {
      "cell_type": "code",
      "execution_count": 60,
      "metadata": {
        "tags": [
          "128"
        ]
      },
      "outputs": [],
      "source": [
        "TRACER = Tracer()"
      ]
    },
    {
      "cell_type": "markdown",
      "metadata": {
        "tags": [
          "129"
        ]
      },
      "source": [
        "`insert_tracer()` then _compiles_ the resulting code into a new \"traced\" function, which it then returns."
      ]
    },
    {
      "cell_type": "code",
      "execution_count": 61,
      "metadata": {
        "tags": [
          "130"
        ]
      },
      "outputs": [],
      "source": [
        "def insert_tracer(function: Callable, breakpoints: List[int] = []) -> Callable:\n",
        "    \"\"\"Return a variant of `function` with tracing code `TRACER_CODE` inserted\n",
        "       at each line given by `breakpoints`.\"\"\"\n",
        "\n",
        "    source_lines, starting_line_number = inspect.getsourcelines(function)\n",
        "\n",
        "    breakpoints.sort(reverse=True)\n",
        "    for given_line in breakpoints:\n",
        "        # Set new source line\n",
        "        relative_line = given_line - starting_line_number + 1\n",
        "        inject_line = source_lines[relative_line - 1]\n",
        "        indent = len(inject_line) - len(inject_line.lstrip())\n",
        "        source_lines[relative_line - 1] = ' ' * indent + TRACER_CODE + inject_line.lstrip()\n",
        "\n",
        "    # Rename function\n",
        "    new_function_name = function.__name__ + \"_traced\"\n",
        "    source_lines[0] = source_lines[0].replace(function.__name__, new_function_name)\n",
        "    new_def = \"\".join(source_lines)\n",
        "\n",
        "    # For debugging\n",
        "    print_content(new_def, '.py', start_line_number=starting_line_number)\n",
        "\n",
        "    # We keep original source and filename to ease debugging\n",
        "    prefix = '\\n' * starting_line_number    # Get line number right\n",
        "    new_function_code = compile(prefix + new_def, function.__code__.co_filename, 'exec')\n",
        "    exec(new_function_code)\n",
        "    new_function = eval(new_function_name)\n",
        "    return new_function"
      ]
    },
    {
      "cell_type": "markdown",
      "metadata": {
        "tags": [
          "131"
        ]
      },
      "source": [
        "Here's an example: inserting two breakpoints in (relative) Lines 7\u00a0and\u00a018 of `remove_html_markup()` results in the following (rewritten) definition of `remove_html_markup_traced()`:"
      ]
    },
    {
      "cell_type": "code",
      "execution_count": 62,
      "metadata": {
        "tags": [
          "132"
        ]
      },
      "outputs": [],
      "source": [
        "_, remove_html_markup_starting_line_number = inspect.getsourcelines(remove_html_markup)\n",
        "breakpoints = [(remove_html_markup_starting_line_number - 1) + 7, \n",
        "               (remove_html_markup_starting_line_number - 1) + 18]"
      ]
    },
    {
      "cell_type": "code",
      "execution_count": 63,
      "metadata": {
        "tags": [
          "133"
        ]
      },
      "outputs": [
        {
          "name": "stdout",
          "output_type": "stream",
          "text": [
            "238  \u001b[34mdef\u001b[39;49;00m\u001b[37m \u001b[39;49;00m\u001b[32mremove_html_markup_traced\u001b[39;49;00m(s):  \u001b[37m# type: ignore\u001b[39;49;00m\u001b[37m\u001b[39;49;00m\n",
            "239      tag = \u001b[34mFalse\u001b[39;49;00m\u001b[37m\u001b[39;49;00m\n",
            "240      quote = \u001b[34mFalse\u001b[39;49;00m\u001b[37m\u001b[39;49;00m\n",
            "241      out = \u001b[33m\"\u001b[39;49;00m\u001b[33m\"\u001b[39;49;00m\u001b[37m\u001b[39;49;00m\n",
            "242  \u001b[37m\u001b[39;49;00m\n",
            "243      \u001b[34mfor\u001b[39;49;00m c \u001b[35min\u001b[39;49;00m s:\u001b[37m\u001b[39;49;00m\n",
            "244          TRACER.print_debugger_status(inspect.currentframe(), \u001b[33m'\u001b[39;49;00m\u001b[33mline\u001b[39;49;00m\u001b[33m'\u001b[39;49;00m, \u001b[34mNone\u001b[39;49;00m); \u001b[34massert\u001b[39;49;00m tag \u001b[35mor\u001b[39;49;00m \u001b[35mnot\u001b[39;49;00m quote\u001b[37m\u001b[39;49;00m\n",
            "245  \u001b[37m\u001b[39;49;00m\n",
            "246          \u001b[34mif\u001b[39;49;00m c == \u001b[33m'\u001b[39;49;00m\u001b[33m<\u001b[39;49;00m\u001b[33m'\u001b[39;49;00m \u001b[35mand\u001b[39;49;00m \u001b[35mnot\u001b[39;49;00m quote:\u001b[37m\u001b[39;49;00m\n",
            "247              tag = \u001b[34mTrue\u001b[39;49;00m\u001b[37m\u001b[39;49;00m\n",
            "248          \u001b[34melif\u001b[39;49;00m c == \u001b[33m'\u001b[39;49;00m\u001b[33m>\u001b[39;49;00m\u001b[33m'\u001b[39;49;00m \u001b[35mand\u001b[39;49;00m \u001b[35mnot\u001b[39;49;00m quote:\u001b[37m\u001b[39;49;00m\n",
            "249              tag = \u001b[34mFalse\u001b[39;49;00m\u001b[37m\u001b[39;49;00m\n",
            "250          \u001b[34melif\u001b[39;49;00m (c == \u001b[33m'\u001b[39;49;00m\u001b[33m\"\u001b[39;49;00m\u001b[33m'\u001b[39;49;00m \u001b[35mor\u001b[39;49;00m c == \u001b[33m\"\u001b[39;49;00m\u001b[33m'\u001b[39;49;00m\u001b[33m\"\u001b[39;49;00m) \u001b[35mand\u001b[39;49;00m tag:\u001b[37m\u001b[39;49;00m\n",
            "251              quote = \u001b[35mnot\u001b[39;49;00m quote\u001b[37m\u001b[39;49;00m\n",
            "252          \u001b[34melif\u001b[39;49;00m \u001b[35mnot\u001b[39;49;00m tag:\u001b[37m\u001b[39;49;00m\n",
            "253              out = out + c\u001b[37m\u001b[39;49;00m\n",
            "254  \u001b[37m\u001b[39;49;00m\n",
            "255      TRACER.print_debugger_status(inspect.currentframe(), \u001b[33m'\u001b[39;49;00m\u001b[33mline\u001b[39;49;00m\u001b[33m'\u001b[39;49;00m, \u001b[34mNone\u001b[39;49;00m); \u001b[34mreturn\u001b[39;49;00m out\u001b[37m\u001b[39;49;00m"
          ]
        }
      ],
      "source": [
        "remove_html_markup_traced = insert_tracer(remove_html_markup, breakpoints)"
      ]
    },
    {
      "cell_type": "markdown",
      "metadata": {
        "tags": [
          "134"
        ]
      },
      "source": [
        "If we execute the statically instrumented `remove_html_markup_traced()`, we obtain the same output as when using a dynamic tracer. Note that the source code listed shows the original code; the injected calls into `TRACER` do not show up."
      ]
    },
    {
      "cell_type": "code",
      "execution_count": 64,
      "metadata": {
        "tags": [
          "135"
        ]
      },
      "outputs": [
        {
          "name": "stdout",
          "output_type": "stream",
          "text": [
            "                                         # s = '<b title=\"bar\">\"foo\"</b>', tag = False, quote = False, out = '', c = '<'\n",
            "245 \n",
            "                                         # tag = True, c = 'b'\n",
            "245 \n",
            "                                         # c = ' '\n",
            "245 \n",
            "                                         # c = 't'\n",
            "245 \n",
            "                                         # c = 'i'\n",
            "245 \n",
            "                                         # c = 't'\n",
            "245 \n",
            "                                         # c = 'l'\n",
            "245 \n",
            "                                         # c = 'e'\n",
            "245 \n",
            "                                         # c = '='\n",
            "245 \n",
            "                                         # c = '\"'\n",
            "245 \n",
            "                                         # quote = True, c = 'b'\n",
            "245 \n",
            "                                         # c = 'a'\n",
            "245 \n",
            "                                         # c = 'r'\n",
            "245 \n",
            "                                         # c = '\"'\n",
            "245 \n",
            "                                         # quote = False, c = '>'\n",
            "245 \n",
            "                                         # tag = False, c = '\"'\n",
            "245 \n",
            "                                         # out = '\"', c = 'f'\n",
            "245 \n",
            "                                         # out = '\"f', c = 'o'\n",
            "245 \n",
            "                                         # out = '\"fo'\n",
            "245 \n",
            "                                         # out = '\"foo', c = '\"'\n",
            "245 \n",
            "                                         # out = '\"foo\"', c = '<'\n",
            "245 \n",
            "                                         # tag = True, c = '/'\n",
            "245 \n",
            "                                         # c = 'b'\n",
            "245 \n",
            "                                         # c = '>'\n",
            "245 \n",
            "                                         # tag = False\n",
            "256 \n"
          ]
        }
      ],
      "source": [
        "with Timer() as t:\n",
        "    remove_html_markup_traced('<b title=\"bar\">\"foo\"</b>')\n",
        "static_tracer_execution_time = t.elapsed_time()"
      ]
    },
    {
      "cell_type": "markdown",
      "metadata": {
        "tags": [
          "136"
        ]
      },
      "source": [
        "How fast is the static tracer compared with the dynamic tracer? This is the execution time of the above code:"
      ]
    },
    {
      "cell_type": "code",
      "execution_count": 65,
      "metadata": {
        "tags": [
          "137"
        ]
      },
      "outputs": [
        {
          "data": {
            "text/plain": [
              "0.02832310499999835"
            ]
          },
          "execution_count": 65,
          "metadata": {},
          "output_type": "execute_result"
        }
      ],
      "source": [
        "static_tracer_execution_time"
      ]
    },
    {
      "cell_type": "markdown",
      "metadata": {
        "tags": [
          "138"
        ]
      },
      "source": [
        "Compare this with the equivalent dynamic tracer:"
      ]
    },
    {
      "cell_type": "code",
      "execution_count": 66,
      "metadata": {
        "tags": [
          "139"
        ]
      },
      "outputs": [
        {
          "name": "stdout",
          "output_type": "stream",
          "text": [
            "...\n",
            "                                         # s = '<b title=\"bar\">\"foo\"</b>', function = 'remove_html_markup', line = 244, tag = False, quote = False, out = '', c = '<'\n",
            "244         assert tag or not quote\n",
            "...\n",
            "                                         # tag = True, c = 'b'\n",
            "244         assert tag or not quote\n",
            "...\n",
            "                                         # c = ' '\n",
            "244         assert tag or not quote\n",
            "...\n",
            "                                         # c = 't'\n",
            "244         assert tag or not quote\n",
            "...\n",
            "                                         # c = 'i'\n",
            "244         assert tag or not quote\n",
            "...\n",
            "                                         # c = 't'\n",
            "244         assert tag or not quote\n",
            "...\n",
            "                                         # c = 'l'\n",
            "244         assert tag or not quote\n",
            "...\n",
            "                                         # c = 'e'\n",
            "244         assert tag or not quote\n",
            "...\n",
            "                                         # c = '='\n",
            "244         assert tag or not quote\n",
            "...\n",
            "                                         # c = '\"'\n",
            "244         assert tag or not quote\n",
            "...\n",
            "                                         # quote = True, c = 'b'\n",
            "244         assert tag or not quote\n",
            "...\n",
            "                                         # c = 'a'\n",
            "244         assert tag or not quote\n",
            "...\n",
            "                                         # c = 'r'\n",
            "244         assert tag or not quote\n",
            "...\n",
            "                                         # c = '\"'\n",
            "244         assert tag or not quote\n",
            "...\n",
            "                                         # quote = False, c = '>'\n",
            "244         assert tag or not quote\n",
            "...\n",
            "                                         # tag = False, c = '\"'\n",
            "244         assert tag or not quote\n",
            "...\n",
            "                                         # out = '\"', c = 'f'\n",
            "244         assert tag or not quote\n",
            "...\n",
            "                                         # out = '\"f', c = 'o'\n",
            "244         assert tag or not quote\n",
            "...\n",
            "                                         # out = '\"fo'\n",
            "244         assert tag or not quote\n",
            "...\n",
            "                                         # out = '\"foo', c = '\"'\n",
            "244         assert tag or not quote\n",
            "...\n",
            "                                         # out = '\"foo\"', c = '<'\n",
            "244         assert tag or not quote\n",
            "...\n",
            "                                         # tag = True, c = '/'\n",
            "244         assert tag or not quote\n",
            "...\n",
            "                                         # c = 'b'\n",
            "244         assert tag or not quote\n",
            "...\n",
            "                                         # c = '>'\n",
            "244         assert tag or not quote\n",
            "...\n",
            "                                         # line = 255, tag = False\n",
            "255     return out\n",
            "remove_html_markup() returns '\"foo\"'\n"
          ]
        },
        {
          "data": {
            "text/plain": [
              "0.06451240900000244"
            ]
          },
          "execution_count": 66,
          "metadata": {},
          "output_type": "execute_result"
        }
      ],
      "source": [
        "line7 = (remove_html_markup_starting_line_number - 1) + 7\n",
        "line18 = (remove_html_markup_starting_line_number - 1) + 18\n",
        "\n",
        "with Timer() as t:\n",
        "    with EventTracer(condition=f'line == {line7} or line == {line18}'):\n",
        "        remove_html_markup('<b title=\"bar\">\"foo\"</b>')\n",
        "\n",
        "dynamic_tracer_execution_time = t.elapsed_time()\n",
        "dynamic_tracer_execution_time"
      ]
    },
    {
      "cell_type": "code",
      "execution_count": 67,
      "metadata": {
        "tags": [
          "140"
        ]
      },
      "outputs": [
        {
          "data": {
            "text/plain": [
              "2.277730813765164"
            ]
          },
          "execution_count": 67,
          "metadata": {},
          "output_type": "execute_result"
        }
      ],
      "source": [
        "dynamic_tracer_execution_time / static_tracer_execution_time"
      ]
    },
    {
      "cell_type": "markdown",
      "metadata": {
        "tags": [
          "141"
        ]
      },
      "source": [
        "We see that the static tracker is several times faster \u2013\u00a0an advantage that will only increase further as more non-traced code is executed. If our code looks like this:"
      ]
    },
    {
      "cell_type": "code",
      "execution_count": 68,
      "metadata": {
        "tags": [
          "142"
        ]
      },
      "outputs": [],
      "source": [
        "def some_extreme_function(s: str) -> None:\n",
        "    ...  # Long-running function\n",
        "    remove_html_markup(s)"
      ]
    },
    {
      "cell_type": "markdown",
      "metadata": {
        "tags": [
          "143"
        ]
      },
      "source": [
        "and we then execute it with"
      ]
    },
    {
      "cell_type": "code",
      "execution_count": 69,
      "metadata": {
        "tags": [
          "144"
        ]
      },
      "outputs": [
        {
          "name": "stdout",
          "output_type": "stream",
          "text": [
            "...\n",
            "                                         # s = 'foo', function = 'remove_html_markup', line = 255, tag = False, quote = False, out = 'foo', c = 'o'\n",
            "255     return out\n",
            "remove_html_markup() returns 'foo'\n"
          ]
        }
      ],
      "source": [
        "with EventTracer(condition=f\"function=='remove_html_markup' and line == {line18}\"):\n",
        "    some_extreme_function(\"foo\")"
      ]
    },
    {
      "cell_type": "markdown",
      "metadata": {
        "tags": [
          "145"
        ]
      },
      "source": [
        "we will spend quite some time."
      ]
    },
    {
      "cell_type": "code",
      "execution_count": 70,
      "metadata": {
        "tags": [
          "146"
        ]
      },
      "outputs": [
        {
          "data": {
            "text/html": [
              "\n",
              "    \n",
              "    <script>\n",
              "    var bad_answers = new Map();\n",
              "\n",
              "    function answer(quiz_id) {\n",
              "        ans = 0;\n",
              "        for (i = 1;; i++) {\n",
              "            checkbox = document.getElementById(quiz_id + \"-\" + i.toString());\n",
              "            if (!checkbox)\n",
              "                break;\n",
              "            if (checkbox.checked)\n",
              "                ans |= (1 << i);\n",
              "        }\n",
              "        return ans;\n",
              "    }\n",
              "    function check_selection(quiz_id, correct_answer, multiple_choice, hint) {\n",
              "        given_answer = answer(quiz_id);\n",
              "        if (given_answer == correct_answer)\n",
              "        {\n",
              "            document.getElementById(quiz_id + \"-submit\").value = \"Correct!\";\n",
              "            document.getElementById(quiz_id + \"-hint\").innerHTML = \"\";\n",
              "\n",
              "            for (i = 1;; i++) {\n",
              "                checkbox = document.getElementById(quiz_id + \"-\" + i.toString());\n",
              "                label = document.getElementById(quiz_id + \"-\" + i.toString() + \"-label\")\n",
              "                if (!checkbox)\n",
              "                    break;\n",
              "\n",
              "                if (checkbox.checked) {\n",
              "                    label.style.fontWeight = \"bold\";\n",
              "                }\n",
              "                else {\n",
              "                    label.style.textDecoration = \"line-through\";\n",
              "                }\n",
              "            }\n",
              "        }\n",
              "        else \n",
              "        {\n",
              "            document.getElementById(quiz_id + \"-submit\").value = \"Try again\";\n",
              "\n",
              "            if (!bad_answers.has(quiz_id)) {\n",
              "                bad_answers.set(quiz_id, 1);\n",
              "            }\n",
              "            else {\n",
              "                bad_answers.set(quiz_id, bad_answers.get(quiz_id) + 1);\n",
              "            }\n",
              "\n",
              "            if (bad_answers.get(quiz_id) >= 2 && hint.length > 0) {\n",
              "                document.getElementById(quiz_id + \"-hint\").innerHTML = \n",
              "                    \"&nbsp;&nbsp;(Hint: <code>\" + hint + \"</code>)\";\n",
              "            }\n",
              "\n",
              "            if (!multiple_choice) {\n",
              "                for (i = 1;; i++) {\n",
              "                    checkbox = document.getElementById(quiz_id + \"-\" + i.toString());\n",
              "                    label = document.getElementById(quiz_id + \"-\" + i.toString() + \"-label\")\n",
              "\n",
              "                    if (!checkbox)\n",
              "                        break;\n",
              "                    if (checkbox.checked) {\n",
              "                        label.style.textDecoration = \"line-through\";\n",
              "                    }\n",
              "                }\n",
              "            }\n",
              "        }\n",
              "    }\n",
              "    function clear_selection(quiz_id) {\n",
              "        document.getElementById(quiz_id + \"-submit\").value = \"Submit\";\n",
              "        document.getElementById(quiz_id + \"-hint\").innerHTML = \"\";\n",
              "    }\n",
              "    </script>\n",
              "    \n",
              "    <div class=\"quiz\">\n",
              "    <h3 class=\"quiz_title\">Quiz</h3>\n",
              "    <p>\n",
              "    <div class=\"quiz_question\">In the above example, where is the <code>EventTracer.traceit()</code> function called?</div>\n",
              "    </p>\n",
              "    <p>\n",
              "    <div class=\"quiz_options\" title=\"Check all that apply.\">\n",
              "    \n",
              "        <input type=\"checkbox\" name=\"ff5f4128-0869-11f0-b36c-8e7f246f068f\" id=\"ff5f4128-0869-11f0-b36c-8e7f246f068f-1\" onclick=\"clear_selection('ff5f4128-0869-11f0-b36c-8e7f246f068f')\">\n",
              "        <label id=\"ff5f4128-0869-11f0-b36c-8e7f246f068f-1-label\" for=\"ff5f4128-0869-11f0-b36c-8e7f246f068f-1\">When <code>some_extreme_function()</code> returns</label><br>\n",
              "    \n",
              "        <input type=\"checkbox\" name=\"ff5f4128-0869-11f0-b36c-8e7f246f068f\" id=\"ff5f4128-0869-11f0-b36c-8e7f246f068f-2\" onclick=\"clear_selection('ff5f4128-0869-11f0-b36c-8e7f246f068f')\">\n",
              "        <label id=\"ff5f4128-0869-11f0-b36c-8e7f246f068f-2-label\" for=\"ff5f4128-0869-11f0-b36c-8e7f246f068f-2\">For each line of <code>some_extreme_function()</code></label><br>\n",
              "    \n",
              "        <input type=\"checkbox\" name=\"ff5f4128-0869-11f0-b36c-8e7f246f068f\" id=\"ff5f4128-0869-11f0-b36c-8e7f246f068f-3\" onclick=\"clear_selection('ff5f4128-0869-11f0-b36c-8e7f246f068f')\">\n",
              "        <label id=\"ff5f4128-0869-11f0-b36c-8e7f246f068f-3-label\" for=\"ff5f4128-0869-11f0-b36c-8e7f246f068f-3\">When <code>remove_html_markup()</code> returns</label><br>\n",
              "    \n",
              "        <input type=\"checkbox\" name=\"ff5f4128-0869-11f0-b36c-8e7f246f068f\" id=\"ff5f4128-0869-11f0-b36c-8e7f246f068f-4\" onclick=\"clear_selection('ff5f4128-0869-11f0-b36c-8e7f246f068f')\">\n",
              "        <label id=\"ff5f4128-0869-11f0-b36c-8e7f246f068f-4-label\" for=\"ff5f4128-0869-11f0-b36c-8e7f246f068f-4\">For each line of <code>remove_html_markup()</code></label><br>\n",
              "    \n",
              "    </div>\n",
              "    </p>\n",
              "    <input id=\"ff5f4128-0869-11f0-b36c-8e7f246f068f-submit\" type=\"submit\" value=\"Submit\" onclick=\"check_selection('ff5f4128-0869-11f0-b36c-8e7f246f068f', 30, 1, '[ord(c) - 100 for c in \\&#x27;efgh\\&#x27;]')\">\n",
              "    <span class=\"quiz_hint\" id=\"ff5f4128-0869-11f0-b36c-8e7f246f068f-hint\"></span>\n",
              "    </div>\n",
              "    "
            ],
            "text/plain": [
              "<IPython.core.display.HTML object>"
            ]
          },
          "execution_count": 70,
          "metadata": {},
          "output_type": "execute_result"
        }
      ],
      "source": [
        "quiz(\"In the above example, \"\n",
        "     \"where is the `EventTracer.traceit()` function called?\",\n",
        "     [\n",
        "         \"When `some_extreme_function()` returns\",\n",
        "         \"For each line of `some_extreme_function()`\",\n",
        "         \"When `remove_html_markup()` returns\",\n",
        "         \"For each line of `remove_html_markup()`\"\n",
        "     ], \"[ord(c) - 100 for c in 'efgh']\")"
      ]
    },
    {
      "cell_type": "markdown",
      "metadata": {
        "tags": [
          "147"
        ]
      },
      "source": [
        "Indeed: Stepping line by line through some function can be pretty expensive, as every call, line, and return of `some_extreme_function()` and `remove_html_markup()` is tracked."
      ]
    },
    {
      "cell_type": "markdown",
      "metadata": {
        "tags": [
          "148"
        ]
      },
      "source": [
        "On the other hand, the static tracker is limited to conditions that refer to a _specific location in the code._ If we want to check whether some variable changes, for instance, we have to perform a (nontrivial) static analysis of the code to determine possible locations for a change. If a variable is changed indirectly through references or pointers (a common risk in system-level languages like C), there is no alternative to actually watching its value after each instruction."
      ]
    },
    {
      "cell_type": "markdown",
      "metadata": {
        "tags": [
          "149"
        ]
      },
      "source": [
        "## Tracing Binary Executables\n",
        "\n",
        "Debuggers that act on binary code (say, code compiled from C) operate similarly as our \"static\" tracer: They take a location in the binary code and replace its instruction with a _break instruction_ that interrupts execution, returning control to the debugger. The debugger then replaces the break instruction with the original instruction before resuming execution.\n",
        "\n",
        "If the code cannot be altered (for instance, because it is in read-only memory), however, then debuggers resort to the \"dynamic\" tracing method, executing one instruction at a time and checking the program counter for its current value after each step.\n",
        "\n",
        "To provide a minimum of efficient support, some processor architectures, such as x86, provide *hardware breakpoints*. Programmers (or more precisely, debugging tools) can define a set of specific values for the program counter to watch, and if the program counter reaches one of these values, execution is interrupted to return to the debugger. Likewise, *hardware watchpoints* will check specific memory locations at run time for changes and given values. There are also hardware watchpoints that break when a specific memory location is read from. Both hardware watchpoints and hardware breakpoints allow a limited tracking of stopping conditions while still maintaining original execution speed \u2013\u00a0and the best debugging tools will use a mix of static tracing, dynamic tracing, and hardware tracing."
      ]
    },
    {
      "cell_type": "markdown",
      "metadata": {
        "tags": [
          "150"
        ]
      },
      "source": [
        "## Synopsis"
      ]
    },
    {
      "cell_type": "markdown",
      "metadata": {
        "tags": [
          "151"
        ]
      },
      "source": [
        "This chapter provides a `Tracer` class that allows logging events during program execution. The advanced subclass `EventTracer` allows restricting logs to specific conditions. Logs are shown only while the given `condition` holds:"
      ]
    },
    {
      "cell_type": "code",
      "execution_count": 71,
      "metadata": {
        "tags": [
          "152"
        ]
      },
      "outputs": [
        {
          "name": "stdout",
          "output_type": "stream",
          "text": [
            "...\n",
            "                                         # s = '<b>foo</b>bar', function = 'remove_html_markup', line = 243, tag = False, quote = False, out = 'foobar', c = 'r'\n",
            "243     for c in s:\n",
            "                                         # line = 255\n",
            "255     return out\n",
            "remove_html_markup() returns 'foobar'\n"
          ]
        }
      ],
      "source": [
        "with EventTracer(condition='line == 223 or len(out) >= 6'):\n",
        "    remove_html_markup('<b>foo</b>bar')"
      ]
    },
    {
      "cell_type": "markdown",
      "metadata": {
        "tags": [
          "153"
        ]
      },
      "source": [
        "It also allows restricting logs to specific events. Log entries are shown only if one of the given `events` changes its value:"
      ]
    },
    {
      "cell_type": "code",
      "execution_count": 72,
      "metadata": {
        "tags": [
          "154"
        ]
      },
      "outputs": [
        {
          "name": "stdout",
          "output_type": "stream",
          "text": [
            "...\n",
            "Calling remove_html_markup(s = '<b>foo</b>bar', function = 'remove_html_markup', line = 238)\n",
            "...\n",
            "                                         # line = 244, tag = False, quote = False, out = '', c = '<'\n",
            "244         assert tag or not quote\n",
            "...\n",
            "                                         # tag = True, out = 'foo', c = '/'\n",
            "244         assert tag or not quote\n",
            "...\n",
            "                                         # c = 'b'\n",
            "244         assert tag or not quote\n"
          ]
        }
      ],
      "source": [
        "with EventTracer(events=[\"c == '/'\"]):\n",
        "    remove_html_markup('<b>foo</b>bar')"
      ]
    },
    {
      "cell_type": "markdown",
      "metadata": {
        "tags": [
          "155"
        ]
      },
      "source": [
        "`Tracer` and `EventTracer` classes allow for subclassing and further customization."
      ]
    },
    {
      "cell_type": "code",
      "execution_count": 73,
      "metadata": {
        "tags": [
          "156"
        ]
      },
      "outputs": [],
      "source": [
        "# ignore\n",
        "from ClassDiagram import display_class_hierarchy"
      ]
    },
    {
      "cell_type": "code",
      "execution_count": 74,
      "metadata": {
        "tags": [
          "157"
        ]
      },
      "outputs": [
        {
          "data": {
            "image/svg+xml": [
              "<?xml version=\"1.0\" encoding=\"UTF-8\" standalone=\"no\"?>\n",
              "<!DOCTYPE svg PUBLIC \"-//W3C//DTD SVG 1.1//EN\"\n",
              " \"http://www.w3.org/Graphics/SVG/1.1/DTD/svg11.dtd\">\n",
              "<!-- Generated by graphviz version 2.43.0 (0)\n",
              " -->\n",
              "<!-- Title: %3 Pages: 1 -->\n",
              "<svg width=\"283pt\" height=\"420pt\"\n",
              " viewBox=\"0.00 0.00 283.00 420.00\" xmlns=\"http://www.w3.org/2000/svg\" xmlns:xlink=\"http://www.w3.org/1999/xlink\">\n",
              "<g id=\"graph0\" class=\"graph\" transform=\"scale(1 1) rotate(0) translate(4 416)\">\n",
              "<title>%3</title>\n",
              "<g id=\"a_graph0\"><a xlink:title=\"EventTracer class hierarchy\">\n",
              "<polygon fill=\"white\" stroke=\"transparent\" points=\"-4,4 -4,-416 279,-416 279,4 -4,4\"/>\n",
              "</a>\n",
              "</g>\n",
              "<!-- EventTracer -->\n",
              "<g id=\"node1\" class=\"node\">\n",
              "<title>EventTracer</title>\n",
              "<g id=\"a_node1\"><a xlink:href=\"#\" xlink:title=\"class EventTracer:&#10;Log when a given event expression changes its value\">\n",
              "<polygon fill=\"none\" stroke=\"black\" points=\"23.5,-0.5 23.5,-64.5 124.5,-64.5 124.5,-0.5 23.5,-0.5\"/>\n",
              "<text text-anchor=\"start\" x=\"34.5\" y=\"-50.3\" font-family=\"Raleway, Helvetica, Arial, sans-serif\" font-weight=\"bold\" font-size=\"14.00\" fill=\"#6a0dad\">EventTracer</text>\n",
              "<polyline fill=\"none\" stroke=\"black\" points=\"23.5,-41.5 124.5,-41.5 \"/>\n",
              "<g id=\"a_node1_0\"><a xlink:href=\"#\" xlink:title=\"EventTracer\">\n",
              "<g id=\"a_node1_1\"><a xlink:href=\"#\" xlink:title=\"__init__(self, *, condition: Optional[str] = None, events: List[str] = [], file: &lt;class &#39;TextIO&#39;&gt; = &lt;ipykernel.iostream.OutStream object at 0xe94d38762680&gt;) &#45;&gt; None:&#10;Constructor. `events` is a list of expressions to watch.\">\n",
              "<text text-anchor=\"start\" x=\"32\" y=\"-30\" font-family=\"'Fira Mono', 'Source Code Pro', 'Courier', monospace\" font-weight=\"bold\" font-style=\"italic\" font-size=\"10.00\">__init__()</text>\n",
              "</a>\n",
              "</g>\n",
              "<g id=\"a_node1_2\"><a xlink:href=\"#\" xlink:title=\"do_report(self, frame: frame, event: str, arg: Any) &#45;&gt; bool:&#10;Return True if a line should be shown\">\n",
              "<text text-anchor=\"start\" x=\"32\" y=\"-19\" font-family=\"'Fira Mono', 'Source Code Pro', 'Courier', monospace\" font-style=\"italic\" font-size=\"10.00\">do_report()</text>\n",
              "</a>\n",
              "</g>\n",
              "<g id=\"a_node1_3\"><a xlink:href=\"#\" xlink:title=\"events_changed(self, events: List[str], frame: frame) &#45;&gt; bool:&#10;Return True if any of the observed `events` has changed\">\n",
              "<text text-anchor=\"start\" x=\"32\" y=\"-7\" font-family=\"'Fira Mono', 'Source Code Pro', 'Courier', monospace\" font-size=\"10.00\">events_changed()</text>\n",
              "</a>\n",
              "</g>\n",
              "</a>\n",
              "</g>\n",
              "</a>\n",
              "</g>\n",
              "</g>\n",
              "<!-- ConditionalTracer -->\n",
              "<g id=\"node2\" class=\"node\">\n",
              "<title>ConditionalTracer</title>\n",
              "<g id=\"a_node2\"><a xlink:href=\"#\" xlink:title=\"class ConditionalTracer:&#10;A class for tracing a piece of code. Use as `with Tracer(): block()`\">\n",
              "<polygon fill=\"none\" stroke=\"black\" points=\"8,-101.5 8,-176.5 140,-176.5 140,-101.5 8,-101.5\"/>\n",
              "<text text-anchor=\"start\" x=\"16\" y=\"-162.3\" font-family=\"Raleway, Helvetica, Arial, sans-serif\" font-weight=\"bold\" font-size=\"14.00\" fill=\"#6a0dad\">ConditionalTracer</text>\n",
              "<polyline fill=\"none\" stroke=\"black\" points=\"8,-153.5 140,-153.5 \"/>\n",
              "<g id=\"a_node2_4\"><a xlink:href=\"#\" xlink:title=\"ConditionalTracer\">\n",
              "<g id=\"a_node2_5\"><a xlink:href=\"#\" xlink:title=\"__init__(self, *, condition: Optional[str] = None, file: &lt;class &#39;TextIO&#39;&gt; = &lt;ipykernel.iostream.OutStream object at 0xe94d38762680&gt;) &#45;&gt; None:&#10;Constructor. Trace all events for which `condition` (a Python expr) holds.\">\n",
              "<text text-anchor=\"start\" x=\"29\" y=\"-142.5\" font-family=\"'Fira Mono', 'Source Code Pro', 'Courier', monospace\" font-weight=\"bold\" font-style=\"italic\" font-size=\"10.00\">__init__()</text>\n",
              "</a>\n",
              "</g>\n",
              "<g id=\"a_node2_6\"><a xlink:href=\"#\" xlink:title=\"do_report(self, frame: frame, event: str, arg: Any) &#45;&gt; Optional[bool]\">\n",
              "<text text-anchor=\"start\" x=\"29\" y=\"-131.5\" font-family=\"'Fira Mono', 'Source Code Pro', 'Courier', monospace\" font-style=\"italic\" font-size=\"10.00\">do_report()</text>\n",
              "</a>\n",
              "</g>\n",
              "<g id=\"a_node2_7\"><a xlink:href=\"#\" xlink:title=\"eval_in_context(self, expr: str, frame: frame) &#45;&gt; Any\">\n",
              "<text text-anchor=\"start\" x=\"29\" y=\"-119.5\" font-family=\"'Fira Mono', 'Source Code Pro', 'Courier', monospace\" font-size=\"10.00\">eval_in_context()</text>\n",
              "</a>\n",
              "</g>\n",
              "<g id=\"a_node2_8\"><a xlink:href=\"#\" xlink:title=\"traceit(self, frame: frame, event: str, arg: Any) &#45;&gt; None:&#10;Tracing function; called at every line. To be overloaded in subclasses.\">\n",
              "<text text-anchor=\"start\" x=\"29\" y=\"-109.5\" font-family=\"'Fira Mono', 'Source Code Pro', 'Courier', monospace\" font-style=\"italic\" font-size=\"10.00\">traceit()</text>\n",
              "</a>\n",
              "</g>\n",
              "</a>\n",
              "</g>\n",
              "</a>\n",
              "</g>\n",
              "</g>\n",
              "<!-- EventTracer&#45;&gt;ConditionalTracer -->\n",
              "<g id=\"edge1\" class=\"edge\">\n",
              "<title>EventTracer&#45;&gt;ConditionalTracer</title>\n",
              "<path fill=\"none\" stroke=\"black\" d=\"M74,-64.57C74,-72.96 74,-82.23 74,-91.28\"/>\n",
              "<polygon fill=\"none\" stroke=\"black\" points=\"70.5,-91.34 74,-101.34 77.5,-91.34 70.5,-91.34\"/>\n",
              "</g>\n",
              "<!-- Tracer -->\n",
              "<g id=\"node3\" class=\"node\">\n",
              "<title>Tracer</title>\n",
              "<g id=\"a_node3\"><a xlink:href=\"#\" xlink:title=\"class Tracer:&#10;A class for tracing a piece of code. Use as `with Tracer(): block()`\">\n",
              "<polygon fill=\"none\" stroke=\"black\" points=\"5.5,-213.5 5.5,-332.5 142.5,-332.5 142.5,-213.5 5.5,-213.5\"/>\n",
              "<text text-anchor=\"start\" x=\"53\" y=\"-318.3\" font-family=\"Raleway, Helvetica, Arial, sans-serif\" font-weight=\"bold\" font-size=\"14.00\" fill=\"#6a0dad\">Tracer</text>\n",
              "<polyline fill=\"none\" stroke=\"black\" points=\"5.5,-309.5 142.5,-309.5 \"/>\n",
              "<g id=\"a_node3_9\"><a xlink:href=\"#\" xlink:title=\"Tracer\">\n",
              "<g id=\"a_node3_10\"><a xlink:href=\"#\" xlink:title=\"__enter__(self) &#45;&gt; Any:&#10;Called at begin of `with` block. Turn tracing on.\">\n",
              "<text text-anchor=\"start\" x=\"14\" y=\"-298.5\" font-family=\"'Fira Mono', 'Source Code Pro', 'Courier', monospace\" font-weight=\"bold\" font-size=\"10.00\">__enter__()</text>\n",
              "</a>\n",
              "</g>\n",
              "<g id=\"a_node3_11\"><a xlink:href=\"#\" xlink:title=\"__exit__(self, exc_tp: Type, exc_value: BaseException, exc_traceback: traceback) &#45;&gt; Optional[bool]:&#10;Called at end of `with` block. Turn tracing off.&#10;Return `None` if ok, not `None` if internal error.\">\n",
              "<text text-anchor=\"start\" x=\"14\" y=\"-287.5\" font-family=\"'Fira Mono', 'Source Code Pro', 'Courier', monospace\" font-weight=\"bold\" font-size=\"10.00\">__exit__()</text>\n",
              "</a>\n",
              "</g>\n",
              "<g id=\"a_node3_12\"><a xlink:href=\"#\" xlink:title=\"__init__(self, file: &lt;class &#39;TextIO&#39;&gt; = &lt;ipykernel.iostream.OutStream object at 0xe94d38762680&gt;) &#45;&gt; None:&#10;Create a new tracer.&#10;If `file` is given, output to `file` instead of stdout.\">\n",
              "<text text-anchor=\"start\" x=\"14\" y=\"-276.5\" font-family=\"'Fira Mono', 'Source Code Pro', 'Courier', monospace\" font-weight=\"bold\" font-style=\"italic\" font-size=\"10.00\">__init__()</text>\n",
              "</a>\n",
              "</g>\n",
              "<g id=\"a_node3_13\"><a xlink:href=\"#\" xlink:title=\"changed_vars(self, new_vars: Dict[str, Any]) &#45;&gt; Dict[str, Any]:&#10;Track changed variables, based on `new_vars` observed.\">\n",
              "<text text-anchor=\"start\" x=\"14\" y=\"-265.5\" font-family=\"'Fira Mono', 'Source Code Pro', 'Courier', monospace\" font-weight=\"bold\" font-size=\"10.00\">changed_vars()</text>\n",
              "</a>\n",
              "</g>\n",
              "<g id=\"a_node3_14\"><a xlink:href=\"#\" xlink:title=\"print_debugger_status(self, frame: frame, event: str, arg: Any) &#45;&gt; None:&#10;Show current source line and changed vars\">\n",
              "<text text-anchor=\"start\" x=\"14\" y=\"-254.5\" font-family=\"'Fira Mono', 'Source Code Pro', 'Courier', monospace\" font-weight=\"bold\" font-size=\"10.00\">print_debugger_status()</text>\n",
              "</a>\n",
              "</g>\n",
              "<g id=\"a_node3_15\"><a xlink:href=\"#\" xlink:title=\"_traceit(self, frame: frame, event: str, arg: Any) &#45;&gt; Optional[Callable]:&#10;Internal tracing function.\">\n",
              "<text text-anchor=\"start\" x=\"14\" y=\"-242.5\" font-family=\"'Fira Mono', 'Source Code Pro', 'Courier', monospace\" font-size=\"10.00\">_traceit()</text>\n",
              "</a>\n",
              "</g>\n",
              "<g id=\"a_node3_16\"><a xlink:href=\"#\" xlink:title=\"log(self, *objects: Any, sep: str = &#39; &#39;, end: str = &#39;\\n&#39;, flush: bool = True) &#45;&gt; None:&#10;Like `print()`, but always sending to `file` given at initialization,&#10;and flushing by default.\">\n",
              "<text text-anchor=\"start\" x=\"14\" y=\"-231.5\" font-family=\"'Fira Mono', 'Source Code Pro', 'Courier', monospace\" font-size=\"10.00\">log()</text>\n",
              "</a>\n",
              "</g>\n",
              "<g id=\"a_node3_17\"><a xlink:href=\"#\" xlink:title=\"traceit(self, frame: frame, event: str, arg: Any) &#45;&gt; None:&#10;Tracing function; called at every line. To be overloaded in subclasses.\">\n",
              "<text text-anchor=\"start\" x=\"14\" y=\"-221.5\" font-family=\"'Fira Mono', 'Source Code Pro', 'Courier', monospace\" font-style=\"italic\" font-size=\"10.00\">traceit()</text>\n",
              "</a>\n",
              "</g>\n",
              "</a>\n",
              "</g>\n",
              "</a>\n",
              "</g>\n",
              "</g>\n",
              "<!-- ConditionalTracer&#45;&gt;Tracer -->\n",
              "<g id=\"edge2\" class=\"edge\">\n",
              "<title>ConditionalTracer&#45;&gt;Tracer</title>\n",
              "<path fill=\"none\" stroke=\"black\" d=\"M74,-176.77C74,-185.03 74,-194.05 74,-203.15\"/>\n",
              "<polygon fill=\"none\" stroke=\"black\" points=\"70.5,-203.41 74,-213.41 77.5,-203.41 70.5,-203.41\"/>\n",
              "</g>\n",
              "<!-- StackInspector -->\n",
              "<g id=\"node4\" class=\"node\">\n",
              "<title>StackInspector</title>\n",
              "<g id=\"a_node4\"><a xlink:href=\"StackInspector.ipynb\" xlink:title=\"class StackInspector:&#10;Provide functions to inspect the stack\">\n",
              "<polygon fill=\"none\" stroke=\"black\" points=\"0,-369.5 0,-411.5 148,-411.5 148,-369.5 0,-369.5\"/>\n",
              "<text text-anchor=\"start\" x=\"25.5\" y=\"-397.3\" font-family=\"Raleway, Helvetica, Arial, sans-serif\" font-weight=\"bold\" font-size=\"14.00\" fill=\"#6a0dad\">StackInspector</text>\n",
              "<polyline fill=\"none\" stroke=\"black\" points=\"0,-388.5 148,-388.5 \"/>\n",
              "<g id=\"a_node4_18\"><a xlink:href=\"#\" xlink:title=\"StackInspector\">\n",
              "<g id=\"a_node4_19\"><a xlink:href=\"StackInspector.ipynb\" xlink:title=\"_generated_function_cache = {}\">\n",
              "<text text-anchor=\"start\" x=\"8\" y=\"-376\" font-family=\"'Fira Mono', 'Source Code Pro', 'Courier', monospace\" font-size=\"10.00\">_generated_function_cache</text>\n",
              "</a>\n",
              "</g>\n",
              "</a>\n",
              "</g>\n",
              "</a>\n",
              "</g>\n",
              "</g>\n",
              "<!-- Tracer&#45;&gt;StackInspector -->\n",
              "<g id=\"edge3\" class=\"edge\">\n",
              "<title>Tracer&#45;&gt;StackInspector</title>\n",
              "<path fill=\"none\" stroke=\"black\" d=\"M74,-332.77C74,-341.91 74,-351.02 74,-359.18\"/>\n",
              "<polygon fill=\"none\" stroke=\"black\" points=\"70.5,-359.28 74,-369.28 77.5,-359.28 70.5,-359.28\"/>\n",
              "</g>\n",
              "<!-- Legend -->\n",
              "<g id=\"node5\" class=\"node\">\n",
              "<title>Legend</title>\n",
              "<text text-anchor=\"start\" x=\"143\" y=\"-50\" font-family=\"Raleway, Helvetica, Arial, sans-serif\" font-weight=\"bold\" font-size=\"10.00\" fill=\"#6a0dad\">Legend</text>\n",
              "<text text-anchor=\"start\" x=\"143\" y=\"-40\" font-family=\"Raleway, Helvetica, Arial, sans-serif\" font-size=\"10.00\">\u2022\u00a0</text>\n",
              "<text text-anchor=\"start\" x=\"150\" y=\"-40\" font-family=\"'Fira Mono', 'Source Code Pro', 'Courier', monospace\" font-weight=\"bold\" font-size=\"8.00\">public_method()</text>\n",
              "<text text-anchor=\"start\" x=\"143\" y=\"-30\" font-family=\"Raleway, Helvetica, Arial, sans-serif\" font-size=\"10.00\">\u2022\u00a0</text>\n",
              "<text text-anchor=\"start\" x=\"150\" y=\"-30\" font-family=\"'Fira Mono', 'Source Code Pro', 'Courier', monospace\" font-size=\"8.00\">private_method()</text>\n",
              "<text text-anchor=\"start\" x=\"143\" y=\"-20\" font-family=\"Raleway, Helvetica, Arial, sans-serif\" font-size=\"10.00\">\u2022\u00a0</text>\n",
              "<text text-anchor=\"start\" x=\"150\" y=\"-20\" font-family=\"'Fira Mono', 'Source Code Pro', 'Courier', monospace\" font-style=\"italic\" font-size=\"8.00\">overloaded_method()</text>\n",
              "<text text-anchor=\"start\" x=\"143\" y=\"-10.8\" font-family=\"Helvetica,sans-Serif\" font-size=\"9.00\">Hover over names to see doc</text>\n",
              "</g>\n",
              "</g>\n",
              "</svg>\n"
            ],
            "text/html": [
              "<?xml version=\"1.0\" encoding=\"UTF-8\" standalone=\"no\"?>\n",
              "<!DOCTYPE svg PUBLIC \"-//W3C//DTD SVG 1.1//EN\"\n",
              " \"http://www.w3.org/Graphics/SVG/1.1/DTD/svg11.dtd\">\n",
              "<!-- Generated by graphviz version 2.43.0 (0)\n",
              " -->\n",
              "<!-- Title: %3 Pages: 1 -->\n",
              "<svg width=\"283pt\" height=\"420pt\"\n",
              " viewBox=\"0.00 0.00 283.00 420.00\" xmlns=\"http://www.w3.org/2000/svg\" xmlns:xlink=\"http://www.w3.org/1999/xlink\">\n",
              "<g id=\"graph0\" class=\"graph\" transform=\"scale(1 1) rotate(0) translate(4 416)\">\n",
              "<title>%3</title>\n",
              "<g id=\"a_graph0\"><a xlink:title=\"EventTracer class hierarchy\">\n",
              "<polygon fill=\"white\" stroke=\"transparent\" points=\"-4,4 -4,-416 279,-416 279,4 -4,4\"/>\n",
              "</a>\n",
              "</g>\n",
              "<!-- EventTracer -->\n",
              "<g id=\"node1\" class=\"node\">\n",
              "<title>EventTracer</title>\n",
              "<g id=\"a_node1\"><a xlink:href=\"#\" xlink:title=\"class EventTracer:&#10;Log when a given event expression changes its value\">\n",
              "<polygon fill=\"none\" stroke=\"black\" points=\"23.5,-0.5 23.5,-64.5 124.5,-64.5 124.5,-0.5 23.5,-0.5\"/>\n",
              "<text text-anchor=\"start\" x=\"34.5\" y=\"-50.3\" font-family=\"Raleway, Helvetica, Arial, sans-serif\" font-weight=\"bold\" font-size=\"14.00\" fill=\"#6a0dad\">EventTracer</text>\n",
              "<polyline fill=\"none\" stroke=\"black\" points=\"23.5,-41.5 124.5,-41.5 \"/>\n",
              "<g id=\"a_node1_0\"><a xlink:href=\"#\" xlink:title=\"EventTracer\">\n",
              "<g id=\"a_node1_1\"><a xlink:href=\"#\" xlink:title=\"__init__(self, *, condition: Optional[str] = None, events: List[str] = [], file: &lt;class &#39;TextIO&#39;&gt; = &lt;ipykernel.iostream.OutStream object at 0xe94d38762680&gt;) &#45;&gt; None:&#10;Constructor. `events` is a list of expressions to watch.\">\n",
              "<text text-anchor=\"start\" x=\"32\" y=\"-30\" font-family=\"'Fira Mono', 'Source Code Pro', 'Courier', monospace\" font-weight=\"bold\" font-style=\"italic\" font-size=\"10.00\">__init__()</text>\n",
              "</a>\n",
              "</g>\n",
              "<g id=\"a_node1_2\"><a xlink:href=\"#\" xlink:title=\"do_report(self, frame: frame, event: str, arg: Any) &#45;&gt; bool:&#10;Return True if a line should be shown\">\n",
              "<text text-anchor=\"start\" x=\"32\" y=\"-19\" font-family=\"'Fira Mono', 'Source Code Pro', 'Courier', monospace\" font-style=\"italic\" font-size=\"10.00\">do_report()</text>\n",
              "</a>\n",
              "</g>\n",
              "<g id=\"a_node1_3\"><a xlink:href=\"#\" xlink:title=\"events_changed(self, events: List[str], frame: frame) &#45;&gt; bool:&#10;Return True if any of the observed `events` has changed\">\n",
              "<text text-anchor=\"start\" x=\"32\" y=\"-7\" font-family=\"'Fira Mono', 'Source Code Pro', 'Courier', monospace\" font-size=\"10.00\">events_changed()</text>\n",
              "</a>\n",
              "</g>\n",
              "</a>\n",
              "</g>\n",
              "</a>\n",
              "</g>\n",
              "</g>\n",
              "<!-- ConditionalTracer -->\n",
              "<g id=\"node2\" class=\"node\">\n",
              "<title>ConditionalTracer</title>\n",
              "<g id=\"a_node2\"><a xlink:href=\"#\" xlink:title=\"class ConditionalTracer:&#10;A class for tracing a piece of code. Use as `with Tracer(): block()`\">\n",
              "<polygon fill=\"none\" stroke=\"black\" points=\"8,-101.5 8,-176.5 140,-176.5 140,-101.5 8,-101.5\"/>\n",
              "<text text-anchor=\"start\" x=\"16\" y=\"-162.3\" font-family=\"Raleway, Helvetica, Arial, sans-serif\" font-weight=\"bold\" font-size=\"14.00\" fill=\"#6a0dad\">ConditionalTracer</text>\n",
              "<polyline fill=\"none\" stroke=\"black\" points=\"8,-153.5 140,-153.5 \"/>\n",
              "<g id=\"a_node2_4\"><a xlink:href=\"#\" xlink:title=\"ConditionalTracer\">\n",
              "<g id=\"a_node2_5\"><a xlink:href=\"#\" xlink:title=\"__init__(self, *, condition: Optional[str] = None, file: &lt;class &#39;TextIO&#39;&gt; = &lt;ipykernel.iostream.OutStream object at 0xe94d38762680&gt;) &#45;&gt; None:&#10;Constructor. Trace all events for which `condition` (a Python expr) holds.\">\n",
              "<text text-anchor=\"start\" x=\"29\" y=\"-142.5\" font-family=\"'Fira Mono', 'Source Code Pro', 'Courier', monospace\" font-weight=\"bold\" font-style=\"italic\" font-size=\"10.00\">__init__()</text>\n",
              "</a>\n",
              "</g>\n",
              "<g id=\"a_node2_6\"><a xlink:href=\"#\" xlink:title=\"do_report(self, frame: frame, event: str, arg: Any) &#45;&gt; Optional[bool]\">\n",
              "<text text-anchor=\"start\" x=\"29\" y=\"-131.5\" font-family=\"'Fira Mono', 'Source Code Pro', 'Courier', monospace\" font-style=\"italic\" font-size=\"10.00\">do_report()</text>\n",
              "</a>\n",
              "</g>\n",
              "<g id=\"a_node2_7\"><a xlink:href=\"#\" xlink:title=\"eval_in_context(self, expr: str, frame: frame) &#45;&gt; Any\">\n",
              "<text text-anchor=\"start\" x=\"29\" y=\"-119.5\" font-family=\"'Fira Mono', 'Source Code Pro', 'Courier', monospace\" font-size=\"10.00\">eval_in_context()</text>\n",
              "</a>\n",
              "</g>\n",
              "<g id=\"a_node2_8\"><a xlink:href=\"#\" xlink:title=\"traceit(self, frame: frame, event: str, arg: Any) &#45;&gt; None:&#10;Tracing function; called at every line. To be overloaded in subclasses.\">\n",
              "<text text-anchor=\"start\" x=\"29\" y=\"-109.5\" font-family=\"'Fira Mono', 'Source Code Pro', 'Courier', monospace\" font-style=\"italic\" font-size=\"10.00\">traceit()</text>\n",
              "</a>\n",
              "</g>\n",
              "</a>\n",
              "</g>\n",
              "</a>\n",
              "</g>\n",
              "</g>\n",
              "<!-- EventTracer&#45;&gt;ConditionalTracer -->\n",
              "<g id=\"edge1\" class=\"edge\">\n",
              "<title>EventTracer&#45;&gt;ConditionalTracer</title>\n",
              "<path fill=\"none\" stroke=\"black\" d=\"M74,-64.57C74,-72.96 74,-82.23 74,-91.28\"/>\n",
              "<polygon fill=\"none\" stroke=\"black\" points=\"70.5,-91.34 74,-101.34 77.5,-91.34 70.5,-91.34\"/>\n",
              "</g>\n",
              "<!-- Tracer -->\n",
              "<g id=\"node3\" class=\"node\">\n",
              "<title>Tracer</title>\n",
              "<g id=\"a_node3\"><a xlink:href=\"#\" xlink:title=\"class Tracer:&#10;A class for tracing a piece of code. Use as `with Tracer(): block()`\">\n",
              "<polygon fill=\"none\" stroke=\"black\" points=\"5.5,-213.5 5.5,-332.5 142.5,-332.5 142.5,-213.5 5.5,-213.5\"/>\n",
              "<text text-anchor=\"start\" x=\"53\" y=\"-318.3\" font-family=\"Raleway, Helvetica, Arial, sans-serif\" font-weight=\"bold\" font-size=\"14.00\" fill=\"#6a0dad\">Tracer</text>\n",
              "<polyline fill=\"none\" stroke=\"black\" points=\"5.5,-309.5 142.5,-309.5 \"/>\n",
              "<g id=\"a_node3_9\"><a xlink:href=\"#\" xlink:title=\"Tracer\">\n",
              "<g id=\"a_node3_10\"><a xlink:href=\"#\" xlink:title=\"__enter__(self) &#45;&gt; Any:&#10;Called at begin of `with` block. Turn tracing on.\">\n",
              "<text text-anchor=\"start\" x=\"14\" y=\"-298.5\" font-family=\"'Fira Mono', 'Source Code Pro', 'Courier', monospace\" font-weight=\"bold\" font-size=\"10.00\">__enter__()</text>\n",
              "</a>\n",
              "</g>\n",
              "<g id=\"a_node3_11\"><a xlink:href=\"#\" xlink:title=\"__exit__(self, exc_tp: Type, exc_value: BaseException, exc_traceback: traceback) &#45;&gt; Optional[bool]:&#10;Called at end of `with` block. Turn tracing off.&#10;Return `None` if ok, not `None` if internal error.\">\n",
              "<text text-anchor=\"start\" x=\"14\" y=\"-287.5\" font-family=\"'Fira Mono', 'Source Code Pro', 'Courier', monospace\" font-weight=\"bold\" font-size=\"10.00\">__exit__()</text>\n",
              "</a>\n",
              "</g>\n",
              "<g id=\"a_node3_12\"><a xlink:href=\"#\" xlink:title=\"__init__(self, file: &lt;class &#39;TextIO&#39;&gt; = &lt;ipykernel.iostream.OutStream object at 0xe94d38762680&gt;) &#45;&gt; None:&#10;Create a new tracer.&#10;If `file` is given, output to `file` instead of stdout.\">\n",
              "<text text-anchor=\"start\" x=\"14\" y=\"-276.5\" font-family=\"'Fira Mono', 'Source Code Pro', 'Courier', monospace\" font-weight=\"bold\" font-style=\"italic\" font-size=\"10.00\">__init__()</text>\n",
              "</a>\n",
              "</g>\n",
              "<g id=\"a_node3_13\"><a xlink:href=\"#\" xlink:title=\"changed_vars(self, new_vars: Dict[str, Any]) &#45;&gt; Dict[str, Any]:&#10;Track changed variables, based on `new_vars` observed.\">\n",
              "<text text-anchor=\"start\" x=\"14\" y=\"-265.5\" font-family=\"'Fira Mono', 'Source Code Pro', 'Courier', monospace\" font-weight=\"bold\" font-size=\"10.00\">changed_vars()</text>\n",
              "</a>\n",
              "</g>\n",
              "<g id=\"a_node3_14\"><a xlink:href=\"#\" xlink:title=\"print_debugger_status(self, frame: frame, event: str, arg: Any) &#45;&gt; None:&#10;Show current source line and changed vars\">\n",
              "<text text-anchor=\"start\" x=\"14\" y=\"-254.5\" font-family=\"'Fira Mono', 'Source Code Pro', 'Courier', monospace\" font-weight=\"bold\" font-size=\"10.00\">print_debugger_status()</text>\n",
              "</a>\n",
              "</g>\n",
              "<g id=\"a_node3_15\"><a xlink:href=\"#\" xlink:title=\"_traceit(self, frame: frame, event: str, arg: Any) &#45;&gt; Optional[Callable]:&#10;Internal tracing function.\">\n",
              "<text text-anchor=\"start\" x=\"14\" y=\"-242.5\" font-family=\"'Fira Mono', 'Source Code Pro', 'Courier', monospace\" font-size=\"10.00\">_traceit()</text>\n",
              "</a>\n",
              "</g>\n",
              "<g id=\"a_node3_16\"><a xlink:href=\"#\" xlink:title=\"log(self, *objects: Any, sep: str = &#39; &#39;, end: str = &#39;\\n&#39;, flush: bool = True) &#45;&gt; None:&#10;Like `print()`, but always sending to `file` given at initialization,&#10;and flushing by default.\">\n",
              "<text text-anchor=\"start\" x=\"14\" y=\"-231.5\" font-family=\"'Fira Mono', 'Source Code Pro', 'Courier', monospace\" font-size=\"10.00\">log()</text>\n",
              "</a>\n",
              "</g>\n",
              "<g id=\"a_node3_17\"><a xlink:href=\"#\" xlink:title=\"traceit(self, frame: frame, event: str, arg: Any) &#45;&gt; None:&#10;Tracing function; called at every line. To be overloaded in subclasses.\">\n",
              "<text text-anchor=\"start\" x=\"14\" y=\"-221.5\" font-family=\"'Fira Mono', 'Source Code Pro', 'Courier', monospace\" font-style=\"italic\" font-size=\"10.00\">traceit()</text>\n",
              "</a>\n",
              "</g>\n",
              "</a>\n",
              "</g>\n",
              "</a>\n",
              "</g>\n",
              "</g>\n",
              "<!-- ConditionalTracer&#45;&gt;Tracer -->\n",
              "<g id=\"edge2\" class=\"edge\">\n",
              "<title>ConditionalTracer&#45;&gt;Tracer</title>\n",
              "<path fill=\"none\" stroke=\"black\" d=\"M74,-176.77C74,-185.03 74,-194.05 74,-203.15\"/>\n",
              "<polygon fill=\"none\" stroke=\"black\" points=\"70.5,-203.41 74,-213.41 77.5,-203.41 70.5,-203.41\"/>\n",
              "</g>\n",
              "<!-- StackInspector -->\n",
              "<g id=\"node4\" class=\"node\">\n",
              "<title>StackInspector</title>\n",
              "<g id=\"a_node4\"><a xlink:href=\"StackInspector.ipynb\" xlink:title=\"class StackInspector:&#10;Provide functions to inspect the stack\">\n",
              "<polygon fill=\"none\" stroke=\"black\" points=\"0,-369.5 0,-411.5 148,-411.5 148,-369.5 0,-369.5\"/>\n",
              "<text text-anchor=\"start\" x=\"25.5\" y=\"-397.3\" font-family=\"Raleway, Helvetica, Arial, sans-serif\" font-weight=\"bold\" font-size=\"14.00\" fill=\"#6a0dad\">StackInspector</text>\n",
              "<polyline fill=\"none\" stroke=\"black\" points=\"0,-388.5 148,-388.5 \"/>\n",
              "<g id=\"a_node4_18\"><a xlink:href=\"#\" xlink:title=\"StackInspector\">\n",
              "<g id=\"a_node4_19\"><a xlink:href=\"StackInspector.ipynb\" xlink:title=\"_generated_function_cache = {}\">\n",
              "<text text-anchor=\"start\" x=\"8\" y=\"-376\" font-family=\"'Fira Mono', 'Source Code Pro', 'Courier', monospace\" font-size=\"10.00\">_generated_function_cache</text>\n",
              "</a>\n",
              "</g>\n",
              "</a>\n",
              "</g>\n",
              "</a>\n",
              "</g>\n",
              "</g>\n",
              "<!-- Tracer&#45;&gt;StackInspector -->\n",
              "<g id=\"edge3\" class=\"edge\">\n",
              "<title>Tracer&#45;&gt;StackInspector</title>\n",
              "<path fill=\"none\" stroke=\"black\" d=\"M74,-332.77C74,-341.91 74,-351.02 74,-359.18\"/>\n",
              "<polygon fill=\"none\" stroke=\"black\" points=\"70.5,-359.28 74,-369.28 77.5,-359.28 70.5,-359.28\"/>\n",
              "</g>\n",
              "<!-- Legend -->\n",
              "<g id=\"node5\" class=\"node\">\n",
              "<title>Legend</title>\n",
              "<text text-anchor=\"start\" x=\"143\" y=\"-50\" font-family=\"Raleway, Helvetica, Arial, sans-serif\" font-weight=\"bold\" font-size=\"10.00\" fill=\"#6a0dad\">Legend</text>\n",
              "<text text-anchor=\"start\" x=\"143\" y=\"-40\" font-family=\"Raleway, Helvetica, Arial, sans-serif\" font-size=\"10.00\">\u2022\u00a0</text>\n",
              "<text text-anchor=\"start\" x=\"150\" y=\"-40\" font-family=\"'Fira Mono', 'Source Code Pro', 'Courier', monospace\" font-weight=\"bold\" font-size=\"8.00\">public_method()</text>\n",
              "<text text-anchor=\"start\" x=\"143\" y=\"-30\" font-family=\"Raleway, Helvetica, Arial, sans-serif\" font-size=\"10.00\">\u2022\u00a0</text>\n",
              "<text text-anchor=\"start\" x=\"150\" y=\"-30\" font-family=\"'Fira Mono', 'Source Code Pro', 'Courier', monospace\" font-size=\"8.00\">private_method()</text>\n",
              "<text text-anchor=\"start\" x=\"143\" y=\"-20\" font-family=\"Raleway, Helvetica, Arial, sans-serif\" font-size=\"10.00\">\u2022\u00a0</text>\n",
              "<text text-anchor=\"start\" x=\"150\" y=\"-20\" font-family=\"'Fira Mono', 'Source Code Pro', 'Courier', monospace\" font-style=\"italic\" font-size=\"8.00\">overloaded_method()</text>\n",
              "<text text-anchor=\"start\" x=\"143\" y=\"-10.8\" font-family=\"Helvetica,sans-Serif\" font-size=\"9.00\">Hover over names to see doc</text>\n",
              "</g>\n",
              "</g>\n",
              "</svg>\n"
            ],
            "text/plain": [
              "<graphviz.graphs.Digraph at 0xe94d2e1e2f90>"
            ]
          },
          "execution_count": 74,
          "metadata": {},
          "output_type": "execute_result"
        }
      ],
      "source": [
        "# ignore\n",
        "display_class_hierarchy(EventTracer,\n",
        "                        public_methods=[\n",
        "                            Tracer.__init__,\n",
        "                            Tracer.__enter__,\n",
        "                            Tracer.__exit__,\n",
        "                            Tracer.changed_vars,\n",
        "                            Tracer.print_debugger_status,\n",
        "                            ConditionalTracer.__init__,\n",
        "                            EventTracer.__init__,\n",
        "                        ],\n",
        "                        project='debuggingbook')"
      ]
    },
    {
      "cell_type": "markdown",
      "metadata": {
        "button": false,
        "new_sheet": true,
        "run_control": {
          "read_only": false
        },
        "tags": [
          "158"
        ]
      },
      "source": [
        "## Lessons Learned\n",
        "\n",
        "* Interpreted languages can provide _debugging hooks_ that allow controlling program execution and access program state.\n",
        "* Tracing can be limited to specific conditions and events:\n",
        "    * A _breakpoint_ is a condition referring to a particular location in the code.\n",
        "    * A _watchpoint_ is an event referring to a particular state change.\n",
        "* Compiled languages allow _instrumenting_ code at compile time, injecting code that allows handing over control to a tracing or debugging tool."
      ]
    },
    {
      "cell_type": "markdown",
      "metadata": {
        "button": false,
        "new_sheet": false,
        "run_control": {
          "read_only": false
        },
        "tags": [
          "159"
        ]
      },
      "source": [
        "## Next Steps\n",
        "\n",
        "In the next chapter, we will see how to\n",
        "\n",
        "* [leverage our tracing infrastructure for interactive debugging](Debugger.ipynb)\n"
      ]
    },
    {
      "cell_type": "markdown",
      "metadata": {
        "tags": [
          "160"
        ]
      },
      "source": [
        "## Background\n",
        "\n",
        "Debugging interfaces like Python `sys.settrace()` are common in all programming languages that provide support for interactive debugging, providing support for executing programs step by step and inspecting program state along the way."
      ]
    },
    {
      "cell_type": "markdown",
      "metadata": {
        "tags": [
          "161"
        ]
      },
      "source": [
        "### Low-Level Debugging Interfaces\n",
        "\n",
        "The first set of interfaces considered takes place at a _low level_, allowing access to _machine level_ features. On Linux and other UNIX-like systems, the [ptrace()](https://en.wikipedia.org/wiki/Ptrace) system call provides a means by which one process (the 'tracer') may observe and control the execution of another process (the 'tracee'), and examine and change the tracee's memory and registers.\n",
        "\n",
        "`ptrace()` is a low-level interface, which allows stepping over individual machine instructions and to read raw memory. In order to map instructions back to original statements and translate memory contents to variable values, compilers can include *debugging information* in the produced binaries, which debuggers then read out during a debugging session."
      ]
    },
    {
      "cell_type": "markdown",
      "metadata": {
        "tags": [
          "162"
        ]
      },
      "source": [
        "### High-Level Debugging Interfaces\n",
        "\n",
        "The second set of interfaces allows accessing the program's internals using the concepts of the program \u2013 i.e. variables and code locations, as Python does. The [Java Debug Interface](https://docs.oracle.com/javase/8/docs/jdk/api/jpda/jdi/) (JDI) is a _high-level interface_ for implementing a debugger (or tracer) on top of Java. [This introduction to JDI](https://www.baeldung.com/java-debug-interface) shows how to build a debugger using this interface in a few steps.\n",
        "\n",
        "For JavaScript, Mozilla's [Debugger API](https://developer.mozilla.org/en-US/docs/Tools/Debugger-API) and Google's [chrome.debugger API](https://developer.chrome.com/docs/extensions/reference/debugger/) similarly allow tracing and inspecting program execution."
      ]
    },
    {
      "cell_type": "markdown",
      "metadata": {
        "button": false,
        "new_sheet": true,
        "run_control": {
          "read_only": false
        },
        "tags": [
          "163"
        ]
      },
      "source": [
        "## Exercises\n"
      ]
    },
    {
      "cell_type": "markdown",
      "metadata": {
        "button": false,
        "new_sheet": false,
        "run_control": {
          "read_only": false
        },
        "tags": [
          "164"
        ]
      },
      "source": [
        "### Exercise 1: Exception Handling\n",
        "\n",
        "So far, we have only seen execution of lines in individual functions. But if a function raises an exception, we also may want to catch and report this. Right now, an exception is being raised right through our tracer, interrupting the trace. "
      ]
    },
    {
      "cell_type": "code",
      "execution_count": 75,
      "metadata": {
        "tags": [
          "165"
        ]
      },
      "outputs": [],
      "source": [
        "def fail() -> float:\n",
        "    return 2 / 0"
      ]
    },
    {
      "cell_type": "code",
      "execution_count": 76,
      "metadata": {
        "tags": [
          "166"
        ]
      },
      "outputs": [
        {
          "name": "stdout",
          "output_type": "stream",
          "text": [
            "Calling fail()\n",
            "2     return 2 / 0\n",
            "fail() returns None\n"
          ]
        }
      ],
      "source": [
        "with Tracer():\n",
        "    try:\n",
        "        fail()\n",
        "    except Exception:\n",
        "        pass"
      ]
    },
    {
      "cell_type": "markdown",
      "metadata": {
        "button": false,
        "new_sheet": false,
        "run_control": {
          "read_only": false
        },
        "solution2": "hidden",
        "solution2_first": true,
        "tags": [
          "167"
        ]
      },
      "source": [
        "Extend the `Tracer` class (or the `EventTracer` subclasses) such that exceptions (event type `'exception'`) are properly traced, too, say as\n",
        "\n",
        "```\n",
        "fail() raises ZeroDivisionError: division by zero\n",
        "```\n",
        "\n",
        "See the Python documentation for `sys.settrace()`."
      ]
    },
    {
      "cell_type": "markdown",
      "metadata": {
        "slideshow": {
          "slide_type": "skip"
        },
        "solution2": "hidden",
        "tags": [
          "168"
        ]
      },
      "source": [
        "**Solution.** Simply extend `print_debugger_status()`:"
      ]
    },
    {
      "cell_type": "code",
      "execution_count": 77,
      "metadata": {
        "cell_style": "split",
        "slideshow": {
          "slide_type": "skip"
        },
        "solution2": "hidden",
        "tags": [
          "169"
        ]
      },
      "outputs": [],
      "source": [
        "class Tracer(Tracer):\n",
        "    def print_debugger_status(self, frame: FrameType, event: str, arg: Any) -> None:\n",
        "        if event == 'exception':\n",
        "            exception, value, tb = arg\n",
        "            self.log(f\"{frame.f_code.co_name}() \"\n",
        "                     f\"raises {exception.__name__}: {value}\")\n",
        "        else:\n",
        "            super().print_debugger_status(frame, event, arg)"
      ]
    },
    {
      "cell_type": "code",
      "execution_count": 78,
      "metadata": {
        "slideshow": {
          "slide_type": "skip"
        },
        "solution2": "hidden",
        "tags": [
          "170"
        ]
      },
      "outputs": [
        {
          "name": "stdout",
          "output_type": "stream",
          "text": [
            "Calling fail()\n",
            "2     return 2 / 0\n",
            "fail() raises ZeroDivisionError: division by zero\n",
            "fail() returns None\n"
          ]
        }
      ],
      "source": [
        "with Tracer():\n",
        "    try:\n",
        "        fail()\n",
        "    except Exception:\n",
        "        pass"
      ]
    },
    {
      "cell_type": "markdown",
      "metadata": {
        "button": false,
        "new_sheet": false,
        "run_control": {
          "read_only": false
        },
        "tags": [
          "171"
        ]
      },
      "source": [
        "### Exercise 2: Syntax-Based Instrumentation\n",
        "\n",
        "Adding instrumentation to source code is a complicated business, notably because it is not always easy to determine where and how to instrument. If a Python line starts with \n",
        "\n",
        "```python\n",
        "if condition:\n",
        "```\n",
        "\n",
        "where should one insert code to instrument it?"
      ]
    },
    {
      "cell_type": "markdown",
      "metadata": {
        "tags": [
          "172"
        ]
      },
      "source": [
        "A much more elegant way to instrument code is to add instrumentation _after the code has already been parsed_. Python code, like most other code, is first _parsed_ into an intermediate tree-like structure (called an *abstract syntax tree*, or *AST*). This AST can then be inspected and manipulated, before a second step compiles it into low-level instruction sequences to be executed."
      ]
    },
    {
      "cell_type": "markdown",
      "metadata": {
        "tags": [
          "173"
        ]
      },
      "source": [
        "Let us start with an example. Here is an AST resulting from parsing a very simple piece of code:"
      ]
    },
    {
      "cell_type": "code",
      "execution_count": 79,
      "metadata": {
        "tags": [
          "174"
        ]
      },
      "outputs": [],
      "source": [
        "def foo():  # type: ignore\n",
        "    ret = 2 * 2\n",
        "    return ret"
      ]
    },
    {
      "cell_type": "code",
      "execution_count": 80,
      "metadata": {
        "tags": [
          "175"
        ]
      },
      "outputs": [
        {
          "name": "stdout",
          "output_type": "stream",
          "text": [
            "\u001b[34mdef\u001b[39;49;00m\u001b[37m \u001b[39;49;00m\u001b[32mfoo\u001b[39;49;00m():  \u001b[37m# type: ignore\u001b[39;49;00m\u001b[37m\u001b[39;49;00m\n",
            "    ret = \u001b[34m2\u001b[39;49;00m * \u001b[34m2\u001b[39;49;00m\u001b[37m\u001b[39;49;00m\n",
            "    \u001b[34mreturn\u001b[39;49;00m ret\u001b[37m\u001b[39;49;00m"
          ]
        }
      ],
      "source": [
        "source = inspect.getsource(foo)\n",
        "print_content(source, '.py')"
      ]
    },
    {
      "cell_type": "code",
      "execution_count": 81,
      "metadata": {
        "tags": [
          "176"
        ]
      },
      "outputs": [],
      "source": [
        "import ast"
      ]
    },
    {
      "cell_type": "code",
      "execution_count": 82,
      "metadata": {
        "tags": [
          "177"
        ]
      },
      "outputs": [],
      "source": [
        "from bookutils import show_ast"
      ]
    },
    {
      "cell_type": "code",
      "execution_count": 83,
      "metadata": {
        "tags": [
          "178"
        ]
      },
      "outputs": [],
      "source": [
        "tree = ast.parse(source)"
      ]
    },
    {
      "cell_type": "code",
      "execution_count": 84,
      "metadata": {
        "tags": [
          "179"
        ]
      },
      "outputs": [
        {
          "ename": "ModuleNotFoundError",
          "evalue": "No module named 'showast2'",
          "output_type": "error",
          "traceback": [
            "\u001b[31m---------------------------------------------------------------------------\u001b[39m",
            "\u001b[31mModuleNotFoundError\u001b[39m                       Traceback (most recent call last)",
            "\u001b[36mCell\u001b[39m\u001b[36m \u001b[39m\u001b[32mIn[84]\u001b[39m\u001b[32m, line 1\u001b[39m\n\u001b[32m----> \u001b[39m\u001b[32m1\u001b[39m \u001b[43mshow_ast\u001b[49m\u001b[43m(\u001b[49m\u001b[43mtree\u001b[49m\u001b[43m)\u001b[49m\n",
            "\u001b[36mFile \u001b[39m\u001b[32m~/Projects/debuggingbook/notebooks/bookutils/__init__.py:170\u001b[39m, in \u001b[36mshow_ast\u001b[39m\u001b[34m(tree)\u001b[39m\n\u001b[32m    165\u001b[39m     \u001b[38;5;28;01mreturn\u001b[39;00m \u001b[38;5;28;01mNone\u001b[39;00m\n\u001b[32m    167\u001b[39m \u001b[38;5;66;03m# For Python >=3.12,\u001b[39;00m\n\u001b[32m    168\u001b[39m \u001b[38;5;66;03m# we need the patched `showast2` module instead of `showast`\u001b[39;00m\n\u001b[32m    169\u001b[39m \u001b[38;5;66;03m# see git+https://github.com/andreas-zeller/show_ast.git@andreas\u001b[39;00m\n\u001b[32m--> \u001b[39m\u001b[32m170\u001b[39m \u001b[38;5;28;01mimport\u001b[39;00m\u001b[38;5;250m \u001b[39m\u001b[34;01mshowast2\u001b[39;00m  \u001b[38;5;66;03m# type: ignore\u001b[39;00m\n\u001b[32m    171\u001b[39m \u001b[38;5;28;01mreturn\u001b[39;00m showast2.show_ast(tree)\n",
            "\u001b[31mModuleNotFoundError\u001b[39m: No module named 'showast2'"
          ]
        }
      ],
      "source": [
        "show_ast(tree)"
      ]
    },
    {
      "cell_type": "markdown",
      "metadata": {
        "tags": [
          "180"
        ]
      },
      "source": [
        "You see that the function `foo()` has a `FunctionDef` node with four children: The function name (`\"foo\"`), its arguments (`arguments`; currently empty), followed by the statements that make the function body \u2013 `Assign` for the assignment, `Return` for the `return` statement."
      ]
    },
    {
      "cell_type": "markdown",
      "metadata": {
        "tags": [
          "181"
        ]
      },
      "source": [
        "We obtain and manipulate the AST through the Python `ast` module. The [official Python `ast` reference](http://docs.python.org/3/library/ast) is complete, but a bit brief; the documentation [\"Green Tree Snakes - the missing Python AST docs\"](https://greentreesnakes.readthedocs.io/en/latest/) provides an excellent introduction."
      ]
    },
    {
      "cell_type": "markdown",
      "metadata": {
        "tags": [
          "182"
        ]
      },
      "source": [
        "To instrument the above code, we need to insert a new statement as a child to `FunctionDef` node."
      ]
    },
    {
      "cell_type": "code",
      "execution_count": null,
      "metadata": {
        "tags": [
          "183"
        ]
      },
      "outputs": [],
      "source": [
        "from ast import NodeTransformer, FunctionDef, fix_missing_locations, AST, Module"
      ]
    },
    {
      "cell_type": "markdown",
      "metadata": {
        "tags": [
          "184"
        ]
      },
      "source": [
        "Here's the code we want to inject:"
      ]
    },
    {
      "cell_type": "code",
      "execution_count": null,
      "metadata": {
        "tags": [
          "185"
        ]
      },
      "outputs": [],
      "source": [
        "subtree_to_be_injected: AST = ast.parse(\"print('entering function')\")"
      ]
    },
    {
      "cell_type": "code",
      "execution_count": null,
      "metadata": {
        "tags": [
          "186"
        ]
      },
      "outputs": [],
      "source": [
        "show_ast(subtree_to_be_injected)"
      ]
    },
    {
      "cell_type": "markdown",
      "metadata": {
        "tags": [
          "187"
        ]
      },
      "source": [
        "The root of an `ast.parse()` tree actually is a `Module` node; we go directly to its child, which is the `Expr` node we want to inject."
      ]
    },
    {
      "cell_type": "code",
      "execution_count": null,
      "metadata": {
        "tags": [
          "188"
        ]
      },
      "outputs": [],
      "source": [
        "subtree_to_be_injected = cast(Module, subtree_to_be_injected).body[0]"
      ]
    },
    {
      "cell_type": "markdown",
      "metadata": {
        "tags": [
          "189"
        ]
      },
      "source": [
        "To inject the code, we use the `NodeTransformer` class as described in the Python `ast` documentation. We vist all function definitions (`FunctionDef`) and replace them with a new function definition in which the `body` gets an additional child \u2013\u00a0namely our subtree to be injected."
      ]
    },
    {
      "cell_type": "code",
      "execution_count": null,
      "metadata": {
        "tags": [
          "190"
        ]
      },
      "outputs": [],
      "source": [
        "class InjectPass(NodeTransformer):\n",
        "    def visit_FunctionDef(self, node: FunctionDef) -> AST:\n",
        "        return FunctionDef(\n",
        "            name=node.name,\n",
        "            args=node.args,\n",
        "            body=[subtree_to_be_injected] + node.body,\n",
        "            decorator_list=node.decorator_list,\n",
        "            returns=node.returns\n",
        "        )  # type: ignore"
      ]
    },
    {
      "cell_type": "code",
      "execution_count": null,
      "metadata": {
        "tags": [
          "191"
        ]
      },
      "outputs": [],
      "source": [
        "new_tree = fix_missing_locations(InjectPass().visit(tree))"
      ]
    },
    {
      "cell_type": "markdown",
      "metadata": {
        "tags": [
          "192"
        ]
      },
      "source": [
        "This is what our new tree looks like:"
      ]
    },
    {
      "cell_type": "code",
      "execution_count": null,
      "metadata": {
        "tags": [
          "193"
        ]
      },
      "outputs": [],
      "source": [
        "show_ast(new_tree)"
      ]
    },
    {
      "cell_type": "markdown",
      "metadata": {
        "tags": [
          "194"
        ]
      },
      "source": [
        "This is what the tree looks like when converted back to source code:"
      ]
    },
    {
      "cell_type": "code",
      "execution_count": null,
      "metadata": {
        "tags": [
          "195"
        ]
      },
      "outputs": [],
      "source": [
        "new_source = ast.unparse(new_tree)\n",
        "print_content(new_source, '.py')"
      ]
    },
    {
      "cell_type": "markdown",
      "metadata": {
        "tags": [
          "196"
        ]
      },
      "source": [
        "We can now compile the new source into a function:"
      ]
    },
    {
      "cell_type": "code",
      "execution_count": null,
      "metadata": {
        "tags": [
          "197"
        ]
      },
      "outputs": [],
      "source": [
        "exec(new_source)"
      ]
    },
    {
      "cell_type": "markdown",
      "metadata": {
        "tags": [
          "198"
        ]
      },
      "source": [
        "... and happily invoke our instrumented function."
      ]
    },
    {
      "cell_type": "code",
      "execution_count": null,
      "metadata": {
        "tags": [
          "199"
        ]
      },
      "outputs": [],
      "source": [
        "foo()"
      ]
    },
    {
      "cell_type": "markdown",
      "metadata": {
        "tags": [
          "200"
        ]
      },
      "source": [
        "Your task is to implement a function `insert_tracer_ast(function, breakpoints)` that works like `insert_tracer()`, above, except that it uses this AST-based mechanism to inject debugging code into the given function."
      ]
    }
  ],
  "metadata": {
    "ipub": {
      "bibliography": "fuzzingbook.bib",
      "toc": true
    },
    "kernelspec": {
      "display_name": "Python 3 (ipykernel)",
      "language": "python",
      "name": "python3"
    },
    "language_info": {
      "codemirror_mode": {
        "name": "ipython",
        "version": 3
      },
      "file_extension": ".py",
      "mimetype": "text/x-python",
      "name": "python",
      "nbconvert_exporter": "python",
      "pygments_lexer": "ipython3",
      "version": "3.12.3"
    },
    "toc": {
      "base_numbering": 1,
      "nav_menu": {},
      "number_sections": true,
      "sideBar": true,
      "skip_h1_title": true,
      "title_cell": "",
      "title_sidebar": "Contents",
      "toc_cell": false,
      "toc_position": {},
      "toc_section_display": true,
      "toc_window_display": true
    },
    "toc-autonumbering": false
  },
  "nbformat": 4,
  "nbformat_minor": 4
}